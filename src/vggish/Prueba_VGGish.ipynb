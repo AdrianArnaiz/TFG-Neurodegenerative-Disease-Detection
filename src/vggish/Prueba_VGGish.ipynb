{
 "cells": [
  {
   "cell_type": "markdown",
   "metadata": {},
   "source": [
    "# Ejemplo de uso VGGish2Keras\n",
    "### Adrián Arnaiz\n",
    "**Mostramos como extraer las características de un audio con Vggis2keras. Explicamos los pasos y que resultados se obtienen de cada uno de estos pasos**"
   ]
  },
  {
   "cell_type": "code",
   "execution_count": 1,
   "metadata": {
    "scrolled": true
   },
   "outputs": [
    {
     "name": "stderr",
     "output_type": "stream",
     "text": [
      "Using TensorFlow backend.\n"
     ]
    }
   ],
   "source": [
    "import numpy as np\n",
    "import vggish_input\n",
    "import vggish_params\n",
    "import vggish_postprocess\n",
    "import vggish_keras"
   ]
  },
  {
   "cell_type": "code",
   "execution_count": 2,
   "metadata": {},
   "outputs": [],
   "source": [
    "ruta_audio = 'AVPEPUDEAC0041_readtext.wav'"
   ]
  },
  {
   "cell_type": "markdown",
   "metadata": {},
   "source": [
    "## 1. Pasos para extracción de ccas de un audio\n",
    "### 1.1. Preprocesar el audio: extraer características del tipo MFCC\n",
    "* num_Ejemplos X num_Frames X num_Bandas_de_frecuancia\n",
    "  * num_Ejemplos: Duracion/0.96 aprox duracion en segundos\n",
    "  * num_Frames: 96\n",
    "  * num_Bandas_de_frecuancia: 64\n",
    "* **Para cada 0.96 s del audio, saca 96 frames y de esos 96 frames saca 64 medidas diferentes**\n",
    "* Input: Audio WAV\n",
    "* Output: espectros MFCC\n",
    "\n",
    ">* Todo el audio se remuestrea a 16 kHz mono.\n",
    "* Un espectrograma se calcula utilizando magnitudes de la Transformada de Fourier a corto plazo con un tamaño de ventana de 25 ms, un salto de ventana de 10 ms y una ventana de Hann periódica.\n",
    "* Un espectrograma de mel se calcula al mapear el espectrograma a 64 casillas de mel que cubren el rango de 125-7500 Hz.\n",
    "* Se calcula un espectrograma log mel estabilizado aplicando log (espectro de mel + 0.01) donde se usa el desplazamiento para evitar tomar un logaritmo de cero.\n",
    "* **Estas características se enmarcan en ejemplos no superpuestos de 0.96 segundos, donde cada ejemplo cubre 64 bandas mel y 96 frames de 10 ms cada una.**"
   ]
  },
  {
   "cell_type": "code",
   "execution_count": 3,
   "metadata": {},
   "outputs": [],
   "source": [
    "input_batch  = vggish_input.wavfile_to_examples(ruta_audio)"
   ]
  },
  {
   "cell_type": "code",
   "execution_count": 4,
   "metadata": {},
   "outputs": [
    {
     "data": {
      "text/plain": [
       "(35, 96, 64)"
      ]
     },
     "execution_count": 4,
     "metadata": {},
     "output_type": "execute_result"
    }
   ],
   "source": [
    "input_batch.shape"
   ]
  },
  {
   "cell_type": "markdown",
   "metadata": {},
   "source": [
    "### 1.2. Definir VGGish, cargar el checkpoint, y producir los embeddings con VGGish a partir de input_batch\n",
    "Sale una matriz 128-dimensional con los embeddings, **puede utilizarse ya como vector de características**."
   ]
  },
  {
   "cell_type": "code",
   "execution_count": 5,
   "metadata": {},
   "outputs": [
    {
     "name": "stdout",
     "output_type": "stream",
     "text": [
      "WARNING:tensorflow:From C:\\Users\\usuario\\Anaconda3\\lib\\site-packages\\tensorflow\\python\\framework\\op_def_library.py:263: colocate_with (from tensorflow.python.framework.ops) is deprecated and will be removed in a future version.\n",
      "Instructions for updating:\n",
      "Colocations handled automatically by placer.\n"
     ]
    }
   ],
   "source": [
    "#Definimos VGGish\n",
    "model = vggish_keras.get_vggish_keras()\n",
    "#Cargamos el checkpoint\n",
    "checkpoint_path = 'vggish_weights.ckpt'\n",
    "model.load_weights(checkpoint_path)\n",
    "#producimos los embbeding\n",
    "embedding_batch = model.predict(input_batch[:,:,:,None])"
   ]
  },
  {
   "cell_type": "code",
   "execution_count": 6,
   "metadata": {},
   "outputs": [
    {
     "data": {
      "text/plain": [
       "(35, 128)"
      ]
     },
     "execution_count": 6,
     "metadata": {},
     "output_type": "execute_result"
    }
   ],
   "source": [
    "embedding_batch.shape"
   ]
  },
  {
   "cell_type": "markdown",
   "metadata": {},
   "source": [
    "### 1.3. Posprocesamiento de embeddings $[\\textit{Opcional}]$\n",
    "***If you don't need to use the released embeddings or YouTube-8M, then you could skip postprocessing and use raw embeddings.***\n",
    "\n",
    "Los embeddings se posprocesan mediante la aplicación de la transformación PCA (que realiza tanto PCA como blanqueamiento), así como la cuantificación a 8 bits por elemento del embedding. Esto se hizo para ser compatible con el proyecto YouTube-8M, que ha lanzado incorporaciones visuales y de audio para millones de videos de YouTube en el mismo formato PCA / blanqueado / cuantificado."
   ]
  },
  {
   "cell_type": "code",
   "execution_count": 7,
   "metadata": {},
   "outputs": [],
   "source": [
    "pca_params_path = 'vggish_pca_params.npz'\n",
    "pproc = vggish_postprocess.Postprocessor(pca_params_path)\n",
    "postprocessed_batch = pproc.postprocess(embedding_batch)"
   ]
  },
  {
   "cell_type": "code",
   "execution_count": 8,
   "metadata": {},
   "outputs": [
    {
     "data": {
      "text/plain": [
       "(35, 128)"
      ]
     },
     "execution_count": 8,
     "metadata": {},
     "output_type": "execute_result"
    }
   ],
   "source": [
    "postprocessed_batch.shape"
   ]
  },
  {
   "cell_type": "code",
   "execution_count": 9,
   "metadata": {
    "scrolled": false
   },
   "outputs": [
    {
     "data": {
      "text/plain": [
       "array([0.319571  , 0.        , 0.06588455, 0.        , 0.04576956],\n",
       "      dtype=float32)"
      ]
     },
     "execution_count": 9,
     "metadata": {},
     "output_type": "execute_result"
    }
   ],
   "source": [
    "embedding_batch[0][:5]"
   ]
  },
  {
   "cell_type": "code",
   "execution_count": 10,
   "metadata": {
    "scrolled": true
   },
   "outputs": [
    {
     "data": {
      "text/plain": [
       "array([154,   0, 176, 119, 205], dtype=uint8)"
      ]
     },
     "execution_count": 10,
     "metadata": {},
     "output_type": "execute_result"
    }
   ],
   "source": [
    "postprocessed_batch[0][:5]"
   ]
  },
  {
   "cell_type": "markdown",
   "metadata": {},
   "source": [
    "-------------------\n",
    "## 2. Visualización de qué significan los embeddings\n",
    "128 ccas para cada segundo del audio"
   ]
  },
  {
   "cell_type": "code",
   "execution_count": 13,
   "metadata": {},
   "outputs": [
    {
     "data": {
      "image/png": "[encoded data removed]",
      "text/plain": [
       "<matplotlib.figure.Figure at 0x14b8c621e80>"
      ]
     },
     "metadata": {
      "needs_background": "light"
     },
     "output_type": "display_data"
    }
   ],
   "source": [
    "import matplotlib.pyplot as plt\n",
    "plt.imshow(embedding_batch, \n",
    "           aspect='auto', cmap='binary')\n",
    "plt.xlabel('Embedding Dimension - 128')\n",
    "plt.ylabel('Time (frame number)')\n",
    "plt.title('Embedded Representation for Audio Signal')\n",
    "plt.grid(False)"
   ]
  },
  {
   "cell_type": "code",
   "execution_count": 12,
   "metadata": {},
   "outputs": [
    {
     "data": {
      "image/png": "[encoded data removed]",
      "text/plain": [
       "<matplotlib.figure.Figure at 0x14b8c527470>"
      ]
     },
     "metadata": {
      "needs_background": "light"
     },
     "output_type": "display_data"
    }
   ],
   "source": [
    "plt.imshow(postprocessed_batch, \n",
    "           aspect='auto', cmap='binary')\n",
    "plt.xlabel('Embedding Dimension - 128')\n",
    "plt.ylabel('Time (frame number)')\n",
    "plt.title('Whittened Embedded Representation for Audio Signall')\n",
    "plt.grid(False)"
   ]
  },
  {
   "cell_type": "markdown",
   "metadata": {},
   "source": [
    "## 3. Opciones para tener un único array por audio\n",
    "* Hacer media de las columnas para embeddings o whittened embeddings.\n",
    "* Transformar los input_batch de (n_examples, nframes _[96]_, n_bands_log_mel _[64]_) a (1, 96, 64) "
   ]
  },
  {
   "cell_type": "code",
   "execution_count": null,
   "metadata": {},
   "outputs": [],
   "source": []
  }
 ],
 "metadata": {
  "kernelspec": {
   "display_name": "Python 3",
   "language": "python",
   "name": "python3"
  },
  "language_info": {
   "codemirror_mode": {
    "name": "ipython",
    "version": 3
   },
   "file_extension": ".py",
   "mimetype": "text/x-python",
   "name": "python",
   "nbconvert_exporter": "python",
   "pygments_lexer": "ipython3",
   "version": "3.6.8"
  }
 },
 "nbformat": 4,
 "nbformat_minor": 2
}
