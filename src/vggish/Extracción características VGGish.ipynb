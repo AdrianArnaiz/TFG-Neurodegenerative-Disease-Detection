{
 "cells": [
  {
   "cell_type": "markdown",
   "metadata": {},
   "source": [
    "# Extracción de Características con modelo VGGish\n",
    "## Adrián Arnaiz\n",
    "\n",
    "# 1. Introducción\n",
    "Antes de comenzar, cabe destacar que, **con el modelo VGGish solo podemos sacar características para los audios de más de 0.975 segundos.** Esto está explicado en aateriores notebooks y se debe al funcionamiento de VGGish. Para VGGish un ejemplo, una instancia es un frame de 0.96s, sacando ccas para frames de 25ms con window de 10ms (por eso el limite de 0.975). Nosotros para convertir esa matriz de ccas en un vector, hemos hecho la media  desviación por columnas, es decir, de cada característica:\n",
    "\n",
    "Es decir, **todas las palabras y muchas vocales no podrán ser procesadas por este modelo debido a su corta duración** (el 99% de las palabras duran menos de un segundo y algunos audios de las vocales también).\n",
    "\n",
    "Por tanto, **realizaremos la extracción de características para read-text y para las vocales que se pueda.**\n",
    "\n",
    "**Comentar que vamos a sacar de cada audio que podamos, un grupo de ccas que son los embbedings de VGGish y otro que son los MFCC y los espectros. Este grupo ultimo es el paso intermedio de VGGish, pero nosotros las aprovechamos también como posibles características.** Estos ultimos son similares a los que deberíamos haber obtenido con Disvoice. Sin embargo, como no hemos obtenido los resultados esperados y creemos que en parte es por la herramienta Disvoice, vamos a sacar estas características para crear también modelos con ellas.\n",
    "* Embeddings\n",
    "* MFCC y espectros\n"
   ]
  },
  {
   "cell_type": "markdown",
   "metadata": {},
   "source": [
    "## 1.1 Identificamos los audios 'cortos' (<0.975)\n",
    "Identificaremos la cantidad de audios menores de esa longitud, para ver si nos quedan suficientes audios en el dataset para crear un clasificador.\n",
    "\n",
    "Realizaremos comprobación para todas las vocales y todas las palabras. (Todos los read-text son más largos que nuestro límite)."
   ]
  },
  {
   "cell_type": "code",
   "execution_count": 1,
   "metadata": {},
   "outputs": [],
   "source": [
    "import wave\n",
    "import contextlib\n",
    "import os\n",
    "def identificador_audios_cortos(rutaAud, subaudios, dur):\n",
    "    d=dict()\n",
    "    for v in subaudios:\n",
    "        conthc=0\n",
    "        contpd=0\n",
    "        rutaAudios = rutaAud+v+'/'\n",
    "        rutaAudiosTipo = rutaAudios+'hc/'\n",
    "        audios = os.listdir(rutaAudiosTipo)      \n",
    "        for a in audios:\n",
    "            rut_audio = rutaAudiosTipo+a\n",
    "            with contextlib.closing(wave.open(rut_audio,'r')) as f:\n",
    "                frames = f.getnframes()\n",
    "                rate = f.getframerate()\n",
    "                duration = frames / float(rate)\n",
    "                if duration < dur:\n",
    "                    conthc+=1\n",
    "\n",
    "        rutaAudios = rutaAud+v+'/'\n",
    "        rutaAudiosTipo = rutaAudios+'pd/'\n",
    "        audios = os.listdir(rutaAudiosTipo)      \n",
    "        for a in audios:\n",
    "            rut_audio = rutaAudiosTipo+a\n",
    "            with contextlib.closing(wave.open(rut_audio,'r')) as f:\n",
    "                frames = f.getnframes()\n",
    "                rate = f.getframerate()\n",
    "                duration = frames / float(rate)\n",
    "                if duration < dur:\n",
    "                    contpd+=1\n",
    "                    \n",
    "        d[v]={'Total':conthc+contpd, 'HC':conthc, 'PD':contpd }\n",
    "        \n",
    "    return d"
   ]
  },
  {
   "cell_type": "markdown",
   "metadata": {},
   "source": [
    "### Vocales"
   ]
  },
  {
   "cell_type": "code",
   "execution_count": 2,
   "metadata": {},
   "outputs": [
    {
     "data": {
      "text/plain": [
       "{'A': {'Total': 18, 'HC': 9, 'PD': 9},\n",
       " 'E': {'Total': 16, 'HC': 7, 'PD': 9},\n",
       " 'I': {'Total': 19, 'HC': 8, 'PD': 11},\n",
       " 'O': {'Total': 38, 'HC': 17, 'PD': 21},\n",
       " 'U': {'Total': 46, 'HC': 26, 'PD': 20}}"
      ]
     },
     "execution_count": 2,
     "metadata": {},
     "output_type": "execute_result"
    }
   ],
   "source": [
    "d_voc = identificador_audios_cortos('../PC-GITA/vowels/', ['A','E','I','O','U'], 0.975 )\n",
    "d_voc"
   ]
  },
  {
   "cell_type": "markdown",
   "metadata": {},
   "source": [
    "De las vocales:\n",
    "> * A: 18/300 cortos. 282 restantes para clasificación.\n",
    "* E: 16/300 cortos. 284 restantes para clasificación.\n",
    "* I : 19/300 cortos. 281 restantes para clasificación.\n",
    "* O: 38/300 cortos. 262 restantes para clasificación.\n",
    "* U: 46/300 cortos. 254 restantes para clasificación. \n",
    "\n",
    "**Podemos crear clasificadores, nos queda un porcentaje de audios bastante alto respecto al original**"
   ]
  },
  {
   "cell_type": "markdown",
   "metadata": {},
   "source": [
    "### Palabras"
   ]
  },
  {
   "cell_type": "code",
   "execution_count": 3,
   "metadata": {},
   "outputs": [
    {
     "data": {
      "text/plain": [
       "{'atleta': {'Total': 95, 'HC': 48, 'PD': 47},\n",
       " 'braso': {'Total': 100, 'HC': 50, 'PD': 50},\n",
       " 'campana': {'Total': 99, 'HC': 49, 'PD': 50},\n",
       " 'gato': {'Total': 100, 'HC': 50, 'PD': 50},\n",
       " 'petaka': {'Total': 98, 'HC': 50, 'PD': 48}}"
      ]
     },
     "execution_count": 3,
     "metadata": {},
     "output_type": "execute_result"
    }
   ],
   "source": [
    "d_pal = identificador_audios_cortos('../PC-GITA/words/', ['atleta','braso','campana','gato','petaka'], 0.975 )\n",
    "d_pal"
   ]
  },
  {
   "cell_type": "markdown",
   "metadata": {},
   "source": [
    "De las palabras:\n",
    "> * atleta: 95/100 cortos. 5 restantes para clasificación.\n",
    "* braso: 100/100 cortos. 0 restantes para clasificación.\n",
    "* campana: 99/100 cortos. 1 restantes para clasificación.\n",
    "* gato: 100/100 cortos. 0 restantes para clasificación.\n",
    "* petaka: 98/100 cortos. 2 restantes para clasificación. \n",
    "\n",
    "**No podemos crear clasificadores, no nos quedan suficientes audios que cumplan las condiciones para VGGish**"
   ]
  },
  {
   "cell_type": "markdown",
   "metadata": {},
   "source": [
    "Por tanto conluimos que, **realizaremos la extracción de características para read-text y para las vocales que se pueda.** En el caso de las vocales deberemos obviar los audios menores de 0.975s.\n",
    "\n",
    "----"
   ]
  },
  {
   "cell_type": "markdown",
   "metadata": {},
   "source": [
    "# 2. Ejemplo uso clase extractora VGGish\n",
    "Haremos un ejemplo de como usar la clase Extractor_Caracteristicas_Vggish.\n",
    "\n",
    "Al constructor se le pasa la ruta donde guardar las características extraídas, y opcionalmente el diccionario con información adicional al igual que hacíamos en disvoice. La ruta de características se la pasamos para que compruebe si el directorio existe y si no es así lo cree. Es decir, no guarda automáticamente ahí las caracetrísticas las cuales se nos devolveran en las funciones y seremos nosotros quien las guardaremos en ese directorio. Lo único que hace es crearlo.\n",
    "\n",
    "Se ha realizado de este modo debido a que en la mayoría de los casos queremos explorar las características antes de guardarlas."
   ]
  },
  {
   "cell_type": "code",
   "execution_count": 4,
   "metadata": {},
   "outputs": [
    {
     "name": "stderr",
     "output_type": "stream",
     "text": [
      "Using TensorFlow backend.\n"
     ]
    }
   ],
   "source": [
    "from extractor_ccas_vggish import Extractor_Caracteristicas_Vggish\n",
    "import numpy as np\n",
    "import pandas as pd"
   ]
  },
  {
   "cell_type": "markdown",
   "metadata": {},
   "source": [
    "Recuperamos el diccionario con información del sexo y edad del paciente."
   ]
  },
  {
   "cell_type": "code",
   "execution_count": 5,
   "metadata": {},
   "outputs": [],
   "source": [
    "import pickle\n",
    "#recuperamos el diccionario de la info de sexo y edad\n",
    "pickle_in = open(\"../CaracteristicasExtraidas/dict_audios_inf.pickle\",\"rb\")\n",
    "dic_audios_inf = pickle.load(pickle_in)"
   ]
  },
  {
   "cell_type": "markdown",
   "metadata": {},
   "source": [
    "Creamos el objeto Extractor"
   ]
  },
  {
   "cell_type": "code",
   "execution_count": 6,
   "metadata": {},
   "outputs": [
    {
     "name": "stdout",
     "output_type": "stream",
     "text": [
      "WARNING:tensorflow:From C:\\Users\\usuario\\Anaconda3\\lib\\site-packages\\tensorflow\\python\\framework\\op_def_library.py:263: colocate_with (from tensorflow.python.framework.ops) is deprecated and will be removed in a future version.\n",
      "Instructions for updating:\n",
      "Colocations handled automatically by placer.\n"
     ]
    }
   ],
   "source": [
    "rutaCcas = 'PruebaCcasVggish/'\n",
    "extractor = Extractor_Caracteristicas_Vggish(rutaCcas,dic_audios_inf)"
   ]
  },
  {
   "cell_type": "markdown",
   "metadata": {},
   "source": [
    "Para extraer características usamos la función extraccion_embeddings_directorio, que sigue el mismo patrón de funcionamiento que la funcion extraccion_ccas_directorio de el extractor de características Disvoice.\n",
    "\n",
    "Le pasamos la ruta donde se encuentran los audios divididos en dos carpetas hc y pd. También le pasamos opcionalmente los atributos adicionales a añadir. Estos atributos adicionales deberán el nombre que tienen en el diccionario anteriormente importado."
   ]
  },
  {
   "cell_type": "code",
   "execution_count": 7,
   "metadata": {},
   "outputs": [
    {
     "name": "stdout",
     "output_type": "stream",
     "text": [
      "Comienzo extracción HC, quedan: 100 audios.\n",
      "Comienzo extracción PD, quedan: 50 audios.\n"
     ]
    }
   ],
   "source": [
    "vggish_rt_ccas = extractor.extraccion_embeddings_directorio('PC-GITA/read-text/',['SEX','AGE'])"
   ]
  },
  {
   "cell_type": "markdown",
   "metadata": {},
   "source": [
    "Mostramos las dimensiones: n_audios X (ccas_extraidas+atribs_adicionales+Label)"
   ]
  },
  {
   "cell_type": "code",
   "execution_count": 8,
   "metadata": {
    "scrolled": true
   },
   "outputs": [
    {
     "data": {
      "text/plain": [
       "(100, 259)"
      ]
     },
     "execution_count": 8,
     "metadata": {},
     "output_type": "execute_result"
    }
   ],
   "source": [
    "vggish_rt_ccas.shape"
   ]
  },
  {
   "cell_type": "markdown",
   "metadata": {},
   "source": [
    "Vemos como las 3 ultimas columas son Sexo (1-F, 0-M), Edad y PD/HC(1/0)"
   ]
  },
  {
   "cell_type": "code",
   "execution_count": 9,
   "metadata": {},
   "outputs": [
    {
     "data": {
      "text/html": [
       "<div>\n",
       "<style scoped>\n",
       "    .dataframe tbody tr th:only-of-type {\n",
       "        vertical-align: middle;\n",
       "    }\n",
       "\n",
       "    .dataframe tbody tr th {\n",
       "        vertical-align: top;\n",
       "    }\n",
       "\n",
       "    .dataframe thead th {\n",
       "        text-align: right;\n",
       "    }\n",
       "</style>\n",
       "<table border=\"1\" class=\"dataframe\">\n",
       "  <thead>\n",
       "    <tr style=\"text-align: right;\">\n",
       "      <th></th>\n",
       "      <th>0</th>\n",
       "      <th>1</th>\n",
       "      <th>2</th>\n",
       "      <th>3</th>\n",
       "      <th>4</th>\n",
       "      <th>5</th>\n",
       "      <th>6</th>\n",
       "      <th>7</th>\n",
       "      <th>8</th>\n",
       "      <th>9</th>\n",
       "      <th>...</th>\n",
       "      <th>249</th>\n",
       "      <th>250</th>\n",
       "      <th>251</th>\n",
       "      <th>252</th>\n",
       "      <th>253</th>\n",
       "      <th>254</th>\n",
       "      <th>255</th>\n",
       "      <th>256</th>\n",
       "      <th>257</th>\n",
       "      <th>258</th>\n",
       "    </tr>\n",
       "  </thead>\n",
       "  <tbody>\n",
       "    <tr>\n",
       "      <th>0</th>\n",
       "      <td>0.283398</td>\n",
       "      <td>0.005795</td>\n",
       "      <td>0.322382</td>\n",
       "      <td>0.0</td>\n",
       "      <td>0.007770</td>\n",
       "      <td>0.002156</td>\n",
       "      <td>0.007077</td>\n",
       "      <td>0.000000</td>\n",
       "      <td>0.015446</td>\n",
       "      <td>0.016417</td>\n",
       "      <td>...</td>\n",
       "      <td>0.093643</td>\n",
       "      <td>0.0</td>\n",
       "      <td>0.213005</td>\n",
       "      <td>0.308270</td>\n",
       "      <td>0.065252</td>\n",
       "      <td>0.000000</td>\n",
       "      <td>0.000000</td>\n",
       "      <td>0.0</td>\n",
       "      <td>64.0</td>\n",
       "      <td>0.0</td>\n",
       "    </tr>\n",
       "    <tr>\n",
       "      <th>1</th>\n",
       "      <td>0.576316</td>\n",
       "      <td>0.006670</td>\n",
       "      <td>0.337802</td>\n",
       "      <td>0.0</td>\n",
       "      <td>0.003554</td>\n",
       "      <td>0.005937</td>\n",
       "      <td>0.001004</td>\n",
       "      <td>0.000000</td>\n",
       "      <td>0.000000</td>\n",
       "      <td>0.030303</td>\n",
       "      <td>...</td>\n",
       "      <td>0.096462</td>\n",
       "      <td>0.0</td>\n",
       "      <td>0.234707</td>\n",
       "      <td>0.106396</td>\n",
       "      <td>0.169872</td>\n",
       "      <td>0.036177</td>\n",
       "      <td>0.028395</td>\n",
       "      <td>1.0</td>\n",
       "      <td>72.0</td>\n",
       "      <td>0.0</td>\n",
       "    </tr>\n",
       "    <tr>\n",
       "      <th>2</th>\n",
       "      <td>0.640286</td>\n",
       "      <td>0.000000</td>\n",
       "      <td>0.263864</td>\n",
       "      <td>0.0</td>\n",
       "      <td>0.000974</td>\n",
       "      <td>0.000000</td>\n",
       "      <td>0.000000</td>\n",
       "      <td>0.000000</td>\n",
       "      <td>0.000000</td>\n",
       "      <td>0.000000</td>\n",
       "      <td>...</td>\n",
       "      <td>0.078060</td>\n",
       "      <td>0.0</td>\n",
       "      <td>0.232578</td>\n",
       "      <td>0.205344</td>\n",
       "      <td>0.046105</td>\n",
       "      <td>0.000000</td>\n",
       "      <td>0.000000</td>\n",
       "      <td>1.0</td>\n",
       "      <td>75.0</td>\n",
       "      <td>0.0</td>\n",
       "    </tr>\n",
       "    <tr>\n",
       "      <th>3</th>\n",
       "      <td>0.215650</td>\n",
       "      <td>0.053099</td>\n",
       "      <td>0.061410</td>\n",
       "      <td>0.0</td>\n",
       "      <td>0.022464</td>\n",
       "      <td>0.010151</td>\n",
       "      <td>0.000000</td>\n",
       "      <td>0.022203</td>\n",
       "      <td>0.000000</td>\n",
       "      <td>0.015516</td>\n",
       "      <td>...</td>\n",
       "      <td>0.046254</td>\n",
       "      <td>0.0</td>\n",
       "      <td>0.077390</td>\n",
       "      <td>0.161684</td>\n",
       "      <td>0.145853</td>\n",
       "      <td>0.017135</td>\n",
       "      <td>0.000000</td>\n",
       "      <td>0.0</td>\n",
       "      <td>65.0</td>\n",
       "      <td>0.0</td>\n",
       "    </tr>\n",
       "    <tr>\n",
       "      <th>4</th>\n",
       "      <td>0.376299</td>\n",
       "      <td>0.000000</td>\n",
       "      <td>0.299862</td>\n",
       "      <td>0.0</td>\n",
       "      <td>0.001700</td>\n",
       "      <td>0.000000</td>\n",
       "      <td>0.006846</td>\n",
       "      <td>0.000000</td>\n",
       "      <td>0.008140</td>\n",
       "      <td>0.025373</td>\n",
       "      <td>...</td>\n",
       "      <td>0.078498</td>\n",
       "      <td>0.0</td>\n",
       "      <td>0.108306</td>\n",
       "      <td>0.142625</td>\n",
       "      <td>0.000000</td>\n",
       "      <td>0.000000</td>\n",
       "      <td>0.000000</td>\n",
       "      <td>1.0</td>\n",
       "      <td>66.0</td>\n",
       "      <td>0.0</td>\n",
       "    </tr>\n",
       "  </tbody>\n",
       "</table>\n",
       "<p>5 rows × 259 columns</p>\n",
       "</div>"
      ],
      "text/plain": [
       "        0         1         2    3         4         5         6         7    \\\n",
       "0  0.283398  0.005795  0.322382  0.0  0.007770  0.002156  0.007077  0.000000   \n",
       "1  0.576316  0.006670  0.337802  0.0  0.003554  0.005937  0.001004  0.000000   \n",
       "2  0.640286  0.000000  0.263864  0.0  0.000974  0.000000  0.000000  0.000000   \n",
       "3  0.215650  0.053099  0.061410  0.0  0.022464  0.010151  0.000000  0.022203   \n",
       "4  0.376299  0.000000  0.299862  0.0  0.001700  0.000000  0.006846  0.000000   \n",
       "\n",
       "        8         9    ...       249  250       251       252       253  \\\n",
       "0  0.015446  0.016417  ...  0.093643  0.0  0.213005  0.308270  0.065252   \n",
       "1  0.000000  0.030303  ...  0.096462  0.0  0.234707  0.106396  0.169872   \n",
       "2  0.000000  0.000000  ...  0.078060  0.0  0.232578  0.205344  0.046105   \n",
       "3  0.000000  0.015516  ...  0.046254  0.0  0.077390  0.161684  0.145853   \n",
       "4  0.008140  0.025373  ...  0.078498  0.0  0.108306  0.142625  0.000000   \n",
       "\n",
       "        254       255  256   257  258  \n",
       "0  0.000000  0.000000  0.0  64.0  0.0  \n",
       "1  0.036177  0.028395  1.0  72.0  0.0  \n",
       "2  0.000000  0.000000  1.0  75.0  0.0  \n",
       "3  0.017135  0.000000  0.0  65.0  0.0  \n",
       "4  0.000000  0.000000  1.0  66.0  0.0  \n",
       "\n",
       "[5 rows x 259 columns]"
      ]
     },
     "execution_count": 9,
     "metadata": {},
     "output_type": "execute_result"
    }
   ],
   "source": [
    "import pandas as pd\n",
    "pd.DataFrame(vggish_rt_ccas).head()"
   ]
  },
  {
   "cell_type": "code",
   "execution_count": 10,
   "metadata": {},
   "outputs": [],
   "source": [
    "!rmdir ..\\PruebaCcasVggish"
   ]
  },
  {
   "cell_type": "markdown",
   "metadata": {},
   "source": [
    "---"
   ]
  },
  {
   "cell_type": "markdown",
   "metadata": {},
   "source": [
    "# 3. Extracción Embeddings VGGish\n",
    "**Como hemos comentado extraeremos las características de VGGish embeddings para los read-text y para cada una de las vocales.**\n",
    "\n",
    "> Audio -->**|Preprocesado|**--> MFCC y espectros para cada segundo -->**|VGGish|**-->Embeddings-->**|Media y desviacion|**--> final embeddings\n",
    "\n",
    "### 3.1 Extracción VGGish embeddings read-text"
   ]
  },
  {
   "cell_type": "code",
   "execution_count": 11,
   "metadata": {},
   "outputs": [],
   "source": [
    "rutaCcas = 'CaracteristicasExtraidas/vggish/embbedings/'\n",
    "extractor = Extractor_Caracteristicas_Vggish(rutaCcas,dic_audios_inf)"
   ]
  },
  {
   "cell_type": "code",
   "execution_count": 12,
   "metadata": {},
   "outputs": [
    {
     "name": "stdout",
     "output_type": "stream",
     "text": [
      "Comienzo extracción HC, quedan: 100 audios.\n",
      "Comienzo extracción PD, quedan: 50 audios.\n"
     ]
    }
   ],
   "source": [
    "vggish_embed_rt_ccas = extractor.extraccion_embeddings_directorio('PC-GITA/read-text/',['SEX','AGE'])"
   ]
  },
  {
   "cell_type": "code",
   "execution_count": 13,
   "metadata": {},
   "outputs": [],
   "source": [
    "assert vggish_embed_rt_ccas.shape == (100, 259)"
   ]
  },
  {
   "cell_type": "code",
   "execution_count": 14,
   "metadata": {},
   "outputs": [
    {
     "data": {
      "text/html": [
       "<div>\n",
       "<style scoped>\n",
       "    .dataframe tbody tr th:only-of-type {\n",
       "        vertical-align: middle;\n",
       "    }\n",
       "\n",
       "    .dataframe tbody tr th {\n",
       "        vertical-align: top;\n",
       "    }\n",
       "\n",
       "    .dataframe thead th {\n",
       "        text-align: right;\n",
       "    }\n",
       "</style>\n",
       "<table border=\"1\" class=\"dataframe\">\n",
       "  <thead>\n",
       "    <tr style=\"text-align: right;\">\n",
       "      <th></th>\n",
       "      <th>0</th>\n",
       "      <th>1</th>\n",
       "      <th>2</th>\n",
       "      <th>3</th>\n",
       "      <th>4</th>\n",
       "      <th>5</th>\n",
       "      <th>6</th>\n",
       "      <th>7</th>\n",
       "      <th>8</th>\n",
       "      <th>9</th>\n",
       "      <th>...</th>\n",
       "      <th>249</th>\n",
       "      <th>250</th>\n",
       "      <th>251</th>\n",
       "      <th>252</th>\n",
       "      <th>253</th>\n",
       "      <th>254</th>\n",
       "      <th>255</th>\n",
       "      <th>256</th>\n",
       "      <th>257</th>\n",
       "      <th>258</th>\n",
       "    </tr>\n",
       "  </thead>\n",
       "  <tbody>\n",
       "    <tr>\n",
       "      <th>0</th>\n",
       "      <td>0.283398</td>\n",
       "      <td>0.005795</td>\n",
       "      <td>0.322382</td>\n",
       "      <td>0.0</td>\n",
       "      <td>0.007770</td>\n",
       "      <td>0.002156</td>\n",
       "      <td>0.007077</td>\n",
       "      <td>0.000000</td>\n",
       "      <td>0.015446</td>\n",
       "      <td>0.016417</td>\n",
       "      <td>...</td>\n",
       "      <td>0.093643</td>\n",
       "      <td>0.0</td>\n",
       "      <td>0.213005</td>\n",
       "      <td>0.308270</td>\n",
       "      <td>0.065252</td>\n",
       "      <td>0.000000</td>\n",
       "      <td>0.000000</td>\n",
       "      <td>0.0</td>\n",
       "      <td>64.0</td>\n",
       "      <td>0.0</td>\n",
       "    </tr>\n",
       "    <tr>\n",
       "      <th>1</th>\n",
       "      <td>0.576316</td>\n",
       "      <td>0.006670</td>\n",
       "      <td>0.337802</td>\n",
       "      <td>0.0</td>\n",
       "      <td>0.003554</td>\n",
       "      <td>0.005937</td>\n",
       "      <td>0.001004</td>\n",
       "      <td>0.000000</td>\n",
       "      <td>0.000000</td>\n",
       "      <td>0.030303</td>\n",
       "      <td>...</td>\n",
       "      <td>0.096462</td>\n",
       "      <td>0.0</td>\n",
       "      <td>0.234707</td>\n",
       "      <td>0.106396</td>\n",
       "      <td>0.169872</td>\n",
       "      <td>0.036177</td>\n",
       "      <td>0.028395</td>\n",
       "      <td>1.0</td>\n",
       "      <td>72.0</td>\n",
       "      <td>0.0</td>\n",
       "    </tr>\n",
       "    <tr>\n",
       "      <th>2</th>\n",
       "      <td>0.640286</td>\n",
       "      <td>0.000000</td>\n",
       "      <td>0.263864</td>\n",
       "      <td>0.0</td>\n",
       "      <td>0.000974</td>\n",
       "      <td>0.000000</td>\n",
       "      <td>0.000000</td>\n",
       "      <td>0.000000</td>\n",
       "      <td>0.000000</td>\n",
       "      <td>0.000000</td>\n",
       "      <td>...</td>\n",
       "      <td>0.078060</td>\n",
       "      <td>0.0</td>\n",
       "      <td>0.232578</td>\n",
       "      <td>0.205344</td>\n",
       "      <td>0.046105</td>\n",
       "      <td>0.000000</td>\n",
       "      <td>0.000000</td>\n",
       "      <td>1.0</td>\n",
       "      <td>75.0</td>\n",
       "      <td>0.0</td>\n",
       "    </tr>\n",
       "    <tr>\n",
       "      <th>3</th>\n",
       "      <td>0.215650</td>\n",
       "      <td>0.053099</td>\n",
       "      <td>0.061410</td>\n",
       "      <td>0.0</td>\n",
       "      <td>0.022464</td>\n",
       "      <td>0.010151</td>\n",
       "      <td>0.000000</td>\n",
       "      <td>0.022203</td>\n",
       "      <td>0.000000</td>\n",
       "      <td>0.015516</td>\n",
       "      <td>...</td>\n",
       "      <td>0.046254</td>\n",
       "      <td>0.0</td>\n",
       "      <td>0.077390</td>\n",
       "      <td>0.161684</td>\n",
       "      <td>0.145853</td>\n",
       "      <td>0.017135</td>\n",
       "      <td>0.000000</td>\n",
       "      <td>0.0</td>\n",
       "      <td>65.0</td>\n",
       "      <td>0.0</td>\n",
       "    </tr>\n",
       "    <tr>\n",
       "      <th>4</th>\n",
       "      <td>0.376299</td>\n",
       "      <td>0.000000</td>\n",
       "      <td>0.299862</td>\n",
       "      <td>0.0</td>\n",
       "      <td>0.001700</td>\n",
       "      <td>0.000000</td>\n",
       "      <td>0.006846</td>\n",
       "      <td>0.000000</td>\n",
       "      <td>0.008140</td>\n",
       "      <td>0.025373</td>\n",
       "      <td>...</td>\n",
       "      <td>0.078498</td>\n",
       "      <td>0.0</td>\n",
       "      <td>0.108306</td>\n",
       "      <td>0.142625</td>\n",
       "      <td>0.000000</td>\n",
       "      <td>0.000000</td>\n",
       "      <td>0.000000</td>\n",
       "      <td>1.0</td>\n",
       "      <td>66.0</td>\n",
       "      <td>0.0</td>\n",
       "    </tr>\n",
       "  </tbody>\n",
       "</table>\n",
       "<p>5 rows × 259 columns</p>\n",
       "</div>"
      ],
      "text/plain": [
       "        0         1         2    3         4         5         6         7    \\\n",
       "0  0.283398  0.005795  0.322382  0.0  0.007770  0.002156  0.007077  0.000000   \n",
       "1  0.576316  0.006670  0.337802  0.0  0.003554  0.005937  0.001004  0.000000   \n",
       "2  0.640286  0.000000  0.263864  0.0  0.000974  0.000000  0.000000  0.000000   \n",
       "3  0.215650  0.053099  0.061410  0.0  0.022464  0.010151  0.000000  0.022203   \n",
       "4  0.376299  0.000000  0.299862  0.0  0.001700  0.000000  0.006846  0.000000   \n",
       "\n",
       "        8         9    ...       249  250       251       252       253  \\\n",
       "0  0.015446  0.016417  ...  0.093643  0.0  0.213005  0.308270  0.065252   \n",
       "1  0.000000  0.030303  ...  0.096462  0.0  0.234707  0.106396  0.169872   \n",
       "2  0.000000  0.000000  ...  0.078060  0.0  0.232578  0.205344  0.046105   \n",
       "3  0.000000  0.015516  ...  0.046254  0.0  0.077390  0.161684  0.145853   \n",
       "4  0.008140  0.025373  ...  0.078498  0.0  0.108306  0.142625  0.000000   \n",
       "\n",
       "        254       255  256   257  258  \n",
       "0  0.000000  0.000000  0.0  64.0  0.0  \n",
       "1  0.036177  0.028395  1.0  72.0  0.0  \n",
       "2  0.000000  0.000000  1.0  75.0  0.0  \n",
       "3  0.017135  0.000000  0.0  65.0  0.0  \n",
       "4  0.000000  0.000000  1.0  66.0  0.0  \n",
       "\n",
       "[5 rows x 259 columns]"
      ]
     },
     "execution_count": 14,
     "metadata": {},
     "output_type": "execute_result"
    }
   ],
   "source": [
    "pd.DataFrame(vggish_embed_rt_ccas).head()"
   ]
  },
  {
   "cell_type": "code",
   "execution_count": 15,
   "metadata": {},
   "outputs": [],
   "source": [
    "np.save('../'+rutaCcas+'vggish_embed_rt_ccas', vggish_embed_rt_ccas)"
   ]
  },
  {
   "cell_type": "markdown",
   "metadata": {},
   "source": [
    "### 3.2 Extracción VGGish embeddings vocales\n",
    "En este caso no añadiremos la edad y el sexo debido a la dificultad añadida de no tener todos los audios computados: tenemos que eliminar los de menos de un segundo."
   ]
  },
  {
   "cell_type": "markdown",
   "metadata": {},
   "source": [
    "#### A"
   ]
  },
  {
   "cell_type": "code",
   "execution_count": 16,
   "metadata": {
    "scrolled": true
   },
   "outputs": [
    {
     "name": "stdout",
     "output_type": "stream",
     "text": [
      "Comienzo extracción HC, quedan: 300 audios.\n"
     ]
    },
    {
     "name": "stderr",
     "output_type": "stream",
     "text": [
      "C:\\Users\\usuario\\Anaconda3\\lib\\site-packages\\numpy\\core\\fromnumeric.py:3118: RuntimeWarning: Mean of empty slice.\n",
      "  out=out, **kwargs)\n",
      "C:\\Users\\usuario\\Anaconda3\\lib\\site-packages\\numpy\\core\\_methods.py:85: RuntimeWarning: invalid value encountered in double_scalars\n",
      "  ret = ret.dtype.type(ret / rcount)\n",
      "C:\\Users\\usuario\\Anaconda3\\lib\\site-packages\\numpy\\core\\_methods.py:140: RuntimeWarning: Degrees of freedom <= 0 for slice\n",
      "  keepdims=keepdims)\n",
      "C:\\Users\\usuario\\Anaconda3\\lib\\site-packages\\numpy\\core\\_methods.py:110: RuntimeWarning: invalid value encountered in true_divide\n",
      "  arrmean, rcount, out=arrmean, casting='unsafe', subok=False)\n",
      "C:\\Users\\usuario\\Anaconda3\\lib\\site-packages\\numpy\\core\\_methods.py:132: RuntimeWarning: invalid value encountered in double_scalars\n",
      "  ret = ret.dtype.type(ret / rcount)\n"
     ]
    },
    {
     "name": "stdout",
     "output_type": "stream",
     "text": [
      "Comienzo extracción PD, quedan: 150 audios.\n"
     ]
    }
   ],
   "source": [
    "vggish_embed_v_A_ccas = extractor.extraccion_embeddings_directorio('PC-GITA/vowels/A/')"
   ]
  },
  {
   "cell_type": "code",
   "execution_count": 17,
   "metadata": {},
   "outputs": [
    {
     "data": {
      "text/plain": [
       "(282, 257)"
      ]
     },
     "execution_count": 17,
     "metadata": {},
     "output_type": "execute_result"
    }
   ],
   "source": [
    "assert vggish_embed_v_A_ccas.shape == (300-d_voc['A']['Total'],257)\n",
    "vggish_embed_v_A_ccas.shape"
   ]
  },
  {
   "cell_type": "code",
   "execution_count": 18,
   "metadata": {},
   "outputs": [],
   "source": [
    "np.save('../'+rutaCcas+'vggish_embed_v_A_ccas', vggish_embed_v_A_ccas)"
   ]
  },
  {
   "cell_type": "markdown",
   "metadata": {},
   "source": [
    "#### E"
   ]
  },
  {
   "cell_type": "code",
   "execution_count": 19,
   "metadata": {},
   "outputs": [
    {
     "name": "stdout",
     "output_type": "stream",
     "text": [
      "Comienzo extracción HC, quedan: 300 audios.\n",
      "Comienzo extracción PD, quedan: 150 audios.\n"
     ]
    }
   ],
   "source": [
    "vggish_embed_v_E_ccas = extractor.extraccion_embeddings_directorio('PC-GITA/vowels/E/')"
   ]
  },
  {
   "cell_type": "code",
   "execution_count": 20,
   "metadata": {},
   "outputs": [
    {
     "data": {
      "text/plain": [
       "(284, 257)"
      ]
     },
     "execution_count": 20,
     "metadata": {},
     "output_type": "execute_result"
    }
   ],
   "source": [
    "assert vggish_embed_v_E_ccas.shape == (300-d_voc['E']['Total'],257)\n",
    "vggish_embed_v_E_ccas.shape"
   ]
  },
  {
   "cell_type": "code",
   "execution_count": 21,
   "metadata": {},
   "outputs": [],
   "source": [
    "np.save('../'+rutaCcas+'vggish_embed_v_E_ccas', vggish_embed_v_E_ccas)"
   ]
  },
  {
   "cell_type": "markdown",
   "metadata": {},
   "source": [
    "#### I"
   ]
  },
  {
   "cell_type": "code",
   "execution_count": 22,
   "metadata": {},
   "outputs": [
    {
     "name": "stdout",
     "output_type": "stream",
     "text": [
      "Comienzo extracción HC, quedan: 300 audios.\n",
      "Comienzo extracción PD, quedan: 150 audios.\n"
     ]
    }
   ],
   "source": [
    "vggish_embed_v_I_ccas = extractor.extraccion_embeddings_directorio('PC-GITA/vowels/I/')"
   ]
  },
  {
   "cell_type": "code",
   "execution_count": 23,
   "metadata": {},
   "outputs": [
    {
     "data": {
      "text/plain": [
       "(281, 257)"
      ]
     },
     "execution_count": 23,
     "metadata": {},
     "output_type": "execute_result"
    }
   ],
   "source": [
    "assert vggish_embed_v_I_ccas.shape == (300-d_voc['I']['Total'],257)\n",
    "vggish_embed_v_I_ccas.shape"
   ]
  },
  {
   "cell_type": "code",
   "execution_count": 24,
   "metadata": {},
   "outputs": [],
   "source": [
    "np.save('../'+rutaCcas+'vggish_embed_v_I_ccas', vggish_embed_v_I_ccas)"
   ]
  },
  {
   "cell_type": "markdown",
   "metadata": {},
   "source": [
    "#### O"
   ]
  },
  {
   "cell_type": "code",
   "execution_count": 25,
   "metadata": {},
   "outputs": [
    {
     "name": "stdout",
     "output_type": "stream",
     "text": [
      "Comienzo extracción HC, quedan: 300 audios.\n",
      "Comienzo extracción PD, quedan: 150 audios.\n"
     ]
    }
   ],
   "source": [
    "vggish_embed_v_O_ccas = extractor.extraccion_embeddings_directorio('PC-GITA/vowels/O/')"
   ]
  },
  {
   "cell_type": "code",
   "execution_count": 26,
   "metadata": {},
   "outputs": [
    {
     "data": {
      "text/plain": [
       "(262, 257)"
      ]
     },
     "execution_count": 26,
     "metadata": {},
     "output_type": "execute_result"
    }
   ],
   "source": [
    "assert vggish_embed_v_O_ccas.shape == (300-d_voc['O']['Total'],257)\n",
    "vggish_embed_v_O_ccas.shape"
   ]
  },
  {
   "cell_type": "code",
   "execution_count": 27,
   "metadata": {},
   "outputs": [],
   "source": [
    "np.save('../'+rutaCcas+'vggish_embed_v_O_ccas', vggish_embed_v_O_ccas)"
   ]
  },
  {
   "cell_type": "markdown",
   "metadata": {},
   "source": [
    "#### U"
   ]
  },
  {
   "cell_type": "code",
   "execution_count": 28,
   "metadata": {},
   "outputs": [
    {
     "name": "stdout",
     "output_type": "stream",
     "text": [
      "Comienzo extracción HC, quedan: 300 audios.\n",
      "Comienzo extracción PD, quedan: 150 audios.\n"
     ]
    }
   ],
   "source": [
    "vggish_embed_v_U_ccas = extractor.extraccion_embeddings_directorio('PC-GITA/vowels/U/')"
   ]
  },
  {
   "cell_type": "code",
   "execution_count": 29,
   "metadata": {},
   "outputs": [
    {
     "data": {
      "text/plain": [
       "(254, 257)"
      ]
     },
     "execution_count": 29,
     "metadata": {},
     "output_type": "execute_result"
    }
   ],
   "source": [
    "assert vggish_embed_v_U_ccas.shape == (300-d_voc['U']['Total'],257)\n",
    "vggish_embed_v_U_ccas.shape"
   ]
  },
  {
   "cell_type": "code",
   "execution_count": 30,
   "metadata": {},
   "outputs": [],
   "source": [
    "np.save('../'+rutaCcas+'vggish_embed_v_U_ccas', vggish_embed_v_U_ccas)"
   ]
  },
  {
   "cell_type": "markdown",
   "metadata": {
    "scrolled": true
   },
   "source": [
    "---"
   ]
  },
  {
   "cell_type": "markdown",
   "metadata": {},
   "source": [
    "# 4. Extracción MFCC y espectros VGGish\n",
    "\n",
    "Como hemos comentado, también aprovecharemos el anterior paso a el calculo de los embbedings del modelo para sacar las características de espectros y MFCCs.\n",
    "\n",
    "El prepocesado realiza lo siguiente:\n",
    ">* Todo el audio se remuestrea a 16 kHz mono.\n",
    "* Un espectrograma se calcula utilizando magnitudes de la Transformada de Fourier a corto plazo con un tamaño de ventana de 25 ms, un salto de ventana de 10 ms y una ventana de Hann periódica.\n",
    "* Un espectrograma de mel se calcula al mapear el espectrograma a 64 casillas de mel que cubren el rango de 125-7500 Hz.\n",
    "* Se calcula un espectrograma log mel estabilizado aplicando log (espectro de mel + 0.01) donde se usa el desplazamiento para evitar tomar un logaritmo de cero.\n",
    "* **Estas características se enmarcan en ejemplos no superpuestos de 0.96 segundos, donde cada ejemplo cubre 64 bandas mel y 96 frames de 25 ms  con windowing 10ms cada una.**\n",
    "\n",
    "**Nosotros aplanamos el vector de (X,96,64) a (X\\*96,64). Posteriormente hacemos la media y desviación de cada una de las 64 características a lo largo de los X\\*96 frames analizados. Y obtenemos para cada audio un vector de 128 ccas (mas adicionales si es necesario y label).**\n",
    "\n",
    "> Audio -->**|Preprocesado|**--> MFCC y espectros para cada segundo -->**|Aplanados|**-->**|Media y desviacion|**--> final espectros"
   ]
  },
  {
   "cell_type": "code",
   "execution_count": 31,
   "metadata": {},
   "outputs": [],
   "source": [
    "rutaCcas = 'CaracteristicasExtraidas/vggish/espectros/'\n",
    "extractor = Extractor_Caracteristicas_Vggish(rutaCcas,dic_audios_inf)"
   ]
  },
  {
   "cell_type": "code",
   "execution_count": 32,
   "metadata": {},
   "outputs": [
    {
     "name": "stdout",
     "output_type": "stream",
     "text": [
      "Comienzo extracción HC, quedan: 100 audios.\n",
      "Comienzo extracción PD, quedan: 50 audios.\n"
     ]
    }
   ],
   "source": [
    "vggish_espec_rt_ccas = extractor.extraccion_embeddings_directorio('PC-GITA/read-text/',['SEX','AGE'],False)"
   ]
  },
  {
   "cell_type": "code",
   "execution_count": 33,
   "metadata": {},
   "outputs": [],
   "source": [
    "assert vggish_espec_rt_ccas.shape == (100, 131)"
   ]
  },
  {
   "cell_type": "code",
   "execution_count": 34,
   "metadata": {},
   "outputs": [
    {
     "data": {
      "text/plain": [
       "(100, 131)"
      ]
     },
     "execution_count": 34,
     "metadata": {},
     "output_type": "execute_result"
    }
   ],
   "source": [
    "vggish_espec_rt_ccas.shape"
   ]
  },
  {
   "cell_type": "code",
   "execution_count": 35,
   "metadata": {},
   "outputs": [
    {
     "data": {
      "text/html": [
       "<div>\n",
       "<style scoped>\n",
       "    .dataframe tbody tr th:only-of-type {\n",
       "        vertical-align: middle;\n",
       "    }\n",
       "\n",
       "    .dataframe tbody tr th {\n",
       "        vertical-align: top;\n",
       "    }\n",
       "\n",
       "    .dataframe thead th {\n",
       "        text-align: right;\n",
       "    }\n",
       "</style>\n",
       "<table border=\"1\" class=\"dataframe\">\n",
       "  <thead>\n",
       "    <tr style=\"text-align: right;\">\n",
       "      <th></th>\n",
       "      <th>0</th>\n",
       "      <th>1</th>\n",
       "      <th>2</th>\n",
       "      <th>3</th>\n",
       "      <th>4</th>\n",
       "      <th>5</th>\n",
       "      <th>6</th>\n",
       "      <th>7</th>\n",
       "      <th>8</th>\n",
       "      <th>9</th>\n",
       "      <th>...</th>\n",
       "      <th>121</th>\n",
       "      <th>122</th>\n",
       "      <th>123</th>\n",
       "      <th>124</th>\n",
       "      <th>125</th>\n",
       "      <th>126</th>\n",
       "      <th>127</th>\n",
       "      <th>128</th>\n",
       "      <th>129</th>\n",
       "      <th>130</th>\n",
       "    </tr>\n",
       "  </thead>\n",
       "  <tbody>\n",
       "    <tr>\n",
       "      <th>0</th>\n",
       "      <td>-2.289717</td>\n",
       "      <td>-1.917971</td>\n",
       "      <td>-1.615449</td>\n",
       "      <td>-1.501580</td>\n",
       "      <td>-1.626233</td>\n",
       "      <td>-1.755354</td>\n",
       "      <td>-1.814383</td>\n",
       "      <td>-1.879997</td>\n",
       "      <td>-1.810921</td>\n",
       "      <td>-1.933020</td>\n",
       "      <td>...</td>\n",
       "      <td>0.992340</td>\n",
       "      <td>0.972268</td>\n",
       "      <td>0.923451</td>\n",
       "      <td>0.881331</td>\n",
       "      <td>0.916335</td>\n",
       "      <td>0.925145</td>\n",
       "      <td>0.963934</td>\n",
       "      <td>0.0</td>\n",
       "      <td>64.0</td>\n",
       "      <td>0.0</td>\n",
       "    </tr>\n",
       "    <tr>\n",
       "      <th>1</th>\n",
       "      <td>-1.868412</td>\n",
       "      <td>-1.900832</td>\n",
       "      <td>-1.678849</td>\n",
       "      <td>-1.373311</td>\n",
       "      <td>-1.362722</td>\n",
       "      <td>-1.456512</td>\n",
       "      <td>-1.506287</td>\n",
       "      <td>-1.566286</td>\n",
       "      <td>-1.583171</td>\n",
       "      <td>-1.838715</td>\n",
       "      <td>...</td>\n",
       "      <td>0.864394</td>\n",
       "      <td>0.891869</td>\n",
       "      <td>0.930504</td>\n",
       "      <td>0.920924</td>\n",
       "      <td>0.921429</td>\n",
       "      <td>0.861128</td>\n",
       "      <td>0.771751</td>\n",
       "      <td>1.0</td>\n",
       "      <td>72.0</td>\n",
       "      <td>0.0</td>\n",
       "    </tr>\n",
       "    <tr>\n",
       "      <th>2</th>\n",
       "      <td>-1.944845</td>\n",
       "      <td>-1.551957</td>\n",
       "      <td>-1.500288</td>\n",
       "      <td>-1.701158</td>\n",
       "      <td>-1.985579</td>\n",
       "      <td>-1.851621</td>\n",
       "      <td>-1.557754</td>\n",
       "      <td>-1.362149</td>\n",
       "      <td>-1.302102</td>\n",
       "      <td>-1.583566</td>\n",
       "      <td>...</td>\n",
       "      <td>0.738100</td>\n",
       "      <td>0.791338</td>\n",
       "      <td>0.789183</td>\n",
       "      <td>0.803143</td>\n",
       "      <td>0.910439</td>\n",
       "      <td>0.955155</td>\n",
       "      <td>0.911863</td>\n",
       "      <td>1.0</td>\n",
       "      <td>75.0</td>\n",
       "      <td>0.0</td>\n",
       "    </tr>\n",
       "    <tr>\n",
       "      <th>3</th>\n",
       "      <td>-0.115094</td>\n",
       "      <td>-0.245233</td>\n",
       "      <td>-0.432217</td>\n",
       "      <td>-0.465459</td>\n",
       "      <td>-0.266510</td>\n",
       "      <td>0.156148</td>\n",
       "      <td>0.446809</td>\n",
       "      <td>0.435701</td>\n",
       "      <td>0.210680</td>\n",
       "      <td>-0.343895</td>\n",
       "      <td>...</td>\n",
       "      <td>1.525810</td>\n",
       "      <td>1.463179</td>\n",
       "      <td>1.382741</td>\n",
       "      <td>1.328618</td>\n",
       "      <td>1.220216</td>\n",
       "      <td>1.231141</td>\n",
       "      <td>1.301151</td>\n",
       "      <td>0.0</td>\n",
       "      <td>65.0</td>\n",
       "      <td>0.0</td>\n",
       "    </tr>\n",
       "    <tr>\n",
       "      <th>4</th>\n",
       "      <td>-2.421993</td>\n",
       "      <td>-1.901072</td>\n",
       "      <td>-1.640123</td>\n",
       "      <td>-1.615278</td>\n",
       "      <td>-1.956334</td>\n",
       "      <td>-2.221964</td>\n",
       "      <td>-2.152975</td>\n",
       "      <td>-2.022032</td>\n",
       "      <td>-1.796112</td>\n",
       "      <td>-1.847532</td>\n",
       "      <td>...</td>\n",
       "      <td>1.159509</td>\n",
       "      <td>1.217289</td>\n",
       "      <td>1.133309</td>\n",
       "      <td>1.111786</td>\n",
       "      <td>1.113843</td>\n",
       "      <td>1.141836</td>\n",
       "      <td>1.199390</td>\n",
       "      <td>1.0</td>\n",
       "      <td>66.0</td>\n",
       "      <td>0.0</td>\n",
       "    </tr>\n",
       "  </tbody>\n",
       "</table>\n",
       "<p>5 rows × 131 columns</p>\n",
       "</div>"
      ],
      "text/plain": [
       "        0         1         2         3         4         5         6    \\\n",
       "0 -2.289717 -1.917971 -1.615449 -1.501580 -1.626233 -1.755354 -1.814383   \n",
       "1 -1.868412 -1.900832 -1.678849 -1.373311 -1.362722 -1.456512 -1.506287   \n",
       "2 -1.944845 -1.551957 -1.500288 -1.701158 -1.985579 -1.851621 -1.557754   \n",
       "3 -0.115094 -0.245233 -0.432217 -0.465459 -0.266510  0.156148  0.446809   \n",
       "4 -2.421993 -1.901072 -1.640123 -1.615278 -1.956334 -2.221964 -2.152975   \n",
       "\n",
       "        7         8         9    ...       121       122       123       124  \\\n",
       "0 -1.879997 -1.810921 -1.933020  ...  0.992340  0.972268  0.923451  0.881331   \n",
       "1 -1.566286 -1.583171 -1.838715  ...  0.864394  0.891869  0.930504  0.920924   \n",
       "2 -1.362149 -1.302102 -1.583566  ...  0.738100  0.791338  0.789183  0.803143   \n",
       "3  0.435701  0.210680 -0.343895  ...  1.525810  1.463179  1.382741  1.328618   \n",
       "4 -2.022032 -1.796112 -1.847532  ...  1.159509  1.217289  1.133309  1.111786   \n",
       "\n",
       "        125       126       127  128   129  130  \n",
       "0  0.916335  0.925145  0.963934  0.0  64.0  0.0  \n",
       "1  0.921429  0.861128  0.771751  1.0  72.0  0.0  \n",
       "2  0.910439  0.955155  0.911863  1.0  75.0  0.0  \n",
       "3  1.220216  1.231141  1.301151  0.0  65.0  0.0  \n",
       "4  1.113843  1.141836  1.199390  1.0  66.0  0.0  \n",
       "\n",
       "[5 rows x 131 columns]"
      ]
     },
     "execution_count": 35,
     "metadata": {},
     "output_type": "execute_result"
    }
   ],
   "source": [
    "pd.DataFrame(vggish_espec_rt_ccas).head()"
   ]
  },
  {
   "cell_type": "code",
   "execution_count": 36,
   "metadata": {},
   "outputs": [],
   "source": [
    "np.save('../'+rutaCcas+'vggish_espec_rt_ccas', vggish_espec_rt_ccas)"
   ]
  },
  {
   "cell_type": "markdown",
   "metadata": {},
   "source": [
    "### 3.2 Extracción VGGish embeddings vocales\n",
    "En este caso no añadiremos la edad y el sexo debido a la dificultad añadida de no tener todos los audios computados: tenemos que eliminar los de menos de un segundo."
   ]
  },
  {
   "cell_type": "markdown",
   "metadata": {},
   "source": [
    "#### A"
   ]
  },
  {
   "cell_type": "code",
   "execution_count": 39,
   "metadata": {
    "scrolled": true
   },
   "outputs": [
    {
     "name": "stdout",
     "output_type": "stream",
     "text": [
      "Comienzo extracción HC, quedan: 300 audios.\n"
     ]
    },
    {
     "name": "stderr",
     "output_type": "stream",
     "text": [
      "C:\\Users\\usuario\\Anaconda3\\lib\\site-packages\\numpy\\core\\_methods.py:78: RuntimeWarning: invalid value encountered in true_divide\n",
      "  ret, rcount, out=ret, casting='unsafe', subok=False)\n",
      "C:\\Users\\usuario\\Anaconda3\\lib\\site-packages\\numpy\\core\\_methods.py:130: RuntimeWarning: invalid value encountered in true_divide\n",
      "  ret, rcount, out=ret, casting='unsafe', subok=False)\n"
     ]
    },
    {
     "name": "stdout",
     "output_type": "stream",
     "text": [
      "Comienzo extracción PD, quedan: 150 audios.\n"
     ]
    }
   ],
   "source": [
    "vggish_espec_v_A_ccas = extractor.extraccion_embeddings_directorio('PC-GITA/vowels/A/',embeddings=False)"
   ]
  },
  {
   "cell_type": "code",
   "execution_count": 40,
   "metadata": {},
   "outputs": [
    {
     "data": {
      "text/plain": [
       "(282, 129)"
      ]
     },
     "execution_count": 40,
     "metadata": {},
     "output_type": "execute_result"
    }
   ],
   "source": [
    "assert vggish_espec_v_A_ccas.shape == (300-d_voc['A']['Total'],129)\n",
    "vggish_espec_v_A_ccas.shape"
   ]
  },
  {
   "cell_type": "code",
   "execution_count": 41,
   "metadata": {},
   "outputs": [],
   "source": [
    "np.save('../'+rutaCcas+'vggish_espec_v_A_ccas', vggish_espec_v_A_ccas)"
   ]
  },
  {
   "cell_type": "markdown",
   "metadata": {},
   "source": [
    "#### E"
   ]
  },
  {
   "cell_type": "code",
   "execution_count": 42,
   "metadata": {},
   "outputs": [
    {
     "name": "stdout",
     "output_type": "stream",
     "text": [
      "Comienzo extracción HC, quedan: 300 audios.\n",
      "Comienzo extracción PD, quedan: 150 audios.\n"
     ]
    }
   ],
   "source": [
    "vggish_espec_v_E_ccas = extractor.extraccion_embeddings_directorio('PC-GITA/vowels/E/',embeddings=False)"
   ]
  },
  {
   "cell_type": "code",
   "execution_count": 43,
   "metadata": {},
   "outputs": [
    {
     "data": {
      "text/plain": [
       "(284, 129)"
      ]
     },
     "execution_count": 43,
     "metadata": {},
     "output_type": "execute_result"
    }
   ],
   "source": [
    "assert vggish_espec_v_E_ccas.shape == (300-d_voc['E']['Total'],129)\n",
    "vggish_espec_v_E_ccas.shape"
   ]
  },
  {
   "cell_type": "code",
   "execution_count": 44,
   "metadata": {},
   "outputs": [],
   "source": [
    "np.save('../'+rutaCcas+'vggish_espec_v_E_ccas', vggish_espec_v_E_ccas)"
   ]
  },
  {
   "cell_type": "markdown",
   "metadata": {},
   "source": [
    "#### I"
   ]
  },
  {
   "cell_type": "code",
   "execution_count": 45,
   "metadata": {},
   "outputs": [
    {
     "name": "stdout",
     "output_type": "stream",
     "text": [
      "Comienzo extracción HC, quedan: 300 audios.\n",
      "Comienzo extracción PD, quedan: 150 audios.\n"
     ]
    }
   ],
   "source": [
    "vggish_espec_v_I_ccas = extractor.extraccion_embeddings_directorio('PC-GITA/vowels/I/',embeddings=False)"
   ]
  },
  {
   "cell_type": "code",
   "execution_count": 46,
   "metadata": {},
   "outputs": [
    {
     "data": {
      "text/plain": [
       "(281, 129)"
      ]
     },
     "execution_count": 46,
     "metadata": {},
     "output_type": "execute_result"
    }
   ],
   "source": [
    "assert vggish_espec_v_I_ccas.shape == (300-d_voc['I']['Total'],129)\n",
    "vggish_espec_v_I_ccas.shape"
   ]
  },
  {
   "cell_type": "code",
   "execution_count": 47,
   "metadata": {},
   "outputs": [],
   "source": [
    "np.save('../'+rutaCcas+'vggish_espec_v_I_ccas', vggish_espec_v_I_ccas)"
   ]
  },
  {
   "cell_type": "markdown",
   "metadata": {},
   "source": [
    "#### O"
   ]
  },
  {
   "cell_type": "code",
   "execution_count": 48,
   "metadata": {},
   "outputs": [
    {
     "name": "stdout",
     "output_type": "stream",
     "text": [
      "Comienzo extracción HC, quedan: 300 audios.\n",
      "Comienzo extracción PD, quedan: 150 audios.\n"
     ]
    }
   ],
   "source": [
    "vggish_espec_v_O_ccas = extractor.extraccion_embeddings_directorio('PC-GITA/vowels/O/',embeddings=False)"
   ]
  },
  {
   "cell_type": "code",
   "execution_count": 49,
   "metadata": {},
   "outputs": [
    {
     "data": {
      "text/plain": [
       "(262, 129)"
      ]
     },
     "execution_count": 49,
     "metadata": {},
     "output_type": "execute_result"
    }
   ],
   "source": [
    "assert vggish_espec_v_O_ccas.shape == (300-d_voc['O']['Total'],129)\n",
    "vggish_espec_v_O_ccas.shape"
   ]
  },
  {
   "cell_type": "code",
   "execution_count": 50,
   "metadata": {},
   "outputs": [],
   "source": [
    "np.save('../'+rutaCcas+'vggish_espec_v_O_ccas', vggish_espec_v_O_ccas)"
   ]
  },
  {
   "cell_type": "markdown",
   "metadata": {},
   "source": [
    "#### U"
   ]
  },
  {
   "cell_type": "code",
   "execution_count": 51,
   "metadata": {},
   "outputs": [
    {
     "name": "stdout",
     "output_type": "stream",
     "text": [
      "Comienzo extracción HC, quedan: 300 audios.\n",
      "Comienzo extracción PD, quedan: 150 audios.\n"
     ]
    }
   ],
   "source": [
    "vggish_espec_v_U_ccas = extractor.extraccion_embeddings_directorio('PC-GITA/vowels/U/',embeddings=False)"
   ]
  },
  {
   "cell_type": "code",
   "execution_count": 52,
   "metadata": {},
   "outputs": [
    {
     "data": {
      "text/plain": [
       "(254, 129)"
      ]
     },
     "execution_count": 52,
     "metadata": {},
     "output_type": "execute_result"
    }
   ],
   "source": [
    "assert vggish_espec_v_U_ccas.shape == (300-d_voc['U']['Total'],129)\n",
    "vggish_espec_v_U_ccas.shape"
   ]
  },
  {
   "cell_type": "code",
   "execution_count": 53,
   "metadata": {},
   "outputs": [],
   "source": [
    "np.save('../'+rutaCcas+'vggish_espec_v_U_ccas', vggish_espec_v_U_ccas)"
   ]
  },
  {
   "cell_type": "markdown",
   "metadata": {
    "scrolled": true
   },
   "source": [
    "---"
   ]
  }
 ],
 "metadata": {
  "kernelspec": {
   "display_name": "Python 3",
   "language": "python",
   "name": "python3"
  },
  "language_info": {
   "codemirror_mode": {
    "name": "ipython",
    "version": 3
   },
   "file_extension": ".py",
   "mimetype": "text/x-python",
   "name": "python",
   "nbconvert_exporter": "python",
   "pygments_lexer": "ipython3",
   "version": "3.6.8"
  }
 },
 "nbformat": 4,
 "nbformat_minor": 2
}
