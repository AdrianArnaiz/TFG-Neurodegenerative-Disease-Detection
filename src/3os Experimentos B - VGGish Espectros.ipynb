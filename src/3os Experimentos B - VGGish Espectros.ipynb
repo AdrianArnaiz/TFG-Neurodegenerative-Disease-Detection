{
 "cells": [
  {
   "cell_type": "markdown",
   "metadata": {
    "colab_type": "text",
    "id": "63wrlYMpNYWS"
   },
   "source": [
    "# Experimentos con Dataset VGGish Espectros\n",
    "## Adrián Arnaiz\n",
    "> * Ruta: */ser/CaracteristicasExtraidas/vggish/espectros*\n",
    "* Módulo de carga de datos: */src/cargaDatosVggishEspectros.py*\n",
    "     * Cada uno Contiene load_....py siendo ... todos los conjuntos de datos extraidos para las características extraídas para read text y vocales con vggis. Ejemplo: load_vggish_espec_v_A() o load_vggish_espec_rt()\n",
    "\n",
    "**Comentar un poco resultados y conclusiones finales**\n",
    "\n",
    "* Resultados en el orden normal de los experimentos: 0.6-0.8, llegando casos hasta 0.85, sin llegar a los mejores resultados hasta ahora.\n",
    "* Cabe destacar que en este caso el conjunto de datos que mejor funciona es el de la vocal A. Las ccas del read-text bajan el rendimiento con estos espectros comparados con los embeddings. Esto podrá ser ya que los embeddings substraen información y patrones y esto puede ser mas util en frases habladas que en vocales sostenidas.\n",
    "* MLP con los espectros clasifica peor que con los embeddings: los embeddings están sacados con una red de Deep Learning la cual está pensada para clasificar con una red neuronal (como MLP).\n",
    "\n",
    "* **Mejor resultado:GridSearch SVM: 0.861**\n",
    "\n",
    "\n",
    "<a id=\"index\"></a>\n",
    "## Índice del notebook\n",
    "1. [Experimentos Espectros VGGish](#rep)\n",
    " 1. [Experimentos estandar - Experimenter](#exp)\n",
    "    1. [Accuracy - atribs. por defecto](#acudef)\n",
    "    2. [Accuracy - atribs. normalizados](#acunorm)\n",
    "    3. [AUC - atribs. por defecto](#aucdef)\n",
    "    4. [Accuracy - atribs. normalizados](#aucnorm)\n",
    " 5. [Grid-Search \\ SVM $\\rightarrow$ Orozco](#gssvm)\n",
    "    1. [|Apartado Formativo| Recalcar importancia de búsqueda de parámetros.](#GSfrom)\n",
    " 6. [Variance Treshold](#vtres)\n",
    " 7. [SKBest](#skbest)\n",
    " 8. [! Grid Search \\ VarianceTeshold + AdaBoost](#vtab)\n",
    " 9. [Grid Search \\ Seleckt KBest + RF](#skrf)\n",
    " 9. [! Grid Search \\ Seleckt KBest + AdaBoost](#skada)\n",
    " 9. [Grid Search \\ Seleckt KBest + GBC](#skgbc)\n",
    "\n",
    " ----------------------"
   ]
  },
  {
   "cell_type": "code",
   "execution_count": 0,
   "metadata": {
    "colab": {},
    "colab_type": "code",
    "id": "YVom0xMNNYWb"
   },
   "outputs": [],
   "source": [
    "import cargaDatosVggishEspectros\n",
    "\n",
    "from experimenter import *\n",
    "from IPython.display import clear_output\n",
    "import numpy as np\n",
    "import os\n",
    "import warnings\n",
    "\n",
    "from sklearn.preprocessing import MinMaxScaler\n",
    "from sklearn.model_selection import cross_val_score, cross_val_predict, GridSearchCV\n",
    "from sklearn.neural_network import MLPClassifier\n",
    "from sklearn import svm\n",
    "from sklearn.ensemble import RandomForestClassifier, AdaBoostClassifier, GradientBoostingClassifier\n",
    "from sklearn.feature_selection import SelectKBest, chi2, VarianceThreshold\n",
    "\n",
    "from sklearn.pipeline import Pipeline\n",
    "warnings.filterwarnings('ignore')"
   ]
  },
  {
   "cell_type": "markdown",
   "metadata": {
    "colab_type": "text",
    "id": "47rQ2ncsNYWl"
   },
   "source": [
    "# 1. Experimentos Espectros VGGish <a id=\"rep\"></a><a href=\"#index\"><i class=\"fa fa-list-alt\" aria-hidden=\"true\"></i></a>\n",
    "Repetiremos el conjuto de experimentos que hemos ido realizando para todos los anteriores conjuntos de datos y así poder comparar resultados.\n",
    "\n",
    "**Experimenter.GridSearchPipe(moduloDeDatos, pipe, paramgrid, verbose=True, normalizar=True): utiliza ROC_AUC**\n",
    "## 1.1 Experimentos estandar - Experimenter <a id=\"exp\"></a><a href=\"#index\"><i class=\"fa fa-list-alt\" aria-hidden=\"true\"></i></a>\n",
    "Hemos añadido el perceptron multicapa respecto a otros experimentos. sklearn.neural_network.MLPClassifier."
   ]
  },
  {
   "cell_type": "code",
   "execution_count": 0,
   "metadata": {
    "colab": {},
    "colab_type": "code",
    "id": "SiD2RkbPNYWr"
   },
   "outputs": [],
   "source": [
    "tipoDatos = \"cargaDatosVggishEspectros\"\n",
    "general = {\n",
    "    \"ID\":\"ExperimentoBase\",\n",
    "    \"N_FOLDS\":10\n",
    "}\n",
    "\n",
    "datasets = [\n",
    "    {\n",
    "        \"ID_DATA\":\"RT_Espectros\",\n",
    "        \"ORIGIN\": tipoDatos+\".load_vggish_espec_rt\",\n",
    "    },\n",
    "    {\n",
    "        \"ID_DATA\":\"A_Espectros\",\n",
    "        \"ORIGIN\": tipoDatos+\".load_vggish_espec_v_A\",\n",
    "    },\n",
    "    {\n",
    "        \"ID_DATA\":\"E_Espectros\",\n",
    "        \"ORIGIN\": tipoDatos+\".load_vggish_espec_v_E\",\n",
    "    },\n",
    "    \n",
    "    \n",
    "    {\n",
    "        \"ID_DATA\":\"I_Espectros\",\n",
    "        \"ORIGIN\":tipoDatos+\".load_vggish_espec_v_I\",\n",
    "    },\n",
    "    {\n",
    "        \"ID_DATA\":\"O_Espectros\",\n",
    "        \"ORIGIN\":tipoDatos+\".load_vggish_espec_v_O\",\n",
    "    },\n",
    "    {\n",
    "        \"ID_DATA\":\"U_Espectros\",\n",
    "        \"ORIGIN\":tipoDatos+\".load_vggish_espec_v_U\",\n",
    "    }\n",
    "]\n",
    "\n",
    "algoritmos = [\n",
    "    {\n",
    "        \"ID_ALG\":\"KNN8\",\n",
    "        \"ALGO\": \"sklearn.neighbors.KNeighborsClassifier\",\n",
    "        \"PARAMS\":{\n",
    "            \"n_neighbors\":8,\n",
    "            \"metric\":\"euclidean\"\n",
    "        }\n",
    "    },\n",
    "    {\n",
    "        \"ID_ALG\":\"Tree\",\n",
    "        \"ALGO\": \"sklearn.tree.DecisionTreeClassifier\",\n",
    "        \"PARAMS\":{  # Parámetros por defecto       \n",
    "        }\n",
    "    },\n",
    "    {\n",
    "        \"ID_ALG\":\"Bayes\",\n",
    "        \"ALGO\": \"sklearn.naive_bayes.GaussianNB\",\n",
    "        \"PARAMS\":{  # Parámetros por defecto       \n",
    "        }\n",
    "    },\n",
    "    {\n",
    "        \"ID_ALG\":\"SVM\",\n",
    "        \"ALGO\": \"sklearn.svm.SVC\",\n",
    "        \"PARAMS\":{\n",
    "        }\n",
    "    },\n",
    "    {\n",
    "        \"ID_ALG\":\"RandomF\",\n",
    "        \"ALGO\": \"sklearn.ensemble.RandomForestClassifier\",\n",
    "        \"PARAMS\":{ \n",
    "        }\n",
    "    },\n",
    "    {\n",
    "        \"ID_ALG\":\"Ada\",\n",
    "        \"ALGO\": \"sklearn.ensemble.AdaBoostClassifier\",\n",
    "        \"PARAMS\":{ \n",
    "        }\n",
    "    },\n",
    "    {\n",
    "        \"ID_ALG\":\"Reglas\",\n",
    "        \"ALGO\": \"sklearn.dummy.DummyClassifier\",\n",
    "        \"PARAMS\":{ \n",
    "        }\n",
    "    },\n",
    "    {\n",
    "        \"ID_ALG\":\"GBC\",\n",
    "        \"ALGO\": \"sklearn.ensemble.GradientBoostingClassifier\",\n",
    "        \"PARAMS\":{ \n",
    "        }\n",
    "    },\n",
    "    {\n",
    "        \"ID_ALG\":\"MLP100\",\n",
    "        \"ALGO\": \"sklearn.neural_network.MLPClassifier\",\n",
    "        \"PARAMS\":{ \n",
    "        }\n",
    "    },\n",
    "    {\n",
    "        \"ID_ALG\":\"MLP10\",\n",
    "        \"ALGO\": \"sklearn.neural_network.MLPClassifier\",\n",
    "        \"PARAMS\":{ \"hidden_layer_sizes\":10\n",
    "        }\n",
    "    },\n",
    "    \n",
    "]\n",
    "\n",
    "output = {\n",
    "    \"METRIC\":\"accuracy\",\n",
    "    \"DISPLAY\":\"table\"\n",
    "}\n",
    "\n",
    "experimento = {\n",
    "    \"GENERAL\":general,\n",
    "    \"DATASETS\":datasets,\n",
    "    \"ALGORITMOS\":algoritmos,\n",
    "    \"OUTPUT\": output    \n",
    "}"
   ]
  },
  {
   "cell_type": "markdown",
   "metadata": {
    "colab_type": "text",
    "id": "gHxX_7ReNYWz"
   },
   "source": [
    "### 1.1.1 Acuracy -  atribs sin modificar <a id=\"acudef\"></a><a href=\"#index\"><i class=\"fa fa-list-alt\" aria-hidden=\"true\"></i></a>\n",
    "Mejor: **SVM GBC y MLP para rt_espectros, A_espectros : 0.78**. 0 por encima del 0.8.\n",
    "\n",
    "**NO** hay mejora significativa ni debido a las nuevas características. Resultados en la medida de anteriores experimentos."
   ]
  },
  {
   "cell_type": "code",
   "execution_count": 0,
   "metadata": {
    "colab": {},
    "colab_type": "code",
    "id": "JaxALNdDNYXN",
    "scrolled": true
   },
   "outputs": [],
   "source": [
    "warnings.filterwarnings('ignore')\n",
    "ex = Experimenter()\n",
    "name_exp,num_folds = ex.get_datos_generales(experimento)\n",
    "data_names,data_X,data_y = ex.get_datasets(experimento)\n",
    "model_names,models = ex.get_algoritmos(experimento)\n",
    "score,rep_type = ex.get_output_options(experimento)\n",
    "all_results = ex.cross_validate_all_models(data_names, data_X,data_y,models,num_folds,score)\n",
    "clear_output()"
   ]
  },
  {
   "cell_type": "code",
   "execution_count": 0,
   "metadata": {
    "colab": {
     "base_uri": "https://localhost:8080/"
    },
    "colab_type": "code",
    "id": "iK9tHOVxNYXT",
    "outputId": "340f4b1e-66ea-49df-c465-b4bcb47b2113"
   },
   "outputs": [
    {
     "data": {
      "text/html": [
       "<div>\n",
       "<style scoped>\n",
       "    .dataframe tbody tr th:only-of-type {\n",
       "        vertical-align: middle;\n",
       "    }\n",
       "\n",
       "    .dataframe tbody tr th {\n",
       "        vertical-align: top;\n",
       "    }\n",
       "\n",
       "    .dataframe thead th {\n",
       "        text-align: right;\n",
       "    }\n",
       "</style>\n",
       "<table border=\"1\" class=\"dataframe\">\n",
       "  <thead>\n",
       "    <tr style=\"text-align: right;\">\n",
       "      <th></th>\n",
       "      <th>KNN8</th>\n",
       "      <th>Tree</th>\n",
       "      <th>Bayes</th>\n",
       "      <th>SVM</th>\n",
       "      <th>RandomF</th>\n",
       "      <th>Ada</th>\n",
       "      <th>Reglas</th>\n",
       "      <th>GBC</th>\n",
       "      <th>MLP100</th>\n",
       "      <th>MLP10</th>\n",
       "    </tr>\n",
       "  </thead>\n",
       "  <tbody>\n",
       "    <tr>\n",
       "      <th>RT_Espectros</th>\n",
       "      <td>0.600000</td>\n",
       "      <td>0.620000</td>\n",
       "      <td>0.600000</td>\n",
       "      <td>0.620000</td>\n",
       "      <td>0.700000</td>\n",
       "      <td>0.620000</td>\n",
       "      <td>0.510000</td>\n",
       "      <td>0.730000</td>\n",
       "      <td>0.730000</td>\n",
       "      <td>0.610000</td>\n",
       "    </tr>\n",
       "    <tr>\n",
       "      <th>A_Espectros</th>\n",
       "      <td>0.739048</td>\n",
       "      <td>0.653333</td>\n",
       "      <td>0.671905</td>\n",
       "      <td>0.762619</td>\n",
       "      <td>0.720238</td>\n",
       "      <td>0.741905</td>\n",
       "      <td>0.489524</td>\n",
       "      <td>0.744524</td>\n",
       "      <td>0.788095</td>\n",
       "      <td>0.734524</td>\n",
       "    </tr>\n",
       "    <tr>\n",
       "      <th>E_Espectros</th>\n",
       "      <td>0.715460</td>\n",
       "      <td>0.642118</td>\n",
       "      <td>0.670222</td>\n",
       "      <td>0.695131</td>\n",
       "      <td>0.665230</td>\n",
       "      <td>0.698194</td>\n",
       "      <td>0.514392</td>\n",
       "      <td>0.707824</td>\n",
       "      <td>0.686995</td>\n",
       "      <td>0.693539</td>\n",
       "    </tr>\n",
       "    <tr>\n",
       "      <th>I_Espectros</th>\n",
       "      <td>0.690481</td>\n",
       "      <td>0.669782</td>\n",
       "      <td>0.665850</td>\n",
       "      <td>0.712183</td>\n",
       "      <td>0.651432</td>\n",
       "      <td>0.691863</td>\n",
       "      <td>0.480405</td>\n",
       "      <td>0.680031</td>\n",
       "      <td>0.705656</td>\n",
       "      <td>0.697633</td>\n",
       "    </tr>\n",
       "    <tr>\n",
       "      <th>O_Espectros</th>\n",
       "      <td>0.668330</td>\n",
       "      <td>0.612336</td>\n",
       "      <td>0.615316</td>\n",
       "      <td>0.681766</td>\n",
       "      <td>0.662205</td>\n",
       "      <td>0.651271</td>\n",
       "      <td>0.503829</td>\n",
       "      <td>0.646843</td>\n",
       "      <td>0.680604</td>\n",
       "      <td>0.657670</td>\n",
       "    </tr>\n",
       "    <tr>\n",
       "      <th>U_Espectros</th>\n",
       "      <td>0.673692</td>\n",
       "      <td>0.586769</td>\n",
       "      <td>0.642615</td>\n",
       "      <td>0.686154</td>\n",
       "      <td>0.678615</td>\n",
       "      <td>0.634769</td>\n",
       "      <td>0.472154</td>\n",
       "      <td>0.610615</td>\n",
       "      <td>0.704923</td>\n",
       "      <td>0.670154</td>\n",
       "    </tr>\n",
       "    <tr>\n",
       "      <th>MEDIA</th>\n",
       "      <td>0.681168</td>\n",
       "      <td>0.630723</td>\n",
       "      <td>0.644318</td>\n",
       "      <td>0.692976</td>\n",
       "      <td>0.679620</td>\n",
       "      <td>0.673000</td>\n",
       "      <td>0.495051</td>\n",
       "      <td>0.686640</td>\n",
       "      <td>0.716046</td>\n",
       "      <td>0.677253</td>\n",
       "    </tr>\n",
       "  </tbody>\n",
       "</table>\n",
       "</div>"
      ],
      "text/plain": [
       "                  KNN8      Tree     Bayes  ...       GBC    MLP100     MLP10\n",
       "RT_Espectros  0.600000  0.620000  0.600000  ...  0.730000  0.730000  0.610000\n",
       "A_Espectros   0.739048  0.653333  0.671905  ...  0.744524  0.788095  0.734524\n",
       "E_Espectros   0.715460  0.642118  0.670222  ...  0.707824  0.686995  0.693539\n",
       "I_Espectros   0.690481  0.669782  0.665850  ...  0.680031  0.705656  0.697633\n",
       "O_Espectros   0.668330  0.612336  0.615316  ...  0.646843  0.680604  0.657670\n",
       "U_Espectros   0.673692  0.586769  0.642615  ...  0.610615  0.704923  0.670154\n",
       "MEDIA         0.681168  0.630723  0.644318  ...  0.686640  0.716046  0.677253\n",
       "\n",
       "[7 rows x 10 columns]"
      ]
     },
     "execution_count": 8,
     "metadata": {
      "tags": []
     },
     "output_type": "execute_result"
    }
   ],
   "source": [
    "ex.process_results(all_results, data_names, model_names, rep_type)"
   ]
  },
  {
   "cell_type": "code",
   "execution_count": 0,
   "metadata": {
    "colab": {
     "base_uri": "https://localhost:8080/",
     "height": 618
    },
    "colab_type": "code",
    "id": "vGImz3nRNYXl",
    "outputId": "d37dc5c8-ff50-48de-a6b4-c22bf392c2a9"
   },
   "outputs": [
    {
     "data": {
      "image/png": "[encoded data removed]",
      "text/plain": [
       "<Figure size 1296x648 with 1 Axes>"
      ]
     },
     "metadata": {
      "tags": []
     },
     "output_type": "display_data"
    }
   ],
   "source": [
    "ex.process_results(all_results, data_names, model_names, 'bar')"
   ]
  },
  {
   "cell_type": "markdown",
   "metadata": {
    "colab_type": "text",
    "id": "ZFSMjSYrNYX0"
   },
   "source": [
    "### 1.1.2 Acuracy -  atribs normalizados <a id=\"acunorm\"></a><a href=\"#index\"><i class=\"fa fa-list-alt\" aria-hidden=\"true\"></i></a>\n",
    "Mejor resultado: rt_espectros con MLP. Los 3 mejores:  MLPs, RF y ADA. **(0.78 rt_espectros con MLP100.)**. 0 por encima del 0.8. Resultados en la tónica de los obtenidos conresultados anteriores."
   ]
  },
  {
   "cell_type": "code",
   "execution_count": 0,
   "metadata": {
    "colab": {},
    "colab_type": "code",
    "id": "W4IhTz_fNYYB",
    "scrolled": true
   },
   "outputs": [],
   "source": [
    "ex = Experimenter()\n",
    "name_exp,num_folds = ex.get_datos_generales(experimento)\n",
    "data_names,data_X,data_y = ex.get_datasets(experimento, True) #Normalizamos\n",
    "model_names,models = ex.get_algoritmos(experimento)\n",
    "score,rep_type = ex.get_output_options(experimento)\n",
    "all_results = ex.cross_validate_all_models(data_names, data_X,data_y,models,num_folds,score)\n",
    "clear_output()"
   ]
  },
  {
   "cell_type": "code",
   "execution_count": 0,
   "metadata": {
    "colab": {
     "base_uri": "https://localhost:8080/"
    },
    "colab_type": "code",
    "id": "3-lTS0VkNYYS",
    "outputId": "c877ff03-bcb4-481c-cec8-cbb441bc711a",
    "scrolled": true
   },
   "outputs": [
    {
     "data": {
      "text/html": [
       "<div>\n",
       "<style scoped>\n",
       "    .dataframe tbody tr th:only-of-type {\n",
       "        vertical-align: middle;\n",
       "    }\n",
       "\n",
       "    .dataframe tbody tr th {\n",
       "        vertical-align: top;\n",
       "    }\n",
       "\n",
       "    .dataframe thead th {\n",
       "        text-align: right;\n",
       "    }\n",
       "</style>\n",
       "<table border=\"1\" class=\"dataframe\">\n",
       "  <thead>\n",
       "    <tr style=\"text-align: right;\">\n",
       "      <th></th>\n",
       "      <th>KNN8</th>\n",
       "      <th>Tree</th>\n",
       "      <th>Bayes</th>\n",
       "      <th>SVM</th>\n",
       "      <th>RandomF</th>\n",
       "      <th>Ada</th>\n",
       "      <th>Reglas</th>\n",
       "      <th>GBC</th>\n",
       "      <th>MLP100</th>\n",
       "      <th>MLP10</th>\n",
       "    </tr>\n",
       "  </thead>\n",
       "  <tbody>\n",
       "    <tr>\n",
       "      <th>RT_Espectros</th>\n",
       "      <td>0.680000</td>\n",
       "      <td>0.660000</td>\n",
       "      <td>0.600000</td>\n",
       "      <td>0.510000</td>\n",
       "      <td>0.750000</td>\n",
       "      <td>0.620000</td>\n",
       "      <td>0.510000</td>\n",
       "      <td>0.730000</td>\n",
       "      <td>0.780000</td>\n",
       "      <td>0.750000</td>\n",
       "    </tr>\n",
       "    <tr>\n",
       "      <th>A_Espectros</th>\n",
       "      <td>0.720000</td>\n",
       "      <td>0.649524</td>\n",
       "      <td>0.671905</td>\n",
       "      <td>0.689524</td>\n",
       "      <td>0.744524</td>\n",
       "      <td>0.741905</td>\n",
       "      <td>0.478571</td>\n",
       "      <td>0.758571</td>\n",
       "      <td>0.692143</td>\n",
       "      <td>0.674048</td>\n",
       "    </tr>\n",
       "    <tr>\n",
       "      <th>E_Espectros</th>\n",
       "      <td>0.726880</td>\n",
       "      <td>0.637956</td>\n",
       "      <td>0.670222</td>\n",
       "      <td>0.624737</td>\n",
       "      <td>0.644384</td>\n",
       "      <td>0.698194</td>\n",
       "      <td>0.464516</td>\n",
       "      <td>0.708071</td>\n",
       "      <td>0.690558</td>\n",
       "      <td>0.622340</td>\n",
       "    </tr>\n",
       "    <tr>\n",
       "      <th>I_Espectros</th>\n",
       "      <td>0.701829</td>\n",
       "      <td>0.644905</td>\n",
       "      <td>0.665850</td>\n",
       "      <td>0.640321</td>\n",
       "      <td>0.680647</td>\n",
       "      <td>0.691863</td>\n",
       "      <td>0.504648</td>\n",
       "      <td>0.676583</td>\n",
       "      <td>0.705004</td>\n",
       "      <td>0.694659</td>\n",
       "    </tr>\n",
       "    <tr>\n",
       "      <th>O_Espectros</th>\n",
       "      <td>0.653066</td>\n",
       "      <td>0.624171</td>\n",
       "      <td>0.615316</td>\n",
       "      <td>0.618712</td>\n",
       "      <td>0.646382</td>\n",
       "      <td>0.651271</td>\n",
       "      <td>0.533897</td>\n",
       "      <td>0.635009</td>\n",
       "      <td>0.615459</td>\n",
       "      <td>0.599459</td>\n",
       "    </tr>\n",
       "    <tr>\n",
       "      <th>U_Espectros</th>\n",
       "      <td>0.681692</td>\n",
       "      <td>0.614615</td>\n",
       "      <td>0.642615</td>\n",
       "      <td>0.670769</td>\n",
       "      <td>0.670462</td>\n",
       "      <td>0.634769</td>\n",
       "      <td>0.515846</td>\n",
       "      <td>0.627077</td>\n",
       "      <td>0.610769</td>\n",
       "      <td>0.638462</td>\n",
       "    </tr>\n",
       "    <tr>\n",
       "      <th>MEDIA</th>\n",
       "      <td>0.693911</td>\n",
       "      <td>0.638528</td>\n",
       "      <td>0.644318</td>\n",
       "      <td>0.625677</td>\n",
       "      <td>0.689400</td>\n",
       "      <td>0.673000</td>\n",
       "      <td>0.501246</td>\n",
       "      <td>0.689218</td>\n",
       "      <td>0.682322</td>\n",
       "      <td>0.663161</td>\n",
       "    </tr>\n",
       "  </tbody>\n",
       "</table>\n",
       "</div>"
      ],
      "text/plain": [
       "                  KNN8      Tree     Bayes  ...       GBC    MLP100     MLP10\n",
       "RT_Espectros  0.680000  0.660000  0.600000  ...  0.730000  0.780000  0.750000\n",
       "A_Espectros   0.720000  0.649524  0.671905  ...  0.758571  0.692143  0.674048\n",
       "E_Espectros   0.726880  0.637956  0.670222  ...  0.708071  0.690558  0.622340\n",
       "I_Espectros   0.701829  0.644905  0.665850  ...  0.676583  0.705004  0.694659\n",
       "O_Espectros   0.653066  0.624171  0.615316  ...  0.635009  0.615459  0.599459\n",
       "U_Espectros   0.681692  0.614615  0.642615  ...  0.627077  0.610769  0.638462\n",
       "MEDIA         0.693911  0.638528  0.644318  ...  0.689218  0.682322  0.663161\n",
       "\n",
       "[7 rows x 10 columns]"
      ]
     },
     "execution_count": 11,
     "metadata": {
      "tags": []
     },
     "output_type": "execute_result"
    }
   ],
   "source": [
    "ex.process_results(all_results, data_names, model_names, rep_type)"
   ]
  },
  {
   "cell_type": "code",
   "execution_count": 0,
   "metadata": {
    "colab": {
     "base_uri": "https://localhost:8080/",
     "height": 598
    },
    "colab_type": "code",
    "id": "V5YaEswxNYYh",
    "outputId": "b2814b6f-908e-42ba-f131-2973483c9a51",
    "scrolled": true
   },
   "outputs": [
    {
     "data": {
      "image/png": "[encoded data removed]",
      "text/plain": [
       "<Figure size 1296x648 with 1 Axes>"
      ]
     },
     "metadata": {
      "tags": []
     },
     "output_type": "display_data"
    }
   ],
   "source": [
    "ex.process_results(all_results, data_names, model_names, 'bar')"
   ]
  },
  {
   "cell_type": "code",
   "execution_count": 0,
   "metadata": {
    "colab": {},
    "colab_type": "code",
    "id": "9NIoqTafNYYx"
   },
   "outputs": [],
   "source": []
  },
  {
   "cell_type": "markdown",
   "metadata": {
    "colab_type": "text",
    "id": "B_z38YAeNYY2"
   },
   "source": [
    "### 1.1.3 Auc - sin modificar <a id=\"aucdef\"></a><a href=\"#index\"><i class=\"fa fa-list-alt\" aria-hidden=\"true\"></i></a>\n",
    "El que mejor funciona es A_espectrospor lo general, 5 clasificadores superan el 0.8 con este dataset.. Los 2 mejores son MLP y GBC y GBC **(0.84 A_espectros con MLP)**. Mejora la media de los resultados: 7 por encima del 0.8\n",
    "\n",
    "Resultados en torno a los obtenidos en anteriores experimentos pero sin llegar a los mejores (Ada-art_campana 0.88)."
   ]
  },
  {
   "cell_type": "code",
   "execution_count": 0,
   "metadata": {
    "colab": {},
    "colab_type": "code",
    "id": "9_qxTn8MNYY5",
    "scrolled": true
   },
   "outputs": [],
   "source": [
    "experimento['OUTPUT']['METRIC']='roc_auc'\n",
    "ex = Experimenter()\n",
    "name_exp,num_folds = ex.get_datos_generales(experimento)\n",
    "data_names,data_X,data_y = ex.get_datasets(experimento)\n",
    "model_names,models = ex.get_algoritmos(experimento)\n",
    "score,rep_type = ex.get_output_options(experimento)\n",
    "all_results = ex.cross_validate_all_models(data_names, data_X,data_y,models,num_folds,score)\n",
    "clear_output()"
   ]
  },
  {
   "cell_type": "code",
   "execution_count": 0,
   "metadata": {
    "colab": {
     "base_uri": "https://localhost:8080/"
    },
    "colab_type": "code",
    "id": "0r1yi-enNYZG",
    "outputId": "b31c73b0-4d14-4017-f890-23af50088b23",
    "scrolled": false
   },
   "outputs": [
    {
     "data": {
      "text/html": [
       "<div>\n",
       "<style scoped>\n",
       "    .dataframe tbody tr th:only-of-type {\n",
       "        vertical-align: middle;\n",
       "    }\n",
       "\n",
       "    .dataframe tbody tr th {\n",
       "        vertical-align: top;\n",
       "    }\n",
       "\n",
       "    .dataframe thead th {\n",
       "        text-align: right;\n",
       "    }\n",
       "</style>\n",
       "<table border=\"1\" class=\"dataframe\">\n",
       "  <thead>\n",
       "    <tr style=\"text-align: right;\">\n",
       "      <th></th>\n",
       "      <th>KNN8</th>\n",
       "      <th>Tree</th>\n",
       "      <th>Bayes</th>\n",
       "      <th>SVM</th>\n",
       "      <th>RandomF</th>\n",
       "      <th>Ada</th>\n",
       "      <th>Reglas</th>\n",
       "      <th>GBC</th>\n",
       "      <th>MLP100</th>\n",
       "      <th>MLP10</th>\n",
       "    </tr>\n",
       "  </thead>\n",
       "  <tbody>\n",
       "    <tr>\n",
       "      <th>RT_Espectros</th>\n",
       "      <td>0.614000</td>\n",
       "      <td>0.700000</td>\n",
       "      <td>0.670000</td>\n",
       "      <td>0.700000</td>\n",
       "      <td>0.828000</td>\n",
       "      <td>0.684000</td>\n",
       "      <td>0.460000</td>\n",
       "      <td>0.736000</td>\n",
       "      <td>0.792000</td>\n",
       "      <td>0.532000</td>\n",
       "    </tr>\n",
       "    <tr>\n",
       "      <th>A_Espectros</th>\n",
       "      <td>0.832698</td>\n",
       "      <td>0.673571</td>\n",
       "      <td>0.705340</td>\n",
       "      <td>0.806646</td>\n",
       "      <td>0.770150</td>\n",
       "      <td>0.801907</td>\n",
       "      <td>0.499048</td>\n",
       "      <td>0.829113</td>\n",
       "      <td>0.843644</td>\n",
       "      <td>0.806546</td>\n",
       "    </tr>\n",
       "    <tr>\n",
       "      <th>E_Espectros</th>\n",
       "      <td>0.783160</td>\n",
       "      <td>0.649524</td>\n",
       "      <td>0.699943</td>\n",
       "      <td>0.748823</td>\n",
       "      <td>0.731329</td>\n",
       "      <td>0.762102</td>\n",
       "      <td>0.457143</td>\n",
       "      <td>0.777138</td>\n",
       "      <td>0.713079</td>\n",
       "      <td>0.693646</td>\n",
       "    </tr>\n",
       "    <tr>\n",
       "      <th>I_Espectros</th>\n",
       "      <td>0.766251</td>\n",
       "      <td>0.620055</td>\n",
       "      <td>0.713980</td>\n",
       "      <td>0.780306</td>\n",
       "      <td>0.788759</td>\n",
       "      <td>0.738367</td>\n",
       "      <td>0.500934</td>\n",
       "      <td>0.744252</td>\n",
       "      <td>0.754796</td>\n",
       "      <td>0.746497</td>\n",
       "    </tr>\n",
       "    <tr>\n",
       "      <th>O_Espectros</th>\n",
       "      <td>0.726338</td>\n",
       "      <td>0.620696</td>\n",
       "      <td>0.668618</td>\n",
       "      <td>0.753254</td>\n",
       "      <td>0.710352</td>\n",
       "      <td>0.724176</td>\n",
       "      <td>0.514881</td>\n",
       "      <td>0.724768</td>\n",
       "      <td>0.717371</td>\n",
       "      <td>0.700465</td>\n",
       "    </tr>\n",
       "    <tr>\n",
       "      <th>U_Espectros</th>\n",
       "      <td>0.740064</td>\n",
       "      <td>0.608654</td>\n",
       "      <td>0.732988</td>\n",
       "      <td>0.757988</td>\n",
       "      <td>0.746721</td>\n",
       "      <td>0.667456</td>\n",
       "      <td>0.519231</td>\n",
       "      <td>0.693590</td>\n",
       "      <td>0.752761</td>\n",
       "      <td>0.710207</td>\n",
       "    </tr>\n",
       "    <tr>\n",
       "      <th>MEDIA</th>\n",
       "      <td>0.743752</td>\n",
       "      <td>0.645417</td>\n",
       "      <td>0.698478</td>\n",
       "      <td>0.757836</td>\n",
       "      <td>0.762552</td>\n",
       "      <td>0.729668</td>\n",
       "      <td>0.491873</td>\n",
       "      <td>0.750810</td>\n",
       "      <td>0.762275</td>\n",
       "      <td>0.698227</td>\n",
       "    </tr>\n",
       "  </tbody>\n",
       "</table>\n",
       "</div>"
      ],
      "text/plain": [
       "                  KNN8      Tree     Bayes  ...       GBC    MLP100     MLP10\n",
       "RT_Espectros  0.614000  0.700000  0.670000  ...  0.736000  0.792000  0.532000\n",
       "A_Espectros   0.832698  0.673571  0.705340  ...  0.829113  0.843644  0.806546\n",
       "E_Espectros   0.783160  0.649524  0.699943  ...  0.777138  0.713079  0.693646\n",
       "I_Espectros   0.766251  0.620055  0.713980  ...  0.744252  0.754796  0.746497\n",
       "O_Espectros   0.726338  0.620696  0.668618  ...  0.724768  0.717371  0.700465\n",
       "U_Espectros   0.740064  0.608654  0.732988  ...  0.693590  0.752761  0.710207\n",
       "MEDIA         0.743752  0.645417  0.698478  ...  0.750810  0.762275  0.698227\n",
       "\n",
       "[7 rows x 10 columns]"
      ]
     },
     "execution_count": 14,
     "metadata": {
      "tags": []
     },
     "output_type": "execute_result"
    }
   ],
   "source": [
    "ex.process_results(all_results, data_names, model_names, rep_type)"
   ]
  },
  {
   "cell_type": "code",
   "execution_count": 0,
   "metadata": {
    "colab": {
     "base_uri": "https://localhost:8080/"
    },
    "colab_type": "code",
    "id": "olyBdWjYNYZV",
    "outputId": "b6245acc-584e-4b02-fbe5-e5126037e1bd",
    "scrolled": true
   },
   "outputs": [
    {
     "data": {
      "image/png": "[encoded data removed]",
      "text/plain": [
       "<Figure size 1296x648 with 1 Axes>"
      ]
     },
     "metadata": {
      "tags": []
     },
     "output_type": "display_data"
    }
   ],
   "source": [
    "ex.process_results(all_results, data_names, model_names, 'bar')"
   ]
  },
  {
   "cell_type": "code",
   "execution_count": 0,
   "metadata": {
    "colab": {},
    "colab_type": "code",
    "id": "eGOU0LbLNYZi"
   },
   "outputs": [],
   "source": []
  },
  {
   "cell_type": "markdown",
   "metadata": {
    "colab_type": "text",
    "id": "o6Gmd8i5NYZs"
   },
   "source": [
    "### 1.1.4  Auc - Normalizados <a id=\"aucnorm\"></a><a href=\"#index\"><i class=\"fa fa-list-alt\" aria-hidden=\"true\"></i></a>\n",
    "Resultados mejores con los espectros de read-text y de la vocal A, con MLP, ADA y GBC siguiendo la magnitud de los resultados de anteriores experimentos.\n",
    "\n",
    " 6 están por encima del 0.8. Mejor son MLP con diferencia y le sigue Gbc en algunos datasets.. Resultados del orden de los más normales: **(0.82 GBC-A_espectros)**, el mejor hasta ahora era GB-art_campana 0.89.\n"
   ]
  },
  {
   "cell_type": "code",
   "execution_count": 0,
   "metadata": {
    "colab": {},
    "colab_type": "code",
    "id": "yGblZGDXNYZ1"
   },
   "outputs": [],
   "source": [
    "ex = Experimenter()\n",
    "name_exp,num_folds = ex.get_datos_generales(experimento)\n",
    "data_names,data_X,data_y = ex.get_datasets(experimento, True)\n",
    "model_names,models = ex.get_algoritmos(experimento)\n",
    "score,rep_type = ex.get_output_options(experimento)\n",
    "all_results = ex.cross_validate_all_models(data_names, data_X,data_y,models,num_folds,score)\n",
    "clear_output()"
   ]
  },
  {
   "cell_type": "code",
   "execution_count": 0,
   "metadata": {
    "colab": {
     "base_uri": "https://localhost:8080/"
    },
    "colab_type": "code",
    "id": "5yKSKh4yNYaN",
    "outputId": "8a72d747-1737-4350-952c-d5a683547b8f",
    "scrolled": true
   },
   "outputs": [
    {
     "data": {
      "text/html": [
       "<div>\n",
       "<style scoped>\n",
       "    .dataframe tbody tr th:only-of-type {\n",
       "        vertical-align: middle;\n",
       "    }\n",
       "\n",
       "    .dataframe tbody tr th {\n",
       "        vertical-align: top;\n",
       "    }\n",
       "\n",
       "    .dataframe thead th {\n",
       "        text-align: right;\n",
       "    }\n",
       "</style>\n",
       "<table border=\"1\" class=\"dataframe\">\n",
       "  <thead>\n",
       "    <tr style=\"text-align: right;\">\n",
       "      <th></th>\n",
       "      <th>KNN8</th>\n",
       "      <th>Tree</th>\n",
       "      <th>Bayes</th>\n",
       "      <th>SVM</th>\n",
       "      <th>RandomF</th>\n",
       "      <th>Ada</th>\n",
       "      <th>Reglas</th>\n",
       "      <th>GBC</th>\n",
       "      <th>MLP100</th>\n",
       "      <th>MLP10</th>\n",
       "    </tr>\n",
       "  </thead>\n",
       "  <tbody>\n",
       "    <tr>\n",
       "      <th>RT_Espectros</th>\n",
       "      <td>0.686000</td>\n",
       "      <td>0.660000</td>\n",
       "      <td>0.674000</td>\n",
       "      <td>0.540000</td>\n",
       "      <td>0.784000</td>\n",
       "      <td>0.656000</td>\n",
       "      <td>0.610000</td>\n",
       "      <td>0.728000</td>\n",
       "      <td>0.804000</td>\n",
       "      <td>0.816000</td>\n",
       "    </tr>\n",
       "    <tr>\n",
       "      <th>A_Espectros</th>\n",
       "      <td>0.818685</td>\n",
       "      <td>0.632143</td>\n",
       "      <td>0.706451</td>\n",
       "      <td>0.688601</td>\n",
       "      <td>0.735891</td>\n",
       "      <td>0.801907</td>\n",
       "      <td>0.460238</td>\n",
       "      <td>0.829937</td>\n",
       "      <td>0.778206</td>\n",
       "      <td>0.744417</td>\n",
       "    </tr>\n",
       "    <tr>\n",
       "      <th>E_Espectros</th>\n",
       "      <td>0.814372</td>\n",
       "      <td>0.653095</td>\n",
       "      <td>0.699943</td>\n",
       "      <td>0.695043</td>\n",
       "      <td>0.784356</td>\n",
       "      <td>0.762102</td>\n",
       "      <td>0.498810</td>\n",
       "      <td>0.794955</td>\n",
       "      <td>0.734435</td>\n",
       "      <td>0.627628</td>\n",
       "    </tr>\n",
       "    <tr>\n",
       "      <th>I_Espectros</th>\n",
       "      <td>0.785459</td>\n",
       "      <td>0.644304</td>\n",
       "      <td>0.713980</td>\n",
       "      <td>0.705850</td>\n",
       "      <td>0.744201</td>\n",
       "      <td>0.738367</td>\n",
       "      <td>0.480495</td>\n",
       "      <td>0.750918</td>\n",
       "      <td>0.786319</td>\n",
       "      <td>0.779702</td>\n",
       "    </tr>\n",
       "    <tr>\n",
       "      <th>O_Espectros</th>\n",
       "      <td>0.695217</td>\n",
       "      <td>0.609112</td>\n",
       "      <td>0.668618</td>\n",
       "      <td>0.674091</td>\n",
       "      <td>0.744844</td>\n",
       "      <td>0.724176</td>\n",
       "      <td>0.483425</td>\n",
       "      <td>0.726796</td>\n",
       "      <td>0.678416</td>\n",
       "      <td>0.663412</td>\n",
       "    </tr>\n",
       "    <tr>\n",
       "      <th>U_Espectros</th>\n",
       "      <td>0.737451</td>\n",
       "      <td>0.558974</td>\n",
       "      <td>0.732988</td>\n",
       "      <td>0.722633</td>\n",
       "      <td>0.733383</td>\n",
       "      <td>0.667456</td>\n",
       "      <td>0.471795</td>\n",
       "      <td>0.696795</td>\n",
       "      <td>0.705868</td>\n",
       "      <td>0.693343</td>\n",
       "    </tr>\n",
       "    <tr>\n",
       "      <th>MEDIA</th>\n",
       "      <td>0.756197</td>\n",
       "      <td>0.626271</td>\n",
       "      <td>0.699330</td>\n",
       "      <td>0.671036</td>\n",
       "      <td>0.754446</td>\n",
       "      <td>0.725001</td>\n",
       "      <td>0.500794</td>\n",
       "      <td>0.754567</td>\n",
       "      <td>0.747874</td>\n",
       "      <td>0.720750</td>\n",
       "    </tr>\n",
       "  </tbody>\n",
       "</table>\n",
       "</div>"
      ],
      "text/plain": [
       "                  KNN8      Tree     Bayes  ...       GBC    MLP100     MLP10\n",
       "RT_Espectros  0.686000  0.660000  0.674000  ...  0.728000  0.804000  0.816000\n",
       "A_Espectros   0.818685  0.632143  0.706451  ...  0.829937  0.778206  0.744417\n",
       "E_Espectros   0.814372  0.653095  0.699943  ...  0.794955  0.734435  0.627628\n",
       "I_Espectros   0.785459  0.644304  0.713980  ...  0.750918  0.786319  0.779702\n",
       "O_Espectros   0.695217  0.609112  0.668618  ...  0.726796  0.678416  0.663412\n",
       "U_Espectros   0.737451  0.558974  0.732988  ...  0.696795  0.705868  0.693343\n",
       "MEDIA         0.756197  0.626271  0.699330  ...  0.754567  0.747874  0.720750\n",
       "\n",
       "[7 rows x 10 columns]"
      ]
     },
     "execution_count": 17,
     "metadata": {
      "tags": []
     },
     "output_type": "execute_result"
    }
   ],
   "source": [
    "ex.process_results(all_results, data_names, model_names, rep_type)"
   ]
  },
  {
   "cell_type": "code",
   "execution_count": 0,
   "metadata": {
    "colab": {
     "base_uri": "https://localhost:8080/",
     "height": 618
    },
    "colab_type": "code",
    "id": "jLAyoOh-NYaX",
    "outputId": "c3f1f767-61d9-4709-b15a-f4e227b2516c",
    "scrolled": true
   },
   "outputs": [
    {
     "data": {
      "image/png": "[encoded data removed]",
      "text/plain": [
       "<Figure size 1296x648 with 1 Axes>"
      ]
     },
     "metadata": {
      "tags": []
     },
     "output_type": "display_data"
    }
   ],
   "source": [
    "ex.process_results(all_results, data_names, model_names, 'bar')"
   ]
  },
  {
   "cell_type": "markdown",
   "metadata": {
    "colab_type": "text",
    "id": "JkfZ3vIvNYay"
   },
   "source": [
    "---"
   ]
  },
  {
   "cell_type": "markdown",
   "metadata": {
    "colab_type": "text",
    "id": "juYs1LJ0NYa3"
   },
   "source": [
    "## 1.2 Grid Search Orozco <a id=\"gssvm\"></a><a href=\"#index\"><i class=\"fa fa-list-alt\" aria-hidden=\"true\"></i></a>\n",
    "SCORING:AUC.  **Mejores resultados normalizando**.\n",
    "\n",
    "Los resultados obtenidos son del **orden de los mejores con este experimento hasta el momento, al igual que los embeddings** Sin embargo los embbedings llegan hasta 0.87 y con los espectros llegamos al 0.86. Hemos añadido el valor 'auto' al parámetro gamma. Orozco no lo hace, pero consideramos que por esto ha sido la mejora de los resultados.\n",
    "\n",
    "En anteriores experimentos solo se llegaba al 0.77 como mucho. **En este caso el mejor resultado se obtiene para los espectros de la vocal A con un AUC de 0.86**"
   ]
  },
  {
   "cell_type": "code",
   "execution_count": 0,
   "metadata": {
    "colab": {},
    "colab_type": "code",
    "id": "q0Lszk85NYbG"
   },
   "outputs": [],
   "source": [
    "def best_to_panda(mej):\n",
    "    return pd.DataFrame.from_dict(mej, orient='index',columns=['SCORE']).sort_values(by=['SCORE'], ascending=False)"
   ]
  },
  {
   "cell_type": "code",
   "execution_count": 0,
   "metadata": {
    "colab": {},
    "colab_type": "code",
    "id": "vLh7yAWINYbM",
    "scrolled": false
   },
   "outputs": [],
   "source": [
    "ex = Experimenter()\n",
    "param_grid = [\n",
    "      {'C': [1,10,20,50,100,200,500,1000,5000,10000], 'kernel': ['rbf','linear'], 'gamma' : ['auto',1,10,20,50,100,200,500,1000]},\n",
    " ]\n",
    "\n",
    "bestsOrz = ex.GridSearchPipe(cargaDatosVggishEspectros,svm.SVC(),param_grid, verbose=True, normalizar=True)\n",
    "clear_output()"
   ]
  },
  {
   "cell_type": "code",
   "execution_count": 0,
   "metadata": {
    "colab": {
     "base_uri": "https://localhost:8080/",
     "height": 235
    },
    "colab_type": "code",
    "id": "K8Fvdw26NYbS",
    "outputId": "8c24c233-3a3f-492a-faf5-eb8a77175bd9"
   },
   "outputs": [
    {
     "data": {
      "text/html": [
       "<div>\n",
       "<style scoped>\n",
       "    .dataframe tbody tr th:only-of-type {\n",
       "        vertical-align: middle;\n",
       "    }\n",
       "\n",
       "    .dataframe tbody tr th {\n",
       "        vertical-align: top;\n",
       "    }\n",
       "\n",
       "    .dataframe thead th {\n",
       "        text-align: right;\n",
       "    }\n",
       "</style>\n",
       "<table border=\"1\" class=\"dataframe\">\n",
       "  <thead>\n",
       "    <tr style=\"text-align: right;\">\n",
       "      <th></th>\n",
       "      <th>SCORE</th>\n",
       "    </tr>\n",
       "  </thead>\n",
       "  <tbody>\n",
       "    <tr>\n",
       "      <th>vggish_espec_v_A</th>\n",
       "      <td>0.861816</td>\n",
       "    </tr>\n",
       "    <tr>\n",
       "      <th>vggish_espec_rt</th>\n",
       "      <td>0.828000</td>\n",
       "    </tr>\n",
       "    <tr>\n",
       "      <th>vggish_espec_v_U</th>\n",
       "      <td>0.802465</td>\n",
       "    </tr>\n",
       "    <tr>\n",
       "      <th>vggish_espec_v_E</th>\n",
       "      <td>0.801664</td>\n",
       "    </tr>\n",
       "    <tr>\n",
       "      <th>vggish_espec_v_I</th>\n",
       "      <td>0.781054</td>\n",
       "    </tr>\n",
       "    <tr>\n",
       "      <th>vggish_espec_v_O</th>\n",
       "      <td>0.763046</td>\n",
       "    </tr>\n",
       "  </tbody>\n",
       "</table>\n",
       "</div>"
      ],
      "text/plain": [
       "                     SCORE\n",
       "vggish_espec_v_A  0.861816\n",
       "vggish_espec_rt   0.828000\n",
       "vggish_espec_v_U  0.802465\n",
       "vggish_espec_v_E  0.801664\n",
       "vggish_espec_v_I  0.781054\n",
       "vggish_espec_v_O  0.763046"
      ]
     },
     "execution_count": 21,
     "metadata": {
      "tags": []
     },
     "output_type": "execute_result"
    }
   ],
   "source": [
    "best_to_panda(bestsOrz)"
   ]
  },
  {
   "cell_type": "markdown",
   "metadata": {
    "colab_type": "text",
    "id": "vP6_a_kMNYbY"
   },
   "source": [
    "### 1.2.B [Apartado Formativo] Recalcar importancia de bísqueda de parámetros. <a id=\"GSfrom\"></a><a href=\"#index\"><i class=\"fa fa-list-alt\" aria-hidden=\"true\"></i></a>\n",
    "Compararemos los resultados para un dataset concreto con búsqueda de parámetros y con params por defecto.**Vemos como tiene un incremento de 19% en ROC** debido a la optimización de parámteros."
   ]
  },
  {
   "cell_type": "markdown",
   "metadata": {
    "colab_type": "text",
    "id": "HzVaClAKNYbZ"
   },
   "source": [
    "#### Busqueda de parametros"
   ]
  },
  {
   "cell_type": "code",
   "execution_count": 0,
   "metadata": {
    "colab": {},
    "colab_type": "code",
    "id": "whmBUKyWNYbd"
   },
   "outputs": [],
   "source": [
    "#Definimos pipeline y malla de parametros\n",
    "param_grid = [\n",
    "      {'clf__C': [1,10,20,100,500,1000,5000,10000], 'clf__kernel': ['rbf'], 'clf__gamma' : ['auto',1,10,20,50,200,1000]},\n",
    " ]\n",
    "pip = Pipeline([('select', MinMaxScaler()), ('clf', svm.SVC())])\n"
   ]
  },
  {
   "cell_type": "code",
   "execution_count": 0,
   "metadata": {
    "colab": {},
    "colab_type": "code",
    "id": "6MNXzMEYNYbn"
   },
   "outputs": [],
   "source": [
    "#Cargamos los datos\n",
    "loader = cargaDatosVggishEspectros\n",
    "conjunto = loader.load_vggish_espec_rt()\n",
    "X = conjunto.data\n",
    "y = conjunto.target\n",
    "\n",
    "#Creamos el objeto gridSearch\n",
    "clf = GridSearchCV(pip, cv=10, param_grid=param_grid, scoring = 'roc_auc')"
   ]
  },
  {
   "cell_type": "code",
   "execution_count": 0,
   "metadata": {
    "colab": {
     "base_uri": "https://localhost:8080/"
    },
    "colab_type": "code",
    "id": "0qNtAtgzNYbs",
    "outputId": "9d58815a-3d78-4fab-a86f-2fe85b671dac"
   },
   "outputs": [
    {
     "data": {
      "text/plain": [
       "0.8400000000000001"
      ]
     },
     "execution_count": 24,
     "metadata": {
      "tags": []
     },
     "output_type": "execute_result"
    }
   ],
   "source": [
    "#Calculamos roc, de esta manera hace nested-CV\n",
    "cross_val_score(clf,X,y,cv=10,scoring='roc_auc').mean()"
   ]
  },
  {
   "cell_type": "markdown",
   "metadata": {
    "colab_type": "text",
    "id": "zS_gw9hfNYbx"
   },
   "source": [
    "#### Calculo CV con parametros por defecto de SVC \n",
    "**Los parametros por defecto ya estaban en el param_grid (C=1, kernel=rbf, gamma='auto').** Por ello se supone que si ha optimizado parametros en el anterior caso, el anterior resultado deberá ser mejor o como mucho igual a este, en el caso de que los parámetros óptimos hayan sido los de por defecto."
   ]
  },
  {
   "cell_type": "code",
   "execution_count": 0,
   "metadata": {
    "colab": {},
    "colab_type": "code",
    "id": "EaiXT8pVNYbz"
   },
   "outputs": [],
   "source": [
    "#Definimos pipeline para hacer CVscore con valores por defecto SVC (C=1, kernel=rbf, gamma='auto')\n",
    "pip = Pipeline([('select', MinMaxScaler()), ('clf', svm.SVC())])\n",
    "\n",
    "#Cargamos los datos\n",
    "loader = cargaDatosVggishEspectros\n",
    "conjunto = loader.load_vggish_espec_rt()\n",
    "X = conjunto.data\n",
    "y = conjunto.target"
   ]
  },
  {
   "cell_type": "code",
   "execution_count": 0,
   "metadata": {
    "colab": {
     "base_uri": "https://localhost:8080/",
     "height": 34
    },
    "colab_type": "code",
    "id": "bembH2UaNYb3",
    "outputId": "d30744a2-1f71-483a-9735-27f84df30a4f"
   },
   "outputs": [
    {
     "data": {
      "text/plain": [
       "0.5599999999999999"
      ]
     },
     "execution_count": 26,
     "metadata": {
      "tags": []
     },
     "output_type": "execute_result"
    }
   ],
   "source": [
    "cross_val_score(pip,X,y,cv=10,scoring='roc_auc').mean()"
   ]
  },
  {
   "cell_type": "code",
   "execution_count": 0,
   "metadata": {
    "colab": {},
    "colab_type": "code",
    "id": "u1SQ2TBYNYcF"
   },
   "outputs": [],
   "source": []
  },
  {
   "cell_type": "markdown",
   "metadata": {
    "colab_type": "text",
    "id": "WGwlnN6HNYcJ"
   },
   "source": [
    "---"
   ]
  },
  {
   "cell_type": "markdown",
   "metadata": {
    "colab_type": "text",
    "id": "EVMBuQnTNYcL"
   },
   "source": [
    "## 1.3 Variance Treshold <a id=\"vtres\"></a><a href=\"#index\"><i class=\"fa fa-list-alt\" aria-hidden=\"true\"></i></a>\n",
    "Mejor resultado: **GBC - A_espectros: 0.83**. Resultados normales en el orden de anteriores pero sin acercarse a los mejores resultados conseguidos hasta ahora en este experimento (0.88 - mujeres_w_campana)."
   ]
  },
  {
   "cell_type": "code",
   "execution_count": 0,
   "metadata": {
    "colab": {},
    "colab_type": "code",
    "id": "GLX7BXXdNYcP"
   },
   "outputs": [],
   "source": [
    "modulo = cargaDatosVggishEspectros"
   ]
  },
  {
   "cell_type": "code",
   "execution_count": 0,
   "metadata": {
    "colab": {},
    "colab_type": "code",
    "id": "9D1rFkxdNYcV"
   },
   "outputs": [],
   "source": [
    "def seleccion_atribs_pipe(modulo, selector, clsf):\n",
    "    res=[]\n",
    "    for dtst in [ d for d in dir(modulo) if d.startswith('load')]:\n",
    "        datos = getattr(modulo, dtst)()\n",
    "        X = datos.data\n",
    "        y = datos.target\n",
    "        params = 'chi2, k=19' if selector == 'SelectKBest' else ''\n",
    "        estimators = [('norm',MinMaxScaler()),('feat_sel', eval(selector+'('+params+')')), ('clf', eval(clsf+'()'))]\n",
    "        pipe = Pipeline(estimators)\n",
    "        sc=cross_val_score(pipe, X, y, cv=10, scoring='roc_auc').mean()\n",
    "        res.append(sc)\n",
    "    return res"
   ]
  },
  {
   "cell_type": "code",
   "execution_count": 0,
   "metadata": {
    "colab": {
     "base_uri": "https://localhost:8080/"
    },
    "colab_type": "code",
    "id": "FxUF71oKNYca",
    "outputId": "63a70c43-47c4-4924-f610-fe562f08262e",
    "scrolled": true
   },
   "outputs": [
    {
     "data": {
      "text/html": [
       "<div>\n",
       "<style scoped>\n",
       "    .dataframe tbody tr th:only-of-type {\n",
       "        vertical-align: middle;\n",
       "    }\n",
       "\n",
       "    .dataframe tbody tr th {\n",
       "        vertical-align: top;\n",
       "    }\n",
       "\n",
       "    .dataframe thead th {\n",
       "        text-align: right;\n",
       "    }\n",
       "</style>\n",
       "<table border=\"1\" class=\"dataframe\">\n",
       "  <thead>\n",
       "    <tr style=\"text-align: right;\">\n",
       "      <th></th>\n",
       "      <th>AdaBoos</th>\n",
       "      <th>Gradien</th>\n",
       "      <th>svm.SVC</th>\n",
       "      <th>MLPClas</th>\n",
       "    </tr>\n",
       "  </thead>\n",
       "  <tbody>\n",
       "    <tr>\n",
       "      <th>vggish_espec_rt</th>\n",
       "      <td>0.684000</td>\n",
       "      <td>0.732000</td>\n",
       "      <td>0.560000</td>\n",
       "      <td>0.792000</td>\n",
       "    </tr>\n",
       "    <tr>\n",
       "      <th>vggish_espec_v_A</th>\n",
       "      <td>0.801907</td>\n",
       "      <td>0.831664</td>\n",
       "      <td>0.689111</td>\n",
       "      <td>0.770569</td>\n",
       "    </tr>\n",
       "    <tr>\n",
       "      <th>vggish_espec_v_E</th>\n",
       "      <td>0.762102</td>\n",
       "      <td>0.788277</td>\n",
       "      <td>0.692562</td>\n",
       "      <td>0.710991</td>\n",
       "    </tr>\n",
       "    <tr>\n",
       "      <th>vggish_espec_v_I</th>\n",
       "      <td>0.738367</td>\n",
       "      <td>0.749218</td>\n",
       "      <td>0.714728</td>\n",
       "      <td>0.792177</td>\n",
       "    </tr>\n",
       "    <tr>\n",
       "      <th>vggish_espec_v_O</th>\n",
       "      <td>0.724176</td>\n",
       "      <td>0.733686</td>\n",
       "      <td>0.672316</td>\n",
       "      <td>0.673429</td>\n",
       "    </tr>\n",
       "    <tr>\n",
       "      <th>vggish_espec_v_U</th>\n",
       "      <td>0.667456</td>\n",
       "      <td>0.698570</td>\n",
       "      <td>0.720661</td>\n",
       "      <td>0.713757</td>\n",
       "    </tr>\n",
       "  </tbody>\n",
       "</table>\n",
       "</div>"
      ],
      "text/plain": [
       "                   AdaBoos   Gradien   svm.SVC   MLPClas\n",
       "vggish_espec_rt   0.684000  0.732000  0.560000  0.792000\n",
       "vggish_espec_v_A  0.801907  0.831664  0.689111  0.770569\n",
       "vggish_espec_v_E  0.762102  0.788277  0.692562  0.710991\n",
       "vggish_espec_v_I  0.738367  0.749218  0.714728  0.792177\n",
       "vggish_espec_v_O  0.724176  0.733686  0.672316  0.673429\n",
       "vggish_espec_v_U  0.667456  0.698570  0.720661  0.713757"
      ]
     },
     "execution_count": 29,
     "metadata": {
      "tags": []
     },
     "output_type": "execute_result"
    }
   ],
   "source": [
    "df_VT = pd.DataFrame(index=[ d[5:] for d in dir(modulo) if d.startswith('load')])\n",
    "clasificadores = ['AdaBoostClassifier', 'GradientBoostingClassifier', 'svm.SVC', 'MLPClassifier']\n",
    "for clf in clasificadores:\n",
    "    res= seleccion_atribs_pipe(modulo, 'VarianceThreshold',clf)\n",
    "    df_VT[clf[:7]]= pd.DataFrame(res,[ d[5:] for d in dir(modulo) if d.startswith('load')],columns=[clf[:7]])\n",
    "df_VT"
   ]
  },
  {
   "cell_type": "code",
   "execution_count": 0,
   "metadata": {
    "colab": {
     "base_uri": "https://localhost:8080/",
     "height": 659
    },
    "colab_type": "code",
    "id": "VD-7ilWnNYcg",
    "outputId": "8d6803b6-cd10-43d0-e64e-5cf346d79311",
    "scrolled": true
   },
   "outputs": [
    {
     "data": {
      "text/plain": [
       "<matplotlib.legend.Legend at 0x7f2e50d6b278>"
      ]
     },
     "execution_count": 30,
     "metadata": {
      "tags": []
     },
     "output_type": "execute_result"
    },
    {
     "data": {
      "image/png": "[encoded data removed]",
      "text/plain": [
       "<Figure size 1296x648 with 1 Axes>"
      ]
     },
     "metadata": {
      "tags": []
     },
     "output_type": "display_data"
    }
   ],
   "source": [
    "df_VT.plot(kind='bar', ylim=(0,1), figsize=(18,9)).legend(bbox_to_anchor=(1.2, 0.5))"
   ]
  },
  {
   "cell_type": "code",
   "execution_count": 0,
   "metadata": {
    "colab": {},
    "colab_type": "code",
    "id": "T3KjfcxLNYcm"
   },
   "outputs": [],
   "source": []
  },
  {
   "cell_type": "markdown",
   "metadata": {
    "colab_type": "text",
    "id": "D6p71-KdNYcs"
   },
   "source": [
    "---"
   ]
  },
  {
   "cell_type": "markdown",
   "metadata": {
    "colab_type": "text",
    "id": "uarvXxycNYct"
   },
   "source": [
    "## 1.4 SKBEST <a id=\"skbest\"></a><a href=\"#index\"><i class=\"fa fa-list-alt\" aria-hidden=\"true\"></i></a>\n",
    "Mejor resultado: **MLP - A_espectros: 0.76**. Resultados normales en el orden de anteriores pero sin acercarse a los mejores resultados conseguidos hasta ahora en este experimento (0.83 hombres_w_gat)."
   ]
  },
  {
   "cell_type": "code",
   "execution_count": 0,
   "metadata": {
    "colab": {
     "base_uri": "https://localhost:8080/"
    },
    "colab_type": "code",
    "id": "aRU0621eNYcu",
    "outputId": "e76eaa00-3fb4-4f47-d0ea-c13b5b56691a",
    "scrolled": true
   },
   "outputs": [
    {
     "data": {
      "text/html": [
       "<div>\n",
       "<style scoped>\n",
       "    .dataframe tbody tr th:only-of-type {\n",
       "        vertical-align: middle;\n",
       "    }\n",
       "\n",
       "    .dataframe tbody tr th {\n",
       "        vertical-align: top;\n",
       "    }\n",
       "\n",
       "    .dataframe thead th {\n",
       "        text-align: right;\n",
       "    }\n",
       "</style>\n",
       "<table border=\"1\" class=\"dataframe\">\n",
       "  <thead>\n",
       "    <tr style=\"text-align: right;\">\n",
       "      <th></th>\n",
       "      <th>AdaBoos</th>\n",
       "      <th>Gradien</th>\n",
       "      <th>svm.SVC</th>\n",
       "      <th>MLPClas</th>\n",
       "    </tr>\n",
       "  </thead>\n",
       "  <tbody>\n",
       "    <tr>\n",
       "      <th>vggish_espec_rt</th>\n",
       "      <td>0.560000</td>\n",
       "      <td>0.728000</td>\n",
       "      <td>0.596000</td>\n",
       "      <td>0.612000</td>\n",
       "    </tr>\n",
       "    <tr>\n",
       "      <th>vggish_espec_v_A</th>\n",
       "      <td>0.720830</td>\n",
       "      <td>0.747902</td>\n",
       "      <td>0.725485</td>\n",
       "      <td>0.761893</td>\n",
       "    </tr>\n",
       "    <tr>\n",
       "      <th>vggish_espec_v_E</th>\n",
       "      <td>0.704029</td>\n",
       "      <td>0.736447</td>\n",
       "      <td>0.697215</td>\n",
       "      <td>0.689964</td>\n",
       "    </tr>\n",
       "    <tr>\n",
       "      <th>vggish_espec_v_I</th>\n",
       "      <td>0.692263</td>\n",
       "      <td>0.700971</td>\n",
       "      <td>0.688668</td>\n",
       "      <td>0.729139</td>\n",
       "    </tr>\n",
       "    <tr>\n",
       "      <th>vggish_espec_v_O</th>\n",
       "      <td>0.681727</td>\n",
       "      <td>0.690342</td>\n",
       "      <td>0.639567</td>\n",
       "      <td>0.647513</td>\n",
       "    </tr>\n",
       "    <tr>\n",
       "      <th>vggish_espec_v_U</th>\n",
       "      <td>0.710996</td>\n",
       "      <td>0.700690</td>\n",
       "      <td>0.696400</td>\n",
       "      <td>0.696795</td>\n",
       "    </tr>\n",
       "  </tbody>\n",
       "</table>\n",
       "</div>"
      ],
      "text/plain": [
       "                   AdaBoos   Gradien   svm.SVC   MLPClas\n",
       "vggish_espec_rt   0.560000  0.728000  0.596000  0.612000\n",
       "vggish_espec_v_A  0.720830  0.747902  0.725485  0.761893\n",
       "vggish_espec_v_E  0.704029  0.736447  0.697215  0.689964\n",
       "vggish_espec_v_I  0.692263  0.700971  0.688668  0.729139\n",
       "vggish_espec_v_O  0.681727  0.690342  0.639567  0.647513\n",
       "vggish_espec_v_U  0.710996  0.700690  0.696400  0.696795"
      ]
     },
     "execution_count": 31,
     "metadata": {
      "tags": []
     },
     "output_type": "execute_result"
    }
   ],
   "source": [
    "df_SK = pd.DataFrame(index=[ d[5:] for d in dir(modulo) if d.startswith('load')])\n",
    "clasificadores = ['AdaBoostClassifier', 'GradientBoostingClassifier', 'svm.SVC', 'MLPClassifier']\n",
    "for clf in clasificadores:\n",
    "    res= seleccion_atribs_pipe(modulo, 'SelectKBest',clf)\n",
    "    df_SK[clf[:7]]= pd.DataFrame(res,[ d[5:] for d in dir(modulo) if d.startswith('load')],columns=[clf[:7]])\n",
    "df_SK"
   ]
  },
  {
   "cell_type": "code",
   "execution_count": 0,
   "metadata": {
    "colab": {
     "base_uri": "https://localhost:8080/",
     "height": 659
    },
    "colab_type": "code",
    "id": "KeO4cycyNYc1",
    "outputId": "7229e3cc-8a71-4807-dc7c-b607107edd53",
    "scrolled": true
   },
   "outputs": [
    {
     "data": {
      "text/plain": [
       "<matplotlib.legend.Legend at 0x7f2e50cab470>"
      ]
     },
     "execution_count": 32,
     "metadata": {
      "tags": []
     },
     "output_type": "execute_result"
    },
    {
     "data": {
      "image/png": "[encoded data removed]",
      "text/plain": [
       "<Figure size 1296x648 with 1 Axes>"
      ]
     },
     "metadata": {
      "tags": []
     },
     "output_type": "display_data"
    }
   ],
   "source": [
    "df_SK.plot(kind='bar', ylim=(0,1), figsize=(18,9)).legend(bbox_to_anchor=(1.2, 0.5))"
   ]
  },
  {
   "cell_type": "code",
   "execution_count": 0,
   "metadata": {
    "colab": {},
    "colab_type": "code",
    "id": "Sh9shuycNYc-"
   },
   "outputs": [],
   "source": []
  },
  {
   "cell_type": "markdown",
   "metadata": {
    "colab_type": "text",
    "id": "VRkzy0usNYdF"
   },
   "source": [
    "---"
   ]
  },
  {
   "cell_type": "markdown",
   "metadata": {
    "colab_type": "text",
    "id": "uCQe8TOgNYdG"
   },
   "source": [
    "## 1.5 Grid Search - Variance Treshold + AdaBoost <a id=\"vtab\"></a><a href=\"#index\"><i class=\"fa fa-list-alt\" aria-hidden=\"true\"></i></a>\n",
    "Resultados parecidos en magnitud, aunque un poco menor, a los obtenidos con Disvoice . Con ccas disvoice se tenían resultados del orden de 0.8 altos incluso 0.9. Aquí los mejores tanto para normalizados como para no son **vggish_espec_v_A:0.81**. Uno solo por encima del 0.8."
   ]
  },
  {
   "cell_type": "markdown",
   "metadata": {
    "colab_type": "text",
    "id": "MuWixQZgNYdH"
   },
   "source": [
    "##### Sin Normalizar "
   ]
  },
  {
   "cell_type": "code",
   "execution_count": 0,
   "metadata": {
    "colab": {},
    "colab_type": "code",
    "id": "jlk6v66zNYdI"
   },
   "outputs": [],
   "source": [
    "modulo = cargaDatosVggishEspectros"
   ]
  },
  {
   "cell_type": "code",
   "execution_count": 0,
   "metadata": {
    "colab": {},
    "colab_type": "code",
    "id": "qEAiw1aENYdN"
   },
   "outputs": [],
   "source": [
    "ex = Experimenter()\n",
    "param_grid = dict(select__threshold=[0.04, 0.03, 0.01])\n",
    "                                     \n",
    "pip = Pipeline([('select', VarianceThreshold()), ('clf', AdaBoostClassifier())])\n",
    "\n",
    "bestsGsVtAda = ex.GridSearchPipe(modulo, pip, param_grid, verbose=False, normalizar=False)"
   ]
  },
  {
   "cell_type": "code",
   "execution_count": 0,
   "metadata": {
    "colab": {
     "base_uri": "https://localhost:8080/"
    },
    "colab_type": "code",
    "id": "x9KJeCwPNYdR",
    "outputId": "d76b334f-3232-4128-aec1-4be83af7f73c",
    "scrolled": true
   },
   "outputs": [
    {
     "data": {
      "text/html": [
       "<div>\n",
       "<style scoped>\n",
       "    .dataframe tbody tr th:only-of-type {\n",
       "        vertical-align: middle;\n",
       "    }\n",
       "\n",
       "    .dataframe tbody tr th {\n",
       "        vertical-align: top;\n",
       "    }\n",
       "\n",
       "    .dataframe thead th {\n",
       "        text-align: right;\n",
       "    }\n",
       "</style>\n",
       "<table border=\"1\" class=\"dataframe\">\n",
       "  <thead>\n",
       "    <tr style=\"text-align: right;\">\n",
       "      <th></th>\n",
       "      <th>SCORE</th>\n",
       "    </tr>\n",
       "  </thead>\n",
       "  <tbody>\n",
       "    <tr>\n",
       "      <th>vggish_espec_v_A</th>\n",
       "      <td>0.818234</td>\n",
       "    </tr>\n",
       "    <tr>\n",
       "      <th>vggish_espec_v_I</th>\n",
       "      <td>0.777585</td>\n",
       "    </tr>\n",
       "    <tr>\n",
       "      <th>vggish_espec_v_O</th>\n",
       "      <td>0.737017</td>\n",
       "    </tr>\n",
       "    <tr>\n",
       "      <th>vggish_espec_v_E</th>\n",
       "      <td>0.715878</td>\n",
       "    </tr>\n",
       "    <tr>\n",
       "      <th>vggish_espec_rt</th>\n",
       "      <td>0.684000</td>\n",
       "    </tr>\n",
       "    <tr>\n",
       "      <th>vggish_espec_v_U</th>\n",
       "      <td>0.637673</td>\n",
       "    </tr>\n",
       "  </tbody>\n",
       "</table>\n",
       "</div>"
      ],
      "text/plain": [
       "                     SCORE\n",
       "vggish_espec_v_A  0.818234\n",
       "vggish_espec_v_I  0.777585\n",
       "vggish_espec_v_O  0.737017\n",
       "vggish_espec_v_E  0.715878\n",
       "vggish_espec_rt   0.684000\n",
       "vggish_espec_v_U  0.637673"
      ]
     },
     "execution_count": 35,
     "metadata": {
      "tags": []
     },
     "output_type": "execute_result"
    }
   ],
   "source": [
    "best_to_panda(bestsGsVtAda)"
   ]
  },
  {
   "cell_type": "code",
   "execution_count": 0,
   "metadata": {
    "colab": {},
    "colab_type": "code",
    "id": "0qEudZLxNYdb"
   },
   "outputs": [],
   "source": []
  },
  {
   "cell_type": "markdown",
   "metadata": {
    "colab_type": "text",
    "id": "Uno-acmYNYdk"
   },
   "source": [
    "##### Normalizando"
   ]
  },
  {
   "cell_type": "code",
   "execution_count": 0,
   "metadata": {
    "colab": {},
    "colab_type": "code",
    "id": "Zw7UCgelNYdl",
    "scrolled": true
   },
   "outputs": [],
   "source": [
    "param_grid = dict(select__threshold=[0.05, 0.04, 0.03, 0.02, 0.01])\n",
    "ex = Experimenter()\n",
    "bestsGsVtAdaN = ex.GridSearchPipe(modulo, pip, param_grid,verbose=False, normalizar=True)"
   ]
  },
  {
   "cell_type": "code",
   "execution_count": 0,
   "metadata": {
    "colab": {
     "base_uri": "https://localhost:8080/",
     "height": 235
    },
    "colab_type": "code",
    "id": "LNDDlt5iNYdq",
    "outputId": "732143ca-afb9-491e-f8ed-abc24f34c87d"
   },
   "outputs": [
    {
     "data": {
      "text/html": [
       "<div>\n",
       "<style scoped>\n",
       "    .dataframe tbody tr th:only-of-type {\n",
       "        vertical-align: middle;\n",
       "    }\n",
       "\n",
       "    .dataframe tbody tr th {\n",
       "        vertical-align: top;\n",
       "    }\n",
       "\n",
       "    .dataframe thead th {\n",
       "        text-align: right;\n",
       "    }\n",
       "</style>\n",
       "<table border=\"1\" class=\"dataframe\">\n",
       "  <thead>\n",
       "    <tr style=\"text-align: right;\">\n",
       "      <th></th>\n",
       "      <th>SCORE</th>\n",
       "    </tr>\n",
       "  </thead>\n",
       "  <tbody>\n",
       "    <tr>\n",
       "      <th>vggish_espec_v_A</th>\n",
       "      <td>0.796510</td>\n",
       "    </tr>\n",
       "    <tr>\n",
       "      <th>vggish_espec_v_E</th>\n",
       "      <td>0.776322</td>\n",
       "    </tr>\n",
       "    <tr>\n",
       "      <th>vggish_espec_v_I</th>\n",
       "      <td>0.736803</td>\n",
       "    </tr>\n",
       "    <tr>\n",
       "      <th>vggish_espec_v_O</th>\n",
       "      <td>0.712426</td>\n",
       "    </tr>\n",
       "    <tr>\n",
       "      <th>vggish_espec_rt</th>\n",
       "      <td>0.668000</td>\n",
       "    </tr>\n",
       "    <tr>\n",
       "      <th>vggish_espec_v_U</th>\n",
       "      <td>0.642702</td>\n",
       "    </tr>\n",
       "  </tbody>\n",
       "</table>\n",
       "</div>"
      ],
      "text/plain": [
       "                     SCORE\n",
       "vggish_espec_v_A  0.796510\n",
       "vggish_espec_v_E  0.776322\n",
       "vggish_espec_v_I  0.736803\n",
       "vggish_espec_v_O  0.712426\n",
       "vggish_espec_rt   0.668000\n",
       "vggish_espec_v_U  0.642702"
      ]
     },
     "execution_count": 37,
     "metadata": {
      "tags": []
     },
     "output_type": "execute_result"
    }
   ],
   "source": [
    "best_to_panda(bestsGsVtAdaN)"
   ]
  },
  {
   "cell_type": "code",
   "execution_count": 0,
   "metadata": {
    "colab": {},
    "colab_type": "code",
    "id": "ePawRsNXNYd1"
   },
   "outputs": [],
   "source": []
  },
  {
   "cell_type": "markdown",
   "metadata": {
    "colab_type": "text",
    "id": "ZRwHDBgwNYd5"
   },
   "source": [
    "-----------------------\n",
    "## 1.6 Grid Search - Seleckt KBest + RF <a id=\"skrf\"></a><a href=\"#index\"><i class=\"fa fa-list-alt\" aria-hidden=\"true\"></i></a>\n",
    "**Para este experimento, son los mejores resultados obtenidos con todos los datasets (Disvoice's, embeddings Vggish y este).** Sin embargo, **NO es el mejor resultado de TODOS los experimentos con TODOS los datasets.** Es decir, PAra el experimento de SKBest y Random Forest hemos obtenido la AUC mayor 0.84, pero este valor está lejor de los mejores resultados obtenidos con Disvoice y el experimento SKbest+ADA (0.9)."
   ]
  },
  {
   "cell_type": "code",
   "execution_count": 0,
   "metadata": {
    "colab": {},
    "colab_type": "code",
    "id": "AGEnVpNbNYd6"
   },
   "outputs": [],
   "source": [
    "modulo = cargaDatosVggishEspectros"
   ]
  },
  {
   "cell_type": "code",
   "execution_count": 0,
   "metadata": {
    "colab": {},
    "colab_type": "code",
    "id": "wrHrywbHNYeA"
   },
   "outputs": [],
   "source": [
    "ex = Experimenter()\n",
    "param_grid = dict(select__k=['all',10,15,22,50,100], clf__min_samples_leaf=[1,3,5,10], clf__max_depth=[5, None], clf__n_estimators=[10, 25, 40])\n",
    "pip = Pipeline([('select', SelectKBest(chi2)), ('clf', RandomForestClassifier())])\n",
    "bestsGsSkRfN = ex.GridSearchPipe(modulo, pip, param_grid,verbose=True, normalizar=True)\n"
   ]
  },
  {
   "cell_type": "code",
   "execution_count": 0,
   "metadata": {
    "colab": {
     "base_uri": "https://localhost:8080/",
     "height": 235
    },
    "colab_type": "code",
    "id": "SygWHKgJNYeL",
    "outputId": "ed93ec4e-26ab-4938-da04-70fc27e7d3ac"
   },
   "outputs": [
    {
     "data": {
      "text/html": [
       "<div>\n",
       "<style scoped>\n",
       "    .dataframe tbody tr th:only-of-type {\n",
       "        vertical-align: middle;\n",
       "    }\n",
       "\n",
       "    .dataframe tbody tr th {\n",
       "        vertical-align: top;\n",
       "    }\n",
       "\n",
       "    .dataframe thead th {\n",
       "        text-align: right;\n",
       "    }\n",
       "</style>\n",
       "<table border=\"1\" class=\"dataframe\">\n",
       "  <thead>\n",
       "    <tr style=\"text-align: right;\">\n",
       "      <th></th>\n",
       "      <th>SCORE</th>\n",
       "    </tr>\n",
       "  </thead>\n",
       "  <tbody>\n",
       "    <tr>\n",
       "      <th>vggish_espec_v_A</th>\n",
       "      <td>0.842600</td>\n",
       "    </tr>\n",
       "    <tr>\n",
       "      <th>vggish_espec_v_E</th>\n",
       "      <td>0.795969</td>\n",
       "    </tr>\n",
       "    <tr>\n",
       "      <th>vggish_espec_rt</th>\n",
       "      <td>0.766000</td>\n",
       "    </tr>\n",
       "    <tr>\n",
       "      <th>vggish_espec_v_U</th>\n",
       "      <td>0.756632</td>\n",
       "    </tr>\n",
       "    <tr>\n",
       "      <th>vggish_espec_v_I</th>\n",
       "      <td>0.748571</td>\n",
       "    </tr>\n",
       "    <tr>\n",
       "      <th>vggish_espec_v_O</th>\n",
       "      <td>0.717906</td>\n",
       "    </tr>\n",
       "  </tbody>\n",
       "</table>\n",
       "</div>"
      ],
      "text/plain": [
       "                     SCORE\n",
       "vggish_espec_v_A  0.842600\n",
       "vggish_espec_v_E  0.795969\n",
       "vggish_espec_rt   0.766000\n",
       "vggish_espec_v_U  0.756632\n",
       "vggish_espec_v_I  0.748571\n",
       "vggish_espec_v_O  0.717906"
      ]
     },
     "execution_count": 6,
     "metadata": {
      "tags": []
     },
     "output_type": "execute_result"
    }
   ],
   "source": [
    "best_to_panda(bestsGsSkRfN)"
   ]
  },
  {
   "cell_type": "markdown",
   "metadata": {
    "colab_type": "text",
    "id": "WblDZbCSNYeQ"
   },
   "source": [
    "---"
   ]
  },
  {
   "cell_type": "markdown",
   "metadata": {
    "colab_type": "text",
    "id": "bVR-RnlNNYeS"
   },
   "source": [
    "## 1.7 Grid Search - Seleckt KBest + AdaBoost <a id=\"skada\"></a><a href=\"#index\"><i class=\"fa fa-list-alt\" aria-hidden=\"true\"></i></a>\n",
    "Se obtienen resultados bastante peores que en las ccas de Disvoice donde llegabamos hasta el 0.9 en el caso de las mujeres. En este caso el mejor resultado es **0.788 para embed_A**."
   ]
  },
  {
   "cell_type": "code",
   "execution_count": 0,
   "metadata": {
    "colab": {},
    "colab_type": "code",
    "id": "f4fLsxHFNYeT"
   },
   "outputs": [],
   "source": [
    "modulo = cargaDatosVggishEspectros"
   ]
  },
  {
   "cell_type": "code",
   "execution_count": 0,
   "metadata": {
    "colab": {},
    "colab_type": "code",
    "id": "qM_4vk9pNYec",
    "scrolled": true
   },
   "outputs": [],
   "source": [
    "ex = Experimenter()\n",
    "param_grid = dict(select__k=['all',10,15,22,50,100])\n",
    "pip = Pipeline([('select', SelectKBest(chi2)), ('clf', AdaBoostClassifier())])\n",
    "bestsGsSkADAN = ex.GridSearchPipe(modulo, pip, param_grid,verbose=True, normalizar=True)"
   ]
  },
  {
   "cell_type": "code",
   "execution_count": 0,
   "metadata": {
    "colab": {
     "base_uri": "https://localhost:8080/"
    },
    "colab_type": "code",
    "id": "Be4Kz3LQNYef",
    "outputId": "56753fef-879c-4df5-fb10-aa492a4fc0d3"
   },
   "outputs": [
    {
     "data": {
      "text/html": [
       "<div>\n",
       "<style scoped>\n",
       "    .dataframe tbody tr th:only-of-type {\n",
       "        vertical-align: middle;\n",
       "    }\n",
       "\n",
       "    .dataframe tbody tr th {\n",
       "        vertical-align: top;\n",
       "    }\n",
       "\n",
       "    .dataframe thead th {\n",
       "        text-align: right;\n",
       "    }\n",
       "</style>\n",
       "<table border=\"1\" class=\"dataframe\">\n",
       "  <thead>\n",
       "    <tr style=\"text-align: right;\">\n",
       "      <th></th>\n",
       "      <th>SCORE</th>\n",
       "    </tr>\n",
       "  </thead>\n",
       "  <tbody>\n",
       "    <tr>\n",
       "      <th>vggish_espec_v_A</th>\n",
       "      <td>0.787980</td>\n",
       "    </tr>\n",
       "    <tr>\n",
       "      <th>vggish_espec_v_E</th>\n",
       "      <td>0.764785</td>\n",
       "    </tr>\n",
       "    <tr>\n",
       "      <th>vggish_espec_v_I</th>\n",
       "      <td>0.736630</td>\n",
       "    </tr>\n",
       "    <tr>\n",
       "      <th>vggish_espec_rt</th>\n",
       "      <td>0.712000</td>\n",
       "    </tr>\n",
       "    <tr>\n",
       "      <th>vggish_espec_v_O</th>\n",
       "      <td>0.697753</td>\n",
       "    </tr>\n",
       "    <tr>\n",
       "      <th>vggish_espec_v_U</th>\n",
       "      <td>0.672239</td>\n",
       "    </tr>\n",
       "  </tbody>\n",
       "</table>\n",
       "</div>"
      ],
      "text/plain": [
       "                     SCORE\n",
       "vggish_espec_v_A  0.787980\n",
       "vggish_espec_v_E  0.764785\n",
       "vggish_espec_v_I  0.736630\n",
       "vggish_espec_rt   0.712000\n",
       "vggish_espec_v_O  0.697753\n",
       "vggish_espec_v_U  0.672239"
      ]
     },
     "execution_count": 42,
     "metadata": {
      "tags": []
     },
     "output_type": "execute_result"
    }
   ],
   "source": [
    "best_to_panda(bestsGsSkADAN)"
   ]
  },
  {
   "cell_type": "code",
   "execution_count": 0,
   "metadata": {
    "colab": {},
    "colab_type": "code",
    "id": "8t6dW7FZNYej"
   },
   "outputs": [],
   "source": []
  },
  {
   "cell_type": "markdown",
   "metadata": {
    "colab_type": "text",
    "id": "SJtuoeQnNYen"
   },
   "source": [
    "---"
   ]
  },
  {
   "cell_type": "markdown",
   "metadata": {
    "colab_type": "text",
    "id": "IYsxZZjlNYeo"
   },
   "source": [
    "## 1.8 Grid Search - Seleckt KBest + GBC<a id=\"skgbc\"></a><a href=\"#index\"><i class=\"fa fa-list-alt\" aria-hidden=\"true\"></i></a>\n",
    "\n",
    "Tampoco llegamos a batir los resultados obtenidos anteriormente. El mejor resultado en este caso es **espec_A 0.805**.\n"
   ]
  },
  {
   "cell_type": "code",
   "execution_count": 0,
   "metadata": {
    "colab": {},
    "colab_type": "code",
    "id": "Mt4Jhq1jNYeo"
   },
   "outputs": [],
   "source": [
    "modulo = cargaDatosVggishEspectros"
   ]
  },
  {
   "cell_type": "code",
   "execution_count": 0,
   "metadata": {
    "colab": {},
    "colab_type": "code",
    "id": "D0ZgZ9sRNYet",
    "scrolled": true
   },
   "outputs": [],
   "source": [
    "ex = Experimenter()\n",
    "param_grid = dict(select__k=['all',10,15,22,50,100])\n",
    "pip = Pipeline([('select', SelectKBest(chi2)), ('clf', GradientBoostingClassifier())])\n",
    "bestsGsSkGBCN = ex.GridSearchPipe(modulo, pip, param_grid,verbose=True, normalizar=True)"
   ]
  },
  {
   "cell_type": "code",
   "execution_count": 0,
   "metadata": {
    "colab": {
     "base_uri": "https://localhost:8080/"
    },
    "colab_type": "code",
    "id": "XeEBRcPENYew",
    "outputId": "4fe39a26-b652-464f-c83f-18ffeb6ffd04"
   },
   "outputs": [
    {
     "data": {
      "text/html": [
       "<div>\n",
       "<style scoped>\n",
       "    .dataframe tbody tr th:only-of-type {\n",
       "        vertical-align: middle;\n",
       "    }\n",
       "\n",
       "    .dataframe tbody tr th {\n",
       "        vertical-align: top;\n",
       "    }\n",
       "\n",
       "    .dataframe thead th {\n",
       "        text-align: right;\n",
       "    }\n",
       "</style>\n",
       "<table border=\"1\" class=\"dataframe\">\n",
       "  <thead>\n",
       "    <tr style=\"text-align: right;\">\n",
       "      <th></th>\n",
       "      <th>SCORE</th>\n",
       "    </tr>\n",
       "  </thead>\n",
       "  <tbody>\n",
       "    <tr>\n",
       "      <th>vggish_espec_v_A</th>\n",
       "      <td>0.805397</td>\n",
       "    </tr>\n",
       "    <tr>\n",
       "      <th>vggish_espec_v_E</th>\n",
       "      <td>0.782671</td>\n",
       "    </tr>\n",
       "    <tr>\n",
       "      <th>vggish_espec_rt</th>\n",
       "      <td>0.740000</td>\n",
       "    </tr>\n",
       "    <tr>\n",
       "      <th>vggish_espec_v_I</th>\n",
       "      <td>0.703574</td>\n",
       "    </tr>\n",
       "    <tr>\n",
       "      <th>vggish_espec_v_O</th>\n",
       "      <td>0.701268</td>\n",
       "    </tr>\n",
       "    <tr>\n",
       "      <th>vggish_espec_v_U</th>\n",
       "      <td>0.658037</td>\n",
       "    </tr>\n",
       "  </tbody>\n",
       "</table>\n",
       "</div>"
      ],
      "text/plain": [
       "                     SCORE\n",
       "vggish_espec_v_A  0.805397\n",
       "vggish_espec_v_E  0.782671\n",
       "vggish_espec_rt   0.740000\n",
       "vggish_espec_v_I  0.703574\n",
       "vggish_espec_v_O  0.701268\n",
       "vggish_espec_v_U  0.658037"
      ]
     },
     "execution_count": 45,
     "metadata": {
      "tags": []
     },
     "output_type": "execute_result"
    }
   ],
   "source": [
    "best_to_panda(bestsGsSkGBCN)"
   ]
  },
  {
   "cell_type": "code",
   "execution_count": 0,
   "metadata": {
    "colab": {},
    "colab_type": "code",
    "id": "vxGtwg1_NYe2"
   },
   "outputs": [],
   "source": []
  },
  {
   "cell_type": "markdown",
   "metadata": {
    "colab_type": "text",
    "id": "tM8xXoGoNYe5"
   },
   "source": [
    "---"
   ]
  },
  {
   "cell_type": "markdown",
   "metadata": {
    "colab_type": "text",
    "id": "zyJW7CuNNYe7"
   },
   "source": [
    "## 1.9 Grid Search - MLP<a id=\"MLP\"></a><a href=\"#index\"><i class=\"fa fa-list-alt\" aria-hidden=\"true\"></i></a>"
   ]
  },
  {
   "cell_type": "code",
   "execution_count": 0,
   "metadata": {
    "colab": {},
    "colab_type": "code",
    "id": "ziEQTHU2NYe8"
   },
   "outputs": [],
   "source": [
    "modulo = cargaDatosVggishEspectros"
   ]
  },
  {
   "cell_type": "code",
   "execution_count": 0,
   "metadata": {
    "colab": {},
    "colab_type": "code",
    "id": "ULrSBohBNYfB"
   },
   "outputs": [],
   "source": [
    "ex = Experimenter()\n",
    "param_grid = dict(select__k=['all',15,100], clf__hidden_layer_sizes=[10,50,100 ], clf__learning_rate =['constant', 'adaptive'], clf__learning_rate_init=[0.001,0.005], clf__tol=[1e-4,1e-3])\n",
    "pip = Pipeline([('select', SelectKBest(chi2)), ('clf', MLPClassifier())])\n",
    "bestsMLP = ex.GridSearchPipe(modulo, pip, param_grid,verbose=True, normalizar=True)"
   ]
  },
  {
   "cell_type": "code",
   "execution_count": 9,
   "metadata": {
    "colab": {
     "base_uri": "https://localhost:8080/",
     "height": 235
    },
    "colab_type": "code",
    "id": "FgdF6_TANYfE",
    "outputId": "b27bfc45-1d46-4aa5-81a5-2521594eea8a"
   },
   "outputs": [
    {
     "data": {
      "text/html": [
       "<div>\n",
       "<style scoped>\n",
       "    .dataframe tbody tr th:only-of-type {\n",
       "        vertical-align: middle;\n",
       "    }\n",
       "\n",
       "    .dataframe tbody tr th {\n",
       "        vertical-align: top;\n",
       "    }\n",
       "\n",
       "    .dataframe thead th {\n",
       "        text-align: right;\n",
       "    }\n",
       "</style>\n",
       "<table border=\"1\" class=\"dataframe\">\n",
       "  <thead>\n",
       "    <tr style=\"text-align: right;\">\n",
       "      <th></th>\n",
       "      <th>SCORE</th>\n",
       "    </tr>\n",
       "  </thead>\n",
       "  <tbody>\n",
       "    <tr>\n",
       "      <th>vggish_espec_v_A</th>\n",
       "      <td>0.768281</td>\n",
       "    </tr>\n",
       "    <tr>\n",
       "      <th>vggish_espec_rt</th>\n",
       "      <td>0.764000</td>\n",
       "    </tr>\n",
       "    <tr>\n",
       "      <th>vggish_espec_v_I</th>\n",
       "      <td>0.761871</td>\n",
       "    </tr>\n",
       "    <tr>\n",
       "      <th>vggish_espec_v_E</th>\n",
       "      <td>0.732000</td>\n",
       "    </tr>\n",
       "    <tr>\n",
       "      <th>vggish_espec_v_U</th>\n",
       "      <td>0.653945</td>\n",
       "    </tr>\n",
       "    <tr>\n",
       "      <th>vggish_espec_v_O</th>\n",
       "      <td>0.652078</td>\n",
       "    </tr>\n",
       "  </tbody>\n",
       "</table>\n",
       "</div>"
      ],
      "text/plain": [
       "                     SCORE\n",
       "vggish_espec_v_A  0.768281\n",
       "vggish_espec_rt   0.764000\n",
       "vggish_espec_v_I  0.761871\n",
       "vggish_espec_v_E  0.732000\n",
       "vggish_espec_v_U  0.653945\n",
       "vggish_espec_v_O  0.652078"
      ]
     },
     "execution_count": 9,
     "metadata": {
      "tags": []
     },
     "output_type": "execute_result"
    }
   ],
   "source": [
    "best_to_panda(bestsMLP)"
   ]
  },
  {
   "cell_type": "code",
   "execution_count": 0,
   "metadata": {
    "colab": {},
    "colab_type": "code",
    "id": "h6z5LqbVNYfJ"
   },
   "outputs": [],
   "source": []
  },
  {
   "cell_type": "code",
   "execution_count": 0,
   "metadata": {
    "colab": {},
    "colab_type": "code",
    "id": "Uv1jfE1ZNYfO"
   },
   "outputs": [],
   "source": []
  },
  {
   "cell_type": "code",
   "execution_count": 0,
   "metadata": {
    "colab": {},
    "colab_type": "code",
    "id": "ZINerhNINYfW"
   },
   "outputs": [],
   "source": []
  },
  {
   "cell_type": "code",
   "execution_count": 0,
   "metadata": {
    "colab": {},
    "colab_type": "code",
    "id": "nZ-xJLhSNYfZ"
   },
   "outputs": [],
   "source": []
  }
 ],
 "metadata": {
  "colab": {
   "collapsed_sections": [
    "gHxX_7ReNYWz",
    "ZFSMjSYrNYX0",
    "B_z38YAeNYY2",
    "o6Gmd8i5NYZs",
    "juYs1LJ0NYa3",
    "vP6_a_kMNYbY",
    "EVMBuQnTNYcL",
    "uarvXxycNYct",
    "uCQe8TOgNYdG",
    "ZRwHDBgwNYd5",
    "bVR-RnlNNYeS",
    "IYsxZZjlNYeo"
   ],
   "name": "3os Experimentos B - VGGish Espectros.ipynb",
   "provenance": [],
   "toc_visible": true,
   "version": "0.3.2"
  },
  "kernelspec": {
   "display_name": "Python 3",
   "language": "python",
   "name": "python3"
  },
  "language_info": {
   "codemirror_mode": {
    "name": "ipython",
    "version": 3
   },
   "file_extension": ".py",
   "mimetype": "text/x-python",
   "name": "python",
   "nbconvert_exporter": "python",
   "pygments_lexer": "ipython3",
   "version": "3.6.8"
  }
 },
 "nbformat": 4,
 "nbformat_minor": 1
}
