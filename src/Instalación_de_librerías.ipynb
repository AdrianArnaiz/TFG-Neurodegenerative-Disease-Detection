{
 "cells": [
  {
   "cell_type": "markdown",
   "metadata": {
    "colab_type": "text",
    "id": "Tzuzb00an4Fs"
   },
   "source": [
    "# Instalación de bibliotecas para procesamiento de audio en Windows\n",
    "## Adrián Arnaiz Rodríguez"
   ]
  },
  {
   "cell_type": "markdown",
   "metadata": {
    "colab_type": "text",
    "id": "H82iUw5dn4Fv"
   },
   "source": [
    "**Elegiremos las bibliotecas mejores y que más nos ayudan a la extracción de características para el procsamiento de audio con el objetivo de la detección de la enfermedad del Parkinson a través de la voz. Se ha conseguido una instalación satisfactoria con Windows 10 y Python 3.6.8 :: Anaconda custom (64-bit) así como con Google Colaboratory y Python 3.6.7 [para Linux ejecutar pasos incluidos en el apartado Instalación en Linux, no ejecutar las celdas de código de este notebook]**\n",
    "\n",
    "**De la recopilación de herramientas realizada en pasos anteriores hemos elegido las siguientes:**"
   ]
  },
  {
   "cell_type": "code",
   "execution_count": 1,
   "metadata": {
    "colab": {
     "base_uri": "https://localhost:8080/",
     "height": 34
    },
    "colab_type": "code",
    "id": "6N2OEPiUljhr",
    "outputId": "01fd6654-d892-4405-ef13-51f0169cd8d3"
   },
   "outputs": [
    {
     "name": "stderr",
     "output_type": "stream",
     "text": [
      "Python 3.6.8 :: Anaconda custom (64-bit)\n"
     ]
    }
   ],
   "source": [
    "!python --version"
   ]
  },
  {
   "cell_type": "markdown",
   "metadata": {
    "colab_type": "text",
    "id": "E5a0DR1jn4Fw"
   },
   "source": [
    "## Praat - Parselmouth\n",
    "\n",
    "Esta librería será utilizada para varias tareas:\n",
    "- Quitar los silencios iniciales y finales de cada audio\n",
    "- Dividir el audio en voiced sounds/unvoiced sounds\n",
    "- Extraer medidas prosódicas fundamentales: medidas asociadas a jitter, shimmer, PPQ, $F$0,...\n",
    "- HNR, NHR"
   ]
  },
  {
   "cell_type": "code",
   "execution_count": 2,
   "metadata": {
    "colab": {
     "base_uri": "https://localhost:8080/",
     "height": 173
    },
    "colab_type": "code",
    "id": "GHJ3LJi2n4Fx",
    "outputId": "e0e5d6c2-c287-44cc-b91b-08c2ec6ccdbc"
   },
   "outputs": [
    {
     "name": "stdout",
     "output_type": "stream",
     "text": [
      "Collecting praat-parselmouth\n",
      "  Using cached https://files.pythonhosted.org/packages/46/bd/f9b9932bfdcbe473b444093b38ee468e68cd5fbb829ca8c39e23a2fd002e/praat_parselmouth-0.3.2.post2-cp36-cp36m-win_amd64.whl\n",
      "Requirement already satisfied, skipping upgrade: numpy>=1.7.0 in c:\\users\\usuario\\anaconda3\\lib\\site-packages (from praat-parselmouth) (1.16.2)\n",
      "Installing collected packages: praat-parselmouth\n",
      "  Found existing installation: praat-parselmouth 0.3.2\n",
      "    Uninstalling praat-parselmouth-0.3.2:\n",
      "      Successfully uninstalled praat-parselmouth-0.3.2\n",
      "Successfully installed praat-parselmouth-0.3.2\n",
      "Note: you may need to restart the kernel to use updated packages.\n"
     ]
    }
   ],
   "source": [
    "pip install praat-parselmouth --upgrade"
   ]
  },
  {
   "cell_type": "code",
   "execution_count": 3,
   "metadata": {
    "colab": {
     "base_uri": "https://localhost:8080/",
     "height": 68
    },
    "colab_type": "code",
    "id": "iZbe1uvun4F4",
    "outputId": "94ef0bc0-6b8f-4acb-d75c-b837f35be9ea"
   },
   "outputs": [
    {
     "name": "stdout",
     "output_type": "stream",
     "text": [
      "6.0.37\n",
      "3 February 2018\n",
      "A 29/03/19 se ha instalado la versión 6.0.37 con release date 03/02/18\n"
     ]
    }
   ],
   "source": [
    "import parselmouth\n",
    "print(parselmouth.PRAAT_VERSION)\n",
    "print(parselmouth.PRAAT_VERSION_DATE)\n",
    "print(\"A 29/03/19 se ha instalado la versión 6.0.37 con release date 03/02/18\")"
   ]
  },
  {
   "cell_type": "markdown",
   "metadata": {},
   "source": [
    "------------------"
   ]
  },
  {
   "cell_type": "markdown",
   "metadata": {
    "colab_type": "text",
    "id": "EceA3ZE8n4F9"
   },
   "source": [
    "## Disvoice\n",
    "#### Localización: https://github.com/jcvasquezc/DisVoice \n",
    "Módulo de python del grupo de investigadores que lidera **J. R. Orozco-Ayozave** y concretamente encontrado en el Github de **J. C. Vásquez-Correa**. Este módulo es el equivalente al *Erlagen Prosody Module* que se define en [1](#erlangenpm) y es utilizado en [2](#orozco16) para sacar las medidas prosódicas. Según se puede ver en su documentación, es el módulo que utiliza [3](#neurospeech) para su funcionamiento interno.\n",
    "Esta librería será utilizada para varias tareas:\n",
    "- Extraer las medidas prosódicas y sus estadísticos: basadas en la duración, energía y frecuencia fundamental.\n",
    "- Extraer medidas de fonnación como jitter, shimmer, APQ, PPQ...\n",
    "- Extraer MFCC, BBE, $F$1, $F$2 y medidas derivadas de estas\n",
    "\n",
    "### Instalación en Linux\n",
    "**El entorno funciona bien utilizando Google Colaboratory (LINUX) y Python 3.6.7.**\n",
    "\n",
    "Tras clonar el repositorio de DISVOICE, **hay que comentar líneas de código que utilicen Kaldi, ya que no lo usamos y nos ahorramos su instalación.** Por ejemplo: Disvoice/phonation/phonation.py lineas 71,316 y 330.\n",
    "\n",
    "**Pasos** : \n",
    "1. Clonar el repositorio: \n",
    "`!git clone https://github.com/jcvasquezc/DisVoice `\n",
    "2. Instalar los requerimientos: \n",
    "`!DisVoice/install.sh`\n",
    "3. Comentar líneas que utilizan Kaldi: ver líneas específicas en https://github.com/AdrianArnaiz/DisVoice/commit/330c67fc3b7e9ab59bf4f06e5df3c79f8ff18165\n",
    "\n",
    "\n",
    "----------------\n",
    "\n",
    "\n",
    "### Instalación en Windows - Personalización para el proyecto\n",
    "#### Localización: https://github.com/AdrianArnaiz/DisVoice\n",
    "**Para poder utilizar Disvoice en nuestro proyecto hemos realizado cambios en el código para utilizarlo en Windows, por ello hemos hecho fork del proyecto y realizado los cambios necesarios:**\n",
    ">* En windows no funciona comando Praat. En praat_functions.py, cuando construye los comandos cambiar `praat` por `..\\\\praat\\\\praat.exe`. Esto es debido a que en windows praat es un ejecutable (no un comando como en linux) que se encuentra en la carpeta DisVoice/praat y nuestro script se ejecuta desde /Disvoice/phonation (y articulation o prosody). **Con este cambio conseguimos que funcione correctamente en Windows.**\n",
    "* Comentar las líneas de Kaldi al igual que en el caso anterior.\n",
    "* Cambios al detalle en https://github.com/AdrianArnaiz/DisVoice/commit/330c67fc3b7e9ab59bf4f06e5df3c79f8ff18165\n",
    "\n",
    "**PASOS para instalarlo:**\n",
    "1. Clonar el proyecto ya modificado de mi repositorio.\n",
    "2. Instalar las bibliotecas que aparecen en requirements.txt (**pystptk**, numpy, sklearn, scipy, pandas). **Para ello ejecutar el script de python install.py**\n",
    "\n",
    "---------------\n",
    "\n",
    "#### Artículos:\n",
    "[1](#erlangenpm) V. Zeibler, J. Adelhardt, A. Batliner, C. Frank, E. N€oth, R. Shi, and H. Niemann, “The prosody module,” in SmartKom: Foundations of Multimodal Dialogue Systems, Cognitive Technologies Series (Springer, Berlin, 2006), pp. 139–152 \n",
    "\n",
    "[2](#orozco16) Orozco-Arroyave, J. R., Hönig, F., Arias-Londoño, J. D., Vargas-Bonilla, J. F., Daqrouq, K., Skodda, S., ... & Nöth, E. (2016). Automatic detection of Parkinson's disease in running speech spoken in three different languages. The Journal of the Acoustical Society of America, 139(1), 481-500.\n",
    "\n",
    "**[3](#neurospeech) J. R. Orozco-Arroyave, J. C. Vásquez-Correa et al. \"NeuroSpeech: An open-source software for Parkinson's speech analysis.\" Digital Signal Processing (2017).**"
   ]
  },
  {
   "cell_type": "code",
   "execution_count": 4,
   "metadata": {
    "colab": {
     "base_uri": "https://localhost:8080/",
     "height": 102
    },
    "colab_type": "code",
    "id": "LSpGbL_Pn4F-",
    "outputId": "26b80e49-2cee-4ad2-9b78-c6cd12b25571"
   },
   "outputs": [
    {
     "name": "stderr",
     "output_type": "stream",
     "text": [
      "Cloning into 'DisVoice'...\n"
     ]
    }
   ],
   "source": [
    "!git clone https://github.com/AdrianArnaiz/DisVoice"
   ]
  },
  {
   "cell_type": "code",
   "execution_count": 5,
   "metadata": {},
   "outputs": [
    {
     "name": "stdout",
     "output_type": "stream",
     "text": [
      "Requirement already satisfied: pysptk in c:\\users\\usuario\\anaconda3\\lib\\site-packages (0.1.16)\n",
      "Requirement already satisfied: decorator in c:\\users\\usuario\\anaconda3\\lib\\site-packages (from pysptk) (4.3.2)\n",
      "Requirement already satisfied: scipy in c:\\users\\usuario\\anaconda3\\lib\\site-packages (from pysptk) (1.2.1)\n",
      "Requirement already satisfied: six in c:\\users\\usuario\\anaconda3\\lib\\site-packages (from pysptk) (1.12.0)\n",
      "Requirement already satisfied: playsound in c:\\users\\usuario\\anaconda3\\lib\\site-packages (1.2.2)\n",
      "Requirement already satisfied: dash_html_components in c:\\users\\usuario\\anaconda3\\lib\\site-packages (0.10.1)\n",
      "Requirement already satisfied: dash in c:\\users\\usuario\\anaconda3\\lib\\site-packages (from dash_html_components) (0.21.1)\n",
      "Requirement already satisfied: Flask>=0.12 in c:\\users\\usuario\\anaconda3\\lib\\site-packages (from dash->dash_html_components) (1.0.2)\n",
      "Requirement already satisfied: flask-compress in c:\\users\\usuario\\anaconda3\\lib\\site-packages (from dash->dash_html_components) (1.4.0)\n",
      "Requirement already satisfied: plotly in c:\\users\\usuario\\anaconda3\\lib\\site-packages (from dash->dash_html_components) (3.7.1)\n",
      "Requirement already satisfied: Werkzeug>=0.14 in c:\\users\\usuario\\anaconda3\\lib\\site-packages (from Flask>=0.12->dash->dash_html_components) (0.14.1)\n",
      "Requirement already satisfied: click>=5.1 in c:\\users\\usuario\\anaconda3\\lib\\site-packages (from Flask>=0.12->dash->dash_html_components) (7.0)\n",
      "Requirement already satisfied: itsdangerous>=0.24 in c:\\users\\usuario\\anaconda3\\lib\\site-packages (from Flask>=0.12->dash->dash_html_components) (1.1.0)\n",
      "Requirement already satisfied: Jinja2>=2.10 in c:\\users\\usuario\\anaconda3\\lib\\site-packages (from Flask>=0.12->dash->dash_html_components) (2.10)\n",
      "Requirement already satisfied: pytz in c:\\users\\usuario\\anaconda3\\lib\\site-packages (from plotly->dash->dash_html_components) (2018.9)\n",
      "Requirement already satisfied: retrying>=1.3.3 in c:\\users\\usuario\\anaconda3\\lib\\site-packages (from plotly->dash->dash_html_components) (1.3.3)\n",
      "Requirement already satisfied: decorator>=4.0.6 in c:\\users\\usuario\\anaconda3\\lib\\site-packages (from plotly->dash->dash_html_components) (4.3.2)\n",
      "Requirement already satisfied: nbformat>=4.2 in c:\\users\\usuario\\anaconda3\\lib\\site-packages (from plotly->dash->dash_html_components) (4.4.0)\n",
      "Requirement already satisfied: requests in c:\\users\\usuario\\anaconda3\\lib\\site-packages (from plotly->dash->dash_html_components) (2.21.0)\n",
      "Requirement already satisfied: six in c:\\users\\usuario\\anaconda3\\lib\\site-packages (from plotly->dash->dash_html_components) (1.12.0)\n",
      "Requirement already satisfied: MarkupSafe>=0.23 in c:\\users\\usuario\\anaconda3\\lib\\site-packages (from Jinja2>=2.10->Flask>=0.12->dash->dash_html_components) (1.1.0)\n",
      "Requirement already satisfied: ipython_genutils in c:\\users\\usuario\\anaconda3\\lib\\site-packages (from nbformat>=4.2->plotly->dash->dash_html_components) (0.2.0)\n",
      "Requirement already satisfied: traitlets>=4.1 in c:\\users\\usuario\\anaconda3\\lib\\site-packages (from nbformat>=4.2->plotly->dash->dash_html_components) (4.3.2)\n",
      "Requirement already satisfied: jsonschema!=2.5.0,>=2.4 in c:\\users\\usuario\\anaconda3\\lib\\site-packages (from nbformat>=4.2->plotly->dash->dash_html_components) (2.6.0)\n",
      "Requirement already satisfied: jupyter_core in c:\\users\\usuario\\anaconda3\\lib\\site-packages (from nbformat>=4.2->plotly->dash->dash_html_components) (4.4.0)\n",
      "Requirement already satisfied: certifi>=2017.4.17 in c:\\users\\usuario\\anaconda3\\lib\\site-packages (from requests->plotly->dash->dash_html_components) (2019.3.9)\n",
      "Requirement already satisfied: idna<2.9,>=2.5 in c:\\users\\usuario\\anaconda3\\lib\\site-packages (from requests->plotly->dash->dash_html_components) (2.8)\n",
      "Requirement already satisfied: chardet<3.1.0,>=3.0.2 in c:\\users\\usuario\\anaconda3\\lib\\site-packages (from requests->plotly->dash->dash_html_components) (3.0.4)\n",
      "Requirement already satisfied: urllib3<1.25,>=1.21.1 in c:\\users\\usuario\\anaconda3\\lib\\site-packages (from requests->plotly->dash->dash_html_components) (1.24.1)\n",
      "Requirement already satisfied: plotly in c:\\users\\usuario\\anaconda3\\lib\\site-packages (3.7.1)\n",
      "Requirement already satisfied: decorator>=4.0.6 in c:\\users\\usuario\\anaconda3\\lib\\site-packages (from plotly) (4.3.2)\n",
      "Requirement already satisfied: nbformat>=4.2 in c:\\users\\usuario\\anaconda3\\lib\\site-packages (from plotly) (4.4.0)\n",
      "Requirement already satisfied: requests in c:\\users\\usuario\\anaconda3\\lib\\site-packages (from plotly) (2.21.0)\n",
      "Requirement already satisfied: retrying>=1.3.3 in c:\\users\\usuario\\anaconda3\\lib\\site-packages (from plotly) (1.3.3)\n",
      "Requirement already satisfied: pytz in c:\\users\\usuario\\anaconda3\\lib\\site-packages (from plotly) (2018.9)\n",
      "Requirement already satisfied: six in c:\\users\\usuario\\anaconda3\\lib\\site-packages (from plotly) (1.12.0)\n",
      "Requirement already satisfied: ipython_genutils in c:\\users\\usuario\\anaconda3\\lib\\site-packages (from nbformat>=4.2->plotly) (0.2.0)\n",
      "Requirement already satisfied: traitlets>=4.1 in c:\\users\\usuario\\anaconda3\\lib\\site-packages (from nbformat>=4.2->plotly) (4.3.2)\n",
      "Requirement already satisfied: jsonschema!=2.5.0,>=2.4 in c:\\users\\usuario\\anaconda3\\lib\\site-packages (from nbformat>=4.2->plotly) (2.6.0)\n",
      "Requirement already satisfied: jupyter_core in c:\\users\\usuario\\anaconda3\\lib\\site-packages (from nbformat>=4.2->plotly) (4.4.0)\n",
      "Requirement already satisfied: urllib3<1.25,>=1.21.1 in c:\\users\\usuario\\anaconda3\\lib\\site-packages (from requests->plotly) (1.24.1)\n",
      "Requirement already satisfied: certifi>=2017.4.17 in c:\\users\\usuario\\anaconda3\\lib\\site-packages (from requests->plotly) (2019.3.9)\n",
      "Requirement already satisfied: idna<2.9,>=2.5 in c:\\users\\usuario\\anaconda3\\lib\\site-packages (from requests->plotly) (2.8)\n",
      "Requirement already satisfied: chardet<3.1.0,>=3.0.2 in c:\\users\\usuario\\anaconda3\\lib\\site-packages (from requests->plotly) (3.0.4)\n",
      "Requirement already satisfied: sounddevice in c:\\users\\usuario\\anaconda3\\lib\\site-packages (0.3.13)\n",
      "Requirement already satisfied: CFFI>=1.0 in c:\\users\\usuario\\anaconda3\\lib\\site-packages (from sounddevice) (1.11.5)\n",
      "Requirement already satisfied: pycparser in c:\\users\\usuario\\anaconda3\\lib\\site-packages (from CFFI>=1.0->sounddevice) (2.19)\n",
      "Requirement already satisfied: scipy in c:\\users\\usuario\\anaconda3\\lib\\site-packages (1.2.1)\n",
      "Requirement already satisfied: pandas in c:\\users\\usuario\\anaconda3\\lib\\site-packages (0.24.2)\n",
      "Requirement already satisfied: python-dateutil>=2.5.0 in c:\\users\\usuario\\anaconda3\\lib\\site-packages (from pandas) (2.7.5)\n",
      "Requirement already satisfied: numpy>=1.12.0 in c:\\users\\usuario\\anaconda3\\lib\\site-packages (from pandas) (1.16.2)\n",
      "Requirement already satisfied: pytz>=2011k in c:\\users\\usuario\\anaconda3\\lib\\site-packages (from pandas) (2018.9)\n",
      "Requirement already satisfied: six>=1.5 in c:\\users\\usuario\\anaconda3\\lib\\site-packages (from python-dateutil>=2.5.0->pandas) (1.12.0)\n",
      "Requirement already satisfied: easygui in c:\\users\\usuario\\anaconda3\\lib\\site-packages (0.98.1)\n",
      "Requirement already satisfied: dash_core_components in c:\\users\\usuario\\anaconda3\\lib\\site-packages (0.23.0)\n",
      "Requirement already satisfied: dash in c:\\users\\usuario\\anaconda3\\lib\\site-packages (from dash_core_components) (0.21.1)\n",
      "Requirement already satisfied: plotly in c:\\users\\usuario\\anaconda3\\lib\\site-packages (from dash->dash_core_components) (3.7.1)\n",
      "Requirement already satisfied: Flask>=0.12 in c:\\users\\usuario\\anaconda3\\lib\\site-packages (from dash->dash_core_components) (1.0.2)\n",
      "Requirement already satisfied: flask-compress in c:\\users\\usuario\\anaconda3\\lib\\site-packages (from dash->dash_core_components) (1.4.0)\n",
      "Requirement already satisfied: retrying>=1.3.3 in c:\\users\\usuario\\anaconda3\\lib\\site-packages (from plotly->dash->dash_core_components) (1.3.3)\n",
      "Requirement already satisfied: six in c:\\users\\usuario\\anaconda3\\lib\\site-packages (from plotly->dash->dash_core_components) (1.12.0)\n",
      "Requirement already satisfied: nbformat>=4.2 in c:\\users\\usuario\\anaconda3\\lib\\site-packages (from plotly->dash->dash_core_components) (4.4.0)\n",
      "Requirement already satisfied: requests in c:\\users\\usuario\\anaconda3\\lib\\site-packages (from plotly->dash->dash_core_components) (2.21.0)\n",
      "Requirement already satisfied: pytz in c:\\users\\usuario\\anaconda3\\lib\\site-packages (from plotly->dash->dash_core_components) (2018.9)\n",
      "Requirement already satisfied: decorator>=4.0.6 in c:\\users\\usuario\\anaconda3\\lib\\site-packages (from plotly->dash->dash_core_components) (4.3.2)\n",
      "Requirement already satisfied: Jinja2>=2.10 in c:\\users\\usuario\\anaconda3\\lib\\site-packages (from Flask>=0.12->dash->dash_core_components) (2.10)\n",
      "Requirement already satisfied: Werkzeug>=0.14 in c:\\users\\usuario\\anaconda3\\lib\\site-packages (from Flask>=0.12->dash->dash_core_components) (0.14.1)\n",
      "Requirement already satisfied: click>=5.1 in c:\\users\\usuario\\anaconda3\\lib\\site-packages (from Flask>=0.12->dash->dash_core_components) (7.0)\n",
      "Requirement already satisfied: itsdangerous>=0.24 in c:\\users\\usuario\\anaconda3\\lib\\site-packages (from Flask>=0.12->dash->dash_core_components) (1.1.0)\n",
      "Requirement already satisfied: ipython_genutils in c:\\users\\usuario\\anaconda3\\lib\\site-packages (from nbformat>=4.2->plotly->dash->dash_core_components) (0.2.0)\n",
      "Requirement already satisfied: traitlets>=4.1 in c:\\users\\usuario\\anaconda3\\lib\\site-packages (from nbformat>=4.2->plotly->dash->dash_core_components) (4.3.2)\n",
      "Requirement already satisfied: jsonschema!=2.5.0,>=2.4 in c:\\users\\usuario\\anaconda3\\lib\\site-packages (from nbformat>=4.2->plotly->dash->dash_core_components) (2.6.0)\n",
      "Requirement already satisfied: jupyter_core in c:\\users\\usuario\\anaconda3\\lib\\site-packages (from nbformat>=4.2->plotly->dash->dash_core_components) (4.4.0)\n",
      "Requirement already satisfied: idna<2.9,>=2.5 in c:\\users\\usuario\\anaconda3\\lib\\site-packages (from requests->plotly->dash->dash_core_components) (2.8)\n",
      "Requirement already satisfied: chardet<3.1.0,>=3.0.2 in c:\\users\\usuario\\anaconda3\\lib\\site-packages (from requests->plotly->dash->dash_core_components) (3.0.4)\n",
      "Requirement already satisfied: urllib3<1.25,>=1.21.1 in c:\\users\\usuario\\anaconda3\\lib\\site-packages (from requests->plotly->dash->dash_core_components) (1.24.1)\n",
      "Requirement already satisfied: certifi>=2017.4.17 in c:\\users\\usuario\\anaconda3\\lib\\site-packages (from requests->plotly->dash->dash_core_components) (2019.3.9)\n",
      "Requirement already satisfied: MarkupSafe>=0.23 in c:\\users\\usuario\\anaconda3\\lib\\site-packages (from Jinja2>=2.10->Flask>=0.12->dash->dash_core_components) (1.1.0)\n",
      "Requirement already satisfied: matplotlib in c:\\users\\usuario\\anaconda3\\lib\\site-packages (2.0.2)\n",
      "Requirement already satisfied: numpy>=1.7.1 in c:\\users\\usuario\\anaconda3\\lib\\site-packages (from matplotlib) (1.16.2)\n",
      "Requirement already satisfied: six>=1.10 in c:\\users\\usuario\\anaconda3\\lib\\site-packages (from matplotlib) (1.12.0)\n",
      "Requirement already satisfied: python-dateutil in c:\\users\\usuario\\anaconda3\\lib\\site-packages (from matplotlib) (2.7.5)\n",
      "Requirement already satisfied: pytz in c:\\users\\usuario\\anaconda3\\lib\\site-packages (from matplotlib) (2018.9)\n",
      "Requirement already satisfied: cycler>=0.10 in c:\\users\\usuario\\anaconda3\\lib\\site-packages (from matplotlib) (0.10.0)\n",
      "Requirement already satisfied: pyparsing!=2.0.4,!=2.1.2,!=2.1.6,>=1.5.6 in c:\\users\\usuario\\anaconda3\\lib\\site-packages (from matplotlib) (2.3.1)\n",
      "Requirement already satisfied: dash in c:\\users\\usuario\\anaconda3\\lib\\site-packages (0.21.1)\n",
      "Requirement already satisfied: Flask>=0.12 in c:\\users\\usuario\\anaconda3\\lib\\site-packages (from dash) (1.0.2)\n",
      "Requirement already satisfied: flask-compress in c:\\users\\usuario\\anaconda3\\lib\\site-packages (from dash) (1.4.0)\n",
      "Requirement already satisfied: plotly in c:\\users\\usuario\\anaconda3\\lib\\site-packages (from dash) (3.7.1)\n",
      "Requirement already satisfied: click>=5.1 in c:\\users\\usuario\\anaconda3\\lib\\site-packages (from Flask>=0.12->dash) (7.0)\n",
      "Requirement already satisfied: Werkzeug>=0.14 in c:\\users\\usuario\\anaconda3\\lib\\site-packages (from Flask>=0.12->dash) (0.14.1)\n",
      "Requirement already satisfied: Jinja2>=2.10 in c:\\users\\usuario\\anaconda3\\lib\\site-packages (from Flask>=0.12->dash) (2.10)\n",
      "Requirement already satisfied: itsdangerous>=0.24 in c:\\users\\usuario\\anaconda3\\lib\\site-packages (from Flask>=0.12->dash) (1.1.0)\n",
      "Requirement already satisfied: retrying>=1.3.3 in c:\\users\\usuario\\anaconda3\\lib\\site-packages (from plotly->dash) (1.3.3)\n",
      "Requirement already satisfied: decorator>=4.0.6 in c:\\users\\usuario\\anaconda3\\lib\\site-packages (from plotly->dash) (4.3.2)\n",
      "Requirement already satisfied: nbformat>=4.2 in c:\\users\\usuario\\anaconda3\\lib\\site-packages (from plotly->dash) (4.4.0)\n",
      "Requirement already satisfied: requests in c:\\users\\usuario\\anaconda3\\lib\\site-packages (from plotly->dash) (2.21.0)\n",
      "Requirement already satisfied: pytz in c:\\users\\usuario\\anaconda3\\lib\\site-packages (from plotly->dash) (2018.9)\n",
      "Requirement already satisfied: six in c:\\users\\usuario\\anaconda3\\lib\\site-packages (from plotly->dash) (1.12.0)\n",
      "Requirement already satisfied: MarkupSafe>=0.23 in c:\\users\\usuario\\anaconda3\\lib\\site-packages (from Jinja2>=2.10->Flask>=0.12->dash) (1.1.0)\n",
      "Requirement already satisfied: ipython_genutils in c:\\users\\usuario\\anaconda3\\lib\\site-packages (from nbformat>=4.2->plotly->dash) (0.2.0)\n",
      "Requirement already satisfied: traitlets>=4.1 in c:\\users\\usuario\\anaconda3\\lib\\site-packages (from nbformat>=4.2->plotly->dash) (4.3.2)\n",
      "Requirement already satisfied: jsonschema!=2.5.0,>=2.4 in c:\\users\\usuario\\anaconda3\\lib\\site-packages (from nbformat>=4.2->plotly->dash) (2.6.0)\n",
      "Requirement already satisfied: jupyter_core in c:\\users\\usuario\\anaconda3\\lib\\site-packages (from nbformat>=4.2->plotly->dash) (4.4.0)\n",
      "Requirement already satisfied: chardet<3.1.0,>=3.0.2 in c:\\users\\usuario\\anaconda3\\lib\\site-packages (from requests->plotly->dash) (3.0.4)\n",
      "Requirement already satisfied: certifi>=2017.4.17 in c:\\users\\usuario\\anaconda3\\lib\\site-packages (from requests->plotly->dash) (2019.3.9)\n",
      "Requirement already satisfied: idna<2.9,>=2.5 in c:\\users\\usuario\\anaconda3\\lib\\site-packages (from requests->plotly->dash) (2.8)\n",
      "Requirement already satisfied: urllib3<1.25,>=1.21.1 in c:\\users\\usuario\\anaconda3\\lib\\site-packages (from requests->plotly->dash) (1.24.1)\n",
      "Requirement already satisfied: numpy in c:\\users\\usuario\\anaconda3\\lib\\site-packages (1.16.2)\n",
      "Requirement already satisfied: scikit_learn in c:\\users\\usuario\\anaconda3\\lib\\site-packages (0.20.3)\n",
      "Requirement already satisfied: scipy>=0.13.3 in c:\\users\\usuario\\anaconda3\\lib\\site-packages (from scikit_learn) (1.2.1)\n",
      "Requirement already satisfied: numpy>=1.8.2 in c:\\users\\usuario\\anaconda3\\lib\\site-packages (from scikit_learn) (1.16.2)\n",
      "\n",
      " \n",
      " \n",
      " Instalar pysptk:\n",
      "\n",
      " \n",
      " \n",
      " Instalar playsound:\n",
      "\n",
      " \n",
      " \n",
      " Instalar dash_html_components:\n",
      "\n",
      " \n",
      " \n",
      " Instalar plotly:\n",
      "\n",
      " \n",
      " \n",
      " Instalar sounddevice:\n",
      "\n",
      " \n",
      " \n",
      " Instalar scipy:\n",
      "\n",
      " \n",
      " \n",
      " Instalar pandas:\n",
      "\n",
      " \n",
      " \n",
      " Instalar easygui:\n",
      "\n",
      " \n",
      " \n",
      " Instalar dash_core_components:\n",
      "\n",
      " \n",
      " \n",
      " Instalar matplotlib:\n",
      "\n",
      " \n",
      " \n",
      " Instalar dash:\n",
      "\n",
      " \n",
      " \n",
      " Instalar numpy:\n",
      "\n",
      " \n",
      " \n",
      " Instalar scikit_learn:\n"
     ]
    }
   ],
   "source": [
    "!python DisVoice\\install.py"
   ]
  },
  {
   "cell_type": "markdown",
   "metadata": {},
   "source": [
    "## Pydub\n",
    "Esta librería será utilizada para segmentar el audio y poder preprocesar la elominación de silencios iniciales y finales."
   ]
  },
  {
   "cell_type": "code",
   "execution_count": 1,
   "metadata": {},
   "outputs": [
    {
     "name": "stdout",
     "output_type": "stream",
     "text": [
      "Requirement already satisfied: pydub in c:\\users\\usuario\\anaconda3\\lib\\site-packages (0.23.1)\n"
     ]
    }
   ],
   "source": [
    "!pip install pydub"
   ]
  },
  {
   "cell_type": "code",
   "execution_count": null,
   "metadata": {},
   "outputs": [],
   "source": []
  }
 ],
 "metadata": {
  "colab": {
   "name": "Instalación de librerías.ipynb",
   "provenance": [],
   "toc_visible": true,
   "version": "0.3.2"
  },
  "kernelspec": {
   "display_name": "Python 3",
   "language": "python",
   "name": "python3"
  },
  "language_info": {
   "codemirror_mode": {
    "name": "ipython",
    "version": 3
   },
   "file_extension": ".py",
   "mimetype": "text/x-python",
   "name": "python",
   "nbconvert_exporter": "python",
   "pygments_lexer": "ipython3",
   "version": "3.6.8"
  }
 },
 "nbformat": 4,
 "nbformat_minor": 1
}
