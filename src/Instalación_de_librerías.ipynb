{
 "cells": [
  {
   "cell_type": "markdown",
   "metadata": {
    "colab_type": "text",
    "id": "Tzuzb00an4Fs"
   },
   "source": [
    "# Instalación de bibliotecas para procesamiento de audio\n",
    "## Adrián Arnaiz Rodríguez"
   ]
  },
  {
   "cell_type": "markdown",
   "metadata": {
    "colab_type": "text",
    "id": "H82iUw5dn4Fv"
   },
   "source": [
    "**Elegiremos las bibliotecas mejores y que más nos ayudan a la extracción de características para el procsamiento de audio con el objetivo de la detección de la enfermedad del Parkinson a través de la voz. Se ha conseguido una instalación satisfactoria con Google Colaboratory y Python 3.6.7**\n",
    "\n",
    "**De la recopilación de herramientas realizada en pasos anteriores hemos elegido las siguientes:**"
   ]
  },
  {
   "cell_type": "code",
   "execution_count": 9,
   "metadata": {
    "colab": {
     "base_uri": "https://localhost:8080/",
     "height": 34
    },
    "colab_type": "code",
    "id": "6N2OEPiUljhr",
    "outputId": "01fd6654-d892-4405-ef13-51f0169cd8d3"
   },
   "outputs": [
    {
     "name": "stdout",
     "output_type": "stream",
     "text": [
      "Python 3.6.7\n"
     ]
    }
   ],
   "source": [
    "!python --version"
   ]
  },
  {
   "cell_type": "markdown",
   "metadata": {
    "colab_type": "text",
    "id": "E5a0DR1jn4Fw"
   },
   "source": [
    "## Praat - Parselmouth\n",
    "\n",
    "Esta librería será utilizada para varias tareas:\n",
    "- Quitar los silencios iniciales y finales de cada audio\n",
    "- Dividir el audio en voiced sounds/unvoiced sounds\n",
    "- Extraer medidas prosódicas fundamentales: medidas asociadas a jitter, shimmer, PPQ, $F$0,...\n",
    "- HNR, NHR"
   ]
  },
  {
   "cell_type": "code",
   "execution_count": 1,
   "metadata": {
    "colab": {
     "base_uri": "https://localhost:8080/",
     "height": 173
    },
    "colab_type": "code",
    "id": "GHJ3LJi2n4Fx",
    "outputId": "e0e5d6c2-c287-44cc-b91b-08c2ec6ccdbc"
   },
   "outputs": [
    {
     "name": "stdout",
     "output_type": "stream",
     "text": [
      "Collecting praat-parselmouth\n",
      "  Using cached https://files.pythonhosted.org/packages/96/da/bde2a65f9eb1314e6f11a738d285374a30c390d1303dfdf6d021c3db0f2b/praat_parselmouth-0.3.2.post2-cp27-cp27mu-manylinux1_x86_64.whl\n",
      "Requirement already satisfied, skipping upgrade: numpy>=1.7.0 in /usr/local/lib/python2.7/dist-packages (from praat-parselmouth) (1.14.6)\n",
      "Installing collected packages: praat-parselmouth\n",
      "  Found existing installation: praat-parselmouth 0.3.2\n",
      "    Uninstalling praat-parselmouth-0.3.2:\n",
      "      Successfully uninstalled praat-parselmouth-0.3.2\n",
      "Successfully installed praat-parselmouth-0.3.2\n"
     ]
    }
   ],
   "source": [
    "pip install praat-parselmouth --upgrade"
   ]
  },
  {
   "cell_type": "code",
   "execution_count": 1,
   "metadata": {
    "colab": {
     "base_uri": "https://localhost:8080/",
     "height": 68
    },
    "colab_type": "code",
    "id": "iZbe1uvun4F4",
    "outputId": "94ef0bc0-6b8f-4acb-d75c-b837f35be9ea"
   },
   "outputs": [
    {
     "name": "stdout",
     "output_type": "stream",
     "text": [
      "6.0.37\n",
      "3 February 2018\n",
      "A 29/03/19 se ha instalado la versión 6.0.37 con release date 03/02/18\n"
     ]
    }
   ],
   "source": [
    "import parselmouth\n",
    "print(parselmouth.PRAAT_VERSION)\n",
    "print(parselmouth.PRAAT_VERSION_DATE)\n",
    "print(\"A 29/03/19 se ha instalado la versión 6.0.37 con release date 03/02/18\")"
   ]
  },
  {
   "cell_type": "markdown",
   "metadata": {
    "colab_type": "text",
    "id": "EceA3ZE8n4F9"
   },
   "source": [
    "## Disvoice\n",
    "#### Localización: https://github.com/jcvasquezc/DisVoice \n",
    "Módulo de python del grupo de investigadores que lidera **J. R. Orozco-Ayozave** y concretamente encontrado en el Github de **J. C. Vásquez-Correa**. Este módulo es el equivalente al *Erlagen Prosody Module* que se define en [1](#erlangenpm) y es utilizado en [2](#orozco16) para sacar las medidas prosódicas. Según se puede ver en su documentación, es el módulo que utiliza [3](#neurospeech) para su funcionamiento interno.\n",
    "Esta librería será utilizada para varias tareas:\n",
    "- Extraer las medidas prosódicas y sus estadísticos: basadas en la duración, energía y frecuencia fundamental.\n",
    "- Extraer medidas de fonnación como jitter, shimmer, APQ, PPQ...\n",
    "- Extraer MFCC, BBE, $F$1, $F$2 y medidas derivadas de estas\n",
    "\n",
    "### Observaciones (IMPORTANTE)\n",
    "Tras clonar el repositorio de DISVOICE, **hay que comentar líneas de código que utilicen Kaldi, ya que no lo usamos y nos ahorramos su instalación.** Por ejemplo: Disvoice/phonation/phonation.py lineas 71,316 y 330.\n",
    "El entorno funciona bien utilizando Google Colaboratory (LINUX) y Python 3.6.7.\n",
    "No en windows no funciona comando Praat. No en python 2 ya que Disvoice está codificado para Python 3.x.\n",
    "\n",
    "\n",
    "#### Artículos:\n",
    "[1](#erlangenpm) V. Zeibler, J. Adelhardt, A. Batliner, C. Frank, E. N€oth, R. Shi, and H. Niemann, “The prosody module,” in SmartKom: Foundations of Multimodal Dialogue Systems, Cognitive Technologies Series (Springer, Berlin, 2006), pp. 139–152 \n",
    "\n",
    "[2](#orozco16) Orozco-Arroyave, J. R., Hönig, F., Arias-Londoño, J. D., Vargas-Bonilla, J. F., Daqrouq, K., Skodda, S., ... & Nöth, E. (2016). Automatic detection of Parkinson's disease in running speech spoken in three different languages. The Journal of the Acoustical Society of America, 139(1), 481-500.\n",
    "\n",
    "**[3](#neurospeech) J. R. Orozco-Arroyave, J. C. Vásquez-Correa et al. \"NeuroSpeech: An open-source software for Parkinson's speech analysis.\" Digital Signal Processing (2017).**"
   ]
  },
  {
   "cell_type": "code",
   "execution_count": 2,
   "metadata": {
    "colab": {
     "base_uri": "https://localhost:8080/",
     "height": 102
    },
    "colab_type": "code",
    "id": "LSpGbL_Pn4F-",
    "outputId": "26b80e49-2cee-4ad2-9b78-c6cd12b25571"
   },
   "outputs": [
    {
     "name": "stdout",
     "output_type": "stream",
     "text": [
      "Cloning into 'DisVoice'...\n",
      "remote: Enumerating objects: 336, done.\u001b[K\n",
      "Receiving objects:   0% (1/336)   \r",
      "Receiving objects:   1% (4/336)   \r",
      "Receiving objects:   2% (7/336)   \r",
      "Receiving objects:   3% (11/336)   \r",
      "Receiving objects:   4% (14/336)   \r",
      "Receiving objects:   5% (17/336)   \r",
      "Receiving objects:   6% (21/336)   \r",
      "Receiving objects:   7% (24/336)   \r",
      "Receiving objects:   8% (27/336)   \r",
      "Receiving objects:   9% (31/336)   \r",
      "Receiving objects:  10% (34/336)   \r",
      "Receiving objects:  11% (37/336)   \r",
      "Receiving objects:  12% (41/336)   \r",
      "Receiving objects:  13% (44/336)   \r",
      "Receiving objects:  14% (48/336)   \r",
      "Receiving objects:  15% (51/336)   \r",
      "Receiving objects:  16% (54/336)   \r",
      "Receiving objects:  17% (58/336)   \r",
      "Receiving objects:  18% (61/336)   \r",
      "Receiving objects:  19% (64/336)   \r",
      "Receiving objects:  20% (68/336)   \r",
      "Receiving objects:  21% (71/336)   \r",
      "Receiving objects:  22% (74/336)   \r",
      "Receiving objects:  23% (78/336)   \r",
      "Receiving objects:  24% (81/336)   \r",
      "Receiving objects:  25% (84/336)   \r",
      "Receiving objects:  26% (88/336)   \r",
      "Receiving objects:  27% (91/336)   \r",
      "Receiving objects:  28% (95/336)   \r",
      "Receiving objects:  29% (98/336)   \r",
      "Receiving objects:  30% (101/336)   \r",
      "Receiving objects:  31% (105/336)   \r",
      "Receiving objects:  32% (108/336), 3.67 MiB | 7.33 MiB/s   \r",
      "Receiving objects:  33% (111/336), 3.67 MiB | 7.33 MiB/s   \r",
      "Receiving objects:  34% (115/336), 3.67 MiB | 7.33 MiB/s   \r",
      "Receiving objects:  35% (118/336), 3.67 MiB | 7.33 MiB/s   \r",
      "Receiving objects:  36% (121/336), 3.67 MiB | 7.33 MiB/s   \r",
      "Receiving objects:  37% (125/336), 3.67 MiB | 7.33 MiB/s   \r",
      "Receiving objects:  38% (128/336), 3.67 MiB | 7.33 MiB/s   \r",
      "Receiving objects:  39% (132/336), 3.67 MiB | 7.33 MiB/s   \r",
      "Receiving objects:  40% (135/336), 3.67 MiB | 7.33 MiB/s   \r",
      "Receiving objects:  41% (138/336), 3.67 MiB | 7.33 MiB/s   \r",
      "Receiving objects:  42% (142/336), 3.67 MiB | 7.33 MiB/s   \r",
      "Receiving objects:  43% (145/336), 3.67 MiB | 7.33 MiB/s   \r",
      "Receiving objects:  44% (148/336), 3.67 MiB | 7.33 MiB/s   \r",
      "Receiving objects:  45% (152/336), 3.67 MiB | 7.33 MiB/s   \r",
      "Receiving objects:  46% (155/336), 3.67 MiB | 7.33 MiB/s   \r",
      "Receiving objects:  47% (158/336), 3.67 MiB | 7.33 MiB/s   \r",
      "Receiving objects:  48% (162/336), 3.67 MiB | 7.33 MiB/s   \r",
      "Receiving objects:  49% (165/336), 3.67 MiB | 7.33 MiB/s   \r",
      "Receiving objects:  50% (168/336), 3.67 MiB | 7.33 MiB/s   \r",
      "Receiving objects:  51% (172/336), 3.67 MiB | 7.33 MiB/s   \r",
      "Receiving objects:  52% (175/336), 3.67 MiB | 7.33 MiB/s   \r",
      "Receiving objects:  53% (179/336), 3.67 MiB | 7.33 MiB/s   \r",
      "Receiving objects:  54% (182/336), 3.67 MiB | 7.33 MiB/s   \r",
      "Receiving objects:  55% (185/336), 3.67 MiB | 7.33 MiB/s   \r",
      "Receiving objects:  56% (189/336), 3.67 MiB | 7.33 MiB/s   \r",
      "Receiving objects:  57% (192/336), 3.67 MiB | 7.33 MiB/s   \r",
      "Receiving objects:  58% (195/336), 3.67 MiB | 7.33 MiB/s   \r",
      "Receiving objects:  59% (199/336), 3.67 MiB | 7.33 MiB/s   \r",
      "Receiving objects:  60% (202/336), 3.67 MiB | 7.33 MiB/s   \r",
      "Receiving objects:  61% (205/336), 3.67 MiB | 7.33 MiB/s   \r",
      "Receiving objects:  62% (209/336), 3.67 MiB | 7.33 MiB/s   \r",
      "Receiving objects:  63% (212/336), 3.67 MiB | 7.33 MiB/s   \r",
      "Receiving objects:  64% (216/336), 3.67 MiB | 7.33 MiB/s   \r",
      "Receiving objects:  65% (219/336), 3.67 MiB | 7.33 MiB/s   \r",
      "Receiving objects:  66% (222/336), 3.67 MiB | 7.33 MiB/s   \r",
      "Receiving objects:  67% (226/336), 3.67 MiB | 7.33 MiB/s   \r",
      "Receiving objects:  68% (229/336), 3.67 MiB | 7.33 MiB/s   \r",
      "Receiving objects:  69% (232/336), 3.67 MiB | 7.33 MiB/s   \r",
      "Receiving objects:  70% (236/336), 3.67 MiB | 7.33 MiB/s   \r",
      "Receiving objects:  71% (239/336), 3.67 MiB | 7.33 MiB/s   \r",
      "Receiving objects:  72% (242/336), 3.67 MiB | 7.33 MiB/s   \r",
      "Receiving objects:  73% (246/336), 3.67 MiB | 7.33 MiB/s   \r",
      "Receiving objects:  74% (249/336), 3.67 MiB | 7.33 MiB/s   \r",
      "Receiving objects:  75% (252/336), 3.67 MiB | 7.33 MiB/s   \r",
      "Receiving objects:  76% (256/336), 3.67 MiB | 7.33 MiB/s   \r",
      "Receiving objects:  77% (259/336), 3.67 MiB | 7.33 MiB/s   \r",
      "Receiving objects:  78% (263/336), 3.67 MiB | 7.33 MiB/s   \r",
      "Receiving objects:  79% (266/336), 3.67 MiB | 7.33 MiB/s   \r",
      "Receiving objects:  80% (269/336), 3.67 MiB | 7.33 MiB/s   \r",
      "Receiving objects:  81% (273/336), 3.67 MiB | 7.33 MiB/s   \r",
      "Receiving objects:  82% (276/336), 3.67 MiB | 7.33 MiB/s   \r",
      "Receiving objects:  83% (279/336), 3.67 MiB | 7.33 MiB/s   \r",
      "Receiving objects:  84% (283/336), 3.67 MiB | 7.33 MiB/s   \r",
      "Receiving objects:  85% (286/336), 3.67 MiB | 7.33 MiB/s   \r",
      "Receiving objects:  86% (289/336), 3.67 MiB | 7.33 MiB/s   \r",
      "Receiving objects:  87% (293/336), 3.67 MiB | 7.33 MiB/s   \r",
      "Receiving objects:  88% (296/336), 3.67 MiB | 7.33 MiB/s   \r",
      "Receiving objects:  89% (300/336), 3.67 MiB | 7.33 MiB/s   \r",
      "Receiving objects:  90% (303/336), 3.67 MiB | 7.33 MiB/s   \r",
      "Receiving objects:  91% (306/336), 3.67 MiB | 7.33 MiB/s   \r",
      "Receiving objects:  92% (310/336), 3.67 MiB | 7.33 MiB/s   \r",
      "Receiving objects:  93% (313/336), 3.67 MiB | 7.33 MiB/s   \r",
      "Receiving objects:  94% (316/336), 3.67 MiB | 7.33 MiB/s   \r",
      "Receiving objects:  95% (320/336), 3.67 MiB | 7.33 MiB/s   \r",
      "Receiving objects:  96% (323/336), 3.67 MiB | 7.33 MiB/s   \r",
      "Receiving objects:  97% (326/336), 3.67 MiB | 7.33 MiB/s   \r",
      "Receiving objects:  98% (330/336), 3.67 MiB | 7.33 MiB/s   \r",
      "Receiving objects:  99% (333/336), 3.67 MiB | 7.33 MiB/s   \r",
      "remote: Total 336 (delta 0), reused 0 (delta 0), pack-reused 336\u001b[K\n",
      "Receiving objects: 100% (336/336), 3.67 MiB | 7.33 MiB/s   \r",
      "Receiving objects: 100% (336/336), 9.86 MiB | 11.36 MiB/s, done.\n",
      "Resolving deltas:   0% (0/213)   \r",
      "Resolving deltas:   1% (3/213)   \r",
      "Resolving deltas:   4% (10/213)   \r",
      "Resolving deltas:   6% (13/213)   \r",
      "Resolving deltas:   7% (16/213)   \r",
      "Resolving deltas:   9% (20/213)   \r",
      "Resolving deltas:  10% (23/213)   \r",
      "Resolving deltas:  12% (26/213)   \r",
      "Resolving deltas:  14% (30/213)   \r",
      "Resolving deltas:  15% (34/213)   \r",
      "Resolving deltas:  17% (37/213)   \r",
      "Resolving deltas:  18% (40/213)   \r",
      "Resolving deltas:  19% (42/213)   \r",
      "Resolving deltas:  20% (44/213)   \r",
      "Resolving deltas:  26% (57/213)   \r",
      "Resolving deltas:  30% (64/213)   \r",
      "Resolving deltas:  33% (71/213)   \r",
      "Resolving deltas:  34% (74/213)   \r",
      "Resolving deltas:  42% (90/213)   \r",
      "Resolving deltas:  53% (114/213)   \r",
      "Resolving deltas:  60% (129/213)   \r",
      "Resolving deltas:  68% (145/213)   \r",
      "Resolving deltas:  70% (150/213)   \r",
      "Resolving deltas:  77% (166/213)   \r",
      "Resolving deltas:  91% (194/213)   \r",
      "Resolving deltas: 100% (213/213)   \r",
      "Resolving deltas: 100% (213/213), done.\n"
     ]
    }
   ],
   "source": [
    "!git clone https://github.com/jcvasquezc/DisVoice"
   ]
  },
  {
   "cell_type": "code",
   "execution_count": 3,
   "metadata": {
    "colab": {
     "base_uri": "https://localhost:8080/",
     "height": 4811
    },
    "colab_type": "code",
    "id": "kyXZvmS1n4GC",
    "outputId": "9c51bc0c-91b7-4a36-f605-11a65fc5b14a"
   },
   "outputs": [
    {
     "name": "stdout",
     "output_type": "stream",
     "text": [
      "Collecting pysptk\n",
      "\u001b[?25l  Downloading https://files.pythonhosted.org/packages/af/f3/6962e72cb91913f5ae96077feb7cd8ad1342d3fc991ff3e4e8e253ef0302/pysptk-0.1.16.tar.gz (421kB)\n",
      "\u001b[K    100% |████████████████████████████████| 430kB 12.2MB/s \n",
      "\u001b[?25hRequirement already satisfied: scipy in /usr/local/lib/python3.6/dist-packages (from pysptk) (1.1.0)\n",
      "Requirement already satisfied: six in /usr/local/lib/python3.6/dist-packages (from pysptk) (1.11.0)\n",
      "Requirement already satisfied: decorator in /usr/local/lib/python3.6/dist-packages (from pysptk) (4.4.0)\n",
      "Requirement already satisfied: numpy>=1.8.2 in /usr/local/lib/python3.6/dist-packages (from scipy->pysptk) (1.14.6)\n",
      "Building wheels for collected packages: pysptk\n",
      "  Building wheel for pysptk (setup.py) ... \u001b[?25ldone\n",
      "\u001b[?25h  Stored in directory: /root/.cache/pip/wheels/66/da/9f/bd9cd0b3a8887cd1129fac311750654437f71dd0f05c404fa6\n",
      "Successfully built pysptk\n",
      "Installing collected packages: pysptk\n",
      "Successfully installed pysptk-0.1.16\n",
      "Reading package lists... Done\n",
      "Building dependency tree       \n",
      "Reading state information... Done\n",
      "The following package was automatically installed and is no longer required:\n",
      "  libnvidia-common-410\n",
      "Use 'sudo apt autoremove' to remove it.\n",
      "The following additional packages will be installed:\n",
      "  libasound2-plugins libgail-common libgail18 libgtk2.0-0 libgtk2.0-bin\n",
      "  libgtk2.0-common liborc-0.4-0 libpulsedsp libspeexdsp1 libtdb1\n",
      "  libwebrtc-audio-processing1 osspd osspd-pulseaudio pulseaudio\n",
      "  pulseaudio-utils rtkit\n",
      "Suggested packages:\n",
      "  gvfs pavumeter pavucontrol paman paprefs ubuntu-sounds avahi-daemon\n",
      "The following NEW packages will be installed:\n",
      "  libasound2-plugins libgail-common libgail18 libgtk2.0-0 libgtk2.0-bin\n",
      "  libgtk2.0-common liborc-0.4-0 libpulsedsp libspeexdsp1 libtdb1\n",
      "  libwebrtc-audio-processing1 osspd osspd-pulseaudio praat pulseaudio\n",
      "  pulseaudio-utils rtkit\n",
      "0 upgraded, 17 newly installed, 0 to remove and 6 not upgraded.\n",
      "Need to get 15.2 MB of archives.\n",
      "After this operation, 64.7 MB of additional disk space will be used.\n",
      "Get:1 http://archive.ubuntu.com/ubuntu bionic/main amd64 libspeexdsp1 amd64 1.2~rc1.2-1ubuntu2 [40.3 kB]\n",
      "Get:2 http://archive.ubuntu.com/ubuntu bionic/main amd64 libasound2-plugins amd64 1.1.1-1ubuntu1 [55.0 kB]\n",
      "Get:3 http://archive.ubuntu.com/ubuntu bionic/main amd64 libgtk2.0-common all 2.24.32-1ubuntu1 [125 kB]\n",
      "Get:4 http://archive.ubuntu.com/ubuntu bionic/main amd64 libgtk2.0-0 amd64 2.24.32-1ubuntu1 [1,769 kB]\n",
      "Get:5 http://archive.ubuntu.com/ubuntu bionic/main amd64 libgail18 amd64 2.24.32-1ubuntu1 [14.2 kB]\n",
      "Get:6 http://archive.ubuntu.com/ubuntu bionic/main amd64 libgail-common amd64 2.24.32-1ubuntu1 [112 kB]\n",
      "Get:7 http://archive.ubuntu.com/ubuntu bionic/main amd64 libgtk2.0-bin amd64 2.24.32-1ubuntu1 [7,536 B]\n",
      "Get:8 http://archive.ubuntu.com/ubuntu bionic/main amd64 liborc-0.4-0 amd64 1:0.4.28-1 [137 kB]\n",
      "Get:9 http://archive.ubuntu.com/ubuntu bionic-updates/main amd64 libpulsedsp amd64 1:11.1-1ubuntu7.2 [31.9 kB]\n",
      "Get:10 http://archive.ubuntu.com/ubuntu bionic/main amd64 libtdb1 amd64 1.3.15-2 [39.7 kB]\n",
      "Get:11 http://archive.ubuntu.com/ubuntu bionic/main amd64 libwebrtc-audio-processing1 amd64 0.3-1 [260 kB]\n",
      "Get:12 http://archive.ubuntu.com/ubuntu bionic-updates/main amd64 pulseaudio-utils amd64 1:11.1-1ubuntu7.2 [64.3 kB]\n",
      "Get:13 http://archive.ubuntu.com/ubuntu bionic-updates/main amd64 pulseaudio amd64 1:11.1-1ubuntu7.2 [785 kB]\n",
      "Get:14 http://archive.ubuntu.com/ubuntu bionic/universe amd64 osspd-pulseaudio amd64 1.3.2-9 [19.3 kB]\n",
      "Get:15 http://archive.ubuntu.com/ubuntu bionic/universe amd64 osspd amd64 1.3.2-9 [24.7 kB]\n",
      "Get:16 http://archive.ubuntu.com/ubuntu bionic/universe amd64 praat amd64 6.0.37-2 [11.7 MB]\n",
      "Get:17 http://archive.ubuntu.com/ubuntu bionic/main amd64 rtkit amd64 0.11-6 [35.7 kB]\n",
      "Fetched 15.2 MB in 5s (3,269 kB/s)\n",
      "debconf: unable to initialize frontend: Dialog\n",
      "debconf: (No usable dialog-like program is installed, so the dialog based frontend cannot be used. at /usr/share/perl5/Debconf/FrontEnd/Dialog.pm line 76, <> line 17.)\n",
      "debconf: falling back to frontend: Readline\n",
      "debconf: unable to initialize frontend: Readline\n",
      "debconf: (This frontend requires a controlling tty.)\n",
      "debconf: falling back to frontend: Teletype\n",
      "dpkg-preconfigure: unable to re-open stdin: \n",
      "Selecting previously unselected package libspeexdsp1:amd64.\n",
      "(Reading database ... 131294 files and directories currently installed.)\n",
      "Preparing to unpack .../00-libspeexdsp1_1.2~rc1.2-1ubuntu2_amd64.deb ...\n",
      "Unpacking libspeexdsp1:amd64 (1.2~rc1.2-1ubuntu2) ...\n",
      "Selecting previously unselected package libasound2-plugins:amd64.\n",
      "Preparing to unpack .../01-libasound2-plugins_1.1.1-1ubuntu1_amd64.deb ...\n",
      "Unpacking libasound2-plugins:amd64 (1.1.1-1ubuntu1) ...\n",
      "Selecting previously unselected package libgtk2.0-common.\n",
      "Preparing to unpack .../02-libgtk2.0-common_2.24.32-1ubuntu1_all.deb ...\n",
      "Unpacking libgtk2.0-common (2.24.32-1ubuntu1) ...\n",
      "Selecting previously unselected package libgtk2.0-0:amd64.\n",
      "Preparing to unpack .../03-libgtk2.0-0_2.24.32-1ubuntu1_amd64.deb ...\n",
      "Unpacking libgtk2.0-0:amd64 (2.24.32-1ubuntu1) ...\n",
      "Selecting previously unselected package libgail18:amd64.\n",
      "Preparing to unpack .../04-libgail18_2.24.32-1ubuntu1_amd64.deb ...\n",
      "Unpacking libgail18:amd64 (2.24.32-1ubuntu1) ...\n",
      "Selecting previously unselected package libgail-common:amd64.\n",
      "Preparing to unpack .../05-libgail-common_2.24.32-1ubuntu1_amd64.deb ...\n",
      "Unpacking libgail-common:amd64 (2.24.32-1ubuntu1) ...\n",
      "Selecting previously unselected package libgtk2.0-bin.\n",
      "Preparing to unpack .../06-libgtk2.0-bin_2.24.32-1ubuntu1_amd64.deb ...\n",
      "Unpacking libgtk2.0-bin (2.24.32-1ubuntu1) ...\n",
      "Selecting previously unselected package liborc-0.4-0:amd64.\n",
      "Preparing to unpack .../07-liborc-0.4-0_1%3a0.4.28-1_amd64.deb ...\n",
      "Unpacking liborc-0.4-0:amd64 (1:0.4.28-1) ...\n",
      "Selecting previously unselected package libpulsedsp:amd64.\n",
      "Preparing to unpack .../08-libpulsedsp_1%3a11.1-1ubuntu7.2_amd64.deb ...\n",
      "Unpacking libpulsedsp:amd64 (1:11.1-1ubuntu7.2) ...\n",
      "Selecting previously unselected package libtdb1:amd64.\n",
      "Preparing to unpack .../09-libtdb1_1.3.15-2_amd64.deb ...\n",
      "Unpacking libtdb1:amd64 (1.3.15-2) ...\n",
      "Selecting previously unselected package libwebrtc-audio-processing1:amd64.\n",
      "Preparing to unpack .../10-libwebrtc-audio-processing1_0.3-1_amd64.deb ...\n",
      "Unpacking libwebrtc-audio-processing1:amd64 (0.3-1) ...\n",
      "Selecting previously unselected package pulseaudio-utils.\n",
      "Preparing to unpack .../11-pulseaudio-utils_1%3a11.1-1ubuntu7.2_amd64.deb ...\n",
      "Unpacking pulseaudio-utils (1:11.1-1ubuntu7.2) ...\n",
      "Selecting previously unselected package pulseaudio.\n",
      "Preparing to unpack .../12-pulseaudio_1%3a11.1-1ubuntu7.2_amd64.deb ...\n",
      "Unpacking pulseaudio (1:11.1-1ubuntu7.2) ...\n",
      "Selecting previously unselected package osspd-pulseaudio.\n",
      "Preparing to unpack .../13-osspd-pulseaudio_1.3.2-9_amd64.deb ...\n",
      "Unpacking osspd-pulseaudio (1.3.2-9) ...\n",
      "Selecting previously unselected package osspd.\n",
      "Preparing to unpack .../14-osspd_1.3.2-9_amd64.deb ...\n",
      "Unpacking osspd (1.3.2-9) ...\n",
      "Selecting previously unselected package praat.\n",
      "Preparing to unpack .../15-praat_6.0.37-2_amd64.deb ...\n",
      "Unpacking praat (6.0.37-2) ...\n",
      "Selecting previously unselected package rtkit.\n",
      "Preparing to unpack .../16-rtkit_0.11-6_amd64.deb ...\n",
      "Unpacking rtkit (0.11-6) ...\n",
      "Setting up libtdb1:amd64 (1.3.15-2) ...\n",
      "Setting up libgtk2.0-common (2.24.32-1ubuntu1) ...\n",
      "Processing triggers for mime-support (3.60ubuntu1) ...\n",
      "Setting up libpulsedsp:amd64 (1:11.1-1ubuntu7.2) ...\n",
      "Setting up pulseaudio-utils (1:11.1-1ubuntu7.2) ...\n",
      "Setting up libwebrtc-audio-processing1:amd64 (0.3-1) ...\n",
      "Processing triggers for libc-bin (2.27-3ubuntu1) ...\n",
      "Setting up rtkit (0.11-6) ...\n",
      "invoke-rc.d: could not determine current runlevel\n",
      "invoke-rc.d: policy-rc.d denied execution of force-reload.\n",
      "Processing triggers for systemd (237-3ubuntu10.15) ...\n",
      "Processing triggers for man-db (2.8.3-2ubuntu0.1) ...\n",
      "Setting up liborc-0.4-0:amd64 (1:0.4.28-1) ...\n",
      "Processing triggers for dbus (1.12.2-1ubuntu1) ...\n",
      "Processing triggers for hicolor-icon-theme (0.17-2) ...\n",
      "Setting up libspeexdsp1:amd64 (1.2~rc1.2-1ubuntu2) ...\n",
      "Setting up libgtk2.0-0:amd64 (2.24.32-1ubuntu1) ...\n",
      "Setting up libgail18:amd64 (2.24.32-1ubuntu1) ...\n",
      "Setting up libasound2-plugins:amd64 (1.1.1-1ubuntu1) ...\n",
      "Setting up libgail-common:amd64 (2.24.32-1ubuntu1) ...\n",
      "Setting up libgtk2.0-bin (2.24.32-1ubuntu1) ...\n",
      "Setting up pulseaudio (1:11.1-1ubuntu7.2) ...\n",
      "Adding user pulse to group audio\n",
      "Setting up osspd-pulseaudio (1.3.2-9) ...\n",
      "update-alternatives: using /usr/lib/osspd/ossp-padsp to provide /usr/lib/osspd/ossp-slave (ossp-slave) in auto mode\n",
      "Setting up osspd (1.3.2-9) ...\n",
      "Created symlink /etc/systemd/system/multi-user.target.wants/osspd.service → /lib/systemd/system/osspd.service.\n",
      "invoke-rc.d: could not determine current runlevel\n",
      "invoke-rc.d: policy-rc.d denied execution of start.\n",
      "Setting up praat (6.0.37-2) ...\n",
      "Processing triggers for libc-bin (2.27-3ubuntu1) ...\n",
      "Processing triggers for dbus (1.12.2-1ubuntu1) ...\n",
      "Processing triggers for systemd (237-3ubuntu10.15) ...\n",
      "fatal: not a git repository (or any of the parent directories): .git\n",
      "fatal: not a git repository (or any of the parent directories): .git\n",
      "For Kaldi output Kaldi must be installed beforehand and the path at kaldi-io/kaldiio.py:\n",
      "line 14: os.environ[KALDI_ROOT]=/mnt/matylda5/iveselyk/Tools/kaldi-trunk\n",
      "should be changed to with path to the proper Kaldi root directory.\n",
      "Collecting dash==0.21.1\n",
      "  Downloading https://files.pythonhosted.org/packages/db/08/5bc503722a3d430ed01c5c75d754c8cdae6f6c2d83c10b48987a6a41af02/dash-0.21.1.tar.gz\n",
      "Requirement already satisfied: Flask>=0.12 in /usr/local/lib/python3.6/dist-packages (from dash==0.21.1) (1.0.2)\n",
      "Collecting flask-compress (from dash==0.21.1)\n",
      "  Downloading https://files.pythonhosted.org/packages/0e/2a/378bd072928f6d92fd8c417d66b00c757dc361c0405a46a0134de6fd323d/Flask-Compress-1.4.0.tar.gz\n",
      "Requirement already satisfied: plotly in /usr/local/lib/python3.6/dist-packages (from dash==0.21.1) (3.6.1)\n",
      "Requirement already satisfied: Jinja2>=2.10 in /usr/local/lib/python3.6/dist-packages (from Flask>=0.12->dash==0.21.1) (2.10)\n",
      "Requirement already satisfied: Werkzeug>=0.14 in /usr/local/lib/python3.6/dist-packages (from Flask>=0.12->dash==0.21.1) (0.15.1)\n",
      "Requirement already satisfied: itsdangerous>=0.24 in /usr/local/lib/python3.6/dist-packages (from Flask>=0.12->dash==0.21.1) (1.1.0)\n",
      "Requirement already satisfied: click>=5.1 in /usr/local/lib/python3.6/dist-packages (from Flask>=0.12->dash==0.21.1) (7.0)\n",
      "Requirement already satisfied: nbformat>=4.2 in /usr/local/lib/python3.6/dist-packages (from plotly->dash==0.21.1) (4.4.0)\n",
      "Requirement already satisfied: requests in /usr/local/lib/python3.6/dist-packages (from plotly->dash==0.21.1) (2.18.4)\n",
      "Requirement already satisfied: six in /usr/local/lib/python3.6/dist-packages (from plotly->dash==0.21.1) (1.11.0)\n",
      "Requirement already satisfied: retrying>=1.3.3 in /usr/local/lib/python3.6/dist-packages (from plotly->dash==0.21.1) (1.3.3)\n",
      "Requirement already satisfied: pytz in /usr/local/lib/python3.6/dist-packages (from plotly->dash==0.21.1) (2018.9)\n",
      "Requirement already satisfied: decorator>=4.0.6 in /usr/local/lib/python3.6/dist-packages (from plotly->dash==0.21.1) (4.4.0)\n",
      "Requirement already satisfied: MarkupSafe>=0.23 in /usr/local/lib/python3.6/dist-packages (from Jinja2>=2.10->Flask>=0.12->dash==0.21.1) (1.1.1)\n",
      "Requirement already satisfied: jsonschema!=2.5.0,>=2.4 in /usr/local/lib/python3.6/dist-packages (from nbformat>=4.2->plotly->dash==0.21.1) (2.6.0)\n",
      "Requirement already satisfied: ipython-genutils in /usr/local/lib/python3.6/dist-packages (from nbformat>=4.2->plotly->dash==0.21.1) (0.2.0)\n",
      "Requirement already satisfied: traitlets>=4.1 in /usr/local/lib/python3.6/dist-packages (from nbformat>=4.2->plotly->dash==0.21.1) (4.3.2)\n",
      "Requirement already satisfied: jupyter-core in /usr/local/lib/python3.6/dist-packages (from nbformat>=4.2->plotly->dash==0.21.1) (4.4.0)\n",
      "Requirement already satisfied: certifi>=2017.4.17 in /usr/local/lib/python3.6/dist-packages (from requests->plotly->dash==0.21.1) (2019.3.9)\n",
      "Requirement already satisfied: urllib3<1.23,>=1.21.1 in /usr/local/lib/python3.6/dist-packages (from requests->plotly->dash==0.21.1) (1.22)\n",
      "Requirement already satisfied: idna<2.7,>=2.5 in /usr/local/lib/python3.6/dist-packages (from requests->plotly->dash==0.21.1) (2.6)\n",
      "Requirement already satisfied: chardet<3.1.0,>=3.0.2 in /usr/local/lib/python3.6/dist-packages (from requests->plotly->dash==0.21.1) (3.0.4)\n",
      "Building wheels for collected packages: dash, flask-compress\n",
      "  Building wheel for dash (setup.py) ... \u001b[?25ldone\n",
      "\u001b[?25h  Stored in directory: /root/.cache/pip/wheels/79/4e/43/d38542943cc58ce490e4f204298b511e6a22891236eb2f19e1\n",
      "  Building wheel for flask-compress (setup.py) ... \u001b[?25ldone\n",
      "\u001b[?25h  Stored in directory: /root/.cache/pip/wheels/96/32/88/a1f6d9dd3c29570ab3a8acc0d556b3b20abcf3c623c868ce0a\n",
      "Successfully built dash flask-compress\n",
      "Installing collected packages: flask-compress, dash\n",
      "Successfully installed dash-0.21.1 flask-compress-1.4.0\n",
      "Collecting dash-renderer==0.12.1\n",
      "\u001b[?25l  Downloading https://files.pythonhosted.org/packages/a2/1e/4401bd80be225a5d331d6789819cc4dde3d3226bafc07e3a2a84504daa3c/dash_renderer-0.12.1.tar.gz (160kB)\n",
      "\u001b[K    100% |████████████████████████████████| 163kB 10.0MB/s \n",
      "\u001b[?25hBuilding wheels for collected packages: dash-renderer\n",
      "  Building wheel for dash-renderer (setup.py) ... \u001b[?25ldone\n",
      "\u001b[?25h  Stored in directory: /root/.cache/pip/wheels/a9/90/ef/d25c33086e15613341b600c86fbe76d3d5ca5e312a672d53b7\n",
      "Successfully built dash-renderer\n",
      "Installing collected packages: dash-renderer\n",
      "Successfully installed dash-renderer-0.12.1\n",
      "Collecting dash-html-components==0.10.1\n",
      "  Downloading https://files.pythonhosted.org/packages/fd/75/b91f837e62b54e55b017806c78329e9c15b490d1d1e8c5810964b948b265/dash_html_components-0.10.1.tar.gz\n",
      "Requirement already satisfied: dash in /usr/local/lib/python3.6/dist-packages (from dash-html-components==0.10.1) (0.21.1)\n",
      "Requirement already satisfied: Flask>=0.12 in /usr/local/lib/python3.6/dist-packages (from dash->dash-html-components==0.10.1) (1.0.2)\n",
      "Requirement already satisfied: flask-compress in /usr/local/lib/python3.6/dist-packages (from dash->dash-html-components==0.10.1) (1.4.0)\n",
      "Requirement already satisfied: plotly in /usr/local/lib/python3.6/dist-packages (from dash->dash-html-components==0.10.1) (3.6.1)\n",
      "Requirement already satisfied: Werkzeug>=0.14 in /usr/local/lib/python3.6/dist-packages (from Flask>=0.12->dash->dash-html-components==0.10.1) (0.15.1)\n",
      "Requirement already satisfied: itsdangerous>=0.24 in /usr/local/lib/python3.6/dist-packages (from Flask>=0.12->dash->dash-html-components==0.10.1) (1.1.0)\n",
      "Requirement already satisfied: Jinja2>=2.10 in /usr/local/lib/python3.6/dist-packages (from Flask>=0.12->dash->dash-html-components==0.10.1) (2.10)\n",
      "Requirement already satisfied: click>=5.1 in /usr/local/lib/python3.6/dist-packages (from Flask>=0.12->dash->dash-html-components==0.10.1) (7.0)\n",
      "Requirement already satisfied: retrying>=1.3.3 in /usr/local/lib/python3.6/dist-packages (from plotly->dash->dash-html-components==0.10.1) (1.3.3)\n",
      "Requirement already satisfied: requests in /usr/local/lib/python3.6/dist-packages (from plotly->dash->dash-html-components==0.10.1) (2.18.4)\n",
      "Requirement already satisfied: decorator>=4.0.6 in /usr/local/lib/python3.6/dist-packages (from plotly->dash->dash-html-components==0.10.1) (4.4.0)\n",
      "Requirement already satisfied: six in /usr/local/lib/python3.6/dist-packages (from plotly->dash->dash-html-components==0.10.1) (1.11.0)\n",
      "Requirement already satisfied: nbformat>=4.2 in /usr/local/lib/python3.6/dist-packages (from plotly->dash->dash-html-components==0.10.1) (4.4.0)\n",
      "Requirement already satisfied: pytz in /usr/local/lib/python3.6/dist-packages (from plotly->dash->dash-html-components==0.10.1) (2018.9)\n",
      "Requirement already satisfied: MarkupSafe>=0.23 in /usr/local/lib/python3.6/dist-packages (from Jinja2>=2.10->Flask>=0.12->dash->dash-html-components==0.10.1) (1.1.1)\n",
      "Requirement already satisfied: urllib3<1.23,>=1.21.1 in /usr/local/lib/python3.6/dist-packages (from requests->plotly->dash->dash-html-components==0.10.1) (1.22)\n",
      "Requirement already satisfied: chardet<3.1.0,>=3.0.2 in /usr/local/lib/python3.6/dist-packages (from requests->plotly->dash->dash-html-components==0.10.1) (3.0.4)\n",
      "Requirement already satisfied: certifi>=2017.4.17 in /usr/local/lib/python3.6/dist-packages (from requests->plotly->dash->dash-html-components==0.10.1) (2019.3.9)\n",
      "Requirement already satisfied: idna<2.7,>=2.5 in /usr/local/lib/python3.6/dist-packages (from requests->plotly->dash->dash-html-components==0.10.1) (2.6)\n",
      "Requirement already satisfied: ipython-genutils in /usr/local/lib/python3.6/dist-packages (from nbformat>=4.2->plotly->dash->dash-html-components==0.10.1) (0.2.0)\n",
      "Requirement already satisfied: jupyter-core in /usr/local/lib/python3.6/dist-packages (from nbformat>=4.2->plotly->dash->dash-html-components==0.10.1) (4.4.0)\n",
      "Requirement already satisfied: traitlets>=4.1 in /usr/local/lib/python3.6/dist-packages (from nbformat>=4.2->plotly->dash->dash-html-components==0.10.1) (4.3.2)\n",
      "Requirement already satisfied: jsonschema!=2.5.0,>=2.4 in /usr/local/lib/python3.6/dist-packages (from nbformat>=4.2->plotly->dash->dash-html-components==0.10.1) (2.6.0)\n",
      "Building wheels for collected packages: dash-html-components\n",
      "  Building wheel for dash-html-components (setup.py) ... \u001b[?25ldone\n",
      "\u001b[?25h  Stored in directory: /root/.cache/pip/wheels/d6/82/36/a8257879a23166ea2504bace8f3fb76806a3232af283c82d33\n",
      "Successfully built dash-html-components\n",
      "Installing collected packages: dash-html-components\n",
      "Successfully installed dash-html-components-0.10.1\n",
      "Collecting dash-core-components==0.23.0\n",
      "\u001b[?25l  Downloading https://files.pythonhosted.org/packages/13/7d/cd4f5ee972e80e90d71e53f055df5546074902e93ca986caeb980eea7a08/dash_core_components-0.23.0.tar.gz (2.0MB)\n",
      "\u001b[K    100% |████████████████████████████████| 2.0MB 1.5MB/s \n",
      "\u001b[?25hRequirement already satisfied: dash in /usr/local/lib/python3.6/dist-packages (from dash-core-components==0.23.0) (0.21.1)\n",
      "Requirement already satisfied: flask-compress in /usr/local/lib/python3.6/dist-packages (from dash->dash-core-components==0.23.0) (1.4.0)\n",
      "Requirement already satisfied: Flask>=0.12 in /usr/local/lib/python3.6/dist-packages (from dash->dash-core-components==0.23.0) (1.0.2)\n",
      "Requirement already satisfied: plotly in /usr/local/lib/python3.6/dist-packages (from dash->dash-core-components==0.23.0) (3.6.1)\n",
      "Requirement already satisfied: itsdangerous>=0.24 in /usr/local/lib/python3.6/dist-packages (from Flask>=0.12->dash->dash-core-components==0.23.0) (1.1.0)\n",
      "Requirement already satisfied: Werkzeug>=0.14 in /usr/local/lib/python3.6/dist-packages (from Flask>=0.12->dash->dash-core-components==0.23.0) (0.15.1)\n",
      "Requirement already satisfied: Jinja2>=2.10 in /usr/local/lib/python3.6/dist-packages (from Flask>=0.12->dash->dash-core-components==0.23.0) (2.10)\n",
      "Requirement already satisfied: click>=5.1 in /usr/local/lib/python3.6/dist-packages (from Flask>=0.12->dash->dash-core-components==0.23.0) (7.0)\n",
      "Requirement already satisfied: nbformat>=4.2 in /usr/local/lib/python3.6/dist-packages (from plotly->dash->dash-core-components==0.23.0) (4.4.0)\n",
      "Requirement already satisfied: retrying>=1.3.3 in /usr/local/lib/python3.6/dist-packages (from plotly->dash->dash-core-components==0.23.0) (1.3.3)\n",
      "Requirement already satisfied: requests in /usr/local/lib/python3.6/dist-packages (from plotly->dash->dash-core-components==0.23.0) (2.18.4)\n",
      "Requirement already satisfied: six in /usr/local/lib/python3.6/dist-packages (from plotly->dash->dash-core-components==0.23.0) (1.11.0)\n",
      "Requirement already satisfied: decorator>=4.0.6 in /usr/local/lib/python3.6/dist-packages (from plotly->dash->dash-core-components==0.23.0) (4.4.0)\n",
      "Requirement already satisfied: pytz in /usr/local/lib/python3.6/dist-packages (from plotly->dash->dash-core-components==0.23.0) (2018.9)\n",
      "Requirement already satisfied: MarkupSafe>=0.23 in /usr/local/lib/python3.6/dist-packages (from Jinja2>=2.10->Flask>=0.12->dash->dash-core-components==0.23.0) (1.1.1)\n",
      "Requirement already satisfied: jupyter-core in /usr/local/lib/python3.6/dist-packages (from nbformat>=4.2->plotly->dash->dash-core-components==0.23.0) (4.4.0)\n",
      "Requirement already satisfied: jsonschema!=2.5.0,>=2.4 in /usr/local/lib/python3.6/dist-packages (from nbformat>=4.2->plotly->dash->dash-core-components==0.23.0) (2.6.0)\n",
      "Requirement already satisfied: ipython-genutils in /usr/local/lib/python3.6/dist-packages (from nbformat>=4.2->plotly->dash->dash-core-components==0.23.0) (0.2.0)\n",
      "Requirement already satisfied: traitlets>=4.1 in /usr/local/lib/python3.6/dist-packages (from nbformat>=4.2->plotly->dash->dash-core-components==0.23.0) (4.3.2)\n",
      "Requirement already satisfied: idna<2.7,>=2.5 in /usr/local/lib/python3.6/dist-packages (from requests->plotly->dash->dash-core-components==0.23.0) (2.6)\n",
      "Requirement already satisfied: urllib3<1.23,>=1.21.1 in /usr/local/lib/python3.6/dist-packages (from requests->plotly->dash->dash-core-components==0.23.0) (1.22)\n",
      "Requirement already satisfied: certifi>=2017.4.17 in /usr/local/lib/python3.6/dist-packages (from requests->plotly->dash->dash-core-components==0.23.0) (2019.3.9)\n",
      "Requirement already satisfied: chardet<3.1.0,>=3.0.2 in /usr/local/lib/python3.6/dist-packages (from requests->plotly->dash->dash-core-components==0.23.0) (3.0.4)\n",
      "Building wheels for collected packages: dash-core-components\n",
      "  Building wheel for dash-core-components (setup.py) ... \u001b[?25ldone\n",
      "\u001b[?25h  Stored in directory: /root/.cache/pip/wheels/55/c2/da/1ac4291bb7a2857bc5cb2d6f1e3fbd407d5060cee36ce90928\n",
      "Successfully built dash-core-components\n",
      "Installing collected packages: dash-core-components\n",
      "Successfully installed dash-core-components-0.23.0\n",
      "Collecting plotly\n",
      "\u001b[?25l  Downloading https://files.pythonhosted.org/packages/37/25/32fb6f58bfc6f462d61bf0de95e8c0bbf07bfaba11ed0ecb81c0590f3584/plotly-3.7.1-py2.py3-none-any.whl (35.7MB)\n",
      "\u001b[K    100% |████████████████████████████████| 35.7MB 807kB/s \n",
      "\u001b[?25hRequirement already satisfied, skipping upgrade: requests in /usr/local/lib/python3.6/dist-packages (from plotly) (2.18.4)\n",
      "Requirement already satisfied, skipping upgrade: decorator>=4.0.6 in /usr/local/lib/python3.6/dist-packages (from plotly) (4.4.0)\n",
      "Requirement already satisfied, skipping upgrade: nbformat>=4.2 in /usr/local/lib/python3.6/dist-packages (from plotly) (4.4.0)\n",
      "Requirement already satisfied, skipping upgrade: six in /usr/local/lib/python3.6/dist-packages (from plotly) (1.11.0)\n",
      "Requirement already satisfied, skipping upgrade: retrying>=1.3.3 in /usr/local/lib/python3.6/dist-packages (from plotly) (1.3.3)\n",
      "Requirement already satisfied, skipping upgrade: pytz in /usr/local/lib/python3.6/dist-packages (from plotly) (2018.9)\n",
      "Requirement already satisfied, skipping upgrade: certifi>=2017.4.17 in /usr/local/lib/python3.6/dist-packages (from requests->plotly) (2019.3.9)\n",
      "Requirement already satisfied, skipping upgrade: urllib3<1.23,>=1.21.1 in /usr/local/lib/python3.6/dist-packages (from requests->plotly) (1.22)\n",
      "Requirement already satisfied, skipping upgrade: idna<2.7,>=2.5 in /usr/local/lib/python3.6/dist-packages (from requests->plotly) (2.6)\n",
      "Requirement already satisfied, skipping upgrade: chardet<3.1.0,>=3.0.2 in /usr/local/lib/python3.6/dist-packages (from requests->plotly) (3.0.4)\n",
      "Requirement already satisfied, skipping upgrade: jsonschema!=2.5.0,>=2.4 in /usr/local/lib/python3.6/dist-packages (from nbformat>=4.2->plotly) (2.6.0)\n",
      "Requirement already satisfied, skipping upgrade: traitlets>=4.1 in /usr/local/lib/python3.6/dist-packages (from nbformat>=4.2->plotly) (4.3.2)\n",
      "Requirement already satisfied, skipping upgrade: ipython-genutils in /usr/local/lib/python3.6/dist-packages (from nbformat>=4.2->plotly) (0.2.0)\n",
      "Requirement already satisfied, skipping upgrade: jupyter-core in /usr/local/lib/python3.6/dist-packages (from nbformat>=4.2->plotly) (4.4.0)\n",
      "Installing collected packages: plotly\n",
      "  Found existing installation: plotly 3.6.1\n",
      "    Uninstalling plotly-3.6.1:\n",
      "      Successfully uninstalled plotly-3.6.1\n",
      "Successfully installed plotly-3.7.1\n",
      "Collecting sounddevice\n",
      "  Downloading https://files.pythonhosted.org/packages/d1/f2/7cb487ac7171dfade8af7a368bd8806ecff82016f4ac9894835cd7de9ecc/sounddevice-0.3.13-py2.py3-none-any.whl\n",
      "Requirement already satisfied: CFFI>=1.0 in /usr/local/lib/python3.6/dist-packages (from sounddevice) (1.12.2)\n",
      "Requirement already satisfied: pycparser in /usr/local/lib/python3.6/dist-packages (from CFFI>=1.0->sounddevice) (2.19)\n",
      "Installing collected packages: sounddevice\n",
      "Successfully installed sounddevice-0.3.13\n"
     ]
    }
   ],
   "source": [
    "!DisVoice/install.sh"
   ]
  },
  {
   "cell_type": "markdown",
   "metadata": {
    "colab_type": "text",
    "id": "CvrTMDRDwL5w"
   },
   "source": [
    "### Ejemplos de uso\n",
    "Aquí mostramos como se ejecutan los scripts de este repositorio, cuyos resultados estarán en los ficheros .txt establecidos de salida"
   ]
  },
  {
   "cell_type": "code",
   "execution_count": 7,
   "metadata": {
    "colab": {
     "base_uri": "https://localhost:8080/",
     "height": 187
    },
    "colab_type": "code",
    "id": "fEC-wrAApQhS",
    "outputId": "395fed71-b297-4c87-bc76-a4583182d508"
   },
   "outputs": [
    {
     "name": "stdout",
     "output_type": "stream",
     "text": [
      "/content/DisVoice/phonation\n",
      "Processing audio 1 from 1 /content/DisVoice/phonation/001_a1_PCGITA.wav\n",
      "Jitter= 96\n",
      "Shimmer 96\n",
      "APQ 84\n",
      "PPQ 90\n",
      "DF0 95\n",
      "DDF0 94\n",
      "Energy 96\n",
      "degree unvoiced 4.0\n"
     ]
    }
   ],
   "source": [
    "!cd DisVoice/phonation; pwd;dir2=$(pwd); python phonation.py $dir2\"/001_a1_PCGITA.wav\" \"featuresAdyn.txt\" \"dynamic\""
   ]
  },
  {
   "cell_type": "code",
   "execution_count": 11,
   "metadata": {
    "colab": {
     "base_uri": "https://localhost:8080/",
     "height": 34
    },
    "colab_type": "code",
    "id": "RSHkD-7Qdiu0",
    "outputId": "ad9f245a-8c59-487b-ecff-005ceabe8a6c"
   },
   "outputs": [
    {
     "data": {
      "text/plain": [
       "0"
      ]
     },
     "execution_count": 11,
     "metadata": {
      "tags": []
     },
     "output_type": "execute_result"
    }
   ],
   "source": [
    "import os\n",
    "os.system('cd DisVoice/phonation; pwd;dir2=$(pwd); python phonation.py $dir2\"/001_a1_PCGITA.wav\" \"featuresAdyn.txt\" \"dynamic\"')"
   ]
  },
  {
   "cell_type": "code",
   "execution_count": 12,
   "metadata": {
    "colab": {
     "base_uri": "https://localhost:8080/",
     "height": 697
    },
    "colab_type": "code",
    "id": "lGyzGfPB0C9u",
    "outputId": "38fee6e2-284e-468d-d0c9-abc5d9846494"
   },
   "outputs": [
    {
     "name": "stdout",
     "output_type": "stream",
     "text": [
      "/content/DisVoice/prosody\n",
      "Processing audio 1 from 1 /content/DisVoice/prosody/001_ddk1_PCGITA.wav\n",
      "[  0.        80.56113   80.63963   80.67595   80.87003   81.02154\n",
      "  81.02322   81.845955  81.9138    82.001434  82.074036  82.107376\n",
      "  82.15354   82.25918   82.26426   82.264275  82.264435  82.26457\n",
      "  82.26484   82.272224  82.29845   82.31923   82.40165   82.69085\n",
      "  82.82203   82.910614  82.94396   82.9459    82.94855   82.952805\n",
      "  82.967995  83.013626  83.01604   83.042564  83.1169    83.11691\n",
      "  83.11736   83.11821   83.15582   83.22661   83.23853   83.28817\n",
      "  83.3151    83.33382   83.34818   83.436935  83.4389    83.44079\n",
      "  83.5118    83.55467   83.56648   83.60366   83.67888   83.75379\n",
      "  83.91766   84.271866  84.280624  84.29241   84.321304  84.38605\n",
      "  84.43281   84.43467   84.44654   84.44698   84.47154   84.47659\n",
      "  84.73026   84.9172    84.95975   85.308174  88.15486   88.39855\n",
      "  88.406525  88.50748   88.59795   88.98744   89.0287    89.03312\n",
      "  89.03673   89.69158   89.69593   89.73223   89.73784   90.27928\n",
      "  90.28138   90.30191   90.33353   93.090256  93.09535   93.128746\n",
      "  93.21883   94.43699   94.44527   94.44625   94.448326  94.67521\n",
      "  94.67579   94.7021    94.78608   95.1206    95.12122   95.12489\n",
      "  95.12803   95.13224   95.51083   95.52609   95.52657   95.622055\n",
      "  95.64674   95.65148   95.65842   95.784325  95.81127   95.82955\n",
      "  95.84206   95.85138   95.8529    95.86769   95.87385   96.183205\n",
      "  96.216385  96.22585   96.23419   96.241035  96.24193   96.247734\n",
      "  96.256454  96.92202   96.9269    96.92981   96.93002   97.21703\n",
      "  97.231346  97.23755   97.23865   97.75982   97.76054   97.76854\n",
      "  97.78573   97.82232   97.82317   97.825134  97.83834   99.46513\n",
      "  99.537415 100.38287  100.72184  104.88581  104.90369  104.910255\n",
      " 105.00995  106.23031  106.2362   106.2368   106.29712  115.49682\n",
      " 115.50415  115.51021  115.51069  122.95809  122.9781   122.98109\n",
      " 123.09365  123.197624 123.20742  123.2114   123.25649  125.23703\n",
      " 125.99782  126.024055 126.15328  126.1624   126.236374 126.37301\n",
      " 126.6019   128.1538   128.9458   129.61623  130.04633  130.0465\n",
      " 130.09003  130.12428  130.30893  130.85287  130.85341  131.02866\n",
      " 131.03484  131.18437  131.18735  131.18771  131.21669  131.29936\n",
      " 131.66455  131.6654   131.66554  132.71034  134.85687  134.92426\n",
      " 134.92699  134.92763  148.7833   150.16484  150.16573  157.84625\n",
      " 158.43532  159.64204  160.80032  162.38248  163.93834  164.31326\n",
      " 164.95482  167.11877  167.42375  168.72249  168.88176  169.29747\n",
      " 173.21872 ]\n",
      "(1, 38)\n"
     ]
    }
   ],
   "source": [
    "!cd DisVoice/prosody; pwd;dir2=$(pwd); python prosody.py $dir2\"/001_ddk1_PCGITA.wav\" \"featuresDDK.txt\" \"static\""
   ]
  },
  {
   "cell_type": "code",
   "execution_count": 0,
   "metadata": {
    "colab": {},
    "colab_type": "code",
    "id": "7hQSi0Qg0UMz"
   },
   "outputs": [],
   "source": []
  }
 ],
 "metadata": {
  "colab": {
   "name": "Instalación de librerías.ipynb",
   "provenance": [],
   "toc_visible": true,
   "version": "0.3.2"
  },
  "kernelspec": {
   "display_name": "Python 3",
   "language": "python",
   "name": "python3"
  },
  "language_info": {
   "codemirror_mode": {
    "name": "ipython",
    "version": 3
   },
   "file_extension": ".py",
   "mimetype": "text/x-python",
   "name": "python",
   "nbconvert_exporter": "python",
   "pygments_lexer": "ipython3",
   "version": "3.6.8"
  }
 },
 "nbformat": 4,
 "nbformat_minor": 1
}
