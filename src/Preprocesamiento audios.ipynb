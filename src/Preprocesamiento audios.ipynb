{
 "cells": [
  {
   "cell_type": "markdown",
   "metadata": {},
   "source": [
    "# Preprocesamiento de audios\n",
    "## Adrián Arnaiz Rodríguez\n",
    "### Eliminamos el silencio inicial y final de los audios para que no den medidas erróneas en el script prosody.py de disvoice. Explicación:\n",
    "\n",
    "*En el caso de las medidas de prosodia se pueden tener algunos incovenientes si los silencios iniciales son muy largos puesto que tendríamos resultados erróneos en las caracteristicas relacionadas con la duracion promedio de silencios, la variabilidad de la duracion de los silencios y otras medidas que se calculan sobre las pausas.*\n",
    "\n",
    "*Para los demás scripts (phonation.py y articulation.py) se utilizarán los audios originales. En el caso de phonation y articulation no es necesario eliminar estos silencios. Las caracteristicas de fonación se calculan solo sobre segmentos voiced, los cuales se segmentan automaticamente usando un script de praat (linea 138 de phonation.py, metodo paat_vuv de praat_functions.py). Igualmente para las de articulación, puesto que solo estan basadas en segmentos de transiciones de voiced a unvoiced, o vicerversa (segmentos onset u offset, lineas 175 y 176 de articulation.py).*"
   ]
  },
  {
   "cell_type": "markdown",
   "metadata": {},
   "source": [
    "### 1. Importamos pydub para eliminar silencios"
   ]
  },
  {
   "cell_type": "code",
   "execution_count": 1,
   "metadata": {},
   "outputs": [
    {
     "name": "stderr",
     "output_type": "stream",
     "text": [
      "C:\\Users\\usuario\\Anaconda3\\lib\\site-packages\\pydub\\utils.py:165: RuntimeWarning: Couldn't find ffmpeg or avconv - defaulting to ffmpeg, but may not work\n",
      "  warn(\"Couldn't find ffmpeg or avconv - defaulting to ffmpeg, but may not work\", RuntimeWarning)\n"
     ]
    }
   ],
   "source": [
    "from pydub import AudioSegment"
   ]
  },
  {
   "cell_type": "markdown",
   "metadata": {},
   "source": [
    "### 2. Creamos una función para que detecte los segmentos silenciosos al principio del audio\n",
    " 1. Le pasamos un audio de tipo pydub.AudioSegment\n",
    " 2. Establecemos unos dB límite para considerar qué es silencio\n",
    " 3. Establecemos el tamaño del segmento (def=10ms)"
   ]
  },
  {
   "cell_type": "code",
   "execution_count": 2,
   "metadata": {},
   "outputs": [],
   "source": [
    "def detect_leading_silence(sound, silence_threshold=-65.0, chunk_size=10):\n",
    "    '''\n",
    "    sound es del tipo pydub.AudioSegment\n",
    "    silence_threshold in dB\n",
    "    chunk_size in ms\n",
    "\n",
    "    iterate over chunks until you find the first one with sound\n",
    "    '''\n",
    "    trim_ms = 0 # ms\n",
    "\n",
    "    assert chunk_size > 0 # to avoid infinite loop\n",
    "    while sound[trim_ms:trim_ms+chunk_size].dBFS < silence_threshold and trim_ms < len(sound):\n",
    "        trim_ms += chunk_size\n",
    "\n",
    "    return trim_ms"
   ]
  },
  {
   "cell_type": "markdown",
   "metadata": {},
   "source": [
    "### 3. Usamos la funcióin anterior para eliminar silencio inicial y final y crear nuevo fichero de audio\n",
    "Este fichero de audio tendrá el mismo nombre que el anterior pero acabado en \\_S: audio.wav -> audio_S.wav"
   ]
  },
  {
   "cell_type": "code",
   "execution_count": 3,
   "metadata": {},
   "outputs": [],
   "source": [
    "from os import listdir, scandir\n",
    "def eliminar_silencios(ruta):\n",
    "    '''\n",
    "    Eliminamos los silencios inicial y final de los audios contenidos en una ruta concreta\n",
    "    '''\n",
    "    for audio in listdir(ruta):\n",
    "        sound = AudioSegment.from_file(ruta+'/'+audio, format=\"wav\")\n",
    "\n",
    "        start_trim = detect_leading_silence(sound)\n",
    "        end_trim = detect_leading_silence(sound.reverse())\n",
    "\n",
    "        duration = len(sound)    \n",
    "        trimmed_sound = sound[start_trim:duration-end_trim]\n",
    "        trimmed_sound.export(audio[:-4]+'_S.wav', format=\"wav\")\n"
   ]
  },
  {
   "cell_type": "markdown",
   "metadata": {},
   "source": [
    "#### Ejecutamos un ejemplo"
   ]
  },
  {
   "cell_type": "code",
   "execution_count": 4,
   "metadata": {
    "scrolled": true
   },
   "outputs": [],
   "source": [
    "eliminar_silencios('PC-GITA/read-text/pd')"
   ]
  },
  {
   "cell_type": "code",
   "execution_count": 5,
   "metadata": {},
   "outputs": [
    {
     "data": {
      "text/plain": [
       "['.ipynb_checkpoints',\n",
       " 'AVPEPUDEA0001_readtext_S.wav',\n",
       " 'AVPEPUDEA0002_readtext_S.wav',\n",
       " 'AVPEPUDEA0003_readtext_S.wav',\n",
       " 'AVPEPUDEA0005_readtext_S.wav',\n",
       " 'AVPEPUDEA0006_readtext_S.wav',\n",
       " 'AVPEPUDEA0007_readtext_S.wav',\n",
       " 'AVPEPUDEA0008_readtext_S.wav',\n",
       " 'AVPEPUDEA0009_readtext_S.wav',\n",
       " 'AVPEPUDEA0010_readtext_S.wav',\n",
       " 'AVPEPUDEA0011_readtext_S.wav',\n",
       " 'AVPEPUDEA0013_readtext_S.wav',\n",
       " 'AVPEPUDEA0014_readtext_S.wav',\n",
       " 'AVPEPUDEA0015_readtext_S.wav',\n",
       " 'AVPEPUDEA0016_readtext_S.wav',\n",
       " 'AVPEPUDEA0017_readtext_S.wav',\n",
       " 'AVPEPUDEA0020_readtext_S.wav',\n",
       " 'AVPEPUDEA0021_readtext_S.wav',\n",
       " 'AVPEPUDEA0022_readtext_S.wav',\n",
       " 'AVPEPUDEA0023_readtext_S.wav',\n",
       " 'AVPEPUDEA0024_readtext_S.wav',\n",
       " 'AVPEPUDEA0025_readtext_S.wav',\n",
       " 'AVPEPUDEA0026_readtext_S.wav',\n",
       " 'AVPEPUDEA0027_readtext_S.wav',\n",
       " 'AVPEPUDEA0029_readtext_S.wav',\n",
       " 'AVPEPUDEA0030_readtext_S.wav',\n",
       " 'AVPEPUDEA0031_readtext_S.wav',\n",
       " 'AVPEPUDEA0032_readtext_S.wav',\n",
       " 'AVPEPUDEA0034_readtext_S.wav',\n",
       " 'AVPEPUDEA0035_readtext_S.wav',\n",
       " 'AVPEPUDEA0037_readtext_S.wav',\n",
       " 'AVPEPUDEA0038_readtext_S.wav',\n",
       " 'AVPEPUDEA0039_readtext_S.wav',\n",
       " 'AVPEPUDEA0041_readtext_S.wav',\n",
       " 'AVPEPUDEA0042_readtext_S.wav',\n",
       " 'AVPEPUDEA0043_readtext_S.wav',\n",
       " 'AVPEPUDEA0045_readtext_S.wav',\n",
       " 'AVPEPUDEA0046_readtext_S.wav',\n",
       " 'AVPEPUDEA0047_readtext_S.wav',\n",
       " 'AVPEPUDEA0048_readtext_S.wav',\n",
       " 'AVPEPUDEA0049_readtext_S.wav',\n",
       " 'AVPEPUDEA0050_readtext_S.wav',\n",
       " 'AVPEPUDEA0051_readtext_S.wav',\n",
       " 'AVPEPUDEA0052_readtext_S.wav',\n",
       " 'AVPEPUDEA0053_readtext_S.wav',\n",
       " 'AVPEPUDEA0054_readtext_S.wav',\n",
       " 'AVPEPUDEA0055_readtext_S.wav',\n",
       " 'AVPEPUDEA0056_readtext_S.wav',\n",
       " 'AVPEPUDEA0057_readtext_S.wav',\n",
       " 'AVPEPUDEA0058_readtext_S.wav',\n",
       " 'AVPEPUDEA0059_readtext_S.wav',\n",
       " 'DisVoice',\n",
       " 'Ejemplo ejecución scripts Disvoice.ipynb',\n",
       " 'inf.txt',\n",
       " 'Instalación_de_librerías.ipynb',\n",
       " 'PC-GITA',\n",
       " 'Preprocesamiento audios.ipynb']"
      ]
     },
     "execution_count": 5,
     "metadata": {},
     "output_type": "execute_result"
    }
   ],
   "source": [
    "listdir()"
   ]
  },
  {
   "cell_type": "code",
   "execution_count": 6,
   "metadata": {},
   "outputs": [],
   "source": [
    "!del *_S.wav #Borramos los audios del ejemplo"
   ]
  }
 ],
 "metadata": {
  "kernelspec": {
   "display_name": "Python 3",
   "language": "python",
   "name": "python3"
  },
  "language_info": {
   "codemirror_mode": {
    "name": "ipython",
    "version": 3
   },
   "file_extension": ".py",
   "mimetype": "text/x-python",
   "name": "python",
   "nbconvert_exporter": "python",
   "pygments_lexer": "ipython3",
   "version": "3.6.8"
  }
 },
 "nbformat": 4,
 "nbformat_minor": 2
}
