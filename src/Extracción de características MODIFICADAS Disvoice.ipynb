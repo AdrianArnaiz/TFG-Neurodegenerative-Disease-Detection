{
 "cells": [
  {
   "cell_type": "markdown",
   "metadata": {},
   "source": [
    "# Extracción características MODIFICADAS Disvoice\n",
    "## Adrián Arnaiz\n",
    "## Tareas del notebook\n",
    "* Extraacción medidas Disvoice para todos los audios **+ atributos edad y sexo**.\n",
    " * *Ruta donde guardar: CaracteristicasExtraidas/EdadYSexo*\n",
    " \n",
    " \n",
    "* Extracción medidas Disvoice para audios **separados por sexo + atributo edad**.\n",
    " * *Ruta donde guardar: CaracteristicasExtraidas/DivisionSexo, -/mujeres, -/hombres*\n",
    " \n",
    " \n",
    "* Extracción medidas Disvoice **EXACTAS a Orozco 2016**.\n",
    "  * *Ruta donde guardar: CaracteristicasExtraidas/Orozco2016, -/onset, -/offset*\n",
    "  * 12 MFCC y 22 BBE para transiciones Unvoiced (offset y onset separados)\n",
    "  \n",
    "----------------\n",
    "<a id=\"index\"></a>\n",
    "## Índice del notebook\n",
    "\n",
    "1. [Introducción](#intro)\n",
    "    - [Crear Diccionario de informacion de audios](#dic)\n",
    "    - [Crear clase ExtraccionCaracteristicas](#clase)\n",
    "2. [Medidas más edad y sexo](#edsex)  \n",
    "3. [Medidas separadas por sexo más edad](#sexo)\n",
    "4. [Medidas exactas a Orozco 2016: 12 MFCC y 22 BBE](#orzco)\n",
    "----------------\n",
    "  \n",
    "## 1. Introducción <a id=\"intro\"></a><a href=\"#index\"><i class=\"fa fa-list-alt\" aria-hidden=\"true\"></i></a>\n",
    "Al terminar este notebook tendremos un total de **106 conjuntos diferentes con los que hacer experimentos**, de los cuales ya hemos hecho experimentos con 18 de ellos. Las cuales tienen esta estructura en nuestro proyecto:\n",
    "\n",
    "`CaracterísticasExtraidas.\n",
    "|\n",
    "|   Npy: Ccas art, fon y prs directas de disvoice (sin edad ni sexo) [18 sets] -> audios (100-300)\n",
    "|   \n",
    "+---DivisionSexo\n",
    "|   +---hombres\n",
    "|   |\t    Npy: Ccas art, art_on/off, fon y prs de hombres + EDAD Y SEXO [ 30 sets :(18 + 12 {6on+6off}) ] -> audios (50-150)\t\n",
    "|   |           \n",
    "|   \\---mujeres\n",
    "|           Npy: Ccas art, art_on/off, fon y prs de mujeres + EDAD Y SEXO [ 30 sets :(18 + 12 {6on+6off}) ] -> audios (50-150)      \n",
    "|           \n",
    "+---EdadYSexo\n",
    "|       Npy: CCas art, fon y prs directas de disvoice + EDAD Y SEXO [18 sets] -> audios (100-300)     \n",
    "|       \n",
    "\\---Orozco2016\n",
    "    +---offset\n",
    "    |       Npy: Ccas art_offset + EDAD Y SEXO [ 6 sets ] -> audios (100-300) \n",
    "    |       \n",
    "    \\---onset\n",
    "            Npy: Ccas art_onset + EDAD Y SEXO [ 6 sets ] -> audios (100-300)`\n",
    "`"
   ]
  },
  {
   "cell_type": "markdown",
   "metadata": {},
   "source": [
    "### 1.1 Creamos el diccionario con la información de los audios <a id=\"dic\"></a><a href=\"#index\"><i class=\"fa fa-list-alt\" aria-hidden=\"true\"></i></a>\n",
    "Guardamos para cada audio el valor del sexo y la edad. También guardamos el nivel de severidad del Parkinson con la escala UPDRS para cada audio para ser utilizado en futuros experimentos\n",
    "* **Claves**: nombre del audio\n",
    "* **Valor**: Diccionario que contiene *UPDRS*, *AGE* y *SEX* (0$\\rightarrow$M, 1$\\rightarrow$F)\n",
    "> `{'AVPEPUDEA0001': {'UPDRS': 28, 'SEX': 0, 'AGE': 64},..., 'AVPEPUDEAC0057': {'UPDRS': 0, 'SEX': 1, 'AGE': 50}}`"
   ]
  },
  {
   "cell_type": "code",
   "execution_count": 1,
   "metadata": {},
   "outputs": [],
   "source": [
    "from extractorCcas import ExtractorCaracteristicas\n",
    "import pickle #Para guardar diccionario de información de audios\n",
    "import numpy as np\n",
    "import pandas as pd\n",
    "import os\n",
    "from IPython.display import clear_output"
   ]
  },
  {
   "cell_type": "code",
   "execution_count": 2,
   "metadata": {},
   "outputs": [],
   "source": [
    "#Creamos el diccionario con la estructura indicada\n",
    "filepath = 'PC-GITA/PCGITA_metadata.csv'\n",
    "dic_audios_inf = dict()\n",
    "with open(filepath) as fp:\n",
    "    cnt = 0\n",
    "    for line in fp:\n",
    "        line = line.split(';')[:8]\n",
    "        if not line[0].startswith('AVP'):\n",
    "            line[0]=line[0][3:]\n",
    "        dic_audios_inf[line[0]]=dict()\n",
    "        dic_audios_inf[line[0]]['UPDRS'] = 0 if line[1]=='' else int(line[1])\n",
    "        dic_audios_inf[line[0]]['SEX'] = 0 if line[4]=='M' else 1\n",
    "        dic_audios_inf[line[0]]['AGE'] = int(line[5])\n",
    "fp.close()"
   ]
  },
  {
   "cell_type": "code",
   "execution_count": 3,
   "metadata": {},
   "outputs": [],
   "source": [
    "#Guardamos el diciconario para usarlo en futuras ocasiones sin volver a construirlo\n",
    "pickle_out = open(\"./CaracteristicasExtraidas/dict_audios_inf.pickle\",\"wb\")\n",
    "pickle.dump(dic_audios_inf, pickle_out)\n",
    "pickle_out.close()"
   ]
  },
  {
   "cell_type": "code",
   "execution_count": 4,
   "metadata": {},
   "outputs": [
    {
     "data": {
      "text/plain": [
       "True"
      ]
     },
     "execution_count": 4,
     "metadata": {},
     "output_type": "execute_result"
    }
   ],
   "source": [
    "#recuperamos el diccionario para confirmar que está guardado correctamente\n",
    "pickle_in = open(\"./CaracteristicasExtraidas/dict_audios_inf.pickle\",\"rb\")\n",
    "recover_dic = pickle.load(pickle_in)\n",
    "recover_dic==dic_audios_inf"
   ]
  },
  {
   "cell_type": "markdown",
   "metadata": {},
   "source": [
    "### 1.2 Clase ExtractorCaracterísticas <a id=\"clase\"></a><a href=\"#index\"><i class=\"fa fa-list-alt\" aria-hidden=\"true\"></i></a>\n",
    "Hemos creado la clase **ExtractorCaracterísticas** en el módulo extractorCcas que contiene **métodos** útilies para la extracción de características con Disvoice. Incluye métodos para añadir atributos extra. Estos atributos extra pueden ser añadidos a la vez que se extraen las demás características o pueden ser añadidos posteriormente a las correspondientes matrices numpy (utilizando add_atribs). Útil esto último si ya tenemos las ccas de Disvoice sacadas para no tener que volver a sacarlas. En resumen puede realizar las siguientes tareas:\n",
    "1. Extracción ccas Disvoice sin atributos Extra\n",
    "2. Extracción ccas Disvoice con atributos Extra\n",
    "3. Adicción atributos extra a ccas ya extraídas\n",
    "\n",
    "**Métodos:**\n",
    "> * **Constructor**: se pasa como argumentos:\n",
    "  * la ruta donde se encuentran los audios (donde se encuentran las subcarpetas pd y hc)\n",
    "  * la ruta donde guardar los archivos de características generados por Disvoice,\n",
    "  * opcionalmente el diccionario donde se tienen atributos extra de cada audio (edad,sexo...)\n",
    "* **extraccion_ccas_directorio**: Extrae las características de los audios en la ruta pasada en el constructor. tiene como parámetros:\n",
    "  * Script Disvoice usado para extraer las ccas [articulation, phonatio, prosody].\n",
    "  * Nombre del archivo donde guardar las ccas de los pacientes HC.\n",
    "  * Nombre del archivo donde guardar las ccas de los pacientes PD.\n",
    "  * Atributos_Extra (list)[opcional]: atributos a añadir a las ccas que deben estar incluidos en el diccionario pasado en el constructor. Si no se pasa nada, no se incluye ningun atributo extra.\n",
    "* **add_atribs**: Añade los atributos a la matriz de ccas pasada, cuyos nombres se pasan en formato string y cuyo valor se encuentra en el diccionario pasado en el constructor. Éste método es útil para añadir los nuevos atributos a ccas ya extraídas. En ese caso, no es necesario que la ruta de los audios pasada en el constructor coincida con la matriz numpy que le pasamos, ya que no es usada. Únicamente añadimos las columnas necesarias a la matriz pasada.\n",
    "  * ccas: matriz a la que añadir los atributos.\n",
    "  * atribs: lista que contiene los atributos a añadir. Contiene el nombre de los atributos que se debe corresponder con el nombre que tienen en el diccionario pasado en el constructor.\n",
    "           "
   ]
  },
  {
   "cell_type": "markdown",
   "metadata": {},
   "source": [
    "#### Ejemplo de uso\n",
    "**Extracción ccas Disvoice sin atributos Extra**"
   ]
  },
  {
   "cell_type": "code",
   "execution_count": 5,
   "metadata": {},
   "outputs": [
    {
     "name": "stdout",
     "output_type": "stream",
     "text": [
      "(100, 30)\n",
      "Wall time: 2min 49s\n"
     ]
    }
   ],
   "source": [
    "%%time\n",
    "extractor = ExtractorCaracteristicas('PC-GITA/read-text/','CaracteristicasExtraidas/PruebaClase/')\n",
    "fon_rt_ccas_prueba = extractor.extraccion_ccas_directorio('phonation', 'fon_rt_hc.txt' , 'fon_rt_pd.txt')\n",
    "print(fon_rt_ccas_prueba.shape)"
   ]
  },
  {
   "cell_type": "markdown",
   "metadata": {},
   "source": [
    "**Extracción ccas Disvoice con atributos Extra**"
   ]
  },
  {
   "cell_type": "code",
   "execution_count": 6,
   "metadata": {},
   "outputs": [
    {
     "name": "stdout",
     "output_type": "stream",
     "text": [
      "Directorio de características ya existente, no se crea nuevo.\n",
      "(100, 32)\n",
      "Wall time: 2min 38s\n"
     ]
    }
   ],
   "source": [
    "%%time\n",
    "#Añadimos edad y sexo\n",
    "extractor = ExtractorCaracteristicas('PC-GITA/read-text/','CaracteristicasExtraidas/PruebaClase/', dic_audios_inf)\n",
    "fon_rt_ccas_prueba = extractor.extraccion_ccas_directorio('phonation', 'fon_rt_hc.txt' , 'fon_rt_pd.txt' , ['AGE','SEX'])\n",
    "print(fon_rt_ccas_prueba.shape)"
   ]
  },
  {
   "cell_type": "markdown",
   "metadata": {},
   "source": [
    "**Adicción atributos extra a ccas ya extraídas**"
   ]
  },
  {
   "cell_type": "code",
   "execution_count": 7,
   "metadata": {},
   "outputs": [
    {
     "name": "stdout",
     "output_type": "stream",
     "text": [
      "(300, 30)\n"
     ]
    }
   ],
   "source": [
    "fon_v_U_pruebas = np.load('CaracteristicasExtraidas/fon_v_U_ccas.npy')\n",
    "print(fon_v_U_pruebas.shape)"
   ]
  },
  {
   "cell_type": "code",
   "execution_count": 8,
   "metadata": {},
   "outputs": [
    {
     "name": "stdout",
     "output_type": "stream",
     "text": [
      "Directorio de características ya existente, no se crea nuevo.\n",
      "(300, 31)\n",
      "Wall time: 1.99 ms\n"
     ]
    }
   ],
   "source": [
    "%%time\n",
    "extractor = ExtractorCaracteristicas('DaIgualYaEstanExtraidas', 'CaracteristicasExtraidas/PruebaClase/', dic_audios_inf)\n",
    "fon_v_U_pruebas = extractor.add_atribs(fon_v_U_pruebas, ['AGE'])\n",
    "print(fon_v_U_pruebas.shape)"
   ]
  },
  {
   "cell_type": "code",
   "execution_count": 9,
   "metadata": {},
   "outputs": [],
   "source": [
    "!rmdir CaracteristicasExtraidas\\PruebaClase /S /Q"
   ]
  },
  {
   "cell_type": "markdown",
   "metadata": {},
   "source": [
    "------------------\n",
    "## 2. Disvoice + Edad y Sexo <a id=\"edsex\"></a><a href=\"#index\"><i class=\"fa fa-list-alt\" aria-hidden=\"true\"></i></a>\n",
    "Mismas características obtenidas que en los primeros experimentos, pero añadiendo atributos de edad y sexo para cada instancia.\n",
    "\n",
    "Con estas características se repetiran los primeros experimentos para ver si hay mejora. También se repetiraan esos mismos experimentos pero se realizará una validación cruzada estratificada por edad y sexo para mejorar los resultados.\n",
    "\n",
    "Como hemos comentado tenemos 2 posibilidades para añadir atributos con nuestra clase ExtractorCaracteristicas:\n",
    "1. Sacar nuevamente las ccas de Disvocie indicando que añada edad y sexo.\n",
    "2. Utilizar las ccas ya extraídas que están guardadas en archivos numpy en _/src/CaracteristicasExtraidas_ y añadirlas los atributos correspondientes. (Más rapido, no repite el proceso)\n",
    "\n",
    "**Añadimos para los archivos que no contenian Nan**"
   ]
  },
  {
   "cell_type": "code",
   "execution_count": 10,
   "metadata": {},
   "outputs": [
    {
     "name": "stderr",
     "output_type": "stream",
     "text": [
      "El sistema no puede encontrar el archivo especificado.\n"
     ]
    }
   ],
   "source": [
    "!rmdir CaracteristicasExtraidas\\EdadYSexo /S /Q"
   ]
  },
  {
   "cell_type": "code",
   "execution_count": 11,
   "metadata": {},
   "outputs": [],
   "source": [
    "rutaCcas = 'CaracteristicasExtraidas/EdadYSexo/'"
   ]
  },
  {
   "cell_type": "code",
   "execution_count": 12,
   "metadata": {},
   "outputs": [],
   "source": [
    "extractor = ExtractorCaracteristicas('DaIgualYaEstanExtraidas', rutaCcas , dic_audios_inf)\n",
    "\n",
    "sets_ccas = [d for d in os.listdir('CaracteristicasExtraidas') if d.endswith('.npy')]\n",
    "for st in sets_ccas:\n",
    "    #la fonacion para las palabras tienen instancias ruidosas eliminadas, no funcionará reusarlo\n",
    "    if not st.startswith('fon_w_'): \n",
    "        ccasDisv = np.load('CaracteristicasExtraidas/'+st)\n",
    "        ccasDsvEdadSexo = extractor.add_atribs(ccasDisv, ['AGE', 'SEX'])\n",
    "        assert ccasDisv.shape[1]+2 == ccasDsvEdadSexo.shape[1]\n",
    "        np.save(rutaCcas+st, ccasDsvEdadSexo)"
   ]
  },
  {
   "cell_type": "markdown",
   "metadata": {},
   "source": [
    "**Extraemos nuevamente añadiendo los atributos para los que contenian Nan**"
   ]
  },
  {
   "cell_type": "code",
   "execution_count": 13,
   "metadata": {},
   "outputs": [],
   "source": [
    "def phonation_word_extraction(palabras):\n",
    "    '''\n",
    "    Llamamos a la función de extracción de características con las rutas necesarias\n",
    "    '''\n",
    "    ccas_palabras = dict()\n",
    "    for p in palabras:\n",
    "        extractor = ExtractorCaracteristicas('PC-GITA/words/'+p+'/','CaracteristicasExtraidas/EdadYSexo/', dic_audios_inf)\n",
    "        ccas_palabras[p]= extractor.extraccion_ccas_directorio('phonation', 'fon_w_'+p+'_hc.txt' , 'fon_w_'+p+'_pd.txt', ['AGE','SEX'] )\n",
    "        clear_output()\n",
    "        print('Palabras analizadas: ',ccas_palabras.keys())\n",
    "    return ccas_palabras"
   ]
  },
  {
   "cell_type": "code",
   "execution_count": 14,
   "metadata": {},
   "outputs": [
    {
     "name": "stdout",
     "output_type": "stream",
     "text": [
      "Palabras analizadas:  dict_keys(['atleta', 'campana', 'gato', 'petaka', 'braso'])\n"
     ]
    }
   ],
   "source": [
    "words=['atleta','campana','gato','petaka','braso']\n",
    "fon_words_ccas = phonation_word_extraction(words)\n",
    "for k in fon_words_ccas:\n",
    "    np.save(rutaCcas+'fon_w_'+k+'_ccas',fon_words_ccas[k])"
   ]
  },
  {
   "cell_type": "markdown",
   "metadata": {},
   "source": [
    "---------------------\n",
    "## 3. Disvoice separado por sexo + edad <a id=\"sexo\"></a><a href=\"#index\"><i class=\"fa fa-list-alt\" aria-hidden=\"true\"></i></a>\n",
    "**Filtramos los obtenidos en vez de extraer nuevos**.\n",
    "En vez de sacar de nuevo las características, para cada conjunto de datos que acabamos de obtener, dividiremos cada conjunto de datos en 2: uno de los hombres y otro de las mujeres. Lo realizaremos separando las instancias que tienen 0 de las que tienen 1 de la columna del sexo. Posteriormente borraremos esa columna de sexo ya que no nos aporta nueva información."
   ]
  },
  {
   "cell_type": "code",
   "execution_count": 15,
   "metadata": {},
   "outputs": [
    {
     "name": "stderr",
     "output_type": "stream",
     "text": [
      "El sistema no puede encontrar el archivo especificado.\n"
     ]
    }
   ],
   "source": [
    "!rmdir CaracteristicasExtraidas\\DivisionSexo /S /Q"
   ]
  },
  {
   "cell_type": "markdown",
   "metadata": {},
   "source": [
    "Creamos carpetas para cada grupo: hombre-mujer"
   ]
  },
  {
   "cell_type": "code",
   "execution_count": 16,
   "metadata": {},
   "outputs": [],
   "source": [
    "rutaCcas2 = 'CaracteristicasExtraidas/DivisionSexo/'\n",
    "os.mkdir(rutaCcas2)\n",
    "rutah = rutaCcas2+'hombres/'\n",
    "os.mkdir(rutah)\n",
    "rutam = rutaCcas2+'mujeres/'\n",
    "os.mkdir(rutam)"
   ]
  },
  {
   "cell_type": "markdown",
   "metadata": {},
   "source": [
    "Cogemos las características que hemos sacado en el anterior apartado: incluyen sexo y edad.\n",
    "Primero las dividimos por sexo y eliminamos esa columna ya que no aporta informacion al conjunto."
   ]
  },
  {
   "cell_type": "code",
   "execution_count": 17,
   "metadata": {},
   "outputs": [],
   "source": [
    "#Cogemos sets de caracteristicas que contienen edad y sexo\n",
    "sets_ccas = [d for d in os.listdir('CaracteristicasExtraidas/EdadYSexo') if d.endswith('.npy')]\n",
    "for conjunto in sets_ccas:\n",
    "    st = np.load(rutaCcas+conjunto)\n",
    "    #nos quedamos solo con las mujeres\n",
    "    mujeres = st[st[:,-2]==1]\n",
    "    #Borramos la columna sexo ya que no aporta nueva información\n",
    "    mujeres = np.delete(mujeres, -2, axis=1)\n",
    "    np.save(rutam+conjunto, mujeres)\n",
    "    \n",
    "    hombres = st[st[:,-2]==0]\n",
    "    hombres = np.delete(hombres, -2, axis=1)\n",
    "    np.save(rutah+conjunto, hombres)"
   ]
  },
  {
   "cell_type": "markdown",
   "metadata": {},
   "source": [
    "Comprobamos que se ha realizado la separación de sexos de manera correcta"
   ]
  },
  {
   "cell_type": "code",
   "execution_count": 18,
   "metadata": {},
   "outputs": [],
   "source": [
    "h = np.load(rutah+sets_ccas[5])\n",
    "m = np.load(rutam+sets_ccas[5])\n",
    "hm = np.load(rutaCcas+sets_ccas[5])\n",
    "assert np.equal(h[:,:-1], hm[hm[:,-2]==0][:,:-2]).all()\n",
    "assert np.equal(m[:,:-1], hm[hm[:,-2]==1][:,:-2]).all()"
   ]
  },
  {
   "cell_type": "markdown",
   "metadata": {},
   "source": [
    "----------------\n",
    "## 4. Extracción de medidas  EXACTAS a Orozco 2016. <a id=\"orzco\"></a><a href=\"#index\"><i class=\"fa fa-list-alt\" aria-hidden=\"true\"></i></a>\n",
    "* 12 MFCC y 22 BBE para transiciones Unvoiced (offset y onset separados)\n",
    "* **Filtramos los obtenidos en vez de extraer nuevos**.\n",
    "\n",
    "Estas medidas han sido sacadas con el módulo **articulation.py**. Este script nos sacaba 488 características de diferentes medidas de MFCC y BBE en offset y onset y sus derivadas. Sin embargo, los resultados en el primer experimento de clasificación han sido muy negativos. Por ello, replicaremos exactamente las ccas de Orozco.\n",
    "\n",
    "Elegiremos el subconjunto de ccas de 12 MFCC y 22 BBE para cada conjunto. Por cada grupo de ccas de articulación que tenemos (6: 5 palabras y 1 frase), sacaremos 2: 12MFCC y 22BBE para transición onset y lo mismo para transición offset.\n",
    "\n",
    "En vez de extraer otra vez las medidas, obtendremos elsubconjunto de las medidas ya extraídas con edad y sexo. Por lo tanto, serán los sets nombrados como art_...npy dentro de la ruta CaracteristicasExtraidas/EdadySexo/ y los resultantes serán guardados en CaracteristicasExtraidas/Orozco2016/onset/ y CaracteristicasExtraidas/Orozco2016/offset.\n",
    "\n"
   ]
  },
  {
   "cell_type": "code",
   "execution_count": 19,
   "metadata": {},
   "outputs": [
    {
     "name": "stderr",
     "output_type": "stream",
     "text": [
      "El sistema no puede encontrar el archivo especificado.\n"
     ]
    }
   ],
   "source": [
    "!rmdir CaracteristicasExtraidas\\Orozco2016 /S /Q"
   ]
  },
  {
   "cell_type": "code",
   "execution_count": 20,
   "metadata": {},
   "outputs": [],
   "source": [
    "rutaCcas3 = 'CaracteristicasExtraidas/Orozco2016/'\n",
    "os.mkdir(rutaCcas3)\n",
    "rutaonset  = rutaCcas3+'onset/'\n",
    "os.mkdir(rutaonset)\n",
    "rutaoffset = rutaCcas3+'offset/'\n",
    "os.mkdir(rutaoffset)"
   ]
  },
  {
   "cell_type": "code",
   "execution_count": 21,
   "metadata": {},
   "outputs": [
    {
     "data": {
      "text/plain": [
       "['art_rt_ccas.npy',\n",
       " 'art_w_atleta_ccas.npy',\n",
       " 'art_w_braso_ccas.npy',\n",
       " 'art_w_campana_ccas.npy',\n",
       " 'art_w_gato_ccas.npy',\n",
       " 'art_w_petaka_ccas.npy']"
      ]
     },
     "execution_count": 21,
     "metadata": {},
     "output_type": "execute_result"
    }
   ],
   "source": [
    "set_ccas_art = [d for d in os.listdir('CaracteristicasExtraidas/EdadYSexo') if d.endswith('.npy') and d.startswith('art')]\n",
    "set_ccas_art"
   ]
  },
  {
   "cell_type": "markdown",
   "metadata": {},
   "source": [
    "* Para las ccas en transiciones **onset**, según se indica en la página de github de $\\href{https://github.com/jcvasquezc/DisVoice/tree/master/articulation}{Disvoice/Articulation}$, las 12 MFCC y 22 BBE de onset se encuentran en las **posiciones 1-34** (0-33 en un array).\n",
    "* Para las ccas en transiciones **offset**, las 12 MFCC y 22 BBE de onset se encuentran en las **posiciones 59-92** (58-91 en un array).\n",
    "* Por lo tanto tendremos que coger esas columnas determinadas más las 3 columnas finales de edad, sexo y PD/HD"
   ]
  },
  {
   "cell_type": "code",
   "execution_count": 22,
   "metadata": {},
   "outputs": [],
   "source": [
    "for st_art in set_ccas_art:\n",
    "    st = np.load(rutaCcas+st_art)\n",
    "    sex_age_target = st[:,-3:]\n",
    "    ccas_onset = st[:,:34]\n",
    "    ccas_onset = np.hstack((ccas_onset,sex_age_target))\n",
    "    ccas_offset = st[:,58:92]\n",
    "    ccas_offset = np.hstack((ccas_offset,sex_age_target))\n",
    "    np.save(rutaonset+st_art, ccas_onset)\n",
    "    np.save(rutaoffset+st_art, ccas_offset)"
   ]
  },
  {
   "cell_type": "markdown",
   "metadata": {},
   "source": [
    "Ya están extraídas, adicionalmente **las añadimos al directorio anterior separandola por sexos**, así podremos hacer el experimento para este conjunto de ccas con los dos sexos juntos y separados al igual que con los demás conjuntos."
   ]
  },
  {
   "cell_type": "code",
   "execution_count": 23,
   "metadata": {},
   "outputs": [],
   "source": [
    "for conjunto in set_ccas_art:\n",
    "    st_on = np.load(rutaCcas3+'onset/'+conjunto)\n",
    "    st_of = np.load(rutaCcas3+'offset/'+conjunto)\n",
    "    #mujeres en onsset\n",
    "    mujeres_on = st_on[st_on[:,-2]==1]\n",
    "    #Borramos la columna sexo ya que no aporta nueva información\n",
    "    mujeres_on = np.delete(mujeres_on, -2, axis=1)\n",
    "    np.save(rutam+conjunto[:-4]+'_onset', mujeres_on)\n",
    "    \n",
    "    hombres_on = st_on[st_on[:,-2]==0]\n",
    "    hombres_on = np.delete(hombres_on, -2, axis=1)\n",
    "    np.save(rutah+conjunto[:-4]+'_onset', hombres_on)\n",
    "    \n",
    "    mujeres_of = st_of[st_of[:,-2]==1]\n",
    "    #Borramos la columna sexo ya que no aporta nueva información\n",
    "    mujeres_of = np.delete(mujeres_of, -2, axis=1)\n",
    "    np.save(rutam+conjunto[:-4]+'_ofset', mujeres_of)\n",
    "    \n",
    "    hombres_of = st_of[st_of[:,-2]==0]\n",
    "    hombres_of = np.delete(hombres_of, -2, axis=1)\n",
    "    np.save(rutah+conjunto[:-4]+'_ofset', hombres_of)"
   ]
  },
  {
   "cell_type": "code",
   "execution_count": 24,
   "metadata": {},
   "outputs": [],
   "source": [
    "def separasexos(rutaOrigen, rutaDestino):\n",
    "    sets_ccas = [d for d in os.listdir(rutaOrigen) if d.endswith('.npy')]\n",
    "    for conjunto in sets_ccas:\n",
    "        st = np.load(rutaOrigen+conjunto)\n",
    "        #nos quedamos solo con las mujeres\n",
    "        mujeres = st[st[:,-2]==1]\n",
    "        #Borramos la columna sexo ya que no aporta nueva información\n",
    "        mujeres = np.delete(mujeres, -2, axis=1)\n",
    "        np.save(rutaDestino+'mujeres/'+conjunto, mujeres)\n",
    "\n",
    "        hombres = st[st[:,-2]==0]\n",
    "        hombres = np.delete(hombres, -2, axis=1)\n",
    "        np.save(rutaDestino+'hombres/'+conjunto, hombres)"
   ]
  }
 ],
 "metadata": {
  "kernelspec": {
   "display_name": "Python 3",
   "language": "python",
   "name": "python3"
  },
  "language_info": {
   "codemirror_mode": {
    "name": "ipython",
    "version": 3
   },
   "file_extension": ".py",
   "mimetype": "text/x-python",
   "name": "python",
   "nbconvert_exporter": "python",
   "pygments_lexer": "ipython3",
   "version": "3.6.8"
  }
 },
 "nbformat": 4,
 "nbformat_minor": 2
}
