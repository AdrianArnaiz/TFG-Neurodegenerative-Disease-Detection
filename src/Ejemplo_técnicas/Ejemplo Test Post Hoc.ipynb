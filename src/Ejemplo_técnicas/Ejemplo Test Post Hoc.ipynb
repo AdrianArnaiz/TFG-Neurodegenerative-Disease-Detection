{
 "cells": [
  {
   "cell_type": "code",
   "execution_count": 1,
   "metadata": {},
   "outputs": [],
   "source": [
    "import post_hoc as ph\n",
    "import pandas as pd"
   ]
  },
  {
   "cell_type": "markdown",
   "metadata": {},
   "source": [
    "# Ejemplo tabla 4.10 Tesis Jose"
   ]
  },
  {
   "cell_type": "code",
   "execution_count": 2,
   "metadata": {},
   "outputs": [
    {
     "data": {
      "text/html": [
       "<div>\n",
       "<style scoped>\n",
       "    .dataframe tbody tr th:only-of-type {\n",
       "        vertical-align: middle;\n",
       "    }\n",
       "\n",
       "    .dataframe tbody tr th {\n",
       "        vertical-align: top;\n",
       "    }\n",
       "\n",
       "    .dataframe thead th {\n",
       "        text-align: right;\n",
       "    }\n",
       "</style>\n",
       "<table border=\"1\" class=\"dataframe\">\n",
       "  <thead>\n",
       "    <tr style=\"text-align: right;\">\n",
       "      <th></th>\n",
       "      <th>Dataset</th>\n",
       "      <th>Random Forest</th>\n",
       "      <th>G-Forest</th>\n",
       "      <th>GAR-Forest</th>\n",
       "    </tr>\n",
       "  </thead>\n",
       "  <tbody>\n",
       "    <tr>\n",
       "      <th>0</th>\n",
       "      <td>abalone</td>\n",
       "      <td>24.42</td>\n",
       "      <td>25.02</td>\n",
       "      <td>24.81</td>\n",
       "    </tr>\n",
       "    <tr>\n",
       "      <th>1</th>\n",
       "      <td>anneal</td>\n",
       "      <td>99.15</td>\n",
       "      <td>98.84</td>\n",
       "      <td>98.64</td>\n",
       "    </tr>\n",
       "    <tr>\n",
       "      <th>2</th>\n",
       "      <td>audiology</td>\n",
       "      <td>74.78</td>\n",
       "      <td>76.19</td>\n",
       "      <td>76.55</td>\n",
       "    </tr>\n",
       "    <tr>\n",
       "      <th>3</th>\n",
       "      <td>autos</td>\n",
       "      <td>76.40</td>\n",
       "      <td>73.08</td>\n",
       "      <td>75.03</td>\n",
       "    </tr>\n",
       "    <tr>\n",
       "      <th>4</th>\n",
       "      <td>balance-scale</td>\n",
       "      <td>84.32</td>\n",
       "      <td>86.72</td>\n",
       "      <td>85.41</td>\n",
       "    </tr>\n",
       "  </tbody>\n",
       "</table>\n",
       "</div>"
      ],
      "text/plain": [
       "         Dataset  Random Forest  G-Forest  GAR-Forest\n",
       "0        abalone          24.42     25.02       24.81\n",
       "1         anneal          99.15     98.84       98.64\n",
       "2      audiology          74.78     76.19       76.55\n",
       "3          autos          76.40     73.08       75.03\n",
       "4  balance-scale          84.32     86.72       85.41"
      ]
     },
     "execution_count": 2,
     "metadata": {},
     "output_type": "execute_result"
    }
   ],
   "source": [
    "jose_4_10 = pd.read_csv('4_10_table_JOSE.csv')\n",
    "jose_4_10.head()"
   ]
  },
  {
   "cell_type": "markdown",
   "metadata": {},
   "source": [
    "**1 vs ALL**"
   ]
  },
  {
   "cell_type": "code",
   "execution_count": 3,
   "metadata": {},
   "outputs": [
    {
     "name": "stdout",
     "output_type": "stream",
     "text": [
      "### Experimento\n",
      "# Number of classifiers: 3\n",
      "# Number of datasets: 62\n",
      "# Name of classifiers: Random Forest, G-Forest, GAR-Forest\n",
      "# Alpha: 0.05\n",
      "\n",
      "### Métricas\n",
      "# Test de Friedman sobre métricas \n",
      "\t-> p-val: 0.0346\n",
      "\n",
      "### Rankings\n",
      "# GAR-Forest    ranking medio:  1.75\n",
      "# G-Forest      ranking medio:  2.048\n",
      "# Random Forest ranking medio:  2.202\n",
      "# Test de Ivan-Davenport sobre Rankings [F(3.3966, 2, 122)]               \n",
      "\t-> p-val: 0.0367\n",
      "\n",
      "### Test Hochberg Comparacion Random Forest vs all\n",
      "# Tabla de comparación de Rankings:\n",
      "                                 z      p  alpha/i    sig\n",
      "Random Forest vs GAR-Forest  2.517  0.012    0.025   True\n",
      "Random Forest vs G-Forest    0.857  0.391    0.050  False\n"
     ]
    }
   ],
   "source": [
    "df_Hoch, avg_rank = ph.posthoc_Friedman_Davenport_Hochbertest(jose_4_10, control='Random Forest') "
   ]
  },
  {
   "cell_type": "code",
   "execution_count": 4,
   "metadata": {},
   "outputs": [
    {
     "data": {
      "text/html": [
       "<div>\n",
       "<style scoped>\n",
       "    .dataframe tbody tr th:only-of-type {\n",
       "        vertical-align: middle;\n",
       "    }\n",
       "\n",
       "    .dataframe tbody tr th {\n",
       "        vertical-align: top;\n",
       "    }\n",
       "\n",
       "    .dataframe thead th {\n",
       "        text-align: right;\n",
       "    }\n",
       "</style>\n",
       "<table border=\"1\" class=\"dataframe\">\n",
       "  <thead>\n",
       "    <tr style=\"text-align: right;\">\n",
       "      <th></th>\n",
       "      <th>z</th>\n",
       "      <th>p</th>\n",
       "      <th>alpha/i</th>\n",
       "      <th>sig</th>\n",
       "    </tr>\n",
       "  </thead>\n",
       "  <tbody>\n",
       "    <tr>\n",
       "      <th>Random Forest vs GAR-Forest</th>\n",
       "      <td>2.517</td>\n",
       "      <td>0.012</td>\n",
       "      <td>0.025</td>\n",
       "      <td>True</td>\n",
       "    </tr>\n",
       "    <tr>\n",
       "      <th>Random Forest vs G-Forest</th>\n",
       "      <td>0.857</td>\n",
       "      <td>0.391</td>\n",
       "      <td>0.050</td>\n",
       "      <td>False</td>\n",
       "    </tr>\n",
       "  </tbody>\n",
       "</table>\n",
       "</div>"
      ],
      "text/plain": [
       "                                 z      p  alpha/i    sig\n",
       "Random Forest vs GAR-Forest  2.517  0.012    0.025   True\n",
       "Random Forest vs G-Forest    0.857  0.391    0.050  False"
      ]
     },
     "execution_count": 4,
     "metadata": {},
     "output_type": "execute_result"
    }
   ],
   "source": [
    "df_Hoch"
   ]
  },
  {
   "cell_type": "code",
   "execution_count": 5,
   "metadata": {},
   "outputs": [
    {
     "data": {
      "text/plain": [
       "{'Random Forest': 2.202, 'G-Forest': 2.048, 'GAR-Forest': 1.75}"
      ]
     },
     "execution_count": 5,
     "metadata": {},
     "output_type": "execute_result"
    }
   ],
   "source": [
    "avg_rank"
   ]
  },
  {
   "cell_type": "markdown",
   "metadata": {},
   "source": [
    "### All vs All Nemenyi"
   ]
  },
  {
   "cell_type": "code",
   "execution_count": 6,
   "metadata": {},
   "outputs": [
    {
     "data": {
      "image/png": "[encoded data removed]",
      "text/plain": [
       "<Figure size 936x288 with 1 Axes>"
      ]
     },
     "metadata": {
      "needs_background": "light"
     },
     "output_type": "display_data"
    },
    {
     "data": {
      "text/plain": [
       "[['Random Forest', 'G-Forest'], ['G-Forest', 'GAR-Forest']]"
      ]
     },
     "execution_count": 6,
     "metadata": {},
     "output_type": "execute_result"
    }
   ],
   "source": [
    "n_dt = jose_4_10.shape[0]\n",
    "n_clf = jose_4_10.shape[1]-1 #Columna de datasets\n",
    "g = ph.groups_Nemenyi(avg_rank, ph.nemenyi_CD(n_clf, n_dt, alpha=0.05))\n",
    "ph.plot_nemenyi(avg_rank,ph.nemenyi_CD(n_clf, n_dt, alpha=0.05),g)\n",
    "g"
   ]
  },
  {
   "cell_type": "markdown",
   "metadata": {},
   "source": [
    "*******************\n",
    "# Ejemplo Demsar 2016"
   ]
  },
  {
   "cell_type": "code",
   "execution_count": 7,
   "metadata": {},
   "outputs": [
    {
     "data": {
      "text/html": [
       "<div>\n",
       "<style scoped>\n",
       "    .dataframe tbody tr th:only-of-type {\n",
       "        vertical-align: middle;\n",
       "    }\n",
       "\n",
       "    .dataframe tbody tr th {\n",
       "        vertical-align: top;\n",
       "    }\n",
       "\n",
       "    .dataframe thead th {\n",
       "        text-align: right;\n",
       "    }\n",
       "</style>\n",
       "<table border=\"1\" class=\"dataframe\">\n",
       "  <thead>\n",
       "    <tr style=\"text-align: right;\">\n",
       "      <th></th>\n",
       "      <th>Dataset</th>\n",
       "      <th>C4.5</th>\n",
       "      <th>C4.5+m</th>\n",
       "      <th>C4.5+cf</th>\n",
       "      <th>C4.5+m+cf</th>\n",
       "    </tr>\n",
       "  </thead>\n",
       "  <tbody>\n",
       "    <tr>\n",
       "      <th>0</th>\n",
       "      <td>adult</td>\n",
       "      <td>0.763</td>\n",
       "      <td>0.768</td>\n",
       "      <td>0.771</td>\n",
       "      <td>0.798</td>\n",
       "    </tr>\n",
       "    <tr>\n",
       "      <th>1</th>\n",
       "      <td>breastcancer</td>\n",
       "      <td>0.599</td>\n",
       "      <td>0.591</td>\n",
       "      <td>0.590</td>\n",
       "      <td>0.569</td>\n",
       "    </tr>\n",
       "    <tr>\n",
       "      <th>2</th>\n",
       "      <td>breastcancerwisconsin</td>\n",
       "      <td>0.954</td>\n",
       "      <td>0.971</td>\n",
       "      <td>0.968</td>\n",
       "      <td>0.967</td>\n",
       "    </tr>\n",
       "    <tr>\n",
       "      <th>3</th>\n",
       "      <td>cmc</td>\n",
       "      <td>0.628</td>\n",
       "      <td>0.661</td>\n",
       "      <td>0.654</td>\n",
       "      <td>0.657</td>\n",
       "    </tr>\n",
       "    <tr>\n",
       "      <th>4</th>\n",
       "      <td>ionosphere</td>\n",
       "      <td>0.882</td>\n",
       "      <td>0.888</td>\n",
       "      <td>0.886</td>\n",
       "      <td>0.890</td>\n",
       "    </tr>\n",
       "  </tbody>\n",
       "</table>\n",
       "</div>"
      ],
      "text/plain": [
       "                 Dataset   C4.5  C4.5+m  C4.5+cf  C4.5+m+cf\n",
       "0                  adult  0.763   0.768    0.771      0.798\n",
       "1           breastcancer  0.599   0.591    0.590      0.569\n",
       "2  breastcancerwisconsin  0.954   0.971    0.968      0.967\n",
       "3                    cmc  0.628   0.661    0.654      0.657\n",
       "4             ionosphere  0.882   0.888    0.886      0.890"
      ]
     },
     "execution_count": 7,
     "metadata": {},
     "output_type": "execute_result"
    }
   ],
   "source": [
    "demsar = pd.read_csv('demsar_2016.csv')\n",
    "demsar.head()"
   ]
  },
  {
   "cell_type": "code",
   "execution_count": 8,
   "metadata": {
    "scrolled": false
   },
   "outputs": [
    {
     "name": "stdout",
     "output_type": "stream",
     "text": [
      "### Experimento\n",
      "# Number of classifiers: 4\n",
      "# Number of datasets: 14\n",
      "# Name of classifiers: C4.5, C4.5+m, C4.5+cf, C4.5+m+cf\n",
      "# Alpha: 0.05\n",
      "\n",
      "### Métricas\n",
      "# Test de Friedman sobre métricas \n",
      "\t-> p-val: 0.0120\n",
      "\n",
      "### Rankings\n",
      "# C4.5+m+cf ranking medio:  1.929\n",
      "# C4.5+m    ranking medio:  2.0\n",
      "# C4.5+cf   ranking medio:  2.929\n",
      "# C4.5      ranking medio:  3.143\n",
      "# Test de Ivan-Davenport sobre Rankings [F(3.9867, 3, 39)]               \n",
      "\t-> p-val: 0.0144\n",
      "\n",
      "### Test Hochberg Comparacion C4.5+m+cf vs all\n",
      "# Tabla de comparación de Rankings:\n",
      "                          z      p  alpha/i    sig\n",
      "C4.5+m+cf vs C4.5     2.488  0.013    0.017   True\n",
      "C4.5+m+cf vs C4.5+cf  2.049  0.040    0.025  False\n",
      "C4.5+m+cf vs C4.5+m   0.146  0.884    0.050  False\n"
     ]
    }
   ],
   "source": [
    "df_Hoch, avg_rank = ph.posthoc_Friedman_Davenport_Hochbertest(demsar)"
   ]
  },
  {
   "cell_type": "markdown",
   "metadata": {},
   "source": [
    "### 1 vs ALL"
   ]
  },
  {
   "cell_type": "code",
   "execution_count": 9,
   "metadata": {},
   "outputs": [
    {
     "name": "stdout",
     "output_type": "stream",
     "text": [
      "### Experimento\n",
      "# Number of classifiers: 4\n",
      "# Number of datasets: 14\n",
      "# Name of classifiers: C4.5, C4.5+m, C4.5+cf, C4.5+m+cf\n",
      "# Alpha: 0.05\n",
      "\n",
      "### Métricas\n",
      "# Test de Friedman sobre métricas \n",
      "\t-> p-val: 0.0120\n",
      "\n",
      "### Rankings\n",
      "# C4.5+m+cf ranking medio:  1.929\n",
      "# C4.5+m    ranking medio:  2.0\n",
      "# C4.5+cf   ranking medio:  2.929\n",
      "# C4.5      ranking medio:  3.143\n",
      "# Test de Ivan-Davenport sobre Rankings [F(3.9867, 3, 39)]               \n",
      "\t-> p-val: 0.0144\n",
      "\n",
      "### Test Hochberg Comparacion C4.5 vs all\n",
      "# Tabla de comparación de Rankings:\n",
      "                       z      p  alpha/i    sig\n",
      "C4.5 vs C4.5+m+cf  2.488  0.013    0.017   True\n",
      "C4.5 vs C4.5+m     2.342  0.019    0.025   True\n",
      "C4.5 vs C4.5+cf    0.439  0.661    0.050  False\n"
     ]
    }
   ],
   "source": [
    "df_Hoch, avg_rank = ph.posthoc_Friedman_Davenport_Hochbertest(demsar, control='C4.5')"
   ]
  },
  {
   "cell_type": "code",
   "execution_count": 10,
   "metadata": {},
   "outputs": [
    {
     "data": {
      "text/html": [
       "<div>\n",
       "<style scoped>\n",
       "    .dataframe tbody tr th:only-of-type {\n",
       "        vertical-align: middle;\n",
       "    }\n",
       "\n",
       "    .dataframe tbody tr th {\n",
       "        vertical-align: top;\n",
       "    }\n",
       "\n",
       "    .dataframe thead th {\n",
       "        text-align: right;\n",
       "    }\n",
       "</style>\n",
       "<table border=\"1\" class=\"dataframe\">\n",
       "  <thead>\n",
       "    <tr style=\"text-align: right;\">\n",
       "      <th></th>\n",
       "      <th>z</th>\n",
       "      <th>p</th>\n",
       "      <th>alpha/i</th>\n",
       "      <th>sig</th>\n",
       "    </tr>\n",
       "  </thead>\n",
       "  <tbody>\n",
       "    <tr>\n",
       "      <th>C4.5 vs C4.5+m+cf</th>\n",
       "      <td>2.488</td>\n",
       "      <td>0.013</td>\n",
       "      <td>0.017</td>\n",
       "      <td>True</td>\n",
       "    </tr>\n",
       "    <tr>\n",
       "      <th>C4.5 vs C4.5+m</th>\n",
       "      <td>2.342</td>\n",
       "      <td>0.019</td>\n",
       "      <td>0.025</td>\n",
       "      <td>True</td>\n",
       "    </tr>\n",
       "    <tr>\n",
       "      <th>C4.5 vs C4.5+cf</th>\n",
       "      <td>0.439</td>\n",
       "      <td>0.661</td>\n",
       "      <td>0.050</td>\n",
       "      <td>False</td>\n",
       "    </tr>\n",
       "  </tbody>\n",
       "</table>\n",
       "</div>"
      ],
      "text/plain": [
       "                       z      p  alpha/i    sig\n",
       "C4.5 vs C4.5+m+cf  2.488  0.013    0.017   True\n",
       "C4.5 vs C4.5+m     2.342  0.019    0.025   True\n",
       "C4.5 vs C4.5+cf    0.439  0.661    0.050  False"
      ]
     },
     "execution_count": 10,
     "metadata": {},
     "output_type": "execute_result"
    }
   ],
   "source": [
    "df_Hoch"
   ]
  },
  {
   "cell_type": "code",
   "execution_count": 11,
   "metadata": {},
   "outputs": [
    {
     "data": {
      "text/plain": [
       "{'C4.5': 3.143, 'C4.5+m': 2.0, 'C4.5+cf': 2.929, 'C4.5+m+cf': 1.929}"
      ]
     },
     "execution_count": 11,
     "metadata": {},
     "output_type": "execute_result"
    }
   ],
   "source": [
    "avg_rank"
   ]
  },
  {
   "cell_type": "markdown",
   "metadata": {},
   "source": [
    "### All vs All"
   ]
  },
  {
   "cell_type": "code",
   "execution_count": 12,
   "metadata": {},
   "outputs": [
    {
     "data": {
      "text/plain": [
       "(14, 4)"
      ]
     },
     "execution_count": 12,
     "metadata": {},
     "output_type": "execute_result"
    }
   ],
   "source": [
    "n_dt = demsar.shape[0]\n",
    "n_clf = demsar.shape[1]-1 #Columna de datasets\n",
    "n_dt, n_clf"
   ]
  },
  {
   "cell_type": "code",
   "execution_count": 13,
   "metadata": {},
   "outputs": [
    {
     "data": {
      "text/plain": [
       "[['C4.5', 'C4.5+cf'], ['C4.5+cf', 'C4.5+m', 'C4.5+m+cf']]"
      ]
     },
     "execution_count": 13,
     "metadata": {},
     "output_type": "execute_result"
    }
   ],
   "source": [
    "g = ph.groups_Nemenyi(avg_rank, ph.nemenyi_CD(n_clf, n_dt, alpha=0.10))\n",
    "g"
   ]
  },
  {
   "cell_type": "code",
   "execution_count": 14,
   "metadata": {},
   "outputs": [
    {
     "data": {
      "image/png": "[encoded data removed]",
      "text/plain": [
       "<Figure size 936x288 with 1 Axes>"
      ]
     },
     "metadata": {
      "needs_background": "light"
     },
     "output_type": "display_data"
    }
   ],
   "source": [
    "ph.plot_nemenyi(avg_rank,ph.nemenyi_CD(n_clf, n_dt, alpha=0.10),g)"
   ]
  },
  {
   "cell_type": "markdown",
   "metadata": {},
   "source": [
    "0.05"
   ]
  },
  {
   "cell_type": "code",
   "execution_count": 15,
   "metadata": {},
   "outputs": [
    {
     "data": {
      "image/png": "[encoded data removed]",
      "text/plain": [
       "<Figure size 936x288 with 1 Axes>"
      ]
     },
     "metadata": {
      "needs_background": "light"
     },
     "output_type": "display_data"
    }
   ],
   "source": [
    "ph.plot_nemenyi(avg_rank,\n",
    "                ph.nemenyi_CD(n_clf, n_dt, alpha=0.05),\n",
    "                ph.groups_Nemenyi(avg_rank, ph.nemenyi_CD(n_clf, n_dt, alpha=0.05)))"
   ]
  },
  {
   "cell_type": "markdown",
   "metadata": {},
   "source": [
    "## Resultados nuestros"
   ]
  },
  {
   "cell_type": "code",
   "execution_count": 16,
   "metadata": {},
   "outputs": [
    {
     "data": {
      "text/html": [
       "<div>\n",
       "<style scoped>\n",
       "    .dataframe tbody tr th:only-of-type {\n",
       "        vertical-align: middle;\n",
       "    }\n",
       "\n",
       "    .dataframe tbody tr th {\n",
       "        vertical-align: top;\n",
       "    }\n",
       "\n",
       "    .dataframe thead th {\n",
       "        text-align: right;\n",
       "    }\n",
       "</style>\n",
       "<table border=\"1\" class=\"dataframe\">\n",
       "  <thead>\n",
       "    <tr style=\"text-align: right;\">\n",
       "      <th></th>\n",
       "      <th>Dataset</th>\n",
       "      <th>KNN8</th>\n",
       "      <th>Tree</th>\n",
       "      <th>Bayes</th>\n",
       "      <th>SVM</th>\n",
       "      <th>RandomF</th>\n",
       "      <th>Ada</th>\n",
       "      <th>Reglas</th>\n",
       "      <th>GBC</th>\n",
       "      <th>MLP100</th>\n",
       "      <th>MLP10</th>\n",
       "    </tr>\n",
       "  </thead>\n",
       "  <tbody>\n",
       "    <tr>\n",
       "      <th>0</th>\n",
       "      <td>RT_Embedding</td>\n",
       "      <td>0.832000</td>\n",
       "      <td>0.590000</td>\n",
       "      <td>0.642000</td>\n",
       "      <td>0.792000</td>\n",
       "      <td>0.750000</td>\n",
       "      <td>0.620000</td>\n",
       "      <td>0.430000</td>\n",
       "      <td>0.704000</td>\n",
       "      <td>0.864000</td>\n",
       "      <td>0.888000</td>\n",
       "    </tr>\n",
       "    <tr>\n",
       "      <th>1</th>\n",
       "      <td>A_Embedding</td>\n",
       "      <td>0.740975</td>\n",
       "      <td>0.587619</td>\n",
       "      <td>0.752596</td>\n",
       "      <td>0.723646</td>\n",
       "      <td>0.781323</td>\n",
       "      <td>0.794465</td>\n",
       "      <td>0.496667</td>\n",
       "      <td>0.811433</td>\n",
       "      <td>0.792358</td>\n",
       "      <td>0.811039</td>\n",
       "    </tr>\n",
       "    <tr>\n",
       "      <th>2</th>\n",
       "      <td>E_Embedding</td>\n",
       "      <td>0.687884</td>\n",
       "      <td>0.567857</td>\n",
       "      <td>0.625180</td>\n",
       "      <td>0.684975</td>\n",
       "      <td>0.655927</td>\n",
       "      <td>0.707916</td>\n",
       "      <td>0.555714</td>\n",
       "      <td>0.736542</td>\n",
       "      <td>0.750295</td>\n",
       "      <td>0.752932</td>\n",
       "    </tr>\n",
       "    <tr>\n",
       "      <th>3</th>\n",
       "      <td>I_Embedding</td>\n",
       "      <td>0.748180</td>\n",
       "      <td>0.578956</td>\n",
       "      <td>0.674691</td>\n",
       "      <td>0.704053</td>\n",
       "      <td>0.686239</td>\n",
       "      <td>0.547093</td>\n",
       "      <td>0.483590</td>\n",
       "      <td>0.646677</td>\n",
       "      <td>0.713111</td>\n",
       "      <td>0.727734</td>\n",
       "    </tr>\n",
       "    <tr>\n",
       "      <th>4</th>\n",
       "      <td>O_Embedding</td>\n",
       "      <td>0.640557</td>\n",
       "      <td>0.553800</td>\n",
       "      <td>0.608481</td>\n",
       "      <td>0.647351</td>\n",
       "      <td>0.644576</td>\n",
       "      <td>0.639483</td>\n",
       "      <td>0.492857</td>\n",
       "      <td>0.682911</td>\n",
       "      <td>0.637884</td>\n",
       "      <td>0.671548</td>\n",
       "    </tr>\n",
       "  </tbody>\n",
       "</table>\n",
       "</div>"
      ],
      "text/plain": [
       "        Dataset      KNN8      Tree     Bayes       SVM   RandomF       Ada  \\\n",
       "0  RT_Embedding  0.832000  0.590000  0.642000  0.792000  0.750000  0.620000   \n",
       "1   A_Embedding  0.740975  0.587619  0.752596  0.723646  0.781323  0.794465   \n",
       "2   E_Embedding  0.687884  0.567857  0.625180  0.684975  0.655927  0.707916   \n",
       "3   I_Embedding  0.748180  0.578956  0.674691  0.704053  0.686239  0.547093   \n",
       "4   O_Embedding  0.640557  0.553800  0.608481  0.647351  0.644576  0.639483   \n",
       "\n",
       "     Reglas       GBC    MLP100     MLP10  \n",
       "0  0.430000  0.704000  0.864000  0.888000  \n",
       "1  0.496667  0.811433  0.792358  0.811039  \n",
       "2  0.555714  0.736542  0.750295  0.752932  \n",
       "3  0.483590  0.646677  0.713111  0.727734  \n",
       "4  0.492857  0.682911  0.637884  0.671548  "
      ]
     },
     "execution_count": 16,
     "metadata": {},
     "output_type": "execute_result"
    }
   ],
   "source": [
    "embbeding_auc_norm = pd.read_csv('res_auc_embbedings_norm_clf.csv')\n",
    "embbeding_auc_norm.head()"
   ]
  },
  {
   "cell_type": "markdown",
   "metadata": {},
   "source": [
    "**1 vs ALL**"
   ]
  },
  {
   "cell_type": "code",
   "execution_count": 17,
   "metadata": {},
   "outputs": [
    {
     "name": "stdout",
     "output_type": "stream",
     "text": [
      "### Experimento\n",
      "# Number of classifiers: 10\n",
      "# Number of datasets: 6\n",
      "# Name of classifiers: KNN8, Tree, Bayes, SVM, RandomF, Ada, Reglas, GBC, MLP100, MLP10\n",
      "# Alpha: 0.05\n",
      "\n",
      "### Métricas\n",
      "# Test de Friedman sobre métricas \n",
      "\t-> p-val: 0.0000\n",
      "\n",
      "### Rankings\n",
      "# MLP10   ranking medio:  1.833\n",
      "# GBC     ranking medio:  3.167\n",
      "# MLP100  ranking medio:  3.333\n",
      "# KNN8    ranking medio:  4.167\n",
      "# SVM     ranking medio:  5.167\n",
      "# RandomF ranking medio:  5.667\n",
      "# Ada     ranking medio:  5.833\n",
      "# Bayes   ranking medio:  7.0\n",
      "# Tree    ranking medio:  8.833\n",
      "# Reglas  ranking medio:  10.0\n",
      "# Test de Ivan-Davenport sobre Rankings [F(12.7208, 9, 45)]               \n",
      "\t-> p-val: 0.0000\n",
      "\n",
      "### Test Hochberg Comparacion MLP10 vs all\n",
      "# Tabla de comparación de Rankings:\n",
      "                      z      p  alpha/i    sig\n",
      "MLP10 vs Reglas   4.672  0.000    0.006   True\n",
      "MLP10 vs Tree     4.005  0.000    0.006   True\n",
      "MLP10 vs Bayes    2.956  0.003    0.007   True\n",
      "MLP10 vs Ada      2.288  0.022    0.008  False\n",
      "MLP10 vs RandomF  2.193  0.028    0.010  False\n",
      "MLP10 vs SVM      1.907  0.056    0.012  False\n",
      "MLP10 vs KNN8     1.335  0.182    0.017  False\n",
      "MLP10 vs MLP100   0.858  0.391    0.025  False\n",
      "MLP10 vs GBC      0.763  0.445    0.050  False\n"
     ]
    }
   ],
   "source": [
    "df_Hoch, avg_rank = ph.posthoc_Friedman_Davenport_Hochbertest(embbeding_auc_norm)"
   ]
  },
  {
   "cell_type": "code",
   "execution_count": 18,
   "metadata": {},
   "outputs": [
    {
     "data": {
      "text/html": [
       "<div>\n",
       "<style scoped>\n",
       "    .dataframe tbody tr th:only-of-type {\n",
       "        vertical-align: middle;\n",
       "    }\n",
       "\n",
       "    .dataframe tbody tr th {\n",
       "        vertical-align: top;\n",
       "    }\n",
       "\n",
       "    .dataframe thead th {\n",
       "        text-align: right;\n",
       "    }\n",
       "</style>\n",
       "<table border=\"1\" class=\"dataframe\">\n",
       "  <thead>\n",
       "    <tr style=\"text-align: right;\">\n",
       "      <th></th>\n",
       "      <th>z</th>\n",
       "      <th>p</th>\n",
       "      <th>alpha/i</th>\n",
       "      <th>sig</th>\n",
       "    </tr>\n",
       "  </thead>\n",
       "  <tbody>\n",
       "    <tr>\n",
       "      <th>MLP10 vs Reglas</th>\n",
       "      <td>4.672</td>\n",
       "      <td>0.000</td>\n",
       "      <td>0.006</td>\n",
       "      <td>True</td>\n",
       "    </tr>\n",
       "    <tr>\n",
       "      <th>MLP10 vs Tree</th>\n",
       "      <td>4.005</td>\n",
       "      <td>0.000</td>\n",
       "      <td>0.006</td>\n",
       "      <td>True</td>\n",
       "    </tr>\n",
       "    <tr>\n",
       "      <th>MLP10 vs Bayes</th>\n",
       "      <td>2.956</td>\n",
       "      <td>0.003</td>\n",
       "      <td>0.007</td>\n",
       "      <td>True</td>\n",
       "    </tr>\n",
       "    <tr>\n",
       "      <th>MLP10 vs Ada</th>\n",
       "      <td>2.288</td>\n",
       "      <td>0.022</td>\n",
       "      <td>0.008</td>\n",
       "      <td>False</td>\n",
       "    </tr>\n",
       "    <tr>\n",
       "      <th>MLP10 vs RandomF</th>\n",
       "      <td>2.193</td>\n",
       "      <td>0.028</td>\n",
       "      <td>0.010</td>\n",
       "      <td>False</td>\n",
       "    </tr>\n",
       "    <tr>\n",
       "      <th>MLP10 vs SVM</th>\n",
       "      <td>1.907</td>\n",
       "      <td>0.056</td>\n",
       "      <td>0.012</td>\n",
       "      <td>False</td>\n",
       "    </tr>\n",
       "    <tr>\n",
       "      <th>MLP10 vs KNN8</th>\n",
       "      <td>1.335</td>\n",
       "      <td>0.182</td>\n",
       "      <td>0.017</td>\n",
       "      <td>False</td>\n",
       "    </tr>\n",
       "    <tr>\n",
       "      <th>MLP10 vs MLP100</th>\n",
       "      <td>0.858</td>\n",
       "      <td>0.391</td>\n",
       "      <td>0.025</td>\n",
       "      <td>False</td>\n",
       "    </tr>\n",
       "    <tr>\n",
       "      <th>MLP10 vs GBC</th>\n",
       "      <td>0.763</td>\n",
       "      <td>0.445</td>\n",
       "      <td>0.050</td>\n",
       "      <td>False</td>\n",
       "    </tr>\n",
       "  </tbody>\n",
       "</table>\n",
       "</div>"
      ],
      "text/plain": [
       "                      z      p  alpha/i    sig\n",
       "MLP10 vs Reglas   4.672  0.000    0.006   True\n",
       "MLP10 vs Tree     4.005  0.000    0.006   True\n",
       "MLP10 vs Bayes    2.956  0.003    0.007   True\n",
       "MLP10 vs Ada      2.288  0.022    0.008  False\n",
       "MLP10 vs RandomF  2.193  0.028    0.010  False\n",
       "MLP10 vs SVM      1.907  0.056    0.012  False\n",
       "MLP10 vs KNN8     1.335  0.182    0.017  False\n",
       "MLP10 vs MLP100   0.858  0.391    0.025  False\n",
       "MLP10 vs GBC      0.763  0.445    0.050  False"
      ]
     },
     "execution_count": 18,
     "metadata": {},
     "output_type": "execute_result"
    }
   ],
   "source": [
    "df_Hoch"
   ]
  },
  {
   "cell_type": "code",
   "execution_count": 19,
   "metadata": {},
   "outputs": [
    {
     "data": {
      "text/plain": [
       "{'KNN8': 4.167,\n",
       " 'Tree': 8.833,\n",
       " 'Bayes': 7.0,\n",
       " 'SVM': 5.167,\n",
       " 'RandomF': 5.667,\n",
       " 'Ada': 5.833,\n",
       " 'Reglas': 10.0,\n",
       " 'GBC': 3.167,\n",
       " 'MLP100': 3.333,\n",
       " 'MLP10': 1.833}"
      ]
     },
     "execution_count": 19,
     "metadata": {},
     "output_type": "execute_result"
    }
   ],
   "source": [
    "avg_rank"
   ]
  },
  {
   "cell_type": "markdown",
   "metadata": {},
   "source": [
    "**All vs All**"
   ]
  },
  {
   "cell_type": "code",
   "execution_count": 20,
   "metadata": {},
   "outputs": [
    {
     "data": {
      "image/png": "[encoded data removed]",
      "text/plain": [
       "<Figure size 936x288 with 1 Axes>"
      ]
     },
     "metadata": {
      "needs_background": "light"
     },
     "output_type": "display_data"
    },
    {
     "data": {
      "text/plain": [
       "[['Reglas', 'Tree', 'Bayes', 'Ada', 'RandomF', 'SVM'],\n",
       " ['Tree', 'Bayes', 'Ada', 'RandomF', 'SVM', 'KNN8', 'MLP100'],\n",
       " ['Bayes', 'Ada', 'RandomF', 'SVM', 'KNN8', 'MLP100', 'GBC', 'MLP10']]"
      ]
     },
     "execution_count": 20,
     "metadata": {},
     "output_type": "execute_result"
    }
   ],
   "source": [
    "n_dt = embbeding_auc_norm.shape[0]\n",
    "n_clf = embbeding_auc_norm.shape[1]-1 #Columna de datasets\n",
    "g = ph.groups_Nemenyi(avg_rank, ph.nemenyi_CD(n_clf, n_dt, alpha=0.05))\n",
    "ph.plot_nemenyi(avg_rank,ph.nemenyi_CD(n_clf, n_dt, alpha=0.05),g)\n",
    "g"
   ]
  },
  {
   "cell_type": "code",
   "execution_count": 21,
   "metadata": {},
   "outputs": [
    {
     "data": {
      "image/png": "[encoded data removed]",
      "text/plain": [
       "<Figure size 936x288 with 1 Axes>"
      ]
     },
     "metadata": {
      "needs_background": "light"
     },
     "output_type": "display_data"
    },
    {
     "data": {
      "text/plain": [
       "[['Reglas', 'Tree', 'Bayes', 'Ada', 'RandomF', 'SVM'],\n",
       " ['Tree', 'Bayes', 'Ada', 'RandomF', 'SVM', 'KNN8'],\n",
       " ['Bayes', 'Ada', 'RandomF', 'SVM', 'KNN8', 'MLP100', 'GBC'],\n",
       " ['Ada', 'RandomF', 'SVM', 'KNN8', 'MLP100', 'GBC', 'MLP10']]"
      ]
     },
     "execution_count": 21,
     "metadata": {},
     "output_type": "execute_result"
    }
   ],
   "source": [
    "g = ph.groups_Nemenyi(avg_rank, ph.nemenyi_CD(n_clf, n_dt, alpha=0.10))\n",
    "ph.plot_nemenyi(avg_rank,ph.nemenyi_CD(n_clf, n_dt, alpha=0.10),g)\n",
    "g"
   ]
  }
 ],
 "metadata": {
  "kernelspec": {
   "display_name": "Py3.6.8PK",
   "language": "python",
   "name": "pk"
  },
  "language_info": {
   "codemirror_mode": {
    "name": "ipython",
    "version": 3
   },
   "file_extension": ".py",
   "mimetype": "text/x-python",
   "name": "python",
   "nbconvert_exporter": "python",
   "pygments_lexer": "ipython3",
   "version": "3.6.8"
  }
 },
 "nbformat": 4,
 "nbformat_minor": 4
}
