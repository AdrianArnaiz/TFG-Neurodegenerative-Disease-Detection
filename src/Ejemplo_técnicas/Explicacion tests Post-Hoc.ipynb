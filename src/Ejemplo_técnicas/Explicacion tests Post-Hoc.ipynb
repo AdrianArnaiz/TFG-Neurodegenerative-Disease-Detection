{
 "cells": [
  {
   "cell_type": "markdown",
   "metadata": {},
   "source": [
    "# Ejemplo de aplicación de test Post-Hoc de Friedman para anking de clasificadores\n",
    "\n",
    "### Adrián Arnaiz Rodríguez\n",
    "\n",
    "- Demšar, J. (2006). Statistical comparisons of classifiers over multiple data sets. Journal of Machine learning research, 7, 1-30.\n",
    "    - https://edisciplinas.usp.br/pluginfile.php/4129451/mod_resource/content/1/model_selection_evaluation.pdf\n",
    "    - https://www.tel.uva.es/descargar.htm;jsessionid=FD00403B76F542BEC4582B82FDF7E8AD?id=21795\n",
    "    \n",
    "- Salvador Garcia and Francisco Herrera. An extension on “statistical comparisons of classifiers over multiple data sets” for all pairwise comparisons. Journal of Machine Learning Research, 9:2677–2694, December 2008.\n",
    "    - https://sci2s.ugr.es/sites/default/files/ficherosPublicaciones/1307_2010-Garcia-TAMIDA.pdf\n",
    "    \n",
    "    \n",
    "#### 1. Test de Friedman sobre AUCs y Rankings a 'mano' (solo scipy)\n",
    "#### 2. Test de Borf-Dunn a mano 1 vs all\n",
    "#### 3. Creacion funciones\n",
    "#### 4. Otras librerías: scikit_posthoc y Autorank\n",
    "\n",
    "\n",
    "\n",
    " # Posibles pipelines\n",
    " 1. Friedman (scipy y a mano) + Nemanyi (scikit-posthoc): All vs All\n",
    " 2. **Friedman (scipy y a mano) + Bonferoni-Hochberg Correction (mano): 1 vs All**\n",
    " 3. Otros test de igualdad de medias y diferencias concretas segñun datos: AutoRank: All vs All"
   ]
  },
  {
   "cell_type": "code",
   "execution_count": 1,
   "metadata": {},
   "outputs": [],
   "source": [
    "import scipy.stats as stats\n",
    "import pandas as pd\n",
    "import numpy as np"
   ]
  },
  {
   "cell_type": "markdown",
   "metadata": {},
   "source": [
    "**Leemos los resultados de un anterior experimento**"
   ]
  },
  {
   "cell_type": "code",
   "execution_count": 27,
   "metadata": {},
   "outputs": [
    {
     "data": {
      "text/html": [
       "<div>\n",
       "<style scoped>\n",
       "    .dataframe tbody tr th:only-of-type {\n",
       "        vertical-align: middle;\n",
       "    }\n",
       "\n",
       "    .dataframe tbody tr th {\n",
       "        vertical-align: top;\n",
       "    }\n",
       "\n",
       "    .dataframe thead th {\n",
       "        text-align: right;\n",
       "    }\n",
       "</style>\n",
       "<table border=\"1\" class=\"dataframe\">\n",
       "  <thead>\n",
       "    <tr style=\"text-align: right;\">\n",
       "      <th></th>\n",
       "      <th>Datasets</th>\n",
       "      <th>KNN8</th>\n",
       "      <th>Tree</th>\n",
       "      <th>Bayes</th>\n",
       "      <th>SVM</th>\n",
       "      <th>RandomF</th>\n",
       "      <th>Ada</th>\n",
       "      <th>Reglas</th>\n",
       "      <th>GBC</th>\n",
       "      <th>MLP100</th>\n",
       "      <th>MLP10</th>\n",
       "    </tr>\n",
       "  </thead>\n",
       "  <tbody>\n",
       "    <tr>\n",
       "      <th>0</th>\n",
       "      <td>RT_Embedding</td>\n",
       "      <td>0.832000</td>\n",
       "      <td>0.590000</td>\n",
       "      <td>0.642000</td>\n",
       "      <td>0.792000</td>\n",
       "      <td>0.750000</td>\n",
       "      <td>0.620000</td>\n",
       "      <td>0.430000</td>\n",
       "      <td>0.704000</td>\n",
       "      <td>0.864000</td>\n",
       "      <td>0.888000</td>\n",
       "    </tr>\n",
       "    <tr>\n",
       "      <th>1</th>\n",
       "      <td>A_Embedding</td>\n",
       "      <td>0.740975</td>\n",
       "      <td>0.587619</td>\n",
       "      <td>0.752596</td>\n",
       "      <td>0.723646</td>\n",
       "      <td>0.781323</td>\n",
       "      <td>0.794465</td>\n",
       "      <td>0.496667</td>\n",
       "      <td>0.811433</td>\n",
       "      <td>0.792358</td>\n",
       "      <td>0.811039</td>\n",
       "    </tr>\n",
       "    <tr>\n",
       "      <th>2</th>\n",
       "      <td>E_Embedding</td>\n",
       "      <td>0.687884</td>\n",
       "      <td>0.567857</td>\n",
       "      <td>0.625180</td>\n",
       "      <td>0.684975</td>\n",
       "      <td>0.655927</td>\n",
       "      <td>0.707916</td>\n",
       "      <td>0.555714</td>\n",
       "      <td>0.736542</td>\n",
       "      <td>0.750295</td>\n",
       "      <td>0.752932</td>\n",
       "    </tr>\n",
       "    <tr>\n",
       "      <th>3</th>\n",
       "      <td>I_Embedding</td>\n",
       "      <td>0.748180</td>\n",
       "      <td>0.578956</td>\n",
       "      <td>0.674691</td>\n",
       "      <td>0.704053</td>\n",
       "      <td>0.686239</td>\n",
       "      <td>0.547093</td>\n",
       "      <td>0.483590</td>\n",
       "      <td>0.646677</td>\n",
       "      <td>0.713111</td>\n",
       "      <td>0.727734</td>\n",
       "    </tr>\n",
       "    <tr>\n",
       "      <th>4</th>\n",
       "      <td>O_Embedding</td>\n",
       "      <td>0.640557</td>\n",
       "      <td>0.553800</td>\n",
       "      <td>0.608481</td>\n",
       "      <td>0.647351</td>\n",
       "      <td>0.644576</td>\n",
       "      <td>0.639483</td>\n",
       "      <td>0.492857</td>\n",
       "      <td>0.682911</td>\n",
       "      <td>0.637884</td>\n",
       "      <td>0.671548</td>\n",
       "    </tr>\n",
       "    <tr>\n",
       "      <th>5</th>\n",
       "      <td>U_Embedding</td>\n",
       "      <td>0.663141</td>\n",
       "      <td>0.588462</td>\n",
       "      <td>0.643319</td>\n",
       "      <td>0.647880</td>\n",
       "      <td>0.638609</td>\n",
       "      <td>0.659418</td>\n",
       "      <td>0.496474</td>\n",
       "      <td>0.754882</td>\n",
       "      <td>0.691371</td>\n",
       "      <td>0.673176</td>\n",
       "    </tr>\n",
       "  </tbody>\n",
       "</table>\n",
       "</div>"
      ],
      "text/plain": [
       "       Datasets      KNN8      Tree     Bayes       SVM   RandomF       Ada  \\\n",
       "0  RT_Embedding  0.832000  0.590000  0.642000  0.792000  0.750000  0.620000   \n",
       "1   A_Embedding  0.740975  0.587619  0.752596  0.723646  0.781323  0.794465   \n",
       "2   E_Embedding  0.687884  0.567857  0.625180  0.684975  0.655927  0.707916   \n",
       "3   I_Embedding  0.748180  0.578956  0.674691  0.704053  0.686239  0.547093   \n",
       "4   O_Embedding  0.640557  0.553800  0.608481  0.647351  0.644576  0.639483   \n",
       "5   U_Embedding  0.663141  0.588462  0.643319  0.647880  0.638609  0.659418   \n",
       "\n",
       "     Reglas       GBC    MLP100     MLP10  \n",
       "0  0.430000  0.704000  0.864000  0.888000  \n",
       "1  0.496667  0.811433  0.792358  0.811039  \n",
       "2  0.555714  0.736542  0.750295  0.752932  \n",
       "3  0.483590  0.646677  0.713111  0.727734  \n",
       "4  0.492857  0.682911  0.637884  0.671548  \n",
       "5  0.496474  0.754882  0.691371  0.673176  "
      ]
     },
     "execution_count": 27,
     "metadata": {},
     "output_type": "execute_result"
    }
   ],
   "source": [
    "resultados = pd.read_csv('res_auc_embbedings_norm_clf.csv')\n",
    "resultados"
   ]
  },
  {
   "cell_type": "markdown",
   "metadata": {},
   "source": [
    "**Obtenemos los nombres de los algoritmos y el rendimiento de los clasificadores en un array numpy.**"
   ]
  },
  {
   "cell_type": "code",
   "execution_count": 28,
   "metadata": {},
   "outputs": [
    {
     "data": {
      "text/plain": [
       "Index(['KNN8', 'Tree', 'Bayes', 'SVM', 'RandomF', 'Ada', 'Reglas', 'GBC',\n",
       "       'MLP100', 'MLP10'],\n",
       "      dtype='object')"
      ]
     },
     "execution_count": 28,
     "metadata": {},
     "output_type": "execute_result"
    }
   ],
   "source": [
    "clasificadores = resultados.drop('Datasets', axis=1).columns\n",
    "clasificadores"
   ]
  },
  {
   "cell_type": "code",
   "execution_count": 29,
   "metadata": {},
   "outputs": [
    {
     "data": {
      "text/plain": [
       "(6, 10)"
      ]
     },
     "execution_count": 29,
     "metadata": {},
     "output_type": "execute_result"
    }
   ],
   "source": [
    "resultados_np = resultados[clasificadores].values\n",
    "resultados_np.shape"
   ]
  },
  {
   "cell_type": "markdown",
   "metadata": {},
   "source": [
    "# POST-HOC\n",
    "\n",
    "## 1. Aplicamos el test de friedman general sobre el rendimiento\n",
    "\n",
    "Test no paramétrico equivalente de comparación de medias.\n",
    "\n",
    "Le pasamos diferentes arrays de resultados, como cada array tiene que ser los resultados de un clasificador en diferentes datasets, le pasamos la matriz de resultados transpuesta."
   ]
  },
  {
   "cell_type": "code",
   "execution_count": 307,
   "metadata": {},
   "outputs": [
    {
     "data": {
      "text/plain": [
       "FriedmanchisquareResult(statistic=38.76363636363635, pvalue=1.2707706250878477e-05)"
      ]
     },
     "execution_count": 307,
     "metadata": {},
     "output_type": "execute_result"
    }
   ],
   "source": [
    "stats.friedmanchisquare(*resultados_np.transpose())\n",
    "#stats.friedmanchisquare(*resultados_np.transpose())\n",
    "#NO SE SI HAY QUE TRANSPONERLO O NO, CREO QUE SÍ"
   ]
  },
  {
   "cell_type": "markdown",
   "metadata": {},
   "source": [
    "* Vemos como hay una diferencia de medias, ya que tenemos un p-valor por debajo del nivel de significancia.\n",
    "\n",
    "## Ahora, tenemos que comparar los clasificadores a través de los rankings\n",
    "\n",
    "* Friedmann: diferencia general de rankings\n",
    "\n",
    "En caso de que sean diferentes, ver entre cuales son diferentes:\n",
    "\n",
    "* **Friedman: diferencia entre todos**\n",
    "* **Nemenyi: diferencia concreta entre ellos**\n",
    "* **Bonferroni-Dunn**\n",
    "\n",
    "**Primero de todo establecemos un ranking de los clasificadores para cada dataset**"
   ]
  },
  {
   "cell_type": "code",
   "execution_count": 31,
   "metadata": {},
   "outputs": [
    {
     "data": {
      "text/plain": [
       "array([[ 3.,  9.,  7.,  4.,  5.,  8., 10.,  6.,  2.,  1.],\n",
       "       [ 7.,  9.,  6.,  8.,  5.,  3., 10.,  1.,  4.,  2.],\n",
       "       [ 5.,  9.,  8.,  6.,  7.,  4., 10.,  3.,  2.,  1.],\n",
       "       [ 1.,  8.,  6.,  4.,  5.,  9., 10.,  7.,  3.,  2.],\n",
       "       [ 5.,  9.,  8.,  3.,  4.,  6., 10.,  1.,  7.,  2.],\n",
       "       [ 4.,  9.,  7.,  6.,  8.,  5., 10.,  1.,  2.,  3.]])"
      ]
     },
     "execution_count": 31,
     "metadata": {},
     "output_type": "execute_result"
    }
   ],
   "source": [
    "ranks = np.array([stats.rankdata(-p) for p in resultados_np])\n",
    "ranks"
   ]
  },
  {
   "cell_type": "markdown",
   "metadata": {},
   "source": [
    "Calculamos el ranking medio de cada clasificador"
   ]
  },
  {
   "cell_type": "code",
   "execution_count": 32,
   "metadata": {},
   "outputs": [
    {
     "name": "stdout",
     "output_type": "stream",
     "text": [
      "MLP10  ranking medio:\t 1.83\n",
      "GBC  ranking medio:\t 3.17\n",
      "MLP100  ranking medio:\t 3.33\n",
      "KNN8  ranking medio:\t 4.17\n",
      "SVM  ranking medio:\t 5.17\n",
      "RandomF  ranking medio:\t 5.67\n",
      "Ada  ranking medio:\t 5.83\n",
      "Bayes  ranking medio:\t 7.0\n",
      "Tree  ranking medio:\t 8.83\n",
      "Reglas  ranking medio:\t 10.0\n"
     ]
    }
   ],
   "source": [
    "average_ranks = np.mean(ranks, axis=0)\n",
    "dict_clf_avg_rank = {a:r for a, r in zip(clasificadores, average_ranks.round(2))}\n",
    "for k in sorted(dict_clf_avg_rank, key=dict_clf_avg_rank.get):\n",
    "    print(k,' ranking medio:\\t', dict_clf_avg_rank[k])\n",
    "    \n",
    "#print('\\n'.join('{} ranking medio:\\t {}'.format(a, r) for a, r in zip(clasificadores, average_ranks.round(2))))"
   ]
  },
  {
   "cell_type": "markdown",
   "metadata": {},
   "source": [
    "### Comparacion Rankings Firedman\n",
    "\n",
    "El test de Friedman prueba si los rankings medios obtenidos son significativamente diferentes de el ranking medio esperado bajo la hipótesis nula  $R_j = \\frac{\\sum_i^{k} i}{k}$ siendo $k$ el número de clasificadores diferentes. $R_j$ es el ranking medio. **Bajo la hipótesis nula que indica que todos los algoritmos se comportan similarmente, por lo que sus rankings Rj deben ser iguales**\n",
    "\n",
    "$$\\chi^2_F = \\frac{12n}{k(k + 1)} \\left[\\sum_k R_k^2 − \\frac{k(k + 1)^2}{4}\\right]$$\n",
    "\n",
    "**Iman y Davenport** mostraron que el estadístico de Friedman presenta un comportamiento conservativo y propusieron un estadístico mejor.\n",
    "\n",
    "$$F_F = \\frac{(n-1)\\chi^2_F}{n(k-1)\\chi^2_F}$$ con $k − 1$ y $(k − 1)(n − 1)$ grados de libertad.\n"
   ]
  },
  {
   "cell_type": "code",
   "execution_count": 213,
   "metadata": {},
   "outputs": [],
   "source": [
    "def friedman_ranking_chi(d, k, r, iman_davenport = False):\n",
    "    '''\n",
    "    d: numero de datasets\n",
    "    k: numero de clasificadores\n",
    "    r: np.array de rankings medios\n",
    "    iman_davenport: devolver estadístico con corrección o normal\n",
    "    '''\n",
    "    first = (12*d) / (k*(k+1))\n",
    "    sumat = np.sum(r**2)\n",
    "    second = (k*((k+1)**2)) / 4\n",
    "    res = first*(sumat-second)\n",
    "    \n",
    "    if iman_davenport:\n",
    "        res = ((d-1)*res)/(d*(k-1)-res)\n",
    "        print('Friedman IVAN-Davenport Chi Square - Datasets: {} - Clasificadores {}'.format(d,k))\n",
    "        print('-- Chi_sq^2_f = {:.3f}'.format(res))\n",
    "        \n",
    "    else:\n",
    "        print('Friedman Chi Square - Datasets: {} - Clasificadores {}'.format(d,k))\n",
    "        print('-- Chi_sq^2_f = {:.3f}'.format(res))\n",
    "        \n",
    "    return res"
   ]
  },
  {
   "cell_type": "markdown",
   "metadata": {},
   "source": [
    "**Ejemplo con datos de [Salvador García, Joaquín Derrac, Francisco Herrera, 2010](https://sci2s.ugr.es/sites/default/files/ficherosPublicaciones/1307_2010-Garcia-TAMIDA.pdf),** (para ver si he realizado bien los métodos). $F_f = 6.691$ y $F(3, 69) = 4,97e−4$"
   ]
  },
  {
   "cell_type": "code",
   "execution_count": 97,
   "metadata": {},
   "outputs": [],
   "source": [
    "n_algs = 4\n",
    "n_conj_datos = 24\n",
    "rank_medios = np.array([1.771, 2.479, 2.479, 3.271])"
   ]
  },
  {
   "cell_type": "code",
   "execution_count": 98,
   "metadata": {},
   "outputs": [
    {
     "name": "stdout",
     "output_type": "stream",
     "text": [
      "Friedman IVAN-Davenport Chi Square - Datasets: 24 - Clasificadores 4\n",
      "-- Chi_sq^2_f = 6.691\n"
     ]
    }
   ],
   "source": [
    "Ff = friedman_ranking_chi(n_conj_datos,\n",
    "                          n_algs,\n",
    "                          rank_medios,\n",
    "                          True)"
   ]
  },
  {
   "cell_type": "code",
   "execution_count": 99,
   "metadata": {},
   "outputs": [
    {
     "name": "stdout",
     "output_type": "stream",
     "text": [
      "F(6.690935434866362, 3, 69)\n"
     ]
    },
    {
     "data": {
      "text/plain": [
       "0.000497"
      ]
     },
     "execution_count": 99,
     "metadata": {},
     "output_type": "execute_result"
    }
   ],
   "source": [
    "df1 = n_algs-1\n",
    "df2 = (n_algs-1)*(n_conj_datos-1)\n",
    "print('F({}, {}, {})'.format(Ff, df1, df2))\n",
    "round(stats.f.sf(Ff, df1, df2),6)"
   ]
  },
  {
   "cell_type": "markdown",
   "metadata": {},
   "source": [
    "* **Se rechaza la hipótesis nula de igualdad de rankings con alta probabilidad**"
   ]
  },
  {
   "cell_type": "markdown",
   "metadata": {},
   "source": [
    "\n",
    "* ***La Tesis de Jose hace el ejemplo de (Demšar, J. (2006). Statistical comparisons of classifiers over multiple data sets. Journal of Machine learning research, 7, 1-30.) cuyo [código concreto está en este pdf].(https://edisciplinas.usp.br/pluginfile.php/4129451/mod_resource/content/1/model_selection_evaluation.pdf)***"
   ]
  },
  {
   "cell_type": "code",
   "execution_count": 100,
   "metadata": {},
   "outputs": [
    {
     "name": "stdout",
     "output_type": "stream",
     "text": [
      "Friedman IVAN-Davenport Chi Square - Datasets: 14 - Clasificadores 4\n",
      "-- Chi_sq^2_f = 3.706\n",
      "F(3.7060507958937423, 3, 39)\n"
     ]
    },
    {
     "data": {
      "text/plain": [
       "0.019404"
      ]
     },
     "execution_count": 100,
     "metadata": {},
     "output_type": "execute_result"
    }
   ],
   "source": [
    "n_algs = 4\n",
    "n_conj_datos = 14\n",
    "rank_medios = np.array([3.1432,2.0002,2.8932,1.9642])\n",
    "Ff = friedman_ranking_chi(n_conj_datos,\n",
    "                          n_algs,\n",
    "                          rank_medios,\n",
    "                          True)\n",
    "\n",
    "df1 = n_algs-1\n",
    "df2 = (n_algs-1)*(n_conj_datos-1)\n",
    "\n",
    "print('F({}, {}, {})'.format(Ff, df1, df2))\n",
    "round(stats.f.sf(Ff, df1, df2),6)"
   ]
  },
  {
   "cell_type": "markdown",
   "metadata": {},
   "source": [
    "**Ejemplo con nuestro dataset**"
   ]
  },
  {
   "cell_type": "code",
   "execution_count": 38,
   "metadata": {},
   "outputs": [
    {
     "name": "stdout",
     "output_type": "stream",
     "text": [
      "Friedman Chi Square - Datasets: 6 - Clasificadores 10\n",
      "-- Chi_sq^2_f = 38.764\n"
     ]
    }
   ],
   "source": [
    "n_datasets = resultados_np.shape[0]\n",
    "n_clasificadores = resultados_np.shape[1]\n",
    "\n",
    "estadChif = friedman_ranking_chi(n_datasets,\n",
    "                             n_clasificadores,\n",
    "                             average_ranks)"
   ]
  },
  {
   "cell_type": "code",
   "execution_count": 39,
   "metadata": {},
   "outputs": [
    {
     "name": "stdout",
     "output_type": "stream",
     "text": [
      "Friedman IVAN-Davenport Chi Square - Datasets: 6 - Clasificadores 10\n",
      "-- Chi_sq^2_f = 12.721\n"
     ]
    }
   ],
   "source": [
    "estadFf = friedman_ranking_chi(resultados_np.shape[0],\n",
    "                             resultados_np.shape[1],\n",
    "                             average_ranks,\n",
    "                             True)"
   ]
  },
  {
   "cell_type": "code",
   "execution_count": 40,
   "metadata": {},
   "outputs": [
    {
     "data": {
      "text/plain": [
       "0.0003576936965457399"
      ]
     },
     "execution_count": 40,
     "metadata": {},
     "output_type": "execute_result"
    }
   ],
   "source": [
    "# Obtenemos el p-valor de nuestro estadístico con los grados de libertad\n",
    "stats.f.sf(estadFf, n_datasets, n_clasificadores)"
   ]
  },
  {
   "cell_type": "markdown",
   "metadata": {},
   "source": [
    "* **Rechazamos la hipótesis nula de igualdad de Rankings**"
   ]
  },
  {
   "cell_type": "markdown",
   "metadata": {},
   "source": [
    "# ¿Se realizaría Bonferroni-Dunn’s (1 vs all) o Nemanyi (all vs all) para comparar las diferencias ? "
   ]
  },
  {
   "cell_type": "markdown",
   "metadata": {},
   "source": [
    "### 2. Bonferoni-Holm Correction: 1 vs All\n",
    "\n",
    "* https://github.com/ben-ix/MethodComparisonsInPython/blob/master/StatisticalTests.ipynb\n",
    "* https://github.com/ben-ix/MethodComparisonsInPython/blob/master/stac/nonparametric_tests.py\n",
    "\n",
    "**Función y ejemplo de  Demšar, J. (2006).**"
   ]
  },
  {
   "cell_type": "code",
   "execution_count": 362,
   "metadata": {},
   "outputs": [
    {
     "data": {
      "text/html": [
       "<div>\n",
       "<style scoped>\n",
       "    .dataframe tbody tr th:only-of-type {\n",
       "        vertical-align: middle;\n",
       "    }\n",
       "\n",
       "    .dataframe tbody tr th {\n",
       "        vertical-align: top;\n",
       "    }\n",
       "\n",
       "    .dataframe thead th {\n",
       "        text-align: right;\n",
       "    }\n",
       "</style>\n",
       "<table border=\"1\" class=\"dataframe\">\n",
       "  <thead>\n",
       "    <tr style=\"text-align: right;\">\n",
       "      <th></th>\n",
       "      <th>z</th>\n",
       "      <th>p</th>\n",
       "      <th>alpha/i</th>\n",
       "      <th>sig</th>\n",
       "    </tr>\n",
       "  </thead>\n",
       "  <tbody>\n",
       "    <tr>\n",
       "      <th>C4.5 vs C4.5+m+cf</th>\n",
       "      <td>2.416</td>\n",
       "      <td>0.016</td>\n",
       "      <td>0.017</td>\n",
       "      <td>True</td>\n",
       "    </tr>\n",
       "    <tr>\n",
       "      <th>C4.5 vs C4.5+m</th>\n",
       "      <td>2.342</td>\n",
       "      <td>0.019</td>\n",
       "      <td>0.025</td>\n",
       "      <td>True</td>\n",
       "    </tr>\n",
       "    <tr>\n",
       "      <th>C4.5 vs C4.5+cf</th>\n",
       "      <td>0.512</td>\n",
       "      <td>0.608</td>\n",
       "      <td>0.050</td>\n",
       "      <td>False</td>\n",
       "    </tr>\n",
       "  </tbody>\n",
       "</table>\n",
       "</div>"
      ],
      "text/plain": [
       "                       z      p  alpha/i    sig\n",
       "C4.5 vs C4.5+m+cf  2.416  0.016    0.017   True\n",
       "C4.5 vs C4.5+m     2.342  0.019    0.025   True\n",
       "C4.5 vs C4.5+cf    0.512  0.608    0.050  False"
      ]
     },
     "execution_count": 362,
     "metadata": {},
     "output_type": "execute_result"
    }
   ],
   "source": [
    "def hochberg_test(ranks, n_datasets, control=None, alpha=0.05):\n",
    "    \"\"\"\n",
    "        Parameters\n",
    "        ----------\n",
    "        ranks : dictionary\n",
    "            A dictionary with format 'Classifier':'mean_rank' \n",
    "        control : string optional\n",
    "            The name of the control method (one vs all), if None: best is choosen\n",
    "            \n",
    "        Returns\n",
    "        ----------\n",
    "        Comparions : np.array-like\n",
    "            Strings identifier of each comparison with format 'group_i_control vs group_j'\n",
    "            \n",
    "        Z-values : np.array-like\n",
    "            The computed Z-value statistic for each comparison.\n",
    "            \n",
    "        p-values : np.array-like\n",
    "            The associated p-value from the Z-distribution wich depends on the index of the comparison\n",
    "            \n",
    "        adj_sigmas : np.array-like\n",
    "            The associated adjusted sigma according HOCHBERG test alpha/i, being i the reverse of the position in ranking.\n",
    "            \n",
    "        References\n",
    "        ----------\n",
    "        Demšar, J. (2006). Statistical comparisons of classifiers over multiple data sets. Journal of Machine learning research, 7(Jan), 1-30.\n",
    "    \"\"\"\n",
    "    k = len(ranks) # numero de tests\n",
    "    values = list(ranks.values())\n",
    "    keys = list(ranks.keys())\n",
    "\n",
    "    control_i = values.index(min(values)) if not control else keys.index(control)\n",
    "\n",
    "    # Strings de comparaciones\n",
    "    comparisons = [keys[control_i] + \" vs \" + keys[i] for i in range(k) if i != control_i]\n",
    "    \n",
    "    # Estadísticos y pval\n",
    "    # Estadisticos son la diferencia de rankings medios\n",
    "    # Error estandar según Demsar\n",
    "    se = np.sqrt((k*(k+1))/(6*n_datasets)) \n",
    "\n",
    "    z_values = [abs(values[control_i] - values[i])/se for i in range(k) if i != control_i]\n",
    "    p_values = [2*(1-stats.norm.cdf(abs(z))) for z in z_values]\n",
    "    \n",
    "    # Ordenarmos por pval\n",
    "    p_values, z_values, comparisons = map(list, zip(*sorted(zip(p_values, z_values, comparisons), key=lambda t: t[0])))\n",
    "    \n",
    "    # Ajustamos sigma según Hochner\n",
    "    adj_sigmas = [alpha/i for i in range(k-1,0,-1)]\n",
    "    \n",
    "    return np.asarray(comparisons), np.asarray(z_values), np.asarray(p_values), np.asarray(adj_sigmas)\n",
    "\n"
   ]
  },
  {
   "cell_type": "code",
   "execution_count": 205,
   "metadata": {},
   "outputs": [
    {
     "data": {
      "text/html": [
       "<div>\n",
       "<style scoped>\n",
       "    .dataframe tbody tr th:only-of-type {\n",
       "        vertical-align: middle;\n",
       "    }\n",
       "\n",
       "    .dataframe tbody tr th {\n",
       "        vertical-align: top;\n",
       "    }\n",
       "\n",
       "    .dataframe thead th {\n",
       "        text-align: right;\n",
       "    }\n",
       "</style>\n",
       "<table border=\"1\" class=\"dataframe\">\n",
       "  <thead>\n",
       "    <tr style=\"text-align: right;\">\n",
       "      <th></th>\n",
       "      <th>z</th>\n",
       "      <th>p</th>\n",
       "      <th>alpha/i</th>\n",
       "      <th>sig</th>\n",
       "    </tr>\n",
       "  </thead>\n",
       "  <tbody>\n",
       "    <tr>\n",
       "      <th>C4.5 vs C4.5+m+cf</th>\n",
       "      <td>2.416</td>\n",
       "      <td>0.016</td>\n",
       "      <td>0.017</td>\n",
       "      <td>True</td>\n",
       "    </tr>\n",
       "    <tr>\n",
       "      <th>C4.5 vs C4.5+m</th>\n",
       "      <td>2.342</td>\n",
       "      <td>0.019</td>\n",
       "      <td>0.025</td>\n",
       "      <td>True</td>\n",
       "    </tr>\n",
       "    <tr>\n",
       "      <th>C4.5 vs C4.5+cf</th>\n",
       "      <td>0.512</td>\n",
       "      <td>0.608</td>\n",
       "      <td>0.050</td>\n",
       "      <td>False</td>\n",
       "    </tr>\n",
       "  </tbody>\n",
       "</table>\n",
       "</div>"
      ],
      "text/plain": [
       "                       z      p  alpha/i    sig\n",
       "C4.5 vs C4.5+m+cf  2.416  0.016    0.017   True\n",
       "C4.5 vs C4.5+m     2.342  0.019    0.025   True\n",
       "C4.5 vs C4.5+cf    0.512  0.608    0.050  False"
      ]
     },
     "execution_count": 205,
     "metadata": {},
     "output_type": "execute_result"
    }
   ],
   "source": [
    "comparisons, z_values, p_values, adj_sigmas = hochberg_test({'C4.5':3.143,\n",
    "                                                           'C4.5+m': 2.000,\n",
    "                                                           'C4.5+cf':2.893,\n",
    "                                                           'C4.5+m+cf':1.964},\n",
    "                                                        n_datasets = 14,\n",
    "                                                        control='C4.5',\n",
    "                                                        alpha=0.05)\n",
    "\n",
    "holm_scores = pd.DataFrame({\"z\":z_values.round(3),\"p\": p_values.round(3),\n",
    "                            'alpha/i':adj_sigmas.round(3) ,\"sig\": p_values < adj_sigmas}, \n",
    "                           index=comparisons)\n",
    "holm_scores"
   ]
  },
  {
   "cell_type": "markdown",
   "metadata": {},
   "source": [
    " * Perfecto, mismo resultado que en Demšar, J. (2006)."
   ]
  },
  {
   "cell_type": "markdown",
   "metadata": {},
   "source": [
    "### Ejemplo tabla 4.13 Tesis Jose ### OJO QUE NO DA LO MISMO, sobre todo davenport\n",
    "*Table 4.13 shows the average ranking of the **62 data sets** shown in Table\n",
    "4.2, at different noise levels (the ranking was given by the ordering of the\n",
    "methods according to their accuracy). **The Iman-Davenport test gives pvalues\n",
    "of 4.956e-2, 1.786e-5 and 3.082e-8**, which means that it rejects the\n",
    "hypothesis of the equivalence of the algorithms under comparison. Taking\n",
    "Random Forest as the reference method, a **post-hoc Hochberg test was also\n",
    "performed**. The methods that were significantly different from Random Forest, according to the Hochberg test, at a confidence level of 0.05, appear\n",
    "above the horizontal line. In the case of data sets without the added noise,\n",
    "although the G-Forest is not significantly better than random forest, its\n",
    "improvement, GAR-Forest, increases the difference and makes it significant.\n",
    "With noisy data sets, both methods are significantly better than Random\n",
    "Forest. The actual scores are shown in tables 5.7, 4.11 and 4.12, where the\n",
    "wins, draws and losses are also shown at the bottom of the table, the second\n",
    "line shows the statistical significant results, according to the Student’s ttest\n",
    "for a = 0:05 (the corrected version suggested in [46], the default in\n",
    "Weka). The significant victories and losses are also marked in the tables\n",
    "with Xand * respectively. Table 5.7 shows the results for the original data\n",
    "sets. Tables 4.11 and 4.12 show the results for the datasets with 10% and\n",
    "20% class noise.*"
   ]
  },
  {
   "cell_type": "markdown",
   "metadata": {},
   "source": [
    "*No noise*"
   ]
  },
  {
   "cell_type": "code",
   "execution_count": 192,
   "metadata": {},
   "outputs": [
    {
     "name": "stdout",
     "output_type": "stream",
     "text": [
      "Friedman IVAN-Davenport Chi Square - Datasets: 62 - Clasificadores 3\n",
      "-- Chi_sq^2_f = 2.939\n",
      "F(3.7060507958937423, 2, 122)\n",
      "p-value IVAN DAVENPORT: 0.05669\n"
     ]
    }
   ],
   "source": [
    "n_datasets_jose = 62\n",
    "rankings = {'GAR-F':1.758,'G-F': 2.056,'R F': 2.185}\n",
    "\n",
    "estadFf = friedman_ranking_chi(n_datasets_jose, #numero datasets\n",
    "                               len(rankings), #numero de clfs\n",
    "                               np.asarray(list(rankings.values())), \n",
    "                               iman_davenport=True)\n",
    "\n",
    "df1 = len(rankings)-1\n",
    "df2 = (len(rankings)-1)*(n_datasets_jose-1)\n",
    "\n",
    "print('F({}, {}, {})'.format(Ff, df1, df2))\n",
    "pval_Ivan_Dav = stats.f.sf(estadFf, df1, df2)\n",
    "print(f'p-value IVAN DAVENPORT: {pval_Ivan_Dav:.5f}')"
   ]
  },
  {
   "cell_type": "code",
   "execution_count": null,
   "metadata": {},
   "outputs": [],
   "source": []
  },
  {
   "cell_type": "code",
   "execution_count": 298,
   "metadata": {
    "scrolled": true
   },
   "outputs": [
    {
     "name": "stdout",
     "output_type": "stream",
     "text": [
      "0.1796053020267749\n"
     ]
    },
    {
     "data": {
      "text/html": [
       "<div>\n",
       "<style scoped>\n",
       "    .dataframe tbody tr th:only-of-type {\n",
       "        vertical-align: middle;\n",
       "    }\n",
       "\n",
       "    .dataframe tbody tr th {\n",
       "        vertical-align: top;\n",
       "    }\n",
       "\n",
       "    .dataframe thead th {\n",
       "        text-align: right;\n",
       "    }\n",
       "</style>\n",
       "<table border=\"1\" class=\"dataframe\">\n",
       "  <thead>\n",
       "    <tr style=\"text-align: right;\">\n",
       "      <th></th>\n",
       "      <th>z</th>\n",
       "      <th>p-Hoch</th>\n",
       "      <th>alpha/i</th>\n",
       "      <th>sig</th>\n",
       "    </tr>\n",
       "  </thead>\n",
       "  <tbody>\n",
       "    <tr>\n",
       "      <th>R F vs GAR-F</th>\n",
       "      <td>2.377435</td>\n",
       "      <td>0.017433</td>\n",
       "      <td>0.025</td>\n",
       "      <td>True</td>\n",
       "    </tr>\n",
       "    <tr>\n",
       "      <th>R F vs G-F</th>\n",
       "      <td>0.718242</td>\n",
       "      <td>0.472608</td>\n",
       "      <td>0.050</td>\n",
       "      <td>False</td>\n",
       "    </tr>\n",
       "  </tbody>\n",
       "</table>\n",
       "</div>"
      ],
      "text/plain": [
       "                     z    p-Hoch  alpha/i    sig\n",
       "R F vs GAR-F  2.377435  0.017433    0.025   True\n",
       "R F vs G-F    0.718242  0.472608    0.050  False"
      ]
     },
     "execution_count": 298,
     "metadata": {},
     "output_type": "execute_result"
    }
   ],
   "source": [
    "comparisons, z_values, p_values, adj_sigmas = holm_test(rankings,\n",
    "                                                        n_datasets=n_datasets_jose,\n",
    "                                                        control='R F',\n",
    "                                                        alpha=0.05)\n",
    "p_values = np.asarray(p_values)\n",
    "adj_sigmas = np.asarray(adj_sigmas)\n",
    "holm_scores = pd.DataFrame({\"z\":z_values,\"p-Hoch\": p_values, 'alpha/i':adj_sigmas ,\"sig\": p_values < adj_sigmas}, index=comparisons)\n",
    "holm_scores"
   ]
  },
  {
   "cell_type": "markdown",
   "metadata": {},
   "source": [
    "*10% noise*"
   ]
  },
  {
   "cell_type": "code",
   "execution_count": 352,
   "metadata": {},
   "outputs": [
    {
     "name": "stdout",
     "output_type": "stream",
     "text": [
      "Friedman IVAN-Davenport Chi Square - Datasets: 62 - Clasificadores 3\n",
      "-- Chi_sq^2_f = 11.990\n",
      "p-value IVAN DAVENPORT: 0.03116\n"
     ]
    }
   ],
   "source": [
    "rankings = {'GAR-F':1.766, 'G-F': 1.766, 'R F': 2.468}\n",
    "\n",
    "estadFf = friedman_ranking_chi(n_datasets_jose, #numero datasets\n",
    "                               len(rankings), #numero de rankings\n",
    "                               np.asarray(list(rankings.values())), \n",
    "                               iman_davenport=True)\n",
    "\n",
    "# Obtenemos el p-valor de nuestro estadístico con los grados de libertad\n",
    "pval_Ivan_Dav = stats.f.sf(estadFf, n_datasets_jose, len(rankings))\n",
    "print(f'p-value IVAN DAVENPORT: {pval_Ivan_Dav:.5f}')"
   ]
  },
  {
   "cell_type": "code",
   "execution_count": 300,
   "metadata": {},
   "outputs": [
    {
     "name": "stdout",
     "output_type": "stream",
     "text": [
      "0.1796053020267749\n"
     ]
    },
    {
     "data": {
      "text/html": [
       "<div>\n",
       "<style scoped>\n",
       "    .dataframe tbody tr th:only-of-type {\n",
       "        vertical-align: middle;\n",
       "    }\n",
       "\n",
       "    .dataframe tbody tr th {\n",
       "        vertical-align: top;\n",
       "    }\n",
       "\n",
       "    .dataframe thead th {\n",
       "        text-align: right;\n",
       "    }\n",
       "</style>\n",
       "<table border=\"1\" class=\"dataframe\">\n",
       "  <thead>\n",
       "    <tr style=\"text-align: right;\">\n",
       "      <th></th>\n",
       "      <th>z</th>\n",
       "      <th>p-Hoch</th>\n",
       "      <th>alpha/i</th>\n",
       "      <th>sig</th>\n",
       "    </tr>\n",
       "  </thead>\n",
       "  <tbody>\n",
       "    <tr>\n",
       "      <th>R F vs GAR-F</th>\n",
       "      <td>3.908571</td>\n",
       "      <td>0.000093</td>\n",
       "      <td>0.025</td>\n",
       "      <td>True</td>\n",
       "    </tr>\n",
       "    <tr>\n",
       "      <th>R F vs G-F</th>\n",
       "      <td>3.908571</td>\n",
       "      <td>0.000093</td>\n",
       "      <td>0.050</td>\n",
       "      <td>True</td>\n",
       "    </tr>\n",
       "  </tbody>\n",
       "</table>\n",
       "</div>"
      ],
      "text/plain": [
       "                     z    p-Hoch  alpha/i   sig\n",
       "R F vs GAR-F  3.908571  0.000093    0.025  True\n",
       "R F vs G-F    3.908571  0.000093    0.050  True"
      ]
     },
     "execution_count": 300,
     "metadata": {},
     "output_type": "execute_result"
    }
   ],
   "source": [
    "comparisons, z_values, p_values, adj_sigmas = holm_test(rankings,\n",
    "                                                        n_datasets=62,\n",
    "                                                        control='R F',\n",
    "                                                        alpha=0.05)\n",
    "p_values = np.asarray(p_values)\n",
    "adj_sigmas = np.asarray(adj_sigmas)\n",
    "holm_scores = pd.DataFrame({\"z\":z_values,\"p-Hoch\": p_values, 'alpha/i':adj_sigmas ,\"sig\": p_values < adj_sigmas}, index=comparisons)\n",
    "holm_scores"
   ]
  },
  {
   "cell_type": "markdown",
   "metadata": {},
   "source": [
    "*20% noise*"
   ]
  },
  {
   "cell_type": "code",
   "execution_count": 301,
   "metadata": {},
   "outputs": [
    {
     "name": "stdout",
     "output_type": "stream",
     "text": [
      "Friedman IVAN-Davenport Chi Square - Datasets: 62 - Clasificadores 3\n",
      "-- Chi_sq^2_f = 20.036\n",
      "p-value IVAN DAVENPORT: 0.01488\n"
     ]
    }
   ],
   "source": [
    "rankings = {'GAR-F':1.806, 'G-F': 1.629, 'R F': 2.565}\n",
    "\n",
    "estadFf = friedman_ranking_chi(n_datasets_jose, #numero datasets\n",
    "                               len(rankings), #numero de rankings\n",
    "                               np.asarray(list(rankings.values())), \n",
    "                               iman_davenport=True)\n",
    "\n",
    "# Obtenemos el p-valor de nuestro estadístico con los grados de libertad\n",
    "pval_Ivan_Dav = stats.f.sf(estadFf, n_datasets_jose, len(rankings))\n",
    "print(f'p-value IVAN DAVENPORT: {pval_Ivan_Dav:.5f}')"
   ]
  },
  {
   "cell_type": "code",
   "execution_count": 302,
   "metadata": {},
   "outputs": [
    {
     "name": "stdout",
     "output_type": "stream",
     "text": [
      "0.1796053020267749\n"
     ]
    },
    {
     "data": {
      "text/html": [
       "<div>\n",
       "<style scoped>\n",
       "    .dataframe tbody tr th:only-of-type {\n",
       "        vertical-align: middle;\n",
       "    }\n",
       "\n",
       "    .dataframe tbody tr th {\n",
       "        vertical-align: top;\n",
       "    }\n",
       "\n",
       "    .dataframe thead th {\n",
       "        text-align: right;\n",
       "    }\n",
       "</style>\n",
       "<table border=\"1\" class=\"dataframe\">\n",
       "  <thead>\n",
       "    <tr style=\"text-align: right;\">\n",
       "      <th></th>\n",
       "      <th>z</th>\n",
       "      <th>p-Hoch</th>\n",
       "      <th>alpha/i</th>\n",
       "      <th>sig</th>\n",
       "    </tr>\n",
       "  </thead>\n",
       "  <tbody>\n",
       "    <tr>\n",
       "      <th>R F vs G-F</th>\n",
       "      <td>5.211427</td>\n",
       "      <td>1.873931e-07</td>\n",
       "      <td>0.025</td>\n",
       "      <td>True</td>\n",
       "    </tr>\n",
       "    <tr>\n",
       "      <th>R F vs GAR-F</th>\n",
       "      <td>4.225933</td>\n",
       "      <td>2.379526e-05</td>\n",
       "      <td>0.050</td>\n",
       "      <td>True</td>\n",
       "    </tr>\n",
       "  </tbody>\n",
       "</table>\n",
       "</div>"
      ],
      "text/plain": [
       "                     z        p-Hoch  alpha/i   sig\n",
       "R F vs G-F    5.211427  1.873931e-07    0.025  True\n",
       "R F vs GAR-F  4.225933  2.379526e-05    0.050  True"
      ]
     },
     "execution_count": 302,
     "metadata": {},
     "output_type": "execute_result"
    }
   ],
   "source": [
    "comparisons, z_values, p_values, adj_sigmas = holm_test(rankings,\n",
    "                                                        n_datasets=n_datasets_jose,\n",
    "                                                        control='R F',\n",
    "                                                        alpha=0.05)\n",
    "p_values = np.asarray(p_values)\n",
    "adj_sigmas = np.asarray(adj_sigmas)\n",
    "holm_scores = pd.DataFrame({\"z\":z_values,\"p-Hoch\": p_values, 'alpha/i':adj_sigmas ,\"sig\": p_values < adj_sigmas}, index=comparisons)\n",
    "holm_scores"
   ]
  },
  {
   "cell_type": "markdown",
   "metadata": {},
   "source": [
    "## 3. Metodo personalizado"
   ]
  },
  {
   "cell_type": "code",
   "execution_count": 7,
   "metadata": {},
   "outputs": [],
   "source": [
    "import post_hoc as ph"
   ]
  },
  {
   "cell_type": "code",
   "execution_count": 11,
   "metadata": {},
   "outputs": [
    {
     "data": {
      "text/html": [
       "<div>\n",
       "<style scoped>\n",
       "    .dataframe tbody tr th:only-of-type {\n",
       "        vertical-align: middle;\n",
       "    }\n",
       "\n",
       "    .dataframe tbody tr th {\n",
       "        vertical-align: top;\n",
       "    }\n",
       "\n",
       "    .dataframe thead th {\n",
       "        text-align: right;\n",
       "    }\n",
       "</style>\n",
       "<table border=\"1\" class=\"dataframe\">\n",
       "  <thead>\n",
       "    <tr style=\"text-align: right;\">\n",
       "      <th></th>\n",
       "      <th>Dataset</th>\n",
       "      <th>Random Forest</th>\n",
       "      <th>G-Forest</th>\n",
       "      <th>GAR-Forest</th>\n",
       "    </tr>\n",
       "  </thead>\n",
       "  <tbody>\n",
       "    <tr>\n",
       "      <th>0</th>\n",
       "      <td>abalone</td>\n",
       "      <td>24.42</td>\n",
       "      <td>25.02</td>\n",
       "      <td>24.81</td>\n",
       "    </tr>\n",
       "    <tr>\n",
       "      <th>1</th>\n",
       "      <td>anneal</td>\n",
       "      <td>99.15</td>\n",
       "      <td>98.84</td>\n",
       "      <td>98.64</td>\n",
       "    </tr>\n",
       "  </tbody>\n",
       "</table>\n",
       "</div>"
      ],
      "text/plain": [
       "   Dataset  Random Forest  G-Forest  GAR-Forest\n",
       "0  abalone          24.42     25.02       24.81\n",
       "1   anneal          99.15     98.84       98.64"
      ]
     },
     "execution_count": 11,
     "metadata": {},
     "output_type": "execute_result"
    }
   ],
   "source": [
    "resultados = pd.read_csv('4_10_table_JOSE.csv')\n",
    "resultados.head(2)"
   ]
  },
  {
   "cell_type": "code",
   "execution_count": 12,
   "metadata": {},
   "outputs": [
    {
     "name": "stdout",
     "output_type": "stream",
     "text": [
      "### Experimento\n",
      "# Number of classifiers: 3\n",
      "# Number of datasets: 62\n",
      "# Name of classifiers: Random Forest, G-Forest, GAR-Forest\n",
      "# Alpha: 0.05\n",
      "\n",
      "### Métricas\n",
      "# Test de Friedman sobre métricas \n",
      "\t-> p-val: 0.0346\n",
      "\n",
      "### Rankings\n",
      "# GAR-Forest    ranking medio:  1.75\n",
      "# G-Forest      ranking medio:  2.048\n",
      "# Random Forest ranking medio:  2.202\n",
      "# Test de Friedman sobre Rankings [F(6.5403, 2, 122)]               \n",
      "\t-> p-val: 0.0020\n",
      "\n",
      "### Test Hochberg Comparacion Random Forest vs all\n",
      "# Tabla de comparación de Rankings:\n",
      "                                 z      p  alpha/i    sig\n",
      "Random Forest vs GAR-Forest  2.517  0.012    0.025   True\n",
      "Random Forest vs G-Forest    0.857  0.391    0.050  False\n"
     ]
    },
    {
     "data": {
      "text/html": [
       "<div>\n",
       "<style scoped>\n",
       "    .dataframe tbody tr th:only-of-type {\n",
       "        vertical-align: middle;\n",
       "    }\n",
       "\n",
       "    .dataframe tbody tr th {\n",
       "        vertical-align: top;\n",
       "    }\n",
       "\n",
       "    .dataframe thead th {\n",
       "        text-align: right;\n",
       "    }\n",
       "</style>\n",
       "<table border=\"1\" class=\"dataframe\">\n",
       "  <thead>\n",
       "    <tr style=\"text-align: right;\">\n",
       "      <th></th>\n",
       "      <th>z</th>\n",
       "      <th>p</th>\n",
       "      <th>alpha/i</th>\n",
       "      <th>sig</th>\n",
       "    </tr>\n",
       "  </thead>\n",
       "  <tbody>\n",
       "    <tr>\n",
       "      <th>Random Forest vs GAR-Forest</th>\n",
       "      <td>2.517</td>\n",
       "      <td>0.012</td>\n",
       "      <td>0.025</td>\n",
       "      <td>True</td>\n",
       "    </tr>\n",
       "    <tr>\n",
       "      <th>Random Forest vs G-Forest</th>\n",
       "      <td>0.857</td>\n",
       "      <td>0.391</td>\n",
       "      <td>0.050</td>\n",
       "      <td>False</td>\n",
       "    </tr>\n",
       "  </tbody>\n",
       "</table>\n",
       "</div>"
      ],
      "text/plain": [
       "                                 z      p  alpha/i    sig\n",
       "Random Forest vs GAR-Forest  2.517  0.012    0.025   True\n",
       "Random Forest vs G-Forest    0.857  0.391    0.050  False"
      ]
     },
     "execution_count": 12,
     "metadata": {},
     "output_type": "execute_result"
    }
   ],
   "source": [
    "ph.posthoc_Friedman_Davenport_Hochbertest(resultados, control='Random Forest')"
   ]
  },
  {
   "cell_type": "markdown",
   "metadata": {},
   "source": [
    "# 4. Otras librerias\n",
    "### scikit_posthocs \n",
    "\n",
    "**ALL vs ALL**\n",
    "\n",
    "*scikit-posthocs is a Python package which provides post hoc tests for pairwise multiple comparisons that are usually\n",
    "performed in statistical data analysis to assess the differences between group levels if a statistically significant result\n",
    "of ANOVA test has been obtained* (https://readthedocs.org/projects/scikit-posthocs/downloads/pdf/latest/)"
   ]
  },
  {
   "cell_type": "code",
   "execution_count": 44,
   "metadata": {},
   "outputs": [],
   "source": [
    "import scikit_posthocs as sp"
   ]
  },
  {
   "cell_type": "code",
   "execution_count": 45,
   "metadata": {},
   "outputs": [],
   "source": [
    "pvalsNemenyi = sp.posthoc_nemenyi_friedman(resultados_np)"
   ]
  },
  {
   "cell_type": "code",
   "execution_count": 78,
   "metadata": {},
   "outputs": [
    {
     "data": {
      "text/html": [
       "<div>\n",
       "<style scoped>\n",
       "    .dataframe tbody tr th:only-of-type {\n",
       "        vertical-align: middle;\n",
       "    }\n",
       "\n",
       "    .dataframe tbody tr th {\n",
       "        vertical-align: top;\n",
       "    }\n",
       "\n",
       "    .dataframe thead th {\n",
       "        text-align: right;\n",
       "    }\n",
       "</style>\n",
       "<table border=\"1\" class=\"dataframe\">\n",
       "  <thead>\n",
       "    <tr style=\"text-align: right;\">\n",
       "      <th></th>\n",
       "      <th>KNN8</th>\n",
       "      <th>Tree</th>\n",
       "      <th>Bayes</th>\n",
       "      <th>SVM</th>\n",
       "      <th>RandomF</th>\n",
       "      <th>Ada</th>\n",
       "      <th>Reglas</th>\n",
       "      <th>GBC</th>\n",
       "      <th>MLP100</th>\n",
       "      <th>MLP10</th>\n",
       "    </tr>\n",
       "  </thead>\n",
       "  <tbody>\n",
       "    <tr>\n",
       "      <th>KNN8</th>\n",
       "      <td>-1.000000</td>\n",
       "      <td>0.185814</td>\n",
       "      <td>0.818024</td>\n",
       "      <td>0.900000</td>\n",
       "      <td>0.900000</td>\n",
       "      <td>0.900000</td>\n",
       "      <td>0.029060</td>\n",
       "      <td>0.900000</td>\n",
       "      <td>0.900000</td>\n",
       "      <td>0.900000</td>\n",
       "    </tr>\n",
       "    <tr>\n",
       "      <th>Tree</th>\n",
       "      <td>0.185814</td>\n",
       "      <td>-1.000000</td>\n",
       "      <td>0.900000</td>\n",
       "      <td>0.524911</td>\n",
       "      <td>0.700778</td>\n",
       "      <td>0.759402</td>\n",
       "      <td>0.900000</td>\n",
       "      <td>0.039417</td>\n",
       "      <td>0.052706</td>\n",
       "      <td>0.002509</td>\n",
       "    </tr>\n",
       "    <tr>\n",
       "      <th>Bayes</th>\n",
       "      <td>0.818024</td>\n",
       "      <td>0.900000</td>\n",
       "      <td>-1.000000</td>\n",
       "      <td>0.900000</td>\n",
       "      <td>0.900000</td>\n",
       "      <td>0.900000</td>\n",
       "      <td>0.759402</td>\n",
       "      <td>0.464278</td>\n",
       "      <td>0.524911</td>\n",
       "      <td>0.090517</td>\n",
       "    </tr>\n",
       "    <tr>\n",
       "      <th>SVM</th>\n",
       "      <td>0.900000</td>\n",
       "      <td>0.524911</td>\n",
       "      <td>0.900000</td>\n",
       "      <td>-1.000000</td>\n",
       "      <td>0.900000</td>\n",
       "      <td>0.900000</td>\n",
       "      <td>0.148392</td>\n",
       "      <td>0.900000</td>\n",
       "      <td>0.900000</td>\n",
       "      <td>0.642156</td>\n",
       "    </tr>\n",
       "    <tr>\n",
       "      <th>RandomF</th>\n",
       "      <td>0.900000</td>\n",
       "      <td>0.700778</td>\n",
       "      <td>0.900000</td>\n",
       "      <td>0.900000</td>\n",
       "      <td>-1.000000</td>\n",
       "      <td>0.900000</td>\n",
       "      <td>0.279939</td>\n",
       "      <td>0.900000</td>\n",
       "      <td>0.900000</td>\n",
       "      <td>0.464278</td>\n",
       "    </tr>\n",
       "    <tr>\n",
       "      <th>Ada</th>\n",
       "      <td>0.900000</td>\n",
       "      <td>0.759402</td>\n",
       "      <td>0.900000</td>\n",
       "      <td>0.900000</td>\n",
       "      <td>0.900000</td>\n",
       "      <td>-1.000000</td>\n",
       "      <td>0.335805</td>\n",
       "      <td>0.876649</td>\n",
       "      <td>0.900000</td>\n",
       "      <td>0.399341</td>\n",
       "    </tr>\n",
       "    <tr>\n",
       "      <th>Reglas</th>\n",
       "      <td>0.029060</td>\n",
       "      <td>0.900000</td>\n",
       "      <td>0.759402</td>\n",
       "      <td>0.148392</td>\n",
       "      <td>0.279939</td>\n",
       "      <td>0.335805</td>\n",
       "      <td>-1.000000</td>\n",
       "      <td>0.003676</td>\n",
       "      <td>0.005336</td>\n",
       "      <td>0.001000</td>\n",
       "    </tr>\n",
       "    <tr>\n",
       "      <th>GBC</th>\n",
       "      <td>0.900000</td>\n",
       "      <td>0.039417</td>\n",
       "      <td>0.464278</td>\n",
       "      <td>0.900000</td>\n",
       "      <td>0.900000</td>\n",
       "      <td>0.876649</td>\n",
       "      <td>0.003676</td>\n",
       "      <td>-1.000000</td>\n",
       "      <td>0.900000</td>\n",
       "      <td>0.900000</td>\n",
       "    </tr>\n",
       "    <tr>\n",
       "      <th>MLP100</th>\n",
       "      <td>0.900000</td>\n",
       "      <td>0.052706</td>\n",
       "      <td>0.524911</td>\n",
       "      <td>0.900000</td>\n",
       "      <td>0.900000</td>\n",
       "      <td>0.900000</td>\n",
       "      <td>0.005336</td>\n",
       "      <td>0.900000</td>\n",
       "      <td>-1.000000</td>\n",
       "      <td>0.900000</td>\n",
       "    </tr>\n",
       "    <tr>\n",
       "      <th>MLP10</th>\n",
       "      <td>0.900000</td>\n",
       "      <td>0.002509</td>\n",
       "      <td>0.090517</td>\n",
       "      <td>0.642156</td>\n",
       "      <td>0.464278</td>\n",
       "      <td>0.399341</td>\n",
       "      <td>0.001000</td>\n",
       "      <td>0.900000</td>\n",
       "      <td>0.900000</td>\n",
       "      <td>-1.000000</td>\n",
       "    </tr>\n",
       "  </tbody>\n",
       "</table>\n",
       "</div>"
      ],
      "text/plain": [
       "             KNN8      Tree     Bayes       SVM   RandomF       Ada    Reglas  \\\n",
       "KNN8    -1.000000  0.185814  0.818024  0.900000  0.900000  0.900000  0.029060   \n",
       "Tree     0.185814 -1.000000  0.900000  0.524911  0.700778  0.759402  0.900000   \n",
       "Bayes    0.818024  0.900000 -1.000000  0.900000  0.900000  0.900000  0.759402   \n",
       "SVM      0.900000  0.524911  0.900000 -1.000000  0.900000  0.900000  0.148392   \n",
       "RandomF  0.900000  0.700778  0.900000  0.900000 -1.000000  0.900000  0.279939   \n",
       "Ada      0.900000  0.759402  0.900000  0.900000  0.900000 -1.000000  0.335805   \n",
       "Reglas   0.029060  0.900000  0.759402  0.148392  0.279939  0.335805 -1.000000   \n",
       "GBC      0.900000  0.039417  0.464278  0.900000  0.900000  0.876649  0.003676   \n",
       "MLP100   0.900000  0.052706  0.524911  0.900000  0.900000  0.900000  0.005336   \n",
       "MLP10    0.900000  0.002509  0.090517  0.642156  0.464278  0.399341  0.001000   \n",
       "\n",
       "              GBC    MLP100     MLP10  \n",
       "KNN8     0.900000  0.900000  0.900000  \n",
       "Tree     0.039417  0.052706  0.002509  \n",
       "Bayes    0.464278  0.524911  0.090517  \n",
       "SVM      0.900000  0.900000  0.642156  \n",
       "RandomF  0.900000  0.900000  0.464278  \n",
       "Ada      0.876649  0.900000  0.399341  \n",
       "Reglas   0.003676  0.005336  0.001000  \n",
       "GBC     -1.000000  0.900000  0.900000  \n",
       "MLP100   0.900000 -1.000000  0.900000  \n",
       "MLP10    0.900000  0.900000 -1.000000  "
      ]
     },
     "execution_count": 78,
     "metadata": {},
     "output_type": "execute_result"
    }
   ],
   "source": [
    "rrr = pvalsNemenyi\n",
    "rrr.columns = clasificadores\n",
    "rrr.index = clasificadores\n",
    "rrr"
   ]
  },
  {
   "cell_type": "code",
   "execution_count": 79,
   "metadata": {
    "scrolled": true
   },
   "outputs": [
    {
     "data": {
      "text/plain": [
       "(<matplotlib.axes._subplots.AxesSubplot at 0x1d3b82b56a0>,\n",
       " <matplotlib.colorbar.ColorbarBase at 0x1d3b8358ac8>)"
      ]
     },
     "execution_count": 79,
     "metadata": {},
     "output_type": "execute_result"
    },
    {
     "data": {
      "image/png": "[encoded data removed]",
      "text/plain": [
       "<Figure size 432x288 with 2 Axes>"
      ]
     },
     "metadata": {
      "needs_background": "light"
     },
     "output_type": "display_data"
    }
   ],
   "source": [
    "heatmap_args = {'linewidths': 0.1, 'linecolor': '0.5', 'clip_on': 0, 'square':True, 'cbar_ax_bbox': [0.8, 0.35, 0.04, 0.3]}\n",
    "sp.sign_plot(pvalsNemenyi, labels=True, **heatmap_args)\n"
   ]
  },
  {
   "cell_type": "markdown",
   "metadata": {},
   "source": [
    "### Autorank\n",
    "\n",
    "**All vs ALL** con diferentes test según el dataset.\n",
    "\n",
    "https://pypi.org/project/autorank/\n",
    "\n",
    "https://github.com/sherbold/autorank\n",
    "\n",
    "Elige las pruebas a realizar según las características de los datos. El diagrama de flujo de las pruebas que aplica están en suu github."
   ]
  },
  {
   "cell_type": "code",
   "execution_count": 48,
   "metadata": {},
   "outputs": [],
   "source": [
    "import matplotlib.pyplot as plt\n",
    "from autorank import autorank, plot_stats, create_report, latex_table"
   ]
  },
  {
   "cell_type": "code",
   "execution_count": 49,
   "metadata": {},
   "outputs": [
    {
     "name": "stdout",
     "output_type": "stream",
     "text": [
      "RankResult(rankdf=\n",
      "          meanrank      mean        std  ci_lower  ci_upper effect_size  \\\n",
      "MLP10     1.833333  0.754071   0.083942  0.693931  0.814212           0   \n",
      "GBC       3.166667  0.722741  0.0579882    0.6626  0.782882    0.434292   \n",
      "MLP100    3.333333  0.741503  0.0796558  0.681362  0.801644    0.153596   \n",
      "KNN8      4.166667   0.71879   0.069778  0.658649   0.77893    0.457106   \n",
      "SVM       5.166667  0.699984  0.0543208  0.639843  0.760125    0.765025   \n",
      "RandomF   5.666667  0.692779  0.0596205  0.632638   0.75292    0.841883   \n",
      "Ada       5.833333  0.661396  0.0838264  0.601255  0.721537      1.1048   \n",
      "Bayes     7.000000  0.657711  0.0514341   0.59757  0.717852     1.38424   \n",
      "Tree      8.833333  0.577782  0.0143884  0.517641  0.637923     2.92734   \n",
      "Reglas   10.000000   0.49255  0.0400373  0.432409  0.552691     3.97679   \n",
      "\n",
      "          magnitude  \n",
      "MLP10    negligible  \n",
      "GBC           small  \n",
      "MLP100   negligible  \n",
      "KNN8          small  \n",
      "SVM          medium  \n",
      "RandomF       large  \n",
      "Ada           large  \n",
      "Bayes         large  \n",
      "Tree          large  \n",
      "Reglas        large  \n",
      "pvalue=3.8689072978108716e-11\n",
      "cd=None\n",
      "omnibus=anova\n",
      "posthoc=tukeyhsd\n",
      "all_normal=True\n",
      "pvals_shapiro=[0.696890115737915, 0.1867595911026001, 0.19031184911727905, 0.4454677999019623, 0.20903019607067108, 0.9480279684066772, 0.3601823151111603, 0.9889026880264282, 0.9827882647514343, 0.5098252296447754]\n",
      "homoscedastic=True\n",
      "pval_homogeneity=0.12329568003713408\n",
      "homogeneity_test=bartlett\n",
      "alpha=0.05\n",
      "alpha_normality=0.005\n",
      "num_samples=6)\n"
     ]
    }
   ],
   "source": [
    "result = autorank(resultados.drop('Datasets', axis=1), alpha=0.05, verbose=False)\n",
    "print(result)"
   ]
  },
  {
   "cell_type": "code",
   "execution_count": 50,
   "metadata": {},
   "outputs": [
    {
     "name": "stdout",
     "output_type": "stream",
     "text": [
      "The statistical analysis was conducted for 10 populations with 6 paired samples.\n",
      "The family-wise significance level of the tests is alpha=0.050.\n",
      "We failed to reject the null hypothesis that the population is normal for all populations (minimal observed p-value=0.187). Therefore, we assume that all populations are normal.\n",
      "We applied Bartlett's test for homogeneity and failed to reject the null hypothesis (p=0.123) that the data is homoscedastic. Thus, we assume that our data is homoscedastic.\n",
      "Because we have more than two populations and all populations are normal and homoscedastic, we use repeated measures ANOVA as omnibus test to determine if there are any significant differences between the mean values of the populations. If the results of the ANOVA test are significant, we use the post-hoc Tukey HSD test to infer which differences are significant. We report the mean value (M) and the standard deviation (SD) for each population. Populations are significantly different if their confidence intervals are not overlapping.\n",
      "We reject the null hypothesis (p=0.000) of the repeated measures ANOVA that there is a difference between the mean values of the populations MLP10 (M=0.754+-0.060, SD=0.084), GBC (M=0.723+-0.060, SD=0.058), MLP100 (M=0.742+-0.060, SD=0.080), KNN8 (M=0.719+-0.060, SD=0.070), SVM (M=0.700+-0.060, SD=0.054), RandomF (M=0.693+-0.060, SD=0.060), Ada (M=0.661+-0.060, SD=0.084), Bayes (M=0.658+-0.060, SD=0.051), Tree (M=0.578+-0.060, SD=0.014), and Reglas (M=0.493+-0.060, SD=0.040). Therefore, we assume that there is a statistically significant difference between the mean values of the populations.\n",
      "Based post-hoc Tukey HSD test, we assume that there are no significant differences within the following groups: MLP10, GBC, MLP100, KNN8, and SVM; GBC, MLP100, KNN8, SVM, and RandomF; KNN8, SVM, RandomF, and Ada; SVM, RandomF, Ada, and Bayes. All other differences are significant.\n",
      "\n"
     ]
    }
   ],
   "source": [
    "create_report(result)"
   ]
  },
  {
   "cell_type": "code",
   "execution_count": 51,
   "metadata": {},
   "outputs": [
    {
     "data": {
      "image/png": "[encoded data removed]",
      "text/plain": [
       "<Figure size 432x720 with 1 Axes>"
      ]
     },
     "metadata": {},
     "output_type": "display_data"
    }
   ],
   "source": [
    "plot_stats(result)\n",
    "plt.show()"
   ]
  },
  {
   "cell_type": "code",
   "execution_count": 52,
   "metadata": {},
   "outputs": [
    {
     "name": "stdout",
     "output_type": "stream",
     "text": [
      "\\begin{table}[h]\n",
      "\\centering\n",
      "\\begin{tabular}{llllll}\n",
      "\\toprule\n",
      "{} &     M &    SD &              CI &   \\$d\\$ &   Magnitude \\\\\n",
      "\\midrule\n",
      "MLP10   & 0.754 & 0.084 &  [0.694, 0.814] & 0.000 &  negligible \\\\\n",
      "GBC     & 0.723 & 0.058 &  [0.663, 0.783] & 0.434 &       small \\\\\n",
      "MLP100  & 0.742 & 0.080 &  [0.681, 0.802] & 0.154 &  negligible \\\\\n",
      "KNN8    & 0.719 & 0.070 &  [0.659, 0.779] & 0.457 &       small \\\\\n",
      "SVM     & 0.700 & 0.054 &  [0.640, 0.760] & 0.765 &      medium \\\\\n",
      "RandomF & 0.693 & 0.060 &  [0.633, 0.753] & 0.842 &       large \\\\\n",
      "Ada     & 0.661 & 0.084 &  [0.601, 0.722] & 1.105 &       large \\\\\n",
      "Bayes   & 0.658 & 0.051 &  [0.598, 0.718] & 1.384 &       large \\\\\n",
      "Tree    & 0.578 & 0.014 &  [0.518, 0.638] & 2.927 &       large \\\\\n",
      "Reglas  & 0.493 & 0.040 &  [0.432, 0.553] & 3.977 &       large \\\\\n",
      "\\bottomrule\n",
      "\\end{tabular}\n",
      "\\caption{Summary of populations}\n",
      "\\label{tbl:stat_results}\n",
      "\\end{table}\n"
     ]
    }
   ],
   "source": [
    "latex_table(result)"
   ]
  },
  {
   "cell_type": "markdown",
   "metadata": {},
   "source": [
    "------------------------"
   ]
  },
  {
   "cell_type": "markdown",
   "metadata": {},
   "source": []
  },
  {
   "cell_type": "markdown",
   "metadata": {},
   "source": []
  },
  {
   "cell_type": "markdown",
   "metadata": {},
   "source": [
    "## Ejemplo completo 4.10 Jose\n",
    "\n",
    "**1. Carga de datos**"
   ]
  },
  {
   "cell_type": "code",
   "execution_count": 2,
   "metadata": {},
   "outputs": [
    {
     "data": {
      "text/html": [
       "<div>\n",
       "<style scoped>\n",
       "    .dataframe tbody tr th:only-of-type {\n",
       "        vertical-align: middle;\n",
       "    }\n",
       "\n",
       "    .dataframe tbody tr th {\n",
       "        vertical-align: top;\n",
       "    }\n",
       "\n",
       "    .dataframe thead th {\n",
       "        text-align: right;\n",
       "    }\n",
       "</style>\n",
       "<table border=\"1\" class=\"dataframe\">\n",
       "  <thead>\n",
       "    <tr style=\"text-align: right;\">\n",
       "      <th></th>\n",
       "      <th>Dataset</th>\n",
       "      <th>Random Forest</th>\n",
       "      <th>G-Forest</th>\n",
       "      <th>GAR-Forest</th>\n",
       "    </tr>\n",
       "  </thead>\n",
       "  <tbody>\n",
       "    <tr>\n",
       "      <th>0</th>\n",
       "      <td>abalone</td>\n",
       "      <td>24.42</td>\n",
       "      <td>25.02</td>\n",
       "      <td>24.81</td>\n",
       "    </tr>\n",
       "    <tr>\n",
       "      <th>1</th>\n",
       "      <td>anneal</td>\n",
       "      <td>99.15</td>\n",
       "      <td>98.84</td>\n",
       "      <td>98.64</td>\n",
       "    </tr>\n",
       "    <tr>\n",
       "      <th>2</th>\n",
       "      <td>audiology</td>\n",
       "      <td>74.78</td>\n",
       "      <td>76.19</td>\n",
       "      <td>76.55</td>\n",
       "    </tr>\n",
       "    <tr>\n",
       "      <th>3</th>\n",
       "      <td>autos</td>\n",
       "      <td>76.40</td>\n",
       "      <td>73.08</td>\n",
       "      <td>75.03</td>\n",
       "    </tr>\n",
       "    <tr>\n",
       "      <th>4</th>\n",
       "      <td>balance-scale</td>\n",
       "      <td>84.32</td>\n",
       "      <td>86.72</td>\n",
       "      <td>85.41</td>\n",
       "    </tr>\n",
       "    <tr>\n",
       "      <th>...</th>\n",
       "      <td>...</td>\n",
       "      <td>...</td>\n",
       "      <td>...</td>\n",
       "      <td>...</td>\n",
       "    </tr>\n",
       "    <tr>\n",
       "      <th>57</th>\n",
       "      <td>vowel-nocontext</td>\n",
       "      <td>92.00</td>\n",
       "      <td>91.96</td>\n",
       "      <td>92.22</td>\n",
       "    </tr>\n",
       "    <tr>\n",
       "      <th>58</th>\n",
       "      <td>waveform</td>\n",
       "      <td>84.89</td>\n",
       "      <td>85.81</td>\n",
       "      <td>85.38</td>\n",
       "    </tr>\n",
       "    <tr>\n",
       "      <th>59</th>\n",
       "      <td>yeast</td>\n",
       "      <td>59.62</td>\n",
       "      <td>60.66</td>\n",
       "      <td>60.84</td>\n",
       "    </tr>\n",
       "    <tr>\n",
       "      <th>60</th>\n",
       "      <td>zip</td>\n",
       "      <td>95.89</td>\n",
       "      <td>95.30</td>\n",
       "      <td>96.00</td>\n",
       "    </tr>\n",
       "    <tr>\n",
       "      <th>61</th>\n",
       "      <td>zoo</td>\n",
       "      <td>93.67</td>\n",
       "      <td>93.47</td>\n",
       "      <td>93.49</td>\n",
       "    </tr>\n",
       "  </tbody>\n",
       "</table>\n",
       "<p>62 rows × 4 columns</p>\n",
       "</div>"
      ],
      "text/plain": [
       "            Dataset  Random Forest  G-Forest  GAR-Forest\n",
       "0           abalone          24.42     25.02       24.81\n",
       "1            anneal          99.15     98.84       98.64\n",
       "2         audiology          74.78     76.19       76.55\n",
       "3             autos          76.40     73.08       75.03\n",
       "4     balance-scale          84.32     86.72       85.41\n",
       "..              ...            ...       ...         ...\n",
       "57  vowel-nocontext          92.00     91.96       92.22\n",
       "58         waveform          84.89     85.81       85.38\n",
       "59            yeast          59.62     60.66       60.84\n",
       "60              zip          95.89     95.30       96.00\n",
       "61              zoo          93.67     93.47       93.49\n",
       "\n",
       "[62 rows x 4 columns]"
      ]
     },
     "execution_count": 2,
     "metadata": {},
     "output_type": "execute_result"
    }
   ],
   "source": [
    "resultados = pd.read_csv('4_10_table_JOSE.csv')\n",
    "resultados"
   ]
  },
  {
   "cell_type": "code",
   "execution_count": 413,
   "metadata": {},
   "outputs": [
    {
     "data": {
      "text/plain": [
       "Index(['Random Forest', 'G-Forest', 'GAR-Forest'], dtype='object')"
      ]
     },
     "execution_count": 413,
     "metadata": {},
     "output_type": "execute_result"
    }
   ],
   "source": [
    "clasificadores = resultados.drop('Dataset', axis=1).columns\n",
    "clasificadores"
   ]
  },
  {
   "cell_type": "code",
   "execution_count": 414,
   "metadata": {},
   "outputs": [
    {
     "data": {
      "text/plain": [
       "(62, 3, (62, 3))"
      ]
     },
     "execution_count": 414,
     "metadata": {},
     "output_type": "execute_result"
    }
   ],
   "source": [
    "resultados_np = resultados[clasificadores].values\n",
    "n_datasets = resultados_np.shape[0]\n",
    "n_clasificadores = resultados_np.shape[1]\n",
    "n_datasets, n_clasificadores, resultados_np.shape"
   ]
  },
  {
   "cell_type": "markdown",
   "metadata": {},
   "source": [
    "**2. Test de Friedman sobre AUCS**"
   ]
  },
  {
   "cell_type": "code",
   "execution_count": 415,
   "metadata": {},
   "outputs": [
    {
     "name": "stdout",
     "output_type": "stream",
     "text": [
      "FriedmanchisquareResult(statistic=181.35526790735943, pvalue=7.076503507269009e-14) \n",
      " -> FriedmanchisquareResult(statistic=6.730290456431497, pvalue=0.03455699710253077)\n"
     ]
    }
   ],
   "source": [
    "print(stats.friedmanchisquare(*resultados_np),'\\n ->',\n",
    "stats.friedmanchisquare(*resultados_np.transpose()))"
   ]
  },
  {
   "cell_type": "markdown",
   "metadata": {},
   "source": [
    "* **OJO**: A Jose le da diferente: 0.04956"
   ]
  },
  {
   "cell_type": "markdown",
   "metadata": {},
   "source": [
    "**3. Test de Friedman sobre rankings**"
   ]
  },
  {
   "cell_type": "code",
   "execution_count": 416,
   "metadata": {},
   "outputs": [
    {
     "data": {
      "text/plain": [
       "(62, 3)"
      ]
     },
     "execution_count": 416,
     "metadata": {},
     "output_type": "execute_result"
    }
   ],
   "source": [
    "ranks = np.array([stats.rankdata(-p) for p in resultados_np])\n",
    "ranks.shape"
   ]
  },
  {
   "cell_type": "code",
   "execution_count": 417,
   "metadata": {},
   "outputs": [
    {
     "name": "stdout",
     "output_type": "stream",
     "text": [
      "GAR-Forest  ranking medio:\t 1.75\n",
      "G-Forest  ranking medio:\t 2.048\n",
      "Random Forest  ranking medio:\t 2.202\n"
     ]
    }
   ],
   "source": [
    "average_ranks = np.mean(ranks, axis=0)\n",
    "dict_clf_avg_rank = {a:r for a, r in zip(clasificadores, average_ranks.round(3))}\n",
    "for k in sorted(dict_clf_avg_rank, key=dict_clf_avg_rank.get):\n",
    "    print(k,' ranking medio:\\t', dict_clf_avg_rank[k])"
   ]
  },
  {
   "cell_type": "code",
   "execution_count": 418,
   "metadata": {},
   "outputs": [
    {
     "name": "stdout",
     "output_type": "stream",
     "text": [
      "Friedman IVAN-Davenport Chi Square - Datasets: 62 - Clasificadores 3\n",
      "-- Chi_sq^2_f = 3.397\n",
      "F(3.396567112941949, 2, 122)\n",
      "p-value IVAN DAVENPORT: 0.03669\n"
     ]
    }
   ],
   "source": [
    "eFf = friedman_ranking_chi(n_datasets, #numero datasets\n",
    "                               n_clasificadores, #numero de clfs\n",
    "                               average_ranks, \n",
    "                               iman_davenport=True)\n",
    "\n",
    "df1 = n_clasificadores-1\n",
    "df2 = (n_clasificadores-1)*(n_datasets-1)\n",
    "\n",
    "print('F({}, {}, {})'.format(eFf, df1, df2))\n",
    "pval_Ivan_Dav = stats.f.sf(eFf, df1, df2)\n",
    "print(f'p-value IVAN DAVENPORT: {pval_Ivan_Dav:.5f}')"
   ]
  },
  {
   "cell_type": "markdown",
   "metadata": {},
   "source": [
    "* **OJO**: A Jose le da diferente: 0.04956"
   ]
  },
  {
   "cell_type": "markdown",
   "metadata": {},
   "source": [
    "**4. Test de Hocher para comparación de 1vsALL**"
   ]
  },
  {
   "cell_type": "code",
   "execution_count": 421,
   "metadata": {},
   "outputs": [
    {
     "data": {
      "text/html": [
       "<div>\n",
       "<style scoped>\n",
       "    .dataframe tbody tr th:only-of-type {\n",
       "        vertical-align: middle;\n",
       "    }\n",
       "\n",
       "    .dataframe tbody tr th {\n",
       "        vertical-align: top;\n",
       "    }\n",
       "\n",
       "    .dataframe thead th {\n",
       "        text-align: right;\n",
       "    }\n",
       "</style>\n",
       "<table border=\"1\" class=\"dataframe\">\n",
       "  <thead>\n",
       "    <tr style=\"text-align: right;\">\n",
       "      <th></th>\n",
       "      <th>z</th>\n",
       "      <th>p</th>\n",
       "      <th>alpha/i</th>\n",
       "      <th>sig</th>\n",
       "    </tr>\n",
       "  </thead>\n",
       "  <tbody>\n",
       "    <tr>\n",
       "      <th>Random Forest vs GAR-Forest</th>\n",
       "      <td>2.517</td>\n",
       "      <td>0.012</td>\n",
       "      <td>0.025</td>\n",
       "      <td>True</td>\n",
       "    </tr>\n",
       "    <tr>\n",
       "      <th>Random Forest vs G-Forest</th>\n",
       "      <td>0.857</td>\n",
       "      <td>0.391</td>\n",
       "      <td>0.050</td>\n",
       "      <td>False</td>\n",
       "    </tr>\n",
       "  </tbody>\n",
       "</table>\n",
       "</div>"
      ],
      "text/plain": [
       "                                 z      p  alpha/i    sig\n",
       "Random Forest vs GAR-Forest  2.517  0.012    0.025   True\n",
       "Random Forest vs G-Forest    0.857  0.391    0.050  False"
      ]
     },
     "execution_count": 421,
     "metadata": {},
     "output_type": "execute_result"
    }
   ],
   "source": [
    "comparisons, z_values, p_values, adj_sigmas = hochberg_test(dict_clf_avg_rank,\n",
    "                                                        n_datasets = n_datasets,\n",
    "                                                        control='Random Forest',\n",
    "                                                        alpha=0.05)\n",
    "\n",
    "holm_scores = pd.DataFrame({\"z\":z_values.round(3),\"p\": p_values.round(3),\n",
    "                            'alpha/i':adj_sigmas.round(3) ,\"sig\": p_values < adj_sigmas}, \n",
    "                           index=comparisons)\n",
    "holm_scores"
   ]
  },
  {
   "cell_type": "markdown",
   "metadata": {},
   "source": [
    "### 3. Metodos personalizados"
   ]
  },
  {
   "cell_type": "code",
   "execution_count": 5,
   "metadata": {},
   "outputs": [],
   "source": [
    "import post_hoc as ph"
   ]
  },
  {
   "cell_type": "code",
   "execution_count": 6,
   "metadata": {},
   "outputs": [
    {
     "name": "stdout",
     "output_type": "stream",
     "text": [
      "### Experimento\n",
      "# Number of classifiers: 3\n",
      "# Number of datasets: 62\n",
      "# Name of classifiers: Random Forest, G-Forest, GAR-Forest\n",
      "# Alpha: 0.05\n",
      "\n",
      "### Métricas\n",
      "# Test de Friedman sobre métricas \n",
      "\t-> p-val: 0.0346\n",
      "\n",
      "### Rankings\n",
      "# GAR-Forest    ranking medio:  1.75\n",
      "# G-Forest      ranking medio:  2.048\n",
      "# Random Forest ranking medio:  2.202\n",
      "# Test de Friedman sobre Rankings [F(6.5403, 2, 122)]               \n",
      "\t-> p-val: 0.0020\n",
      "\n",
      "### Test Hochberg Comparacion Random Forest vs all\n",
      "# Tabla de comparación de Rankings:\n",
      "                                 z      p  alpha/i    sig\n",
      "Random Forest vs GAR-Forest  2.517  0.012    0.025   True\n",
      "Random Forest vs G-Forest    0.857  0.391    0.050  False\n"
     ]
    },
    {
     "data": {
      "text/html": [
       "<div>\n",
       "<style scoped>\n",
       "    .dataframe tbody tr th:only-of-type {\n",
       "        vertical-align: middle;\n",
       "    }\n",
       "\n",
       "    .dataframe tbody tr th {\n",
       "        vertical-align: top;\n",
       "    }\n",
       "\n",
       "    .dataframe thead th {\n",
       "        text-align: right;\n",
       "    }\n",
       "</style>\n",
       "<table border=\"1\" class=\"dataframe\">\n",
       "  <thead>\n",
       "    <tr style=\"text-align: right;\">\n",
       "      <th></th>\n",
       "      <th>z</th>\n",
       "      <th>p</th>\n",
       "      <th>alpha/i</th>\n",
       "      <th>sig</th>\n",
       "    </tr>\n",
       "  </thead>\n",
       "  <tbody>\n",
       "    <tr>\n",
       "      <th>Random Forest vs GAR-Forest</th>\n",
       "      <td>2.517</td>\n",
       "      <td>0.012</td>\n",
       "      <td>0.025</td>\n",
       "      <td>True</td>\n",
       "    </tr>\n",
       "    <tr>\n",
       "      <th>Random Forest vs G-Forest</th>\n",
       "      <td>0.857</td>\n",
       "      <td>0.391</td>\n",
       "      <td>0.050</td>\n",
       "      <td>False</td>\n",
       "    </tr>\n",
       "  </tbody>\n",
       "</table>\n",
       "</div>"
      ],
      "text/plain": [
       "                                 z      p  alpha/i    sig\n",
       "Random Forest vs GAR-Forest  2.517  0.012    0.025   True\n",
       "Random Forest vs G-Forest    0.857  0.391    0.050  False"
      ]
     },
     "execution_count": 6,
     "metadata": {},
     "output_type": "execute_result"
    }
   ],
   "source": [
    "ph.posthoc_Friedman_Davenport_Hochbertest(resultados, control='Random Forest')"
   ]
  },
  {
   "cell_type": "code",
   "execution_count": null,
   "metadata": {},
   "outputs": [],
   "source": []
  },
  {
   "cell_type": "markdown",
   "metadata": {},
   "source": [
    "### Anexo: Clase post_hoc"
   ]
  },
  {
   "cell_type": "markdown",
   "metadata": {},
   "source": [
    "```python\n",
    "\n",
    "def friedman_ranking_chi(d, k, r, iman_davenport = False, verbose=True):\n",
    "    '''\n",
    "    d: numero de datasets\n",
    "    k: numero de clasificadores\n",
    "    r: np.array de rankings medios\n",
    "    iman_davenport: devolver estadístico con corrección o normal\n",
    "    '''\n",
    "    first = (12*d) / (k*(k+1))\n",
    "    sumat = np.sum(r**2)\n",
    "    second = (k*((k+1)**2)) / 4\n",
    "    res = first*(sumat-second)\n",
    "    \n",
    "    if iman_davenport and verbose:\n",
    "        res = ((d-1)*res)/(d*(k-1)-res)\n",
    "        print('Friedman IVAN-Davenport Chi Square - Datasets: {} - Clasificadores {}'.format(d,k))\n",
    "        print('-- Chi_sq^2_f = {:.3f}'.format(res))\n",
    "        \n",
    "    elif verbose:\n",
    "        print('Friedman Chi Square - Datasets: {} - Clasificadores {}'.format(d,k))\n",
    "        print('-- Chi_sq^2_f = {:.3f}'.format(res))\n",
    "        \n",
    "    return res\n",
    "\n",
    "def hochberg_test(ranks, n_datasets, control=None, alpha=0.05):\n",
    "    \"\"\"\n",
    "        Parameters\n",
    "        ----------\n",
    "        ranks : dictionary\n",
    "            A dictionary with format 'Classifier':'mean_rank' \n",
    "        control : string optional\n",
    "            The name of the control method (one vs all) \n",
    "            \n",
    "        Returns\n",
    "        ----------\n",
    "        Comparions : np.array-like\n",
    "            Strings identifier of each comparison with format 'group_i_control vs group_j'\n",
    "            \n",
    "        Z-values : np.array-like\n",
    "            The computed Z-value statistic for each comparison.\n",
    "            \n",
    "        p-values : np.array-like\n",
    "            The associated p-value from the Z-distribution wich depends on the index of the comparison\n",
    "            \n",
    "        adj_sigmas : np.array-like\n",
    "            The associated adjusted sigma according HOCHBERG test alpha/i, being i the reverse of the position in ranking.\n",
    "            \n",
    "        References\n",
    "        ----------\n",
    "        Demšar, J. (2006). Statistical comparisons of classifiers over multiple data sets. Journal of Machine learning research, 7(Jan), 1-30.\n",
    "    \"\"\"\n",
    "    k = len(ranks) # numero de tests\n",
    "    values = list(ranks.values())\n",
    "    keys = list(ranks.keys())\n",
    "\n",
    "    control_i = values.index(min(values)) if not control else keys.index(control)\n",
    "\n",
    "    # Strings de comparaciones\n",
    "    comparisons = [keys[control_i] + \" vs \" + keys[i] for i in range(k) if i != control_i]\n",
    "    \n",
    "    # Estadísticos y pval\n",
    "    # Estadisticos son la diferencia de rankings medios\n",
    "    # Error estandar según Demsar\n",
    "    se = np.sqrt((k*(k+1))/(6*n_datasets)) \n",
    "\n",
    "    z_values = [abs(values[control_i] - values[i])/se for i in range(k) if i != control_i]\n",
    "    p_values = [2*(1-stats.norm.cdf(abs(z))) for z in z_values]\n",
    "    #p_values = [2*(1-stats.norm.cdf(abs(z))) for z in z_values]\n",
    "    \n",
    "    # Ordenarmos por pval\n",
    "    p_values, z_values, comparisons = map(list, zip(*sorted(zip(p_values, z_values, comparisons), key=lambda t: t[0])))\n",
    "    \n",
    "    # Ajustamos sigma según Hochner\n",
    "    adj_sigmas = [alpha/i for i in range(k-1,0,-1)]\n",
    "    \n",
    "    return np.asarray(comparisons), np.asarray(z_values), np.asarray(p_values), np.asarray(adj_sigmas)\n",
    "\n",
    "def posthoc_Friedman_Davenport_Hochbertest(results, alpha=0.05, obj='max', control=None, verbose=True):\n",
    "    '''\n",
    "    results: DataFrame like\n",
    "        Each row a dataset, each column a classifiers. Column of datasets names calles 'Dataset'\n",
    "    '''\n",
    "    \n",
    "    # Preparamos resultados en numpy, array de nombres y datos del experimento\n",
    "    name_clfs = results.drop('Dataset', axis=1).columns\n",
    "    results_np = results[name_clfs].values\n",
    "    n_datasets = results_np.shape[0]\n",
    "    n_clfs = results_np.shape[1]\n",
    "    \n",
    "    #1. Realizamos friedman sobre los resultados de evaluación\n",
    "    stat_fried_metric, pval_fried_metric = stats.friedmanchisquare(*results_np.transpose())\n",
    "    \n",
    "    #2. Realizamos test de friedman sobre los rankings\n",
    "    #Calculamos rankings y rankings medios en np y dict\n",
    "    all_ranks = np.array([stats.rankdata(-p) for p in results_np]) if obj=='max' else np.array([stats.rankdata(p) for p in results_np])\n",
    "    average_ranks = np.mean(all_ranks, axis=0)\n",
    "    dict_clf_avg_rank = {c:r for c, r in zip(name_clfs, average_ranks.round(3))}\n",
    "    #Calculamos el estadistico de Iman-Davenport\n",
    "    stat_ImanDaven_ranks = friedman_ranking_chi(n_datasets, #numero datasets\n",
    "                                                n_clfs, #numero de clfs\n",
    "                                                average_ranks, \n",
    "                                                iman_davenport=True,\n",
    "                                                verbose= False)\n",
    "    df1 = n_clfs-1\n",
    "    df2 = (n_clfs-1)*(n_datasets-1)\n",
    "    pval_ImanDaven_ranks = stats.f.sf(stat_ImanDaven_ranks, df1, df2)\n",
    "    \n",
    "    #3. Test de Hochberg\n",
    "    comparisons_h, z_values_h, p_values_h, adj_sigmas_h = hochberg_test(dict_clf_avg_rank,\n",
    "                                                        n_datasets = n_datasets,\n",
    "                                                        control=control,\n",
    "                                                        alpha=alpha)\n",
    "\n",
    "    holm_scores = pd.DataFrame({\"z\":z_values_h.round(3),\"p\": p_values_h.round(3),\n",
    "                                'alpha/i':adj_sigmas_h.round(3) ,\"sig\": p_values_h < adj_sigmas_h}, \n",
    "                               index=comparisons_h)\n",
    "\n",
    "    if verbose:\n",
    "        print(f'### Experimento')\n",
    "        print(f'# Number of classifiers: {n_clfs}')\n",
    "        print(f'# Number of datasets: {n_datasets}')\n",
    "        print('# Name of classifiers: {}'.format(', '.join(name_clfs.format())))\n",
    "        print(f'# Alpha: {alpha}')\n",
    "        \n",
    "        print(f'\\n### Métricas')\n",
    "        print(f'# Test de Friedman sobre métricas \\n\\t-> p-val: {pval_fried_metric:.4f}')\n",
    "        \n",
    "        print(f'\\n### Rankings')\n",
    "        mx_string = len(max(name_clfs, key=lambda x: len(x)))\n",
    "        for k in sorted(dict_clf_avg_rank, key=dict_clf_avg_rank.get):\n",
    "            print('# {:{}} ranking medio:  {}'.format(k,mx_string,dict_clf_avg_rank[k]))\n",
    "        print(f'# Test de Friedman sobre Rankings [F({stat_ImanDaven_ranks:.4f}, {df1}, {df2})] \\\n",
    "              \\n\\t-> p-val: {pval_ImanDaven_ranks:.4f}')\n",
    "        one = min(dict_clf_avg_rank, key=dict_clf_avg_rank.get) if control is None else control\n",
    "        print('\\n### Test Hochberg Comparacion {} vs all'.format(one))\n",
    "        print('# Tabla de comparación de Rankings:')\n",
    "        print(holm_scores)\n",
    "    \n",
    "    return holm_scores\n",
    "```"
   ]
  }
 ],
 "metadata": {
  "kernelspec": {
   "display_name": "Py3.6.8PK",
   "language": "python",
   "name": "pk"
  },
  "language_info": {
   "codemirror_mode": {
    "name": "ipython",
    "version": 3
   },
   "file_extension": ".py",
   "mimetype": "text/x-python",
   "name": "python",
   "nbconvert_exporter": "python",
   "pygments_lexer": "ipython3",
   "version": "3.6.8"
  }
 },
 "nbformat": 4,
 "nbformat_minor": 4
}
