{
 "cells": [
  {
   "cell_type": "markdown",
   "metadata": {},
   "source": [
    "# Test Unitario Carga de datos\n",
    "## Adrián Arnaiz"
   ]
  },
  {
   "cell_type": "code",
   "execution_count": 1,
   "metadata": {},
   "outputs": [],
   "source": [
    "from cargaDatos import *\n",
    "import unittest\n",
    "import os"
   ]
  },
  {
   "cell_type": "code",
   "execution_count": 2,
   "metadata": {},
   "outputs": [],
   "source": [
    "class TestCargaDatos(unittest.TestCase):\n",
    "    \n",
    "    def __init__(self):\n",
    "        self.ruta = './CaracteristicasExtraidas/'\n",
    "    \n",
    "    def test_datos(self):\n",
    "        t = os.listdir('CaracteristicasExtraidas')\n",
    "        sets = [s for s in t if s.endswith('.npy')]\n",
    "        for cca in sets:\n",
    "            datosCarpeta = np.load(self.ruta+cca)\n",
    "            datosFuncion = eval('load_'+cca[:-9]+'()')\n",
    "            self.assertTrue(np.equal(datosFuncion.data, datosCarpeta[:,:-1]).all())\n",
    "            self.assertTrue(np.equal(datosFuncion.target, datosCarpeta[:,-1]).all())\n",
    "            print('✓ - '+'load_'+cca[:-9]+'()'+' OK')"
   ]
  },
  {
   "cell_type": "code",
   "execution_count": 3,
   "metadata": {},
   "outputs": [
    {
     "name": "stdout",
     "output_type": "stream",
     "text": [
      "✓ - load_art_rt() OK\n",
      "✓ - load_art_w_atleta() OK\n",
      "✓ - load_art_w_braso() OK\n",
      "✓ - load_art_w_campana() OK\n",
      "✓ - load_art_w_gato() OK\n",
      "✓ - load_art_w_petaka() OK\n",
      "✓ - load_fon_rt() OK\n",
      "✓ - load_fon_v_A() OK\n",
      "✓ - load_fon_v_E() OK\n",
      "✓ - load_fon_v_I() OK\n",
      "✓ - load_fon_v_O() OK\n",
      "✓ - load_fon_v_U() OK\n",
      "✓ - load_fon_w_atleta() OK\n",
      "✓ - load_fon_w_braso() OK\n",
      "✓ - load_fon_w_campana() OK\n",
      "✓ - load_fon_w_gato() OK\n",
      "✓ - load_fon_w_petaka() OK\n",
      "✓ - load_prs_rt() OK\n"
     ]
    }
   ],
   "source": [
    "tst = TestCargaDatos()\n",
    "tst.test_datos()"
   ]
  }
 ],
 "metadata": {
  "kernelspec": {
   "display_name": "Python 3",
   "language": "python",
   "name": "python3"
  },
  "language_info": {
   "codemirror_mode": {
    "name": "ipython",
    "version": 3
   },
   "file_extension": ".py",
   "mimetype": "text/x-python",
   "name": "python",
   "nbconvert_exporter": "python",
   "pygments_lexer": "ipython3",
   "version": "3.6.8"
  }
 },
 "nbformat": 4,
 "nbformat_minor": 2
}
