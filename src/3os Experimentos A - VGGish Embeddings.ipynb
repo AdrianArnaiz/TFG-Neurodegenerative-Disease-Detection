{
 "cells": [
  {
   "cell_type": "markdown",
   "metadata": {
    "colab_type": "text",
    "id": "MXw4WjpcIdT-"
   },
   "source": [
    "# Experimentos con Dataset VGGish Embeddings\n",
    "## Adrián Arnaiz\n",
    "> * Ruta: */ser/CaracteristicasExtraidas/vggish/embeddings*\n",
    "* Módulo de carga de datos: */src/cargaDatosVggishEmbeddings.py*\n",
    "     * Cada uno Contiene load_....py siendo ... todos los conjuntos de datos extraidos para las características extraídas para read text y vocales con vggis. Ejemplo: load_vggish_embed_v_A() o load_vggish_embed_rt()\n",
    "\n",
    "**Comentar un poco resultados y conclusiones finales**\n",
    "* **Para los embeddings:**\n",
    " * Para los experimentos normales, lo que mejor funciona es A_embeddings y rt-embeddings con los MLP y GBC. No hay mejora significativa, pero están en el orden de los 'mejores' obtenidos anteriormente para este experimento: 0.78 accuracy 0.88 roc_auc. Mejores resultados normalizando.\n",
    "  * **Mejor experimento: MLP 10 neuronas: 0.888** \n",
    "\n",
    "<a id=\"index\"></a>\n",
    "## Índice del notebook\n",
    "1. [Experimentos Embeddings](#rep)\n",
    " 1. [Experimentos estandar - Experimenter](#exp)\n",
    "    1. [Accuracy - atribs. por defecto](#acudef)\n",
    "    2. [Accuracy - atribs. normalizados](#acunorm)\n",
    "    3. [AUC - atribs. por defecto](#aucdef)\n",
    "    4. [Accuracy - atribs. normalizados](#aucnorm)\n",
    " 5. [Grid-Search \\ SVM $\\rightarrow$ Orozco](#gssvm)\n",
    "    1. [|Apartado Formativo| Recalcar importancia de búsqueda de parámetros.](#GSfrom)\n",
    " 6. [Variance Treshold](#vtres)\n",
    " 7. [SKBest](#skbest)\n",
    " 8. [! Grid Search \\ VarianceTeshold + AdaBoost](#vtab)\n",
    " 9. [Grid Search \\ Seleckt KBest + RF](#skrf)\n",
    " 9. [! Grid Search \\ Seleckt KBest + AdaBoost](#skada)\n",
    " 9. [Grid Search \\ Seleckt KBest + GBC](#skgbc)\n",
    " 9. [Grid Search \\ Seleckt KBest + MLP](#MLP)\n",
    "\n",
    " ----------------------"
   ]
  },
  {
   "cell_type": "code",
   "execution_count": 0,
   "metadata": {
    "colab": {},
    "colab_type": "code",
    "id": "_G4xFi9HIdUA"
   },
   "outputs": [],
   "source": [
    "import cargaDatosVggishEmbeddings\n",
    "\n",
    "from experimenter import *\n",
    "from IPython.display import clear_output\n",
    "import numpy as np\n",
    "import os\n",
    "import warnings\n",
    "\n",
    "from sklearn.preprocessing import MinMaxScaler\n",
    "from sklearn.model_selection import cross_val_score, cross_val_predict, GridSearchCV\n",
    "from sklearn.neural_network import MLPClassifier\n",
    "from sklearn import svm\n",
    "from sklearn.ensemble import RandomForestClassifier, AdaBoostClassifier, GradientBoostingClassifier\n",
    "from sklearn.feature_selection import SelectKBest, chi2, VarianceThreshold\n",
    "\n",
    "from sklearn.pipeline import Pipeline\n",
    "warnings.filterwarnings('ignore')"
   ]
  },
  {
   "cell_type": "markdown",
   "metadata": {
    "colab_type": "text",
    "id": "FxDTuVqVIdUE"
   },
   "source": [
    "# 1. Experimentos Embeddings VGGish <a id=\"rep\"></a><a href=\"#index\"><i class=\"fa fa-list-alt\" aria-hidden=\"true\"></i></a>\n",
    "Repetiremos el conjuto de experimentos que hemos ido realizando para todos los anteriores conjuntos de datos y así poder comparar resultados.\n",
    "\n",
    "**Experimenter.GridSearchPipe(moduloDeDatos, pipe, paramgrid, verbose=True, normalizar=True): utiliza ROC_AUC**\n"
   ]
  },
  {
   "cell_type": "markdown",
   "metadata": {
    "colab_type": "text",
    "id": "5z2rq55aI1Tk"
   },
   "source": [
    "## 1.1 Experimentos estandar - Experimenter <a id=\"exp\"></a><a href=\"#index\"><i class=\"fa fa-list-alt\" aria-hidden=\"true\"></i></a>\n",
    "Hemos añadido el perceptron multicapa respecto a otros experimentos. sklearn.neural_network.MLPClassifier."
   ]
  },
  {
   "cell_type": "code",
   "execution_count": 0,
   "metadata": {
    "colab": {},
    "colab_type": "code",
    "id": "uMnEOKv5IdUF"
   },
   "outputs": [],
   "source": [
    "tipoDatos = \"cargaDatosVggishEmbeddings\"\n",
    "general = {\n",
    "    \"ID\":\"ExperimentoBase\",\n",
    "    \"N_FOLDS\":10\n",
    "}\n",
    "\n",
    "datasets = [\n",
    "    {\n",
    "        \"ID_DATA\":\"RT_Embedding\",\n",
    "        \"ORIGIN\": tipoDatos+\".load_vggish_embed_rt\",\n",
    "    },\n",
    "    {\n",
    "        \"ID_DATA\":\"A_Embedding\",\n",
    "        \"ORIGIN\": tipoDatos+\".load_vggish_embed_v_A\",\n",
    "    },\n",
    "    {\n",
    "        \"ID_DATA\":\"E_Embedding\",\n",
    "        \"ORIGIN\": tipoDatos+\".load_vggish_embed_v_E\",\n",
    "    },\n",
    "    \n",
    "    \n",
    "    {\n",
    "        \"ID_DATA\":\"I_Embedding\",\n",
    "        \"ORIGIN\":tipoDatos+\".load_vggish_embed_v_I\",\n",
    "    },\n",
    "    {\n",
    "        \"ID_DATA\":\"O_Embedding\",\n",
    "        \"ORIGIN\":tipoDatos+\".load_vggish_embed_v_O\",\n",
    "    },\n",
    "    {\n",
    "        \"ID_DATA\":\"U_Embedding\",\n",
    "        \"ORIGIN\":tipoDatos+\".load_vggish_embed_v_U\",\n",
    "    }\n",
    "]\n",
    "\n",
    "algoritmos = [\n",
    "    {\n",
    "        \"ID_ALG\":\"KNN8\",\n",
    "        \"ALGO\": \"sklearn.neighbors.KNeighborsClassifier\",\n",
    "        \"PARAMS\":{\n",
    "            \"n_neighbors\":8,\n",
    "            \"metric\":\"euclidean\"\n",
    "        }\n",
    "    },\n",
    "    {\n",
    "        \"ID_ALG\":\"Tree\",\n",
    "        \"ALGO\": \"sklearn.tree.DecisionTreeClassifier\",\n",
    "        \"PARAMS\":{  # Parámetros por defecto       \n",
    "        }\n",
    "    },\n",
    "    {\n",
    "        \"ID_ALG\":\"Bayes\",\n",
    "        \"ALGO\": \"sklearn.naive_bayes.GaussianNB\",\n",
    "        \"PARAMS\":{  # Parámetros por defecto       \n",
    "        }\n",
    "    },\n",
    "    {\n",
    "        \"ID_ALG\":\"SVM\",\n",
    "        \"ALGO\": \"sklearn.svm.SVC\",\n",
    "        \"PARAMS\":{\n",
    "        }\n",
    "    },\n",
    "    {\n",
    "        \"ID_ALG\":\"RandomF\",\n",
    "        \"ALGO\": \"sklearn.ensemble.RandomForestClassifier\",\n",
    "        \"PARAMS\":{ \n",
    "        }\n",
    "    },\n",
    "    {\n",
    "        \"ID_ALG\":\"Ada\",\n",
    "        \"ALGO\": \"sklearn.ensemble.AdaBoostClassifier\",\n",
    "        \"PARAMS\":{ \n",
    "        }\n",
    "    },\n",
    "    {\n",
    "        \"ID_ALG\":\"Reglas\",\n",
    "        \"ALGO\": \"sklearn.dummy.DummyClassifier\",\n",
    "        \"PARAMS\":{ \n",
    "        }\n",
    "    },\n",
    "    {\n",
    "        \"ID_ALG\":\"GBC\",\n",
    "        \"ALGO\": \"sklearn.ensemble.GradientBoostingClassifier\",\n",
    "        \"PARAMS\":{ \n",
    "        }\n",
    "    },\n",
    "    {\n",
    "        \"ID_ALG\":\"MLP100\",\n",
    "        \"ALGO\": \"sklearn.neural_network.MLPClassifier\",\n",
    "        \"PARAMS\":{ \n",
    "        }\n",
    "    },\n",
    "    {\n",
    "        \"ID_ALG\":\"MLP10\",\n",
    "        \"ALGO\": \"sklearn.neural_network.MLPClassifier\",\n",
    "        \"PARAMS\":{ \"hidden_layer_sizes\":10\n",
    "        }\n",
    "    },\n",
    "    \n",
    "]\n",
    "\n",
    "output = {\n",
    "    \"METRIC\":\"accuracy\",\n",
    "    \"DISPLAY\":\"table\"\n",
    "}\n",
    "\n",
    "experimento = {\n",
    "    \"GENERAL\":general,\n",
    "    \"DATASETS\":datasets,\n",
    "    \"ALGORITMOS\":algoritmos,\n",
    "    \"OUTPUT\": output    \n",
    "}"
   ]
  },
  {
   "cell_type": "markdown",
   "metadata": {
    "colab_type": "text",
    "id": "VK5vKMOeIdUI"
   },
   "source": [
    "### 1.1.1 Acuracy -  atribs sin modificar <a id=\"acudef\"></a><a href=\"#index\"><i class=\"fa fa-list-alt\" aria-hidden=\"true\"></i></a>\n",
    "Mejor: **RF, ADA, GBC y MLP para rt_embeddings, A_embeddings y E_embeddings**: **0.730.74**. 0 por encima del 0.8.\n",
    "\n",
    "**NO** hay mejora significativa ni debido a las nuevas características. Bastante malos resultados comparados con el estado del arte."
   ]
  },
  {
   "cell_type": "code",
   "execution_count": 0,
   "metadata": {
    "colab": {},
    "colab_type": "code",
    "id": "Mv0B4BqMIdUJ",
    "scrolled": true
   },
   "outputs": [],
   "source": [
    "warnings.filterwarnings('ignore')\n",
    "ex = Experimenter()\n",
    "name_exp,num_folds = ex.get_datos_generales(experimento)\n",
    "data_names,data_X,data_y = ex.get_datasets(experimento)\n",
    "model_names,models = ex.get_algoritmos(experimento)\n",
    "score,rep_type = ex.get_output_options(experimento)\n",
    "all_results = ex.cross_validate_all_models(data_names, data_X,data_y,models,num_folds,score)\n",
    "clear_output()"
   ]
  },
  {
   "cell_type": "code",
   "execution_count": 0,
   "metadata": {
    "colab": {},
    "colab_type": "code",
    "id": "LwoZVMw4IdUL",
    "outputId": "2efa00eb-dbbf-4cc5-d63f-7daa3d23f948"
   },
   "outputs": [
    {
     "data": {
      "text/html": [
       "<div>\n",
       "<style scoped>\n",
       "    .dataframe tbody tr th:only-of-type {\n",
       "        vertical-align: middle;\n",
       "    }\n",
       "\n",
       "    .dataframe tbody tr th {\n",
       "        vertical-align: top;\n",
       "    }\n",
       "\n",
       "    .dataframe thead th {\n",
       "        text-align: right;\n",
       "    }\n",
       "</style>\n",
       "<table border=\"1\" class=\"dataframe\">\n",
       "  <thead>\n",
       "    <tr style=\"text-align: right;\">\n",
       "      <th></th>\n",
       "      <th>KNN8</th>\n",
       "      <th>Tree</th>\n",
       "      <th>Bayes</th>\n",
       "      <th>SVM</th>\n",
       "      <th>RandomF</th>\n",
       "      <th>Ada</th>\n",
       "      <th>Reglas</th>\n",
       "      <th>GBC</th>\n",
       "      <th>MLP100</th>\n",
       "      <th>MLP10</th>\n",
       "    </tr>\n",
       "  </thead>\n",
       "  <tbody>\n",
       "    <tr>\n",
       "      <th>RT_Embedding</th>\n",
       "      <td>0.530000</td>\n",
       "      <td>0.540000</td>\n",
       "      <td>0.690000</td>\n",
       "      <td>0.460000</td>\n",
       "      <td>0.670000</td>\n",
       "      <td>0.610000</td>\n",
       "      <td>0.470000</td>\n",
       "      <td>0.690000</td>\n",
       "      <td>0.640000</td>\n",
       "      <td>0.550000</td>\n",
       "    </tr>\n",
       "    <tr>\n",
       "      <th>A_Embedding</th>\n",
       "      <td>0.684048</td>\n",
       "      <td>0.634286</td>\n",
       "      <td>0.673571</td>\n",
       "      <td>0.638333</td>\n",
       "      <td>0.631429</td>\n",
       "      <td>0.731667</td>\n",
       "      <td>0.543095</td>\n",
       "      <td>0.735000</td>\n",
       "      <td>0.728095</td>\n",
       "      <td>0.734524</td>\n",
       "    </tr>\n",
       "    <tr>\n",
       "      <th>E_Embedding</th>\n",
       "      <td>0.638202</td>\n",
       "      <td>0.560722</td>\n",
       "      <td>0.575131</td>\n",
       "      <td>0.503448</td>\n",
       "      <td>0.591773</td>\n",
       "      <td>0.676757</td>\n",
       "      <td>0.528555</td>\n",
       "      <td>0.690558</td>\n",
       "      <td>0.729007</td>\n",
       "      <td>0.715673</td>\n",
       "    </tr>\n",
       "    <tr>\n",
       "      <th>I_Embedding</th>\n",
       "      <td>0.661750</td>\n",
       "      <td>0.557631</td>\n",
       "      <td>0.623203</td>\n",
       "      <td>0.505300</td>\n",
       "      <td>0.594007</td>\n",
       "      <td>0.566580</td>\n",
       "      <td>0.455774</td>\n",
       "      <td>0.601783</td>\n",
       "      <td>0.694536</td>\n",
       "      <td>0.708461</td>\n",
       "    </tr>\n",
       "    <tr>\n",
       "      <th>O_Embedding</th>\n",
       "      <td>0.580667</td>\n",
       "      <td>0.553459</td>\n",
       "      <td>0.604205</td>\n",
       "      <td>0.507556</td>\n",
       "      <td>0.557162</td>\n",
       "      <td>0.599897</td>\n",
       "      <td>0.542336</td>\n",
       "      <td>0.629954</td>\n",
       "      <td>0.631436</td>\n",
       "      <td>0.646963</td>\n",
       "    </tr>\n",
       "    <tr>\n",
       "      <th>U_Embedding</th>\n",
       "      <td>0.623077</td>\n",
       "      <td>0.595231</td>\n",
       "      <td>0.578769</td>\n",
       "      <td>0.512000</td>\n",
       "      <td>0.560308</td>\n",
       "      <td>0.614308</td>\n",
       "      <td>0.496000</td>\n",
       "      <td>0.689385</td>\n",
       "      <td>0.634615</td>\n",
       "      <td>0.638154</td>\n",
       "    </tr>\n",
       "    <tr>\n",
       "      <th>MEDIA</th>\n",
       "      <td>0.619624</td>\n",
       "      <td>0.573555</td>\n",
       "      <td>0.624147</td>\n",
       "      <td>0.521106</td>\n",
       "      <td>0.600780</td>\n",
       "      <td>0.633201</td>\n",
       "      <td>0.505960</td>\n",
       "      <td>0.672780</td>\n",
       "      <td>0.676281</td>\n",
       "      <td>0.665629</td>\n",
       "    </tr>\n",
       "  </tbody>\n",
       "</table>\n",
       "</div>"
      ],
      "text/plain": [
       "                  KNN8      Tree     Bayes       SVM   RandomF       Ada  \\\n",
       "RT_Embedding  0.530000  0.540000  0.690000  0.460000  0.670000  0.610000   \n",
       "A_Embedding   0.684048  0.634286  0.673571  0.638333  0.631429  0.731667   \n",
       "E_Embedding   0.638202  0.560722  0.575131  0.503448  0.591773  0.676757   \n",
       "I_Embedding   0.661750  0.557631  0.623203  0.505300  0.594007  0.566580   \n",
       "O_Embedding   0.580667  0.553459  0.604205  0.507556  0.557162  0.599897   \n",
       "U_Embedding   0.623077  0.595231  0.578769  0.512000  0.560308  0.614308   \n",
       "MEDIA         0.619624  0.573555  0.624147  0.521106  0.600780  0.633201   \n",
       "\n",
       "                Reglas       GBC    MLP100     MLP10  \n",
       "RT_Embedding  0.470000  0.690000  0.640000  0.550000  \n",
       "A_Embedding   0.543095  0.735000  0.728095  0.734524  \n",
       "E_Embedding   0.528555  0.690558  0.729007  0.715673  \n",
       "I_Embedding   0.455774  0.601783  0.694536  0.708461  \n",
       "O_Embedding   0.542336  0.629954  0.631436  0.646963  \n",
       "U_Embedding   0.496000  0.689385  0.634615  0.638154  \n",
       "MEDIA         0.505960  0.672780  0.676281  0.665629  "
      ]
     },
     "execution_count": 4,
     "metadata": {
      "tags": []
     },
     "output_type": "execute_result"
    }
   ],
   "source": [
    "ex.process_results(all_results, data_names, model_names, rep_type)"
   ]
  },
  {
   "cell_type": "code",
   "execution_count": 0,
   "metadata": {
    "colab": {},
    "colab_type": "code",
    "id": "RyIEwp7nIdUR"
   },
   "outputs": [],
   "source": [
    "ex.process_results(all_results, data_names, model_names, 'bar')"
   ]
  },
  {
   "cell_type": "markdown",
   "metadata": {
    "colab_type": "text",
    "id": "XL-w13ENIdUU"
   },
   "source": [
    "### 1.1.2 Acuracy -  atribs normalizados <a id=\"acunorm\"></a><a href=\"#index\"><i class=\"fa fa-list-alt\" aria-hidden=\"true\"></i></a>\n",
    "Mejor resultado: rt_embeddings con MLP. Los 3 mejores:  MLPs, GBC y ADA. **(0.78 rt_embeddings con MLP100.)**. 0 por encima del 0.8. Resultados en la tónica de los obtenidos conresultados anteriores."
   ]
  },
  {
   "cell_type": "code",
   "execution_count": 0,
   "metadata": {
    "colab": {},
    "colab_type": "code",
    "id": "n-hf-HPMIdUV",
    "scrolled": true
   },
   "outputs": [],
   "source": [
    "ex = Experimenter()\n",
    "name_exp,num_folds = ex.get_datos_generales(experimento)\n",
    "data_names,data_X,data_y = ex.get_datasets(experimento, True) #Normalizamos\n",
    "model_names,models = ex.get_algoritmos(experimento)\n",
    "score,rep_type = ex.get_output_options(experimento)\n",
    "all_results = ex.cross_validate_all_models(data_names, data_X,data_y,models,num_folds,score)\n",
    "clear_output()"
   ]
  },
  {
   "cell_type": "code",
   "execution_count": 0,
   "metadata": {
    "colab": {},
    "colab_type": "code",
    "id": "YaID7HVqIdUX",
    "outputId": "c1ae2373-9a42-49a7-d558-b6e528de6cba",
    "scrolled": true
   },
   "outputs": [
    {
     "data": {
      "text/html": [
       "<div>\n",
       "<style scoped>\n",
       "    .dataframe tbody tr th:only-of-type {\n",
       "        vertical-align: middle;\n",
       "    }\n",
       "\n",
       "    .dataframe tbody tr th {\n",
       "        vertical-align: top;\n",
       "    }\n",
       "\n",
       "    .dataframe thead th {\n",
       "        text-align: right;\n",
       "    }\n",
       "</style>\n",
       "<table border=\"1\" class=\"dataframe\">\n",
       "  <thead>\n",
       "    <tr style=\"text-align: right;\">\n",
       "      <th></th>\n",
       "      <th>KNN8</th>\n",
       "      <th>Tree</th>\n",
       "      <th>Bayes</th>\n",
       "      <th>SVM</th>\n",
       "      <th>RandomF</th>\n",
       "      <th>Ada</th>\n",
       "      <th>Reglas</th>\n",
       "      <th>GBC</th>\n",
       "      <th>MLP100</th>\n",
       "      <th>MLP10</th>\n",
       "    </tr>\n",
       "  </thead>\n",
       "  <tbody>\n",
       "    <tr>\n",
       "      <th>RT_Embedding</th>\n",
       "      <td>0.700000</td>\n",
       "      <td>0.530000</td>\n",
       "      <td>0.580000</td>\n",
       "      <td>0.690000</td>\n",
       "      <td>0.730000</td>\n",
       "      <td>0.610000</td>\n",
       "      <td>0.540000</td>\n",
       "      <td>0.690000</td>\n",
       "      <td>0.770000</td>\n",
       "      <td>0.780000</td>\n",
       "    </tr>\n",
       "    <tr>\n",
       "      <th>A_Embedding</th>\n",
       "      <td>0.637857</td>\n",
       "      <td>0.599048</td>\n",
       "      <td>0.659048</td>\n",
       "      <td>0.655952</td>\n",
       "      <td>0.635476</td>\n",
       "      <td>0.731667</td>\n",
       "      <td>0.513810</td>\n",
       "      <td>0.731429</td>\n",
       "      <td>0.716905</td>\n",
       "      <td>0.727857</td>\n",
       "    </tr>\n",
       "    <tr>\n",
       "      <th>E_Embedding</th>\n",
       "      <td>0.627241</td>\n",
       "      <td>0.591560</td>\n",
       "      <td>0.575123</td>\n",
       "      <td>0.654836</td>\n",
       "      <td>0.637578</td>\n",
       "      <td>0.676757</td>\n",
       "      <td>0.463801</td>\n",
       "      <td>0.673539</td>\n",
       "      <td>0.659614</td>\n",
       "      <td>0.708760</td>\n",
       "    </tr>\n",
       "    <tr>\n",
       "      <th>I_Embedding</th>\n",
       "      <td>0.680109</td>\n",
       "      <td>0.589774</td>\n",
       "      <td>0.616174</td>\n",
       "      <td>0.666306</td>\n",
       "      <td>0.594613</td>\n",
       "      <td>0.566580</td>\n",
       "      <td>0.554789</td>\n",
       "      <td>0.594887</td>\n",
       "      <td>0.655373</td>\n",
       "      <td>0.683707</td>\n",
       "    </tr>\n",
       "    <tr>\n",
       "      <th>O_Embedding</th>\n",
       "      <td>0.578137</td>\n",
       "      <td>0.561436</td>\n",
       "      <td>0.615459</td>\n",
       "      <td>0.569128</td>\n",
       "      <td>0.550456</td>\n",
       "      <td>0.599897</td>\n",
       "      <td>0.473094</td>\n",
       "      <td>0.607601</td>\n",
       "      <td>0.590125</td>\n",
       "      <td>0.616621</td>\n",
       "    </tr>\n",
       "    <tr>\n",
       "      <th>U_Embedding</th>\n",
       "      <td>0.607231</td>\n",
       "      <td>0.571692</td>\n",
       "      <td>0.555385</td>\n",
       "      <td>0.516615</td>\n",
       "      <td>0.587077</td>\n",
       "      <td>0.614308</td>\n",
       "      <td>0.476923</td>\n",
       "      <td>0.689538</td>\n",
       "      <td>0.618615</td>\n",
       "      <td>0.638308</td>\n",
       "    </tr>\n",
       "    <tr>\n",
       "      <th>MEDIA</th>\n",
       "      <td>0.638429</td>\n",
       "      <td>0.573918</td>\n",
       "      <td>0.600198</td>\n",
       "      <td>0.625473</td>\n",
       "      <td>0.622533</td>\n",
       "      <td>0.633201</td>\n",
       "      <td>0.503736</td>\n",
       "      <td>0.664499</td>\n",
       "      <td>0.668439</td>\n",
       "      <td>0.692542</td>\n",
       "    </tr>\n",
       "  </tbody>\n",
       "</table>\n",
       "</div>"
      ],
      "text/plain": [
       "                  KNN8      Tree     Bayes       SVM   RandomF       Ada  \\\n",
       "RT_Embedding  0.700000  0.530000  0.580000  0.690000  0.730000  0.610000   \n",
       "A_Embedding   0.637857  0.599048  0.659048  0.655952  0.635476  0.731667   \n",
       "E_Embedding   0.627241  0.591560  0.575123  0.654836  0.637578  0.676757   \n",
       "I_Embedding   0.680109  0.589774  0.616174  0.666306  0.594613  0.566580   \n",
       "O_Embedding   0.578137  0.561436  0.615459  0.569128  0.550456  0.599897   \n",
       "U_Embedding   0.607231  0.571692  0.555385  0.516615  0.587077  0.614308   \n",
       "MEDIA         0.638429  0.573918  0.600198  0.625473  0.622533  0.633201   \n",
       "\n",
       "                Reglas       GBC    MLP100     MLP10  \n",
       "RT_Embedding  0.540000  0.690000  0.770000  0.780000  \n",
       "A_Embedding   0.513810  0.731429  0.716905  0.727857  \n",
       "E_Embedding   0.463801  0.673539  0.659614  0.708760  \n",
       "I_Embedding   0.554789  0.594887  0.655373  0.683707  \n",
       "O_Embedding   0.473094  0.607601  0.590125  0.616621  \n",
       "U_Embedding   0.476923  0.689538  0.618615  0.638308  \n",
       "MEDIA         0.503736  0.664499  0.668439  0.692542  "
      ]
     },
     "execution_count": 7,
     "metadata": {
      "tags": []
     },
     "output_type": "execute_result"
    }
   ],
   "source": [
    "ex.process_results(all_results, data_names, model_names, rep_type)"
   ]
  },
  {
   "cell_type": "code",
   "execution_count": 0,
   "metadata": {
    "colab": {},
    "colab_type": "code",
    "id": "8Yg0JYMlIdUd",
    "outputId": "716a37c4-651b-4b79-d83f-8f687bb284dd",
    "scrolled": true
   },
   "outputs": [
    {
     "data": {
      "image/png": "[encoded data removed]",
      "text/plain": [
       "<matplotlib.figure.Figure at 0x1e91279f3c8>"
      ]
     },
     "metadata": {
      "needs_background": "light",
      "tags": []
     },
     "output_type": "display_data"
    }
   ],
   "source": [
    "ex.process_results(all_results, data_names, model_names, 'bar')"
   ]
  },
  {
   "cell_type": "code",
   "execution_count": 0,
   "metadata": {
    "colab": {},
    "colab_type": "code",
    "id": "A2doCAbjIdUh"
   },
   "outputs": [],
   "source": []
  },
  {
   "cell_type": "markdown",
   "metadata": {
    "colab_type": "text",
    "id": "x-K2VpQgIdUk"
   },
   "source": [
    "### 1.1.3 Auc - sin modificar <a id=\"aucdef\"></a><a href=\"#index\"><i class=\"fa fa-list-alt\" aria-hidden=\"true\"></i></a>\n",
    "El que mejor funciona es A_embeddings por lo general. Los 2 mejores son MLP y GBC y GBC **(0.82 A_embeddings con MLP)**. 3 por encima del 0.8.\n",
    "\n",
    "Resultados en torno a los obtenidos en anteriores experimentos pero sin llegar a los mejores (Ada-art_campana 0.88)."
   ]
  },
  {
   "cell_type": "code",
   "execution_count": 0,
   "metadata": {
    "colab": {},
    "colab_type": "code",
    "id": "4NkkLHB7IdUk",
    "scrolled": true
   },
   "outputs": [],
   "source": [
    "experimento['OUTPUT']['METRIC']='roc_auc'\n",
    "ex = Experimenter()\n",
    "name_exp,num_folds = ex.get_datos_generales(experimento)\n",
    "data_names,data_X,data_y = ex.get_datasets(experimento)\n",
    "model_names,models = ex.get_algoritmos(experimento)\n",
    "score,rep_type = ex.get_output_options(experimento)\n",
    "all_results = ex.cross_validate_all_models(data_names, data_X,data_y,models,num_folds,score)\n",
    "clear_output()"
   ]
  },
  {
   "cell_type": "code",
   "execution_count": 0,
   "metadata": {
    "colab": {},
    "colab_type": "code",
    "id": "rNnCKcUfIdUn",
    "outputId": "24576c06-8a96-43e8-dd98-27a3d68cafb7",
    "scrolled": false
   },
   "outputs": [
    {
     "data": {
      "text/html": [
       "<div>\n",
       "<style scoped>\n",
       "    .dataframe tbody tr th:only-of-type {\n",
       "        vertical-align: middle;\n",
       "    }\n",
       "\n",
       "    .dataframe tbody tr th {\n",
       "        vertical-align: top;\n",
       "    }\n",
       "\n",
       "    .dataframe thead th {\n",
       "        text-align: right;\n",
       "    }\n",
       "</style>\n",
       "<table border=\"1\" class=\"dataframe\">\n",
       "  <thead>\n",
       "    <tr style=\"text-align: right;\">\n",
       "      <th></th>\n",
       "      <th>KNN8</th>\n",
       "      <th>Tree</th>\n",
       "      <th>Bayes</th>\n",
       "      <th>SVM</th>\n",
       "      <th>RandomF</th>\n",
       "      <th>Ada</th>\n",
       "      <th>Reglas</th>\n",
       "      <th>GBC</th>\n",
       "      <th>MLP100</th>\n",
       "      <th>MLP10</th>\n",
       "    </tr>\n",
       "  </thead>\n",
       "  <tbody>\n",
       "    <tr>\n",
       "      <th>RT_Embedding</th>\n",
       "      <td>0.532000</td>\n",
       "      <td>0.540000</td>\n",
       "      <td>0.718000</td>\n",
       "      <td>0.472000</td>\n",
       "      <td>0.778000</td>\n",
       "      <td>0.620000</td>\n",
       "      <td>0.510000</td>\n",
       "      <td>0.716000</td>\n",
       "      <td>0.784000</td>\n",
       "      <td>0.684000</td>\n",
       "    </tr>\n",
       "    <tr>\n",
       "      <th>A_Embedding</th>\n",
       "      <td>0.770018</td>\n",
       "      <td>0.605952</td>\n",
       "      <td>0.755271</td>\n",
       "      <td>0.757732</td>\n",
       "      <td>0.721035</td>\n",
       "      <td>0.794465</td>\n",
       "      <td>0.481667</td>\n",
       "      <td>0.815317</td>\n",
       "      <td>0.812406</td>\n",
       "      <td>0.822215</td>\n",
       "    </tr>\n",
       "    <tr>\n",
       "      <th>E_Embedding</th>\n",
       "      <td>0.729506</td>\n",
       "      <td>0.567381</td>\n",
       "      <td>0.623388</td>\n",
       "      <td>0.720125</td>\n",
       "      <td>0.665957</td>\n",
       "      <td>0.707916</td>\n",
       "      <td>0.501667</td>\n",
       "      <td>0.741299</td>\n",
       "      <td>0.773229</td>\n",
       "      <td>0.762186</td>\n",
       "    </tr>\n",
       "    <tr>\n",
       "      <th>I_Embedding</th>\n",
       "      <td>0.754572</td>\n",
       "      <td>0.582967</td>\n",
       "      <td>0.672463</td>\n",
       "      <td>0.720416</td>\n",
       "      <td>0.649525</td>\n",
       "      <td>0.547093</td>\n",
       "      <td>0.490421</td>\n",
       "      <td>0.643276</td>\n",
       "      <td>0.723312</td>\n",
       "      <td>0.749419</td>\n",
       "    </tr>\n",
       "    <tr>\n",
       "      <th>O_Embedding</th>\n",
       "      <td>0.633090</td>\n",
       "      <td>0.573535</td>\n",
       "      <td>0.613088</td>\n",
       "      <td>0.675493</td>\n",
       "      <td>0.588652</td>\n",
       "      <td>0.639483</td>\n",
       "      <td>0.482234</td>\n",
       "      <td>0.671337</td>\n",
       "      <td>0.691934</td>\n",
       "      <td>0.713919</td>\n",
       "    </tr>\n",
       "    <tr>\n",
       "      <th>U_Embedding</th>\n",
       "      <td>0.693688</td>\n",
       "      <td>0.580769</td>\n",
       "      <td>0.642283</td>\n",
       "      <td>0.676183</td>\n",
       "      <td>0.632249</td>\n",
       "      <td>0.659418</td>\n",
       "      <td>0.535897</td>\n",
       "      <td>0.760256</td>\n",
       "      <td>0.676430</td>\n",
       "      <td>0.685848</td>\n",
       "    </tr>\n",
       "    <tr>\n",
       "      <th>MEDIA</th>\n",
       "      <td>0.685479</td>\n",
       "      <td>0.575101</td>\n",
       "      <td>0.670749</td>\n",
       "      <td>0.670325</td>\n",
       "      <td>0.672570</td>\n",
       "      <td>0.661396</td>\n",
       "      <td>0.500314</td>\n",
       "      <td>0.724581</td>\n",
       "      <td>0.743552</td>\n",
       "      <td>0.736265</td>\n",
       "    </tr>\n",
       "  </tbody>\n",
       "</table>\n",
       "</div>"
      ],
      "text/plain": [
       "                  KNN8      Tree     Bayes       SVM   RandomF       Ada  \\\n",
       "RT_Embedding  0.532000  0.540000  0.718000  0.472000  0.778000  0.620000   \n",
       "A_Embedding   0.770018  0.605952  0.755271  0.757732  0.721035  0.794465   \n",
       "E_Embedding   0.729506  0.567381  0.623388  0.720125  0.665957  0.707916   \n",
       "I_Embedding   0.754572  0.582967  0.672463  0.720416  0.649525  0.547093   \n",
       "O_Embedding   0.633090  0.573535  0.613088  0.675493  0.588652  0.639483   \n",
       "U_Embedding   0.693688  0.580769  0.642283  0.676183  0.632249  0.659418   \n",
       "MEDIA         0.685479  0.575101  0.670749  0.670325  0.672570  0.661396   \n",
       "\n",
       "                Reglas       GBC    MLP100     MLP10  \n",
       "RT_Embedding  0.510000  0.716000  0.784000  0.684000  \n",
       "A_Embedding   0.481667  0.815317  0.812406  0.822215  \n",
       "E_Embedding   0.501667  0.741299  0.773229  0.762186  \n",
       "I_Embedding   0.490421  0.643276  0.723312  0.749419  \n",
       "O_Embedding   0.482234  0.671337  0.691934  0.713919  \n",
       "U_Embedding   0.535897  0.760256  0.676430  0.685848  \n",
       "MEDIA         0.500314  0.724581  0.743552  0.736265  "
      ]
     },
     "execution_count": 10,
     "metadata": {
      "tags": []
     },
     "output_type": "execute_result"
    }
   ],
   "source": [
    "ex.process_results(all_results, data_names, model_names, rep_type)"
   ]
  },
  {
   "cell_type": "code",
   "execution_count": 0,
   "metadata": {
    "colab": {},
    "colab_type": "code",
    "id": "dJjTuhvVIdUr",
    "outputId": "26c3d7e3-0f30-4d8f-84f2-fd069ca1a453",
    "scrolled": true
   },
   "outputs": [
    {
     "data": {
      "image/png": "[encoded data removed]",
      "text/plain": [
       "<matplotlib.figure.Figure at 0x1e9126d69b0>"
      ]
     },
     "metadata": {
      "needs_background": "light",
      "tags": []
     },
     "output_type": "display_data"
    }
   ],
   "source": [
    "ex.process_results(all_results, data_names, model_names, 'bar')"
   ]
  },
  {
   "cell_type": "code",
   "execution_count": 0,
   "metadata": {
    "colab": {},
    "colab_type": "code",
    "id": "TVdhwwPvIdUv"
   },
   "outputs": [],
   "source": []
  },
  {
   "cell_type": "markdown",
   "metadata": {
    "colab_type": "text",
    "id": "yIcBjycJIdUx"
   },
   "source": [
    "### 1.1.4  Auc - Normalizados <a id=\"aucnorm\"></a><a href=\"#index\"><i class=\"fa fa-list-alt\" aria-hidden=\"true\"></i></a>\n",
    "Resultados mejores con los embeddings de read-text y de la vocal A, siempre con MLP, siguiendo la magnitud de los resultados de anteriores experimentos.\n",
    "\n",
    "En este caso vemos como más clasificadores que antes  logran estar por encima del 0.8 AUC. 5 están por encima del 0.8. Mejor son MLP con diferencia y le sigue Gbc en algunos datasets.. Resultados del orden de los mejores: **(0.88 MLP-rt_embeddings)**, el mejor hasta ahora era GB-art_campana 0.89.\n"
   ]
  },
  {
   "cell_type": "code",
   "execution_count": 0,
   "metadata": {
    "colab": {},
    "colab_type": "code",
    "id": "UpVeq5lNIdUy"
   },
   "outputs": [],
   "source": [
    "ex = Experimenter()\n",
    "name_exp,num_folds = ex.get_datos_generales(experimento)\n",
    "data_names,data_X,data_y = ex.get_datasets(experimento, True)\n",
    "model_names,models = ex.get_algoritmos(experimento)\n",
    "score,rep_type = ex.get_output_options(experimento)\n",
    "all_results = ex.cross_validate_all_models(data_names, data_X,data_y,models,num_folds,score)\n",
    "clear_output()"
   ]
  },
  {
   "cell_type": "code",
   "execution_count": 0,
   "metadata": {
    "colab": {},
    "colab_type": "code",
    "id": "ejpGTfwxIdU1",
    "outputId": "13f4e75b-3009-4efe-f219-b72605cf1af7",
    "scrolled": true
   },
   "outputs": [
    {
     "data": {
      "text/html": [
       "<div>\n",
       "<style scoped>\n",
       "    .dataframe tbody tr th:only-of-type {\n",
       "        vertical-align: middle;\n",
       "    }\n",
       "\n",
       "    .dataframe tbody tr th {\n",
       "        vertical-align: top;\n",
       "    }\n",
       "\n",
       "    .dataframe thead th {\n",
       "        text-align: right;\n",
       "    }\n",
       "</style>\n",
       "<table border=\"1\" class=\"dataframe\">\n",
       "  <thead>\n",
       "    <tr style=\"text-align: right;\">\n",
       "      <th></th>\n",
       "      <th>KNN8</th>\n",
       "      <th>Tree</th>\n",
       "      <th>Bayes</th>\n",
       "      <th>SVM</th>\n",
       "      <th>RandomF</th>\n",
       "      <th>Ada</th>\n",
       "      <th>Reglas</th>\n",
       "      <th>GBC</th>\n",
       "      <th>MLP100</th>\n",
       "      <th>MLP10</th>\n",
       "    </tr>\n",
       "  </thead>\n",
       "  <tbody>\n",
       "    <tr>\n",
       "      <th>RT_Embedding</th>\n",
       "      <td>0.832000</td>\n",
       "      <td>0.590000</td>\n",
       "      <td>0.642000</td>\n",
       "      <td>0.792000</td>\n",
       "      <td>0.750000</td>\n",
       "      <td>0.620000</td>\n",
       "      <td>0.430000</td>\n",
       "      <td>0.704000</td>\n",
       "      <td>0.864000</td>\n",
       "      <td>0.888000</td>\n",
       "    </tr>\n",
       "    <tr>\n",
       "      <th>A_Embedding</th>\n",
       "      <td>0.740975</td>\n",
       "      <td>0.587619</td>\n",
       "      <td>0.752596</td>\n",
       "      <td>0.723646</td>\n",
       "      <td>0.781323</td>\n",
       "      <td>0.794465</td>\n",
       "      <td>0.496667</td>\n",
       "      <td>0.811433</td>\n",
       "      <td>0.792358</td>\n",
       "      <td>0.811039</td>\n",
       "    </tr>\n",
       "    <tr>\n",
       "      <th>E_Embedding</th>\n",
       "      <td>0.687884</td>\n",
       "      <td>0.567857</td>\n",
       "      <td>0.625180</td>\n",
       "      <td>0.684975</td>\n",
       "      <td>0.655927</td>\n",
       "      <td>0.707916</td>\n",
       "      <td>0.555714</td>\n",
       "      <td>0.736542</td>\n",
       "      <td>0.750295</td>\n",
       "      <td>0.752932</td>\n",
       "    </tr>\n",
       "    <tr>\n",
       "      <th>I_Embedding</th>\n",
       "      <td>0.748180</td>\n",
       "      <td>0.578956</td>\n",
       "      <td>0.674691</td>\n",
       "      <td>0.704053</td>\n",
       "      <td>0.686239</td>\n",
       "      <td>0.547093</td>\n",
       "      <td>0.483590</td>\n",
       "      <td>0.646677</td>\n",
       "      <td>0.713111</td>\n",
       "      <td>0.727734</td>\n",
       "    </tr>\n",
       "    <tr>\n",
       "      <th>O_Embedding</th>\n",
       "      <td>0.640557</td>\n",
       "      <td>0.553800</td>\n",
       "      <td>0.608481</td>\n",
       "      <td>0.647351</td>\n",
       "      <td>0.644576</td>\n",
       "      <td>0.639483</td>\n",
       "      <td>0.492857</td>\n",
       "      <td>0.682911</td>\n",
       "      <td>0.637884</td>\n",
       "      <td>0.671548</td>\n",
       "    </tr>\n",
       "    <tr>\n",
       "      <th>U_Embedding</th>\n",
       "      <td>0.663141</td>\n",
       "      <td>0.588462</td>\n",
       "      <td>0.643319</td>\n",
       "      <td>0.647880</td>\n",
       "      <td>0.638609</td>\n",
       "      <td>0.659418</td>\n",
       "      <td>0.496474</td>\n",
       "      <td>0.754882</td>\n",
       "      <td>0.691371</td>\n",
       "      <td>0.673176</td>\n",
       "    </tr>\n",
       "    <tr>\n",
       "      <th>MEDIA</th>\n",
       "      <td>0.718790</td>\n",
       "      <td>0.577782</td>\n",
       "      <td>0.657711</td>\n",
       "      <td>0.699984</td>\n",
       "      <td>0.692779</td>\n",
       "      <td>0.661396</td>\n",
       "      <td>0.492550</td>\n",
       "      <td>0.722741</td>\n",
       "      <td>0.741503</td>\n",
       "      <td>0.754071</td>\n",
       "    </tr>\n",
       "  </tbody>\n",
       "</table>\n",
       "</div>"
      ],
      "text/plain": [
       "                  KNN8      Tree     Bayes       SVM   RandomF       Ada  \\\n",
       "RT_Embedding  0.832000  0.590000  0.642000  0.792000  0.750000  0.620000   \n",
       "A_Embedding   0.740975  0.587619  0.752596  0.723646  0.781323  0.794465   \n",
       "E_Embedding   0.687884  0.567857  0.625180  0.684975  0.655927  0.707916   \n",
       "I_Embedding   0.748180  0.578956  0.674691  0.704053  0.686239  0.547093   \n",
       "O_Embedding   0.640557  0.553800  0.608481  0.647351  0.644576  0.639483   \n",
       "U_Embedding   0.663141  0.588462  0.643319  0.647880  0.638609  0.659418   \n",
       "MEDIA         0.718790  0.577782  0.657711  0.699984  0.692779  0.661396   \n",
       "\n",
       "                Reglas       GBC    MLP100     MLP10  \n",
       "RT_Embedding  0.430000  0.704000  0.864000  0.888000  \n",
       "A_Embedding   0.496667  0.811433  0.792358  0.811039  \n",
       "E_Embedding   0.555714  0.736542  0.750295  0.752932  \n",
       "I_Embedding   0.483590  0.646677  0.713111  0.727734  \n",
       "O_Embedding   0.492857  0.682911  0.637884  0.671548  \n",
       "U_Embedding   0.496474  0.754882  0.691371  0.673176  \n",
       "MEDIA         0.492550  0.722741  0.741503  0.754071  "
      ]
     },
     "execution_count": 13,
     "metadata": {
      "tags": []
     },
     "output_type": "execute_result"
    }
   ],
   "source": [
    "ex.process_results(all_results, data_names, model_names, rep_type)"
   ]
  },
  {
   "cell_type": "code",
   "execution_count": 0,
   "metadata": {
    "colab": {},
    "colab_type": "code",
    "id": "2Aiq0zEdIdU5",
    "outputId": "29c6d022-9f27-46ca-f301-41f2adabcd1e",
    "scrolled": true
   },
   "outputs": [
    {
     "data": {
      "image/png": "[encoded data removed]",
      "text/plain": [
       "<matplotlib.figure.Figure at 0x1e9126ae3c8>"
      ]
     },
     "metadata": {
      "needs_background": "light",
      "tags": []
     },
     "output_type": "display_data"
    }
   ],
   "source": [
    "ex.process_results(all_results, data_names, model_names, 'bar')"
   ]
  },
  {
   "cell_type": "markdown",
   "metadata": {
    "colab_type": "text",
    "id": "WGiQOChXIdU_"
   },
   "source": [
    "---"
   ]
  },
  {
   "cell_type": "markdown",
   "metadata": {
    "colab_type": "text",
    "id": "CQivNiWGIdVB"
   },
   "source": [
    "## 1.2 Grid Search Orozco <a id=\"gssvm\"></a><a href=\"#index\"><i class=\"fa fa-list-alt\" aria-hidden=\"true\"></i></a>\n",
    "SCORING:AUC.  **Mejores resultados normalizando**.\n",
    "\n",
    "[**Añadido otro cambio a función gridSearchPipe**\n",
    "Se ha añadido la normalización al pipeline en vez de hacerla en todo el conjunto de datos X.\n",
    "Añadimos al pipe o le creamos. Explicado en notebooks y clase:]"
   ]
  },
  {
   "cell_type": "markdown",
   "metadata": {
    "colab_type": "text",
    "id": "yWlwjozXIdVD"
   },
   "source": [
    "Los resultados obtenidos son **los mejores con este experimento hasta el momento**: Hemos añadido el valor 'auto' al parámetro gamma. Oroaszco no lo hace, pero consideramos que por esto ha sido la mejora de los resultados.\n",
    "\n",
    "En anteriores experimentos solo se llegaba al 0.77 como mucho. **En este caso el mejor resultado se obtiene para los embeddings de read-text con un AUC de 0.876**"
   ]
  },
  {
   "cell_type": "code",
   "execution_count": 0,
   "metadata": {
    "colab": {},
    "colab_type": "code",
    "id": "Hq9g4D3XIdVF"
   },
   "outputs": [],
   "source": [
    "def best_to_panda(mej):\n",
    "    return pd.DataFrame.from_dict(mej, orient='index',columns=['SCORE']).sort_values(by=['SCORE'], ascending=False)"
   ]
  },
  {
   "cell_type": "code",
   "execution_count": 0,
   "metadata": {
    "colab": {},
    "colab_type": "code",
    "id": "_QMOAr_KIdVM",
    "scrolled": false
   },
   "outputs": [],
   "source": [
    "ex = Experimenter()\n",
    "param_grid = [\n",
    "      {'C': [1,10,20,50,100,200,500,1000,5000,10000], 'kernel': ['rbf','linear'], 'gamma' : ['auto',1,10,20,50,100,200,500,1000]},\n",
    " ]\n",
    "\n",
    "bestsOrz = ex.GridSearchPipe(cargaDatosVggishEmbeddings,svm.SVC(),param_grid, verbose=True, normalizar=True)\n",
    "clear_output()"
   ]
  },
  {
   "cell_type": "code",
   "execution_count": 0,
   "metadata": {
    "colab": {},
    "colab_type": "code",
    "id": "T9_imkflIdVO",
    "outputId": "11156043-2d0c-48be-a22d-0fa80d3dfe53"
   },
   "outputs": [
    {
     "data": {
      "text/html": [
       "<div>\n",
       "<style scoped>\n",
       "    .dataframe tbody tr th:only-of-type {\n",
       "        vertical-align: middle;\n",
       "    }\n",
       "\n",
       "    .dataframe tbody tr th {\n",
       "        vertical-align: top;\n",
       "    }\n",
       "\n",
       "    .dataframe thead th {\n",
       "        text-align: right;\n",
       "    }\n",
       "</style>\n",
       "<table border=\"1\" class=\"dataframe\">\n",
       "  <thead>\n",
       "    <tr style=\"text-align: right;\">\n",
       "      <th></th>\n",
       "      <th>SCORE</th>\n",
       "    </tr>\n",
       "  </thead>\n",
       "  <tbody>\n",
       "    <tr>\n",
       "      <th>vggish_embed_rt</th>\n",
       "      <td>0.876000</td>\n",
       "    </tr>\n",
       "    <tr>\n",
       "      <th>vggish_embed_v_A</th>\n",
       "      <td>0.834116</td>\n",
       "    </tr>\n",
       "    <tr>\n",
       "      <th>vggish_embed_v_E</th>\n",
       "      <td>0.741345</td>\n",
       "    </tr>\n",
       "    <tr>\n",
       "      <th>vggish_embed_v_I</th>\n",
       "      <td>0.741146</td>\n",
       "    </tr>\n",
       "    <tr>\n",
       "      <th>vggish_embed_v_U</th>\n",
       "      <td>0.683925</td>\n",
       "    </tr>\n",
       "    <tr>\n",
       "      <th>vggish_embed_v_O</th>\n",
       "      <td>0.646414</td>\n",
       "    </tr>\n",
       "  </tbody>\n",
       "</table>\n",
       "</div>"
      ],
      "text/plain": [
       "                     SCORE\n",
       "vggish_embed_rt   0.876000\n",
       "vggish_embed_v_A  0.834116\n",
       "vggish_embed_v_E  0.741345\n",
       "vggish_embed_v_I  0.741146\n",
       "vggish_embed_v_U  0.683925\n",
       "vggish_embed_v_O  0.646414"
      ]
     },
     "execution_count": 17,
     "metadata": {
      "tags": []
     },
     "output_type": "execute_result"
    }
   ],
   "source": [
    "best_to_panda(bestsOrz)"
   ]
  },
  {
   "cell_type": "markdown",
   "metadata": {
    "colab_type": "text",
    "id": "4j-uFlitIdVR"
   },
   "source": [
    "### 1.2.B [Apartado Formativo] Recalcar importancia de bísqueda de parámetros. <a id=\"GSfrom\"></a><a href=\"#index\"><i class=\"fa fa-list-alt\" aria-hidden=\"true\"></i></a>\n",
    "Compararemos los resultados para un dataset concreto con búsqueda de parámetros y con params por defecto.**Vemos como tiene un incremento de 7.6% en ROC** debido a la optimización de parámteros."
   ]
  },
  {
   "cell_type": "markdown",
   "metadata": {
    "colab_type": "text",
    "id": "-l6_JsONIdVS"
   },
   "source": [
    "#### Busqueda de parametros"
   ]
  },
  {
   "cell_type": "code",
   "execution_count": 0,
   "metadata": {
    "colab": {},
    "colab_type": "code",
    "id": "HBUwhhAHIdVT"
   },
   "outputs": [],
   "source": [
    "#Definimos pipeline y malla de parametros\n",
    "param_grid = [\n",
    "      {'clf__C': [1,10,20,100,500,1000,5000,10000], 'clf__kernel': ['rbf'], 'clf__gamma' : ['auto',1,10,20,50,200,1000]},\n",
    " ]\n",
    "pip = Pipeline([('select', MinMaxScaler()), ('clf', svm.SVC())])\n"
   ]
  },
  {
   "cell_type": "code",
   "execution_count": 0,
   "metadata": {
    "colab": {},
    "colab_type": "code",
    "id": "2IWITYUVIdVV"
   },
   "outputs": [],
   "source": [
    "#Cargamos los datos\n",
    "loader = cargaDatosVggishEmbeddings\n",
    "conjunto = loader.load_vggish_embed_rt()\n",
    "X = conjunto.data\n",
    "y = conjunto.target\n",
    "\n",
    "#Creamos el objeto gridSearch\n",
    "clf = GridSearchCV(pip, cv=10, param_grid=param_grid, scoring = 'roc_auc')"
   ]
  },
  {
   "cell_type": "code",
   "execution_count": 0,
   "metadata": {
    "colab": {},
    "colab_type": "code",
    "id": "mGCoIDbPIdVX",
    "outputId": "d877dc64-6b65-4efe-a31a-07aabc1aba26"
   },
   "outputs": [
    {
     "data": {
      "text/plain": [
       "0.876"
      ]
     },
     "execution_count": 20,
     "metadata": {
      "tags": []
     },
     "output_type": "execute_result"
    }
   ],
   "source": [
    "#Calculamos roc, de esta manera hace nested-CV\n",
    "cross_val_score(clf,X,y,cv=10,scoring='roc_auc').mean()"
   ]
  },
  {
   "cell_type": "markdown",
   "metadata": {
    "colab_type": "text",
    "id": "JzJ7R-cTIdVb"
   },
   "source": [
    "#### Calculo CV con parametros por defecto de SVC \n",
    "**Los parametros por defecto ya estaban en el param_grid (C=1, kernel=rbf, gamma='auto').** Por ello se supone que si ha optimizado parametros en el anterior caso, el anterior resultado deberá ser mejor o como mucho igual a este, en el caso de que los parámetros óptimos hayan sido los de por defecto."
   ]
  },
  {
   "cell_type": "code",
   "execution_count": 0,
   "metadata": {
    "colab": {},
    "colab_type": "code",
    "id": "lB4a_6EjIdVb"
   },
   "outputs": [],
   "source": [
    "#Definimos pipeline para hacer CVscore con valores por defecto SVC (C=1, kernel=rbf, gamma='auto')\n",
    "pip = Pipeline([('select', MinMaxScaler()), ('clf', svm.SVC())])\n",
    "\n",
    "#Cargamos los datos\n",
    "loader = cargaDatosVggishEmbeddings\n",
    "conjunto = loader.load_vggish_embed_rt()\n",
    "X = conjunto.data\n",
    "y = conjunto.target"
   ]
  },
  {
   "cell_type": "code",
   "execution_count": 0,
   "metadata": {
    "colab": {},
    "colab_type": "code",
    "id": "u8qYC55aIdVe",
    "outputId": "85af2f67-c46f-44b9-98ba-5aca4c52be30"
   },
   "outputs": [
    {
     "data": {
      "text/plain": [
       "0.8"
      ]
     },
     "execution_count": 22,
     "metadata": {
      "tags": []
     },
     "output_type": "execute_result"
    }
   ],
   "source": [
    "cross_val_score(pip,X,y,cv=10,scoring='roc_auc').mean()"
   ]
  },
  {
   "cell_type": "code",
   "execution_count": 0,
   "metadata": {
    "colab": {},
    "colab_type": "code",
    "id": "91dSPq-NIdVi"
   },
   "outputs": [],
   "source": []
  },
  {
   "cell_type": "markdown",
   "metadata": {
    "colab_type": "text",
    "id": "voU1d5TuIdVk"
   },
   "source": [
    "---"
   ]
  },
  {
   "cell_type": "markdown",
   "metadata": {
    "colab_type": "text",
    "id": "FFZv7NZfIdVl"
   },
   "source": [
    "## 1.3 Variance Treshold <a id=\"vtres\"></a><a href=\"#index\"><i class=\"fa fa-list-alt\" aria-hidden=\"true\"></i></a>\n",
    "Mejor resultado: **MLP - rt_embeddings: 0.83**. Resultados normales en el orden de anteriores pero sin acercarse a los mejores resultados conseguidos hasta ahora en este experimento (0.88 - mujeres_w_campana)."
   ]
  },
  {
   "cell_type": "code",
   "execution_count": 0,
   "metadata": {
    "colab": {},
    "colab_type": "code",
    "id": "Z3QgsEkGIdVm"
   },
   "outputs": [],
   "source": [
    "modulo = cargaDatosVggishEmbeddings"
   ]
  },
  {
   "cell_type": "code",
   "execution_count": 0,
   "metadata": {
    "colab": {},
    "colab_type": "code",
    "id": "6edNNUpXIdVp"
   },
   "outputs": [],
   "source": [
    "def seleccion_atribs_pipe(modulo, selector, clsf):\n",
    "    res=[]\n",
    "    for dtst in [ d for d in dir(modulo) if d.startswith('load')]:\n",
    "        datos = getattr(modulo, dtst)()\n",
    "        X = datos.data\n",
    "        y = datos.target\n",
    "        params = 'chi2, k=19' if selector == 'SelectKBest' else ''\n",
    "        estimators = [('norm',MinMaxScaler()),('feat_sel', eval(selector+'('+params+')')), ('clf', eval(clsf+'()'))]\n",
    "        pipe = Pipeline(estimators)\n",
    "        sc=cross_val_score(pipe, X, y, cv=10, scoring='roc_auc').mean()\n",
    "        res.append(sc)\n",
    "    return res"
   ]
  },
  {
   "cell_type": "code",
   "execution_count": 0,
   "metadata": {
    "colab": {},
    "colab_type": "code",
    "id": "czriojXuIdVs",
    "outputId": "acb34708-cff3-4374-d34b-893104d0110b",
    "scrolled": true
   },
   "outputs": [
    {
     "data": {
      "text/html": [
       "<div>\n",
       "<style scoped>\n",
       "    .dataframe tbody tr th:only-of-type {\n",
       "        vertical-align: middle;\n",
       "    }\n",
       "\n",
       "    .dataframe tbody tr th {\n",
       "        vertical-align: top;\n",
       "    }\n",
       "\n",
       "    .dataframe thead th {\n",
       "        text-align: right;\n",
       "    }\n",
       "</style>\n",
       "<table border=\"1\" class=\"dataframe\">\n",
       "  <thead>\n",
       "    <tr style=\"text-align: right;\">\n",
       "      <th></th>\n",
       "      <th>AdaBoos</th>\n",
       "      <th>Gradien</th>\n",
       "      <th>svm.SVC</th>\n",
       "      <th>MLPClas</th>\n",
       "    </tr>\n",
       "  </thead>\n",
       "  <tbody>\n",
       "    <tr>\n",
       "      <th>vggish_embed_rt</th>\n",
       "      <td>0.616000</td>\n",
       "      <td>0.708000</td>\n",
       "      <td>0.800000</td>\n",
       "      <td>0.832000</td>\n",
       "    </tr>\n",
       "    <tr>\n",
       "      <th>vggish_embed_v_A</th>\n",
       "      <td>0.794465</td>\n",
       "      <td>0.810610</td>\n",
       "      <td>0.725243</td>\n",
       "      <td>0.792853</td>\n",
       "    </tr>\n",
       "    <tr>\n",
       "      <th>vggish_embed_v_E</th>\n",
       "      <td>0.707916</td>\n",
       "      <td>0.735063</td>\n",
       "      <td>0.682902</td>\n",
       "      <td>0.728982</td>\n",
       "    </tr>\n",
       "    <tr>\n",
       "      <th>vggish_embed_v_I</th>\n",
       "      <td>0.547093</td>\n",
       "      <td>0.637561</td>\n",
       "      <td>0.700089</td>\n",
       "      <td>0.700831</td>\n",
       "    </tr>\n",
       "    <tr>\n",
       "      <th>vggish_embed_v_O</th>\n",
       "      <td>0.639483</td>\n",
       "      <td>0.669646</td>\n",
       "      <td>0.650028</td>\n",
       "      <td>0.628719</td>\n",
       "    </tr>\n",
       "    <tr>\n",
       "      <th>vggish_embed_v_U</th>\n",
       "      <td>0.659418</td>\n",
       "      <td>0.759221</td>\n",
       "      <td>0.650493</td>\n",
       "      <td>0.675345</td>\n",
       "    </tr>\n",
       "  </tbody>\n",
       "</table>\n",
       "</div>"
      ],
      "text/plain": [
       "                   AdaBoos   Gradien   svm.SVC   MLPClas\n",
       "vggish_embed_rt   0.616000  0.708000  0.800000  0.832000\n",
       "vggish_embed_v_A  0.794465  0.810610  0.725243  0.792853\n",
       "vggish_embed_v_E  0.707916  0.735063  0.682902  0.728982\n",
       "vggish_embed_v_I  0.547093  0.637561  0.700089  0.700831\n",
       "vggish_embed_v_O  0.639483  0.669646  0.650028  0.628719\n",
       "vggish_embed_v_U  0.659418  0.759221  0.650493  0.675345"
      ]
     },
     "execution_count": 96,
     "metadata": {
      "tags": []
     },
     "output_type": "execute_result"
    }
   ],
   "source": [
    "df_VT = pd.DataFrame(index=[ d[5:] for d in dir(modulo) if d.startswith('load')])\n",
    "clasificadores = ['AdaBoostClassifier', 'GradientBoostingClassifier', 'svm.SVC', 'MLPClassifier']\n",
    "for clf in clasificadores:\n",
    "    res= seleccion_atribs_pipe(modulo, 'VarianceThreshold',clf)\n",
    "    df_VT[clf[:7]]= pd.DataFrame(res,[ d[5:] for d in dir(modulo) if d.startswith('load')],columns=[clf[:7]])\n",
    "df_VT"
   ]
  },
  {
   "cell_type": "code",
   "execution_count": 0,
   "metadata": {
    "colab": {},
    "colab_type": "code",
    "id": "zs7s5t2xIdVv",
    "outputId": "a87b3ea5-4405-423c-a4a4-05762d0b98f7",
    "scrolled": true
   },
   "outputs": [
    {
     "data": {
      "text/plain": [
       "<matplotlib.legend.Legend at 0x1e914f554e0>"
      ]
     },
     "execution_count": 97,
     "metadata": {
      "tags": []
     },
     "output_type": "execute_result"
    },
    {
     "data": {
      "image/png": "[encoded data removed]",
      "text/plain": [
       "<matplotlib.figure.Figure at 0x1e914f55518>"
      ]
     },
     "metadata": {
      "needs_background": "light",
      "tags": []
     },
     "output_type": "display_data"
    }
   ],
   "source": [
    "df_VT.plot(kind='bar', ylim=(0,1), figsize=(18,9)).legend(bbox_to_anchor=(1.2, 0.5))"
   ]
  },
  {
   "cell_type": "code",
   "execution_count": 0,
   "metadata": {
    "colab": {},
    "colab_type": "code",
    "id": "NQ4eXU_0IdVy"
   },
   "outputs": [],
   "source": []
  },
  {
   "cell_type": "markdown",
   "metadata": {
    "colab_type": "text",
    "id": "vGXjcI37IdV-"
   },
   "source": [
    "---"
   ]
  },
  {
   "cell_type": "markdown",
   "metadata": {
    "colab_type": "text",
    "id": "-tfrKBNCIdV_"
   },
   "source": [
    "## 1.4 SKBEST <a id=\"skbest\"></a><a href=\"#index\"><i class=\"fa fa-list-alt\" aria-hidden=\"true\"></i></a>\n",
    "Mejor resultado: **MLP - rt_embeddings: 0.76**. Resultados normales en el orden de anteriores pero sin acercarse a los mejores resultados conseguidos hasta ahora en este experimento (0.83 hombres_w_gat)."
   ]
  },
  {
   "cell_type": "code",
   "execution_count": 0,
   "metadata": {
    "colab": {},
    "colab_type": "code",
    "id": "EVagRZvoIdWA",
    "outputId": "fd7f8cfd-bad0-4ab2-f68a-e6b56b663049",
    "scrolled": true
   },
   "outputs": [
    {
     "data": {
      "text/html": [
       "<div>\n",
       "<style scoped>\n",
       "    .dataframe tbody tr th:only-of-type {\n",
       "        vertical-align: middle;\n",
       "    }\n",
       "\n",
       "    .dataframe tbody tr th {\n",
       "        vertical-align: top;\n",
       "    }\n",
       "\n",
       "    .dataframe thead th {\n",
       "        text-align: right;\n",
       "    }\n",
       "</style>\n",
       "<table border=\"1\" class=\"dataframe\">\n",
       "  <thead>\n",
       "    <tr style=\"text-align: right;\">\n",
       "      <th></th>\n",
       "      <th>AdaBoos</th>\n",
       "      <th>Gradien</th>\n",
       "      <th>svm.SVC</th>\n",
       "      <th>MLPClas</th>\n",
       "    </tr>\n",
       "  </thead>\n",
       "  <tbody>\n",
       "    <tr>\n",
       "      <th>vggish_embed_rt</th>\n",
       "      <td>0.708000</td>\n",
       "      <td>0.696000</td>\n",
       "      <td>0.756000</td>\n",
       "      <td>0.760000</td>\n",
       "    </tr>\n",
       "    <tr>\n",
       "      <th>vggish_embed_v_A</th>\n",
       "      <td>0.713670</td>\n",
       "      <td>0.725973</td>\n",
       "      <td>0.703327</td>\n",
       "      <td>0.751912</td>\n",
       "    </tr>\n",
       "    <tr>\n",
       "      <th>vggish_embed_v_E</th>\n",
       "      <td>0.580938</td>\n",
       "      <td>0.627022</td>\n",
       "      <td>0.654508</td>\n",
       "      <td>0.626814</td>\n",
       "    </tr>\n",
       "    <tr>\n",
       "      <th>vggish_embed_v_I</th>\n",
       "      <td>0.526695</td>\n",
       "      <td>0.562779</td>\n",
       "      <td>0.657444</td>\n",
       "      <td>0.636188</td>\n",
       "    </tr>\n",
       "    <tr>\n",
       "      <th>vggish_embed_v_O</th>\n",
       "      <td>0.550472</td>\n",
       "      <td>0.541364</td>\n",
       "      <td>0.582453</td>\n",
       "      <td>0.582453</td>\n",
       "    </tr>\n",
       "    <tr>\n",
       "      <th>vggish_embed_v_U</th>\n",
       "      <td>0.632150</td>\n",
       "      <td>0.609665</td>\n",
       "      <td>0.598570</td>\n",
       "      <td>0.623077</td>\n",
       "    </tr>\n",
       "  </tbody>\n",
       "</table>\n",
       "</div>"
      ],
      "text/plain": [
       "                   AdaBoos   Gradien   svm.SVC   MLPClas\n",
       "vggish_embed_rt   0.708000  0.696000  0.756000  0.760000\n",
       "vggish_embed_v_A  0.713670  0.725973  0.703327  0.751912\n",
       "vggish_embed_v_E  0.580938  0.627022  0.654508  0.626814\n",
       "vggish_embed_v_I  0.526695  0.562779  0.657444  0.636188\n",
       "vggish_embed_v_O  0.550472  0.541364  0.582453  0.582453\n",
       "vggish_embed_v_U  0.632150  0.609665  0.598570  0.623077"
      ]
     },
     "execution_count": 98,
     "metadata": {
      "tags": []
     },
     "output_type": "execute_result"
    }
   ],
   "source": [
    "df_SK = pd.DataFrame(index=[ d[5:] for d in dir(modulo) if d.startswith('load')])\n",
    "clasificadores = ['AdaBoostClassifier', 'GradientBoostingClassifier', 'svm.SVC', 'MLPClassifier']\n",
    "for clf in clasificadores:\n",
    "    res= seleccion_atribs_pipe(modulo, 'SelectKBest',clf)\n",
    "    df_SK[clf[:7]]= pd.DataFrame(res,[ d[5:] for d in dir(modulo) if d.startswith('load')],columns=[clf[:7]])\n",
    "df_SK"
   ]
  },
  {
   "cell_type": "code",
   "execution_count": 0,
   "metadata": {
    "colab": {},
    "colab_type": "code",
    "id": "mG-LLxQkIdWE",
    "outputId": "dba161af-af99-4d4e-f5d7-25d8f642e915",
    "scrolled": true
   },
   "outputs": [
    {
     "data": {
      "text/plain": [
       "<matplotlib.legend.Legend at 0x1e914fbbb70>"
      ]
     },
     "execution_count": 99,
     "metadata": {
      "tags": []
     },
     "output_type": "execute_result"
    },
    {
     "data": {
      "image/png": "[encoded data removed]",
      "text/plain": [
       "<matplotlib.figure.Figure at 0x1e914f96400>"
      ]
     },
     "metadata": {
      "needs_background": "light",
      "tags": []
     },
     "output_type": "display_data"
    }
   ],
   "source": [
    "df_SK.plot(kind='bar', ylim=(0,1), figsize=(18,9)).legend(bbox_to_anchor=(1.2, 0.5))"
   ]
  },
  {
   "cell_type": "code",
   "execution_count": 0,
   "metadata": {
    "colab": {},
    "colab_type": "code",
    "id": "2TQGyOZYIdWM"
   },
   "outputs": [],
   "source": []
  },
  {
   "cell_type": "markdown",
   "metadata": {
    "colab_type": "text",
    "id": "pJ-EMdo5IdWQ"
   },
   "source": [
    "---"
   ]
  },
  {
   "cell_type": "markdown",
   "metadata": {
    "colab_type": "text",
    "id": "a54KXLnaIdWR"
   },
   "source": [
    "## 1.5 Grid Search - Variance Treshold + AdaBoost <a id=\"vtab\"></a><a href=\"#index\"><i class=\"fa fa-list-alt\" aria-hidden=\"true\"></i></a>\n",
    "Resultados muy lejos de los normales y mejores en experiimentos anteriores. Con ccas disvoice se tenían resultados del orden de 0.8 altos incluso 0.9. Aquí los mejores tanto para normalizados como para no son **vggish_embed_v_E:0.740181 y vggish_embed_v_A:0.772177**. Ninguno por encima del 0.8."
   ]
  },
  {
   "cell_type": "markdown",
   "metadata": {
    "colab_type": "text",
    "id": "BszdyUJFIdWS"
   },
   "source": [
    "##### Sin Normalizar "
   ]
  },
  {
   "cell_type": "code",
   "execution_count": 0,
   "metadata": {
    "colab": {},
    "colab_type": "code",
    "id": "WC_VgC9hIdWT"
   },
   "outputs": [],
   "source": [
    "modulo = cargaDatosVggishEmbeddings"
   ]
  },
  {
   "cell_type": "code",
   "execution_count": 0,
   "metadata": {
    "colab": {},
    "colab_type": "code",
    "id": "sW00Z0naIdWW"
   },
   "outputs": [],
   "source": [
    "ex = Experimenter()\n",
    "param_grid = dict(select__threshold=[0.04, 0.03, 0.01])\n",
    "                                     \n",
    "pip = Pipeline([('select', VarianceThreshold()), ('clf', AdaBoostClassifier())])\n",
    "\n",
    "bestsGsVtAda = ex.GridSearchPipe(modulo, pip, param_grid, verbose=False, normalizar=False)"
   ]
  },
  {
   "cell_type": "code",
   "execution_count": 0,
   "metadata": {
    "colab": {},
    "colab_type": "code",
    "id": "fFDAZs1MIdWa",
    "outputId": "12a9448b-3ec1-4de8-d309-c8b569e70242",
    "scrolled": true
   },
   "outputs": [
    {
     "data": {
      "text/html": [
       "<div>\n",
       "<style scoped>\n",
       "    .dataframe tbody tr th:only-of-type {\n",
       "        vertical-align: middle;\n",
       "    }\n",
       "\n",
       "    .dataframe tbody tr th {\n",
       "        vertical-align: top;\n",
       "    }\n",
       "\n",
       "    .dataframe thead th {\n",
       "        text-align: right;\n",
       "    }\n",
       "</style>\n",
       "<table border=\"1\" class=\"dataframe\">\n",
       "  <thead>\n",
       "    <tr style=\"text-align: right;\">\n",
       "      <th></th>\n",
       "      <th>SCORE</th>\n",
       "    </tr>\n",
       "  </thead>\n",
       "  <tbody>\n",
       "    <tr>\n",
       "      <th>vggish_embed_v_E</th>\n",
       "      <td>0.740181</td>\n",
       "    </tr>\n",
       "    <tr>\n",
       "      <th>vggish_embed_v_A</th>\n",
       "      <td>0.731957</td>\n",
       "    </tr>\n",
       "    <tr>\n",
       "      <th>vggish_embed_rt</th>\n",
       "      <td>0.720000</td>\n",
       "    </tr>\n",
       "    <tr>\n",
       "      <th>vggish_embed_v_U</th>\n",
       "      <td>0.667110</td>\n",
       "    </tr>\n",
       "    <tr>\n",
       "      <th>vggish_embed_v_O</th>\n",
       "      <td>0.639166</td>\n",
       "    </tr>\n",
       "    <tr>\n",
       "      <th>vggish_embed_v_I</th>\n",
       "      <td>0.631122</td>\n",
       "    </tr>\n",
       "  </tbody>\n",
       "</table>\n",
       "</div>"
      ],
      "text/plain": [
       "                     SCORE\n",
       "vggish_embed_v_E  0.740181\n",
       "vggish_embed_v_A  0.731957\n",
       "vggish_embed_rt   0.720000\n",
       "vggish_embed_v_U  0.667110\n",
       "vggish_embed_v_O  0.639166\n",
       "vggish_embed_v_I  0.631122"
      ]
     },
     "execution_count": 140,
     "metadata": {
      "tags": []
     },
     "output_type": "execute_result"
    }
   ],
   "source": [
    "best_to_panda(bestsGsVtAda)"
   ]
  },
  {
   "cell_type": "code",
   "execution_count": 0,
   "metadata": {
    "colab": {},
    "colab_type": "code",
    "id": "tArMY06JIdWm"
   },
   "outputs": [],
   "source": []
  },
  {
   "cell_type": "markdown",
   "metadata": {
    "colab_type": "text",
    "id": "CKW7mY8mIdWq"
   },
   "source": [
    "##### Normalizando"
   ]
  },
  {
   "cell_type": "code",
   "execution_count": 0,
   "metadata": {
    "colab": {},
    "colab_type": "code",
    "id": "tlqTkWrFIdWr",
    "scrolled": true
   },
   "outputs": [],
   "source": [
    "param_grid = dict(select__threshold=[0.05, 0.04, 0.03, 0.02, 0.01])\n",
    "ex = Experimenter()\n",
    "bestsGsVtAdaN = ex.GridSearchPipe(modulo, pip, param_grid,verbose=False, normalizar=True)"
   ]
  },
  {
   "cell_type": "code",
   "execution_count": 0,
   "metadata": {
    "colab": {},
    "colab_type": "code",
    "id": "ZwPYmZjWIdWt",
    "outputId": "97ff166d-ef29-45d5-de64-5f716cf3898c"
   },
   "outputs": [
    {
     "data": {
      "text/html": [
       "<div>\n",
       "<style scoped>\n",
       "    .dataframe tbody tr th:only-of-type {\n",
       "        vertical-align: middle;\n",
       "    }\n",
       "\n",
       "    .dataframe tbody tr th {\n",
       "        vertical-align: top;\n",
       "    }\n",
       "\n",
       "    .dataframe thead th {\n",
       "        text-align: right;\n",
       "    }\n",
       "</style>\n",
       "<table border=\"1\" class=\"dataframe\">\n",
       "  <thead>\n",
       "    <tr style=\"text-align: right;\">\n",
       "      <th></th>\n",
       "      <th>SCORE</th>\n",
       "    </tr>\n",
       "  </thead>\n",
       "  <tbody>\n",
       "    <tr>\n",
       "      <th>vggish_embed_v_A</th>\n",
       "      <td>0.772177</td>\n",
       "    </tr>\n",
       "    <tr>\n",
       "      <th>vggish_embed_v_E</th>\n",
       "      <td>0.706045</td>\n",
       "    </tr>\n",
       "    <tr>\n",
       "      <th>vggish_embed_v_U</th>\n",
       "      <td>0.665089</td>\n",
       "    </tr>\n",
       "    <tr>\n",
       "      <th>vggish_embed_rt</th>\n",
       "      <td>0.660000</td>\n",
       "    </tr>\n",
       "    <tr>\n",
       "      <th>vggish_embed_v_O</th>\n",
       "      <td>0.627444</td>\n",
       "    </tr>\n",
       "    <tr>\n",
       "      <th>vggish_embed_v_I</th>\n",
       "      <td>0.612844</td>\n",
       "    </tr>\n",
       "  </tbody>\n",
       "</table>\n",
       "</div>"
      ],
      "text/plain": [
       "                     SCORE\n",
       "vggish_embed_v_A  0.772177\n",
       "vggish_embed_v_E  0.706045\n",
       "vggish_embed_v_U  0.665089\n",
       "vggish_embed_rt   0.660000\n",
       "vggish_embed_v_O  0.627444\n",
       "vggish_embed_v_I  0.612844"
      ]
     },
     "execution_count": 142,
     "metadata": {
      "tags": []
     },
     "output_type": "execute_result"
    }
   ],
   "source": [
    "best_to_panda(bestsGsVtAdaN)"
   ]
  },
  {
   "cell_type": "code",
   "execution_count": 0,
   "metadata": {
    "colab": {},
    "colab_type": "code",
    "id": "B-piHzXIIdWz"
   },
   "outputs": [],
   "source": []
  },
  {
   "cell_type": "markdown",
   "metadata": {
    "colab_type": "text",
    "id": "YvG4STndIdW2"
   },
   "source": [
    "-----------------------\n",
    "## 1.6 Grid Search - Seleckt KBest + RF <a id=\"skrf\"></a><a href=\"#index\"><i class=\"fa fa-list-alt\" aria-hidden=\"true\"></i></a>\n",
    "Se obtienen peores resultados que con las ccas de Disvoice. El mejor resultado con Disvoice es 0.82 y aquí obtenermos el mejor resultado con **0.79 para embed_A y embed_rt**."
   ]
  },
  {
   "cell_type": "code",
   "execution_count": 0,
   "metadata": {
    "colab": {},
    "colab_type": "code",
    "id": "rV6au9acIdW4"
   },
   "outputs": [],
   "source": [
    "modulo = cargaDatosVggishEmbeddings"
   ]
  },
  {
   "cell_type": "code",
   "execution_count": 0,
   "metadata": {
    "colab": {},
    "colab_type": "code",
    "id": "tdb9pQ1kIdW8"
   },
   "outputs": [],
   "source": [
    "ex = Experimenter()\n",
    "param_grid = dict(select__k=['all',10,15,22,50,100], clf__min_samples_leaf=[1,3,5,10], clf__max_depth=[5, None], clf__n_estimators=[10, 25, 40])\n",
    "pip = Pipeline([('select', SelectKBest(chi2)), ('clf', RandomForestClassifier())])\n",
    "bestsGsSkRfN = ex.GridSearchPipe(modulo, pip, param_grid,verbose=True, normalizar=True)\n",
    "best_to_panda(bestsGsSkRfN)"
   ]
  },
  {
   "cell_type": "code",
   "execution_count": 0,
   "metadata": {
    "colab": {},
    "colab_type": "code",
    "id": "l0oXY-6-IdW-",
    "outputId": "026533d9-3421-43d2-ec83-7a947865da62"
   },
   "outputs": [
    {
     "data": {
      "text/html": [
       "<div>\n",
       "<style scoped>\n",
       "    .dataframe tbody tr th:only-of-type {\n",
       "        vertical-align: middle;\n",
       "    }\n",
       "\n",
       "    .dataframe tbody tr th {\n",
       "        vertical-align: top;\n",
       "    }\n",
       "\n",
       "    .dataframe thead th {\n",
       "        text-align: right;\n",
       "    }\n",
       "</style>\n",
       "<table border=\"1\" class=\"dataframe\">\n",
       "  <thead>\n",
       "    <tr style=\"text-align: right;\">\n",
       "      <th></th>\n",
       "      <th>SCORE</th>\n",
       "    </tr>\n",
       "  </thead>\n",
       "  <tbody>\n",
       "    <tr>\n",
       "      <th>vggish_embed_rt</th>\n",
       "      <td>0.798000</td>\n",
       "    </tr>\n",
       "    <tr>\n",
       "      <th>vggish_embed_v_A</th>\n",
       "      <td>0.795609</td>\n",
       "    </tr>\n",
       "    <tr>\n",
       "      <th>vggish_embed_v_I</th>\n",
       "      <td>0.689516</td>\n",
       "    </tr>\n",
       "    <tr>\n",
       "      <th>vggish_embed_v_E</th>\n",
       "      <td>0.677944</td>\n",
       "    </tr>\n",
       "    <tr>\n",
       "      <th>vggish_embed_v_U</th>\n",
       "      <td>0.640015</td>\n",
       "    </tr>\n",
       "    <tr>\n",
       "      <th>vggish_embed_v_O</th>\n",
       "      <td>0.603755</td>\n",
       "    </tr>\n",
       "  </tbody>\n",
       "</table>\n",
       "</div>"
      ],
      "text/plain": [
       "                     SCORE\n",
       "vggish_embed_rt   0.798000\n",
       "vggish_embed_v_A  0.795609\n",
       "vggish_embed_v_I  0.689516\n",
       "vggish_embed_v_E  0.677944\n",
       "vggish_embed_v_U  0.640015\n",
       "vggish_embed_v_O  0.603755"
      ]
     },
     "execution_count": 151,
     "metadata": {
      "tags": []
     },
     "output_type": "execute_result"
    }
   ],
   "source": [
    "best_to_panda(bestsGsSkRfN)"
   ]
  },
  {
   "cell_type": "markdown",
   "metadata": {
    "colab_type": "text",
    "id": "gF4GhgbVIdXA"
   },
   "source": [
    "---"
   ]
  },
  {
   "cell_type": "markdown",
   "metadata": {
    "colab_type": "text",
    "id": "2DemM4bTIdXB"
   },
   "source": [
    "## 1.7 Grid Search - Seleckt KBest + AdaBoost <a id=\"skada\"></a><a href=\"#index\"><i class=\"fa fa-list-alt\" aria-hidden=\"true\"></i></a>\n",
    "Se obtienen resultados bastante peores que en las ccas de Disvoice donde llegabamos hasta el 0.9 en el caso de las mujeres. En este caso el mejor resultado es **0.765 para embed_A**."
   ]
  },
  {
   "cell_type": "code",
   "execution_count": 0,
   "metadata": {
    "colab": {},
    "colab_type": "code",
    "id": "KRVwfc2YIdXC"
   },
   "outputs": [],
   "source": [
    "modulo = cargaDatosVggishEmbeddings"
   ]
  },
  {
   "cell_type": "code",
   "execution_count": 0,
   "metadata": {
    "colab": {},
    "colab_type": "code",
    "id": "l1SN0RuCIdXG"
   },
   "outputs": [],
   "source": [
    "ex = Experimenter()\n",
    "param_grid = dict(select__k=['all',10,15,22,50,100])\n",
    "pip = Pipeline([('select', SelectKBest(chi2)), ('clf', AdaBoostClassifier())])\n",
    "bestsGsSkADAN = ex.GridSearchPipe(modulo, pip, param_grid,verbose=True, normalizar=True)"
   ]
  },
  {
   "cell_type": "code",
   "execution_count": 0,
   "metadata": {
    "colab": {},
    "colab_type": "code",
    "id": "28Sc6FJHIdXH",
    "outputId": "a4d52e62-27e2-4983-eb4c-cb5a20711b5d"
   },
   "outputs": [
    {
     "data": {
      "text/html": [
       "<div>\n",
       "<style scoped>\n",
       "    .dataframe tbody tr th:only-of-type {\n",
       "        vertical-align: middle;\n",
       "    }\n",
       "\n",
       "    .dataframe tbody tr th {\n",
       "        vertical-align: top;\n",
       "    }\n",
       "\n",
       "    .dataframe thead th {\n",
       "        text-align: right;\n",
       "    }\n",
       "</style>\n",
       "<table border=\"1\" class=\"dataframe\">\n",
       "  <thead>\n",
       "    <tr style=\"text-align: right;\">\n",
       "      <th></th>\n",
       "      <th>SCORE</th>\n",
       "    </tr>\n",
       "  </thead>\n",
       "  <tbody>\n",
       "    <tr>\n",
       "      <th>vggish_embed_v_A</th>\n",
       "      <td>0.764915</td>\n",
       "    </tr>\n",
       "    <tr>\n",
       "      <th>vggish_embed_v_E</th>\n",
       "      <td>0.707916</td>\n",
       "    </tr>\n",
       "    <tr>\n",
       "      <th>vggish_embed_rt</th>\n",
       "      <td>0.668000</td>\n",
       "    </tr>\n",
       "    <tr>\n",
       "      <th>vggish_embed_v_U</th>\n",
       "      <td>0.647978</td>\n",
       "    </tr>\n",
       "    <tr>\n",
       "      <th>vggish_embed_v_O</th>\n",
       "      <td>0.625690</td>\n",
       "    </tr>\n",
       "  </tbody>\n",
       "</table>\n",
       "</div>"
      ],
      "text/plain": [
       "                     SCORE\n",
       "vggish_embed_v_A  0.764915\n",
       "vggish_embed_v_E  0.707916\n",
       "vggish_embed_rt   0.668000\n",
       "vggish_embed_v_U  0.647978\n",
       "vggish_embed_v_O  0.625690"
      ]
     },
     "execution_count": 147,
     "metadata": {
      "tags": []
     },
     "output_type": "execute_result"
    }
   ],
   "source": [
    "best_to_panda(bestsGsSkADAN)"
   ]
  },
  {
   "cell_type": "code",
   "execution_count": 0,
   "metadata": {
    "colab": {},
    "colab_type": "code",
    "id": "fUWrasQgIdXK"
   },
   "outputs": [],
   "source": []
  },
  {
   "cell_type": "markdown",
   "metadata": {
    "colab_type": "text",
    "id": "JSRq1EK8IdXL"
   },
   "source": [
    "---"
   ]
  },
  {
   "cell_type": "markdown",
   "metadata": {
    "colab_type": "text",
    "id": "MEIi0PStIdXM"
   },
   "source": [
    "## 1.8 Grid Search - Seleckt KBest + GBC<a id=\"skgbc\"></a><a href=\"#index\"><i class=\"fa fa-list-alt\" aria-hidden=\"true\"></i></a>\n",
    "Tampoco llegamos a batir los resultados obtenidos anteriormente con Disvoice. El mejor resultado en este caso es **embed_A 0.805**."
   ]
  },
  {
   "cell_type": "code",
   "execution_count": 0,
   "metadata": {
    "colab": {},
    "colab_type": "code",
    "id": "mKoRdTekIdXN"
   },
   "outputs": [],
   "source": [
    "modulo = cargaDatosVggishEmbeddings"
   ]
  },
  {
   "cell_type": "code",
   "execution_count": 0,
   "metadata": {
    "colab": {},
    "colab_type": "code",
    "id": "DZdeYZxpIdXP"
   },
   "outputs": [],
   "source": [
    "ex = Experimenter()\n",
    "param_grid = dict(select__k=['all',10,15,22,50,100])\n",
    "pip = Pipeline([('select', SelectKBest(chi2)), ('clf', GradientBoostingClassifier())])\n",
    "bestsGsSkGBCN = ex.GridSearchPipe(modulo, pip, param_grid,verbose=True, normalizar=True)"
   ]
  },
  {
   "cell_type": "code",
   "execution_count": 0,
   "metadata": {
    "colab": {},
    "colab_type": "code",
    "id": "wAi1ml8LIdXQ",
    "outputId": "253f9dc9-be28-4a1d-820e-35944c6d2e4d"
   },
   "outputs": [
    {
     "data": {
      "text/html": [
       "<div>\n",
       "<style scoped>\n",
       "    .dataframe tbody tr th:only-of-type {\n",
       "        vertical-align: middle;\n",
       "    }\n",
       "\n",
       "    .dataframe tbody tr th {\n",
       "        vertical-align: top;\n",
       "    }\n",
       "\n",
       "    .dataframe thead th {\n",
       "        text-align: right;\n",
       "    }\n",
       "</style>\n",
       "<table border=\"1\" class=\"dataframe\">\n",
       "  <thead>\n",
       "    <tr style=\"text-align: right;\">\n",
       "      <th></th>\n",
       "      <th>SCORE</th>\n",
       "    </tr>\n",
       "  </thead>\n",
       "  <tbody>\n",
       "    <tr>\n",
       "      <th>vggish_embed_v_A</th>\n",
       "      <td>0.804766</td>\n",
       "    </tr>\n",
       "    <tr>\n",
       "      <th>vggish_embed_rt</th>\n",
       "      <td>0.744000</td>\n",
       "    </tr>\n",
       "    <tr>\n",
       "      <th>vggish_embed_v_E</th>\n",
       "      <td>0.737011</td>\n",
       "    </tr>\n",
       "    <tr>\n",
       "      <th>vggish_embed_v_U</th>\n",
       "      <td>0.709467</td>\n",
       "    </tr>\n",
       "    <tr>\n",
       "      <th>vggish_embed_v_O</th>\n",
       "      <td>0.673788</td>\n",
       "    </tr>\n",
       "  </tbody>\n",
       "</table>\n",
       "</div>"
      ],
      "text/plain": [
       "                     SCORE\n",
       "vggish_embed_v_A  0.804766\n",
       "vggish_embed_rt   0.744000\n",
       "vggish_embed_v_E  0.737011\n",
       "vggish_embed_v_U  0.709467\n",
       "vggish_embed_v_O  0.673788"
      ]
     },
     "execution_count": 150,
     "metadata": {
      "tags": []
     },
     "output_type": "execute_result"
    }
   ],
   "source": [
    "best_to_panda(bestsGsSkGBCN)"
   ]
  },
  {
   "cell_type": "code",
   "execution_count": 0,
   "metadata": {
    "colab": {},
    "colab_type": "code",
    "id": "QWH1vEysIdXU"
   },
   "outputs": [],
   "source": []
  },
  {
   "cell_type": "markdown",
   "metadata": {
    "colab_type": "text",
    "id": "7KIWH0zRIdXX"
   },
   "source": [
    "---"
   ]
  },
  {
   "cell_type": "markdown",
   "metadata": {
    "colab_type": "text",
    "id": "uoJTzooPIdXX"
   },
   "source": [
    "## 1.9 Grid Search - MLP<a id=\"MLP\"></a><a href=\"#index\"><i class=\"fa fa-list-alt\" aria-hidden=\"true\"></i></a>\n",
    "Encontramos los mejores resultados para **vggish_embed_rt :0.856**. Es un resultado del orden de los altos que nos hemos encontrado en los experimentos pero sin llegar al mejor."
   ]
  },
  {
   "cell_type": "code",
   "execution_count": 0,
   "metadata": {
    "colab": {},
    "colab_type": "code",
    "id": "WJ2CxROOIdXa"
   },
   "outputs": [],
   "source": [
    "modulo = cargaDatosVggishEmbeddings"
   ]
  },
  {
   "cell_type": "code",
   "execution_count": 5,
   "metadata": {
    "colab": {
     "base_uri": "https://localhost:8080/",
     "height": 425
    },
    "colab_type": "code",
    "id": "npMLWuI1IdXi",
    "outputId": "717f65e6-8ecd-4ad7-f0ac-73ef2916dc21"
   },
   "outputs": [
    {
     "name": "stdout",
     "output_type": "stream",
     "text": [
      "\n",
      "------------------------\n",
      "Dataset: vggish_embed_rt\n",
      "Score: 0.8560000000000001\n",
      "\n",
      "------------------------\n",
      "Dataset: vggish_embed_v_A\n",
      "Score: 0.8086530612244898\n",
      "\n",
      "------------------------\n",
      "Dataset: vggish_embed_v_E\n",
      "Score: 0.724625850340136\n",
      "\n",
      "------------------------\n",
      "Dataset: vggish_embed_v_I\n",
      "Score: 0.7086708529565672\n",
      "\n",
      "------------------------\n",
      "Dataset: vggish_embed_v_O\n",
      "Score: 0.618082558467174\n",
      "\n",
      "------------------------\n",
      "Dataset: vggish_embed_v_U\n",
      "Score: 0.6859960552268245\n"
     ]
    }
   ],
   "source": [
    "ex = Experimenter()\n",
    "param_grid = dict(select__k=['all',15,100], clf__hidden_layer_sizes=[10,50,100], clf__learning_rate =['constant', 'adaptive'], clf__learning_rate_init=[0.001,0.005], clf__tol=[1e-4,1e-3])\n",
    "pip = Pipeline([('select', SelectKBest(chi2)), ('clf', MLPClassifier())])\n",
    "bestsMLP = ex.GridSearchPipe(modulo, pip, param_grid,verbose=True, normalizar=True)"
   ]
  },
  {
   "cell_type": "code",
   "execution_count": 6,
   "metadata": {
    "colab": {
     "base_uri": "https://localhost:8080/",
     "height": 235
    },
    "colab_type": "code",
    "id": "2Knh8RSHIdXl",
    "outputId": "86a3fc5d-185a-499f-d837-794c0bfe0354"
   },
   "outputs": [
    {
     "data": {
      "text/html": [
       "<div>\n",
       "<style scoped>\n",
       "    .dataframe tbody tr th:only-of-type {\n",
       "        vertical-align: middle;\n",
       "    }\n",
       "\n",
       "    .dataframe tbody tr th {\n",
       "        vertical-align: top;\n",
       "    }\n",
       "\n",
       "    .dataframe thead th {\n",
       "        text-align: right;\n",
       "    }\n",
       "</style>\n",
       "<table border=\"1\" class=\"dataframe\">\n",
       "  <thead>\n",
       "    <tr style=\"text-align: right;\">\n",
       "      <th></th>\n",
       "      <th>SCORE</th>\n",
       "    </tr>\n",
       "  </thead>\n",
       "  <tbody>\n",
       "    <tr>\n",
       "      <th>vggish_embed_rt</th>\n",
       "      <td>0.856000</td>\n",
       "    </tr>\n",
       "    <tr>\n",
       "      <th>vggish_embed_v_A</th>\n",
       "      <td>0.808653</td>\n",
       "    </tr>\n",
       "    <tr>\n",
       "      <th>vggish_embed_v_E</th>\n",
       "      <td>0.724626</td>\n",
       "    </tr>\n",
       "    <tr>\n",
       "      <th>vggish_embed_v_I</th>\n",
       "      <td>0.708671</td>\n",
       "    </tr>\n",
       "    <tr>\n",
       "      <th>vggish_embed_v_U</th>\n",
       "      <td>0.685996</td>\n",
       "    </tr>\n",
       "    <tr>\n",
       "      <th>vggish_embed_v_O</th>\n",
       "      <td>0.618083</td>\n",
       "    </tr>\n",
       "  </tbody>\n",
       "</table>\n",
       "</div>"
      ],
      "text/plain": [
       "                     SCORE\n",
       "vggish_embed_rt   0.856000\n",
       "vggish_embed_v_A  0.808653\n",
       "vggish_embed_v_E  0.724626\n",
       "vggish_embed_v_I  0.708671\n",
       "vggish_embed_v_U  0.685996\n",
       "vggish_embed_v_O  0.618083"
      ]
     },
     "execution_count": 6,
     "metadata": {
      "tags": []
     },
     "output_type": "execute_result"
    }
   ],
   "source": [
    "best_to_panda(bestsMLP)"
   ]
  },
  {
   "cell_type": "code",
   "execution_count": 0,
   "metadata": {
    "colab": {},
    "colab_type": "code",
    "id": "z3BwDGPoIdXn"
   },
   "outputs": [],
   "source": []
  },
  {
   "cell_type": "code",
   "execution_count": 0,
   "metadata": {
    "colab": {},
    "colab_type": "code",
    "id": "npBt819SIdXq"
   },
   "outputs": [],
   "source": []
  },
  {
   "cell_type": "code",
   "execution_count": 0,
   "metadata": {
    "colab": {},
    "colab_type": "code",
    "id": "S_dP2aa2IdXr"
   },
   "outputs": [],
   "source": []
  }
 ],
 "metadata": {
  "colab": {
   "collapsed_sections": [
    "VK5vKMOeIdUI",
    "XL-w13ENIdUU",
    "x-K2VpQgIdUk",
    "yIcBjycJIdUx",
    "CQivNiWGIdVB",
    "4j-uFlitIdVR",
    "-l6_JsONIdVS",
    "JzJ7R-cTIdVb",
    "FFZv7NZfIdVl",
    "-tfrKBNCIdV_",
    "a54KXLnaIdWR",
    "YvG4STndIdW2",
    "2DemM4bTIdXB",
    "MEIi0PStIdXM"
   ],
   "name": "3os Experimentos A - VGGish Embeddings.ipynb",
   "provenance": [],
   "version": "0.3.2"
  },
  "kernelspec": {
   "display_name": "Python 3",
   "language": "python",
   "name": "python3"
  },
  "language_info": {
   "codemirror_mode": {
    "name": "ipython",
    "version": 3
   },
   "file_extension": ".py",
   "mimetype": "text/x-python",
   "name": "python",
   "nbconvert_exporter": "python",
   "pygments_lexer": "ipython3",
   "version": "3.6.8"
  }
 },
 "nbformat": 4,
 "nbformat_minor": 1
}
